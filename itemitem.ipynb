{
 "cells": [
  {
   "cell_type": "code",
   "execution_count": null,
   "metadata": {},
   "outputs": [],
   "source": [
    "import boto3\n",
    "import botocore\n",
    "import json\n",
    "import s3fs\n",
    "import ast\n",
    "import pandas as pd\n",
    "from pandas.io.json import json_normalize\n",
    "from sagemaker import get_execution_role\n",
    "import numpy as np\n",
    "from sklearn.feature_extraction.text import CountVectorizer\n",
    "from sklearn.metrics.pairwise import cosine_similarity\n",
    "from sklearn.metrics.pairwise import pairwise_distances\n",
    "from sklearn.model_selection import train_test_split\n",
    "from sklearn.metrics import mean_squared_error\n",
    "from scipy.sparse import csr_matrix"
   ]
  },
  {
   "cell_type": "code",
   "execution_count": 2,
   "metadata": {},
   "outputs": [],
   "source": [
    "role = 'AWSGlueServiceSageMakerNotebookRole-Default'"
   ]
  },
  {
   "cell_type": "code",
   "execution_count": null,
   "metadata": {},
   "outputs": [],
   "source": [
    "\n",
    "bucket= 'sagemaker-studio-882308570215-o5kyfobq7l'\n",
    "\n",
    "key = 'data/australian_user_reviews (2).json'\n",
    "\n",
    "s3 = boto3.resource('s3')\n",
    "try:\n",
    "     s3.Bucket(bucket).download_file(key,'user_reviews.json')\n",
    "except botocore.exceptions.ClientError as e:\n",
    "    if e.response['Error']['Code'] == \"404\":\n",
    "        print(\"The object does not exist.\")\n",
    "    else:\n",
    "        raise"
   ]
  },
  {
   "cell_type": "code",
   "execution_count": null,
   "metadata": {},
   "outputs": [],
   "source": [
    "BUCKET_NAME = 'sagemaker-studio-882308570215-o5kyfobq7l'\n",
    "\n",
    "KEY = 'data/steam_games (3).json' \n",
    "\n",
    "s3 = boto3.resource('s3')\n",
    "\n",
    "try:\n",
    "    s3.Bucket(BUCKET_NAME).download_file(KEY, 'steam_games (3).json')\n",
    "except botocore.exceptions.ClientError as e:\n",
    "    if e.response['Error']['Code'] == \"404\":\n",
    "        print(\"The object does not exist.\")\n",
    "    else:\n",
    "        raise"
   ]
  },
  {
   "cell_type": "markdown",
   "metadata": {},
   "source": [
    "## Games Users Have Played"
   ]
  },
  {
   "cell_type": "code",
   "execution_count": 2,
   "metadata": {},
   "outputs": [],
   "source": [
    "with open('users_items.json') as f:\n",
    "    lines = f.read().splitlines()"
   ]
  },
  {
   "cell_type": "code",
   "execution_count": 3,
   "metadata": {},
   "outputs": [],
   "source": [
    "lst = [ast.literal_eval(line) for line in lines]"
   ]
  },
  {
   "cell_type": "code",
   "execution_count": 4,
   "metadata": {},
   "outputs": [],
   "source": [
    "users_items = pd.DataFrame(lst)"
   ]
  },
  {
   "cell_type": "code",
   "execution_count": 5,
   "metadata": {},
   "outputs": [
    {
     "data": {
      "text/html": [
       "<div>\n",
       "<style scoped>\n",
       "    .dataframe tbody tr th:only-of-type {\n",
       "        vertical-align: middle;\n",
       "    }\n",
       "\n",
       "    .dataframe tbody tr th {\n",
       "        vertical-align: top;\n",
       "    }\n",
       "\n",
       "    .dataframe thead th {\n",
       "        text-align: right;\n",
       "    }\n",
       "</style>\n",
       "<table border=\"1\" class=\"dataframe\">\n",
       "  <thead>\n",
       "    <tr style=\"text-align: right;\">\n",
       "      <th></th>\n",
       "      <th>user_id</th>\n",
       "      <th>items_count</th>\n",
       "      <th>steam_id</th>\n",
       "      <th>user_url</th>\n",
       "      <th>items</th>\n",
       "    </tr>\n",
       "  </thead>\n",
       "  <tbody>\n",
       "    <tr>\n",
       "      <th>0</th>\n",
       "      <td>76561197970982479</td>\n",
       "      <td>277</td>\n",
       "      <td>76561197970982479</td>\n",
       "      <td>http://steamcommunity.com/profiles/76561197970...</td>\n",
       "      <td>[{'item_id': '10', 'item_name': 'Counter-Strik...</td>\n",
       "    </tr>\n",
       "    <tr>\n",
       "      <th>1</th>\n",
       "      <td>js41637</td>\n",
       "      <td>888</td>\n",
       "      <td>76561198035864385</td>\n",
       "      <td>http://steamcommunity.com/id/js41637</td>\n",
       "      <td>[{'item_id': '10', 'item_name': 'Counter-Strik...</td>\n",
       "    </tr>\n",
       "    <tr>\n",
       "      <th>2</th>\n",
       "      <td>evcentric</td>\n",
       "      <td>137</td>\n",
       "      <td>76561198007712555</td>\n",
       "      <td>http://steamcommunity.com/id/evcentric</td>\n",
       "      <td>[{'item_id': '1200', 'item_name': 'Red Orchest...</td>\n",
       "    </tr>\n",
       "    <tr>\n",
       "      <th>3</th>\n",
       "      <td>Riot-Punch</td>\n",
       "      <td>328</td>\n",
       "      <td>76561197963445855</td>\n",
       "      <td>http://steamcommunity.com/id/Riot-Punch</td>\n",
       "      <td>[{'item_id': '10', 'item_name': 'Counter-Strik...</td>\n",
       "    </tr>\n",
       "    <tr>\n",
       "      <th>4</th>\n",
       "      <td>doctr</td>\n",
       "      <td>541</td>\n",
       "      <td>76561198002099482</td>\n",
       "      <td>http://steamcommunity.com/id/doctr</td>\n",
       "      <td>[{'item_id': '300', 'item_name': 'Day of Defea...</td>\n",
       "    </tr>\n",
       "  </tbody>\n",
       "</table>\n",
       "</div>"
      ],
      "text/plain": [
       "             user_id  items_count           steam_id  \\\n",
       "0  76561197970982479          277  76561197970982479   \n",
       "1            js41637          888  76561198035864385   \n",
       "2          evcentric          137  76561198007712555   \n",
       "3         Riot-Punch          328  76561197963445855   \n",
       "4              doctr          541  76561198002099482   \n",
       "\n",
       "                                            user_url  \\\n",
       "0  http://steamcommunity.com/profiles/76561197970...   \n",
       "1               http://steamcommunity.com/id/js41637   \n",
       "2             http://steamcommunity.com/id/evcentric   \n",
       "3            http://steamcommunity.com/id/Riot-Punch   \n",
       "4                 http://steamcommunity.com/id/doctr   \n",
       "\n",
       "                                               items  \n",
       "0  [{'item_id': '10', 'item_name': 'Counter-Strik...  \n",
       "1  [{'item_id': '10', 'item_name': 'Counter-Strik...  \n",
       "2  [{'item_id': '1200', 'item_name': 'Red Orchest...  \n",
       "3  [{'item_id': '10', 'item_name': 'Counter-Strik...  \n",
       "4  [{'item_id': '300', 'item_name': 'Day of Defea...  "
      ]
     },
     "execution_count": 5,
     "metadata": {},
     "output_type": "execute_result"
    }
   ],
   "source": [
    "users_items.head()"
   ]
  },
  {
   "cell_type": "code",
   "execution_count": 6,
   "metadata": {},
   "outputs": [
    {
     "data": {
      "text/plain": [
       "(88310, 5)"
      ]
     },
     "execution_count": 6,
     "metadata": {},
     "output_type": "execute_result"
    }
   ],
   "source": [
    "users_items.shape"
   ]
  },
  {
   "cell_type": "code",
   "execution_count": 7,
   "metadata": {},
   "outputs": [
    {
     "data": {
      "text/plain": [
       "87626"
      ]
     },
     "execution_count": 7,
     "metadata": {},
     "output_type": "execute_result"
    }
   ],
   "source": [
    "users_items.user_id.nunique()"
   ]
  },
  {
   "cell_type": "markdown",
   "metadata": {},
   "source": [
    "#### Drop Duplicates"
   ]
  },
  {
   "cell_type": "code",
   "execution_count": 8,
   "metadata": {},
   "outputs": [],
   "source": [
    "users_items.drop_duplicates(subset =\"user_id\", \n",
    "                     keep = 'first', inplace = True) "
   ]
  },
  {
   "cell_type": "code",
   "execution_count": 9,
   "metadata": {},
   "outputs": [
    {
     "data": {
      "text/plain": [
       "87626"
      ]
     },
     "execution_count": 9,
     "metadata": {},
     "output_type": "execute_result"
    }
   ],
   "source": [
    "users_items.user_id.nunique()"
   ]
  },
  {
   "cell_type": "code",
   "execution_count": 10,
   "metadata": {},
   "outputs": [],
   "source": [
    "users_items.reset_index(inplace = True)"
   ]
  },
  {
   "cell_type": "code",
   "execution_count": 11,
   "metadata": {},
   "outputs": [],
   "source": [
    "users_items.rename(columns={'index':'id'}, inplace = True)"
   ]
  },
  {
   "cell_type": "code",
   "execution_count": 12,
   "metadata": {},
   "outputs": [
    {
     "data": {
      "text/html": [
       "<div>\n",
       "<style scoped>\n",
       "    .dataframe tbody tr th:only-of-type {\n",
       "        vertical-align: middle;\n",
       "    }\n",
       "\n",
       "    .dataframe tbody tr th {\n",
       "        vertical-align: top;\n",
       "    }\n",
       "\n",
       "    .dataframe thead th {\n",
       "        text-align: right;\n",
       "    }\n",
       "</style>\n",
       "<table border=\"1\" class=\"dataframe\">\n",
       "  <thead>\n",
       "    <tr style=\"text-align: right;\">\n",
       "      <th></th>\n",
       "      <th>id</th>\n",
       "      <th>user_id</th>\n",
       "      <th>items_count</th>\n",
       "      <th>steam_id</th>\n",
       "      <th>user_url</th>\n",
       "      <th>items</th>\n",
       "    </tr>\n",
       "  </thead>\n",
       "  <tbody>\n",
       "    <tr>\n",
       "      <th>0</th>\n",
       "      <td>0</td>\n",
       "      <td>76561197970982479</td>\n",
       "      <td>277</td>\n",
       "      <td>76561197970982479</td>\n",
       "      <td>http://steamcommunity.com/profiles/76561197970...</td>\n",
       "      <td>[{'item_id': '10', 'item_name': 'Counter-Strik...</td>\n",
       "    </tr>\n",
       "    <tr>\n",
       "      <th>1</th>\n",
       "      <td>1</td>\n",
       "      <td>js41637</td>\n",
       "      <td>888</td>\n",
       "      <td>76561198035864385</td>\n",
       "      <td>http://steamcommunity.com/id/js41637</td>\n",
       "      <td>[{'item_id': '10', 'item_name': 'Counter-Strik...</td>\n",
       "    </tr>\n",
       "    <tr>\n",
       "      <th>2</th>\n",
       "      <td>2</td>\n",
       "      <td>evcentric</td>\n",
       "      <td>137</td>\n",
       "      <td>76561198007712555</td>\n",
       "      <td>http://steamcommunity.com/id/evcentric</td>\n",
       "      <td>[{'item_id': '1200', 'item_name': 'Red Orchest...</td>\n",
       "    </tr>\n",
       "    <tr>\n",
       "      <th>3</th>\n",
       "      <td>3</td>\n",
       "      <td>Riot-Punch</td>\n",
       "      <td>328</td>\n",
       "      <td>76561197963445855</td>\n",
       "      <td>http://steamcommunity.com/id/Riot-Punch</td>\n",
       "      <td>[{'item_id': '10', 'item_name': 'Counter-Strik...</td>\n",
       "    </tr>\n",
       "    <tr>\n",
       "      <th>4</th>\n",
       "      <td>4</td>\n",
       "      <td>doctr</td>\n",
       "      <td>541</td>\n",
       "      <td>76561198002099482</td>\n",
       "      <td>http://steamcommunity.com/id/doctr</td>\n",
       "      <td>[{'item_id': '300', 'item_name': 'Day of Defea...</td>\n",
       "    </tr>\n",
       "  </tbody>\n",
       "</table>\n",
       "</div>"
      ],
      "text/plain": [
       "   id            user_id  items_count           steam_id  \\\n",
       "0   0  76561197970982479          277  76561197970982479   \n",
       "1   1            js41637          888  76561198035864385   \n",
       "2   2          evcentric          137  76561198007712555   \n",
       "3   3         Riot-Punch          328  76561197963445855   \n",
       "4   4              doctr          541  76561198002099482   \n",
       "\n",
       "                                            user_url  \\\n",
       "0  http://steamcommunity.com/profiles/76561197970...   \n",
       "1               http://steamcommunity.com/id/js41637   \n",
       "2             http://steamcommunity.com/id/evcentric   \n",
       "3            http://steamcommunity.com/id/Riot-Punch   \n",
       "4                 http://steamcommunity.com/id/doctr   \n",
       "\n",
       "                                               items  \n",
       "0  [{'item_id': '10', 'item_name': 'Counter-Strik...  \n",
       "1  [{'item_id': '10', 'item_name': 'Counter-Strik...  \n",
       "2  [{'item_id': '1200', 'item_name': 'Red Orchest...  \n",
       "3  [{'item_id': '10', 'item_name': 'Counter-Strik...  \n",
       "4  [{'item_id': '300', 'item_name': 'Day of Defea...  "
      ]
     },
     "execution_count": 12,
     "metadata": {},
     "output_type": "execute_result"
    }
   ],
   "source": [
    "users_items.head()"
   ]
  },
  {
   "cell_type": "code",
   "execution_count": 13,
   "metadata": {},
   "outputs": [],
   "source": [
    "users_items_lst = users_items.to_dict('records')"
   ]
  },
  {
   "cell_type": "code",
   "execution_count": 14,
   "metadata": {},
   "outputs": [],
   "source": [
    "item_ratings = pd.json_normalize(data= users_items_lst, record_path = 'items', meta = ['user_id'])"
   ]
  },
  {
   "cell_type": "code",
   "execution_count": 15,
   "metadata": {},
   "outputs": [
    {
     "data": {
      "text/html": [
       "<div>\n",
       "<style scoped>\n",
       "    .dataframe tbody tr th:only-of-type {\n",
       "        vertical-align: middle;\n",
       "    }\n",
       "\n",
       "    .dataframe tbody tr th {\n",
       "        vertical-align: top;\n",
       "    }\n",
       "\n",
       "    .dataframe thead th {\n",
       "        text-align: right;\n",
       "    }\n",
       "</style>\n",
       "<table border=\"1\" class=\"dataframe\">\n",
       "  <thead>\n",
       "    <tr style=\"text-align: right;\">\n",
       "      <th></th>\n",
       "      <th>item_id</th>\n",
       "      <th>item_name</th>\n",
       "      <th>playtime_forever</th>\n",
       "      <th>playtime_2weeks</th>\n",
       "      <th>user_id</th>\n",
       "    </tr>\n",
       "  </thead>\n",
       "  <tbody>\n",
       "    <tr>\n",
       "      <th>0</th>\n",
       "      <td>10</td>\n",
       "      <td>Counter-Strike</td>\n",
       "      <td>6</td>\n",
       "      <td>0</td>\n",
       "      <td>76561197970982479</td>\n",
       "    </tr>\n",
       "    <tr>\n",
       "      <th>1</th>\n",
       "      <td>20</td>\n",
       "      <td>Team Fortress Classic</td>\n",
       "      <td>0</td>\n",
       "      <td>0</td>\n",
       "      <td>76561197970982479</td>\n",
       "    </tr>\n",
       "    <tr>\n",
       "      <th>2</th>\n",
       "      <td>30</td>\n",
       "      <td>Day of Defeat</td>\n",
       "      <td>7</td>\n",
       "      <td>0</td>\n",
       "      <td>76561197970982479</td>\n",
       "    </tr>\n",
       "    <tr>\n",
       "      <th>3</th>\n",
       "      <td>40</td>\n",
       "      <td>Deathmatch Classic</td>\n",
       "      <td>0</td>\n",
       "      <td>0</td>\n",
       "      <td>76561197970982479</td>\n",
       "    </tr>\n",
       "    <tr>\n",
       "      <th>4</th>\n",
       "      <td>50</td>\n",
       "      <td>Half-Life: Opposing Force</td>\n",
       "      <td>0</td>\n",
       "      <td>0</td>\n",
       "      <td>76561197970982479</td>\n",
       "    </tr>\n",
       "  </tbody>\n",
       "</table>\n",
       "</div>"
      ],
      "text/plain": [
       "  item_id                  item_name  playtime_forever  playtime_2weeks  \\\n",
       "0      10             Counter-Strike                 6                0   \n",
       "1      20      Team Fortress Classic                 0                0   \n",
       "2      30              Day of Defeat                 7                0   \n",
       "3      40         Deathmatch Classic                 0                0   \n",
       "4      50  Half-Life: Opposing Force                 0                0   \n",
       "\n",
       "             user_id  \n",
       "0  76561197970982479  \n",
       "1  76561197970982479  \n",
       "2  76561197970982479  \n",
       "3  76561197970982479  \n",
       "4  76561197970982479  "
      ]
     },
     "execution_count": 15,
     "metadata": {},
     "output_type": "execute_result"
    }
   ],
   "source": [
    "item_ratings.head()"
   ]
  },
  {
   "cell_type": "code",
   "execution_count": 16,
   "metadata": {},
   "outputs": [
    {
     "data": {
      "text/plain": [
       "70912"
      ]
     },
     "execution_count": 16,
     "metadata": {},
     "output_type": "execute_result"
    }
   ],
   "source": [
    "item_ratings.user_id.nunique()"
   ]
  },
  {
   "cell_type": "code",
   "execution_count": 17,
   "metadata": {},
   "outputs": [],
   "source": [
    "user_id = item_ratings.user_id.unique()"
   ]
  },
  {
   "cell_type": "code",
   "execution_count": 18,
   "metadata": {},
   "outputs": [],
   "source": [
    "index = list(range(len(user_id)))"
   ]
  },
  {
   "cell_type": "code",
   "execution_count": 19,
   "metadata": {},
   "outputs": [],
   "source": [
    "id_col = dict(zip(user_id,index))"
   ]
  },
  {
   "cell_type": "code",
   "execution_count": null,
   "metadata": {},
   "outputs": [],
   "source": []
  },
  {
   "cell_type": "code",
   "execution_count": 20,
   "metadata": {},
   "outputs": [],
   "source": [
    "item_ratings['id'] = item_ratings.user_id.apply(lambda x : id_col[x])"
   ]
  },
  {
   "cell_type": "code",
   "execution_count": null,
   "metadata": {},
   "outputs": [],
   "source": [
    "item_ratings.head()"
   ]
  },
  {
   "cell_type": "code",
   "execution_count": 22,
   "metadata": {},
   "outputs": [
    {
     "data": {
      "text/plain": [
       "(5094082, 6)"
      ]
     },
     "execution_count": 22,
     "metadata": {},
     "output_type": "execute_result"
    }
   ],
   "source": [
    "item_ratings.shape"
   ]
  },
  {
   "cell_type": "code",
   "execution_count": 23,
   "metadata": {},
   "outputs": [
    {
     "data": {
      "text/plain": [
       "70912"
      ]
     },
     "execution_count": 23,
     "metadata": {},
     "output_type": "execute_result"
    }
   ],
   "source": [
    "item_ratings.user_id.nunique()"
   ]
  },
  {
   "cell_type": "code",
   "execution_count": 24,
   "metadata": {},
   "outputs": [
    {
     "data": {
      "text/plain": [
       "10978"
      ]
     },
     "execution_count": 24,
     "metadata": {},
     "output_type": "execute_result"
    }
   ],
   "source": [
    "item_ratings.item_id.nunique()"
   ]
  },
  {
   "cell_type": "code",
   "execution_count": 25,
   "metadata": {},
   "outputs": [
    {
     "data": {
      "text/plain": [
       "item_id             object\n",
       "item_name           object\n",
       "playtime_forever     int64\n",
       "playtime_2weeks      int64\n",
       "user_id             object\n",
       "id                   int64\n",
       "dtype: object"
      ]
     },
     "execution_count": 25,
     "metadata": {},
     "output_type": "execute_result"
    }
   ],
   "source": [
    "item_ratings.dtypes"
   ]
  },
  {
   "cell_type": "code",
   "execution_count": 26,
   "metadata": {},
   "outputs": [],
   "source": [
    "item_ratings.item_id = item_ratings.item_id.astype('int64')"
   ]
  },
  {
   "cell_type": "code",
   "execution_count": 27,
   "metadata": {},
   "outputs": [],
   "source": [
    "item_ids = item_ratings.item_id.unique()"
   ]
  },
  {
   "cell_type": "markdown",
   "metadata": {},
   "source": [
    "#### Item Names"
   ]
  },
  {
   "cell_type": "code",
   "execution_count": 28,
   "metadata": {},
   "outputs": [],
   "source": [
    "item_id = item_ratings.item_id.unique()"
   ]
  },
  {
   "cell_type": "code",
   "execution_count": 29,
   "metadata": {},
   "outputs": [],
   "source": [
    "item_name = item_ratings.item_name.unique()"
   ]
  },
  {
   "cell_type": "code",
   "execution_count": 30,
   "metadata": {},
   "outputs": [],
   "source": [
    "names = dict(zip(item_id,item_name))"
   ]
  },
  {
   "cell_type": "markdown",
   "metadata": {},
   "source": [
    "#### EDA"
   ]
  },
  {
   "cell_type": "code",
   "execution_count": 31,
   "metadata": {},
   "outputs": [],
   "source": [
    "ratings_mat = item_ratings.pivot_table(values = 'playtime_forever',index = 'user_id',columns = 'item_id')"
   ]
  },
  {
   "cell_type": "code",
   "execution_count": 32,
   "metadata": {},
   "outputs": [
    {
     "data": {
      "text/html": [
       "<div>\n",
       "<style scoped>\n",
       "    .dataframe tbody tr th:only-of-type {\n",
       "        vertical-align: middle;\n",
       "    }\n",
       "\n",
       "    .dataframe tbody tr th {\n",
       "        vertical-align: top;\n",
       "    }\n",
       "\n",
       "    .dataframe thead th {\n",
       "        text-align: right;\n",
       "    }\n",
       "</style>\n",
       "<table border=\"1\" class=\"dataframe\">\n",
       "  <thead>\n",
       "    <tr style=\"text-align: right;\">\n",
       "      <th>item_id</th>\n",
       "      <th>10</th>\n",
       "      <th>20</th>\n",
       "      <th>30</th>\n",
       "      <th>40</th>\n",
       "      <th>50</th>\n",
       "      <th>60</th>\n",
       "      <th>70</th>\n",
       "      <th>80</th>\n",
       "      <th>100</th>\n",
       "      <th>130</th>\n",
       "      <th>...</th>\n",
       "      <th>527520</th>\n",
       "      <th>527570</th>\n",
       "      <th>527810</th>\n",
       "      <th>527890</th>\n",
       "      <th>527900</th>\n",
       "      <th>528580</th>\n",
       "      <th>528660</th>\n",
       "      <th>529670</th>\n",
       "      <th>529820</th>\n",
       "      <th>530720</th>\n",
       "    </tr>\n",
       "    <tr>\n",
       "      <th>user_id</th>\n",
       "      <th></th>\n",
       "      <th></th>\n",
       "      <th></th>\n",
       "      <th></th>\n",
       "      <th></th>\n",
       "      <th></th>\n",
       "      <th></th>\n",
       "      <th></th>\n",
       "      <th></th>\n",
       "      <th></th>\n",
       "      <th></th>\n",
       "      <th></th>\n",
       "      <th></th>\n",
       "      <th></th>\n",
       "      <th></th>\n",
       "      <th></th>\n",
       "      <th></th>\n",
       "      <th></th>\n",
       "      <th></th>\n",
       "      <th></th>\n",
       "      <th></th>\n",
       "    </tr>\n",
       "  </thead>\n",
       "  <tbody>\n",
       "    <tr>\n",
       "      <th>--000--</th>\n",
       "      <td>NaN</td>\n",
       "      <td>NaN</td>\n",
       "      <td>NaN</td>\n",
       "      <td>NaN</td>\n",
       "      <td>NaN</td>\n",
       "      <td>NaN</td>\n",
       "      <td>NaN</td>\n",
       "      <td>NaN</td>\n",
       "      <td>NaN</td>\n",
       "      <td>NaN</td>\n",
       "      <td>...</td>\n",
       "      <td>NaN</td>\n",
       "      <td>NaN</td>\n",
       "      <td>NaN</td>\n",
       "      <td>NaN</td>\n",
       "      <td>NaN</td>\n",
       "      <td>NaN</td>\n",
       "      <td>NaN</td>\n",
       "      <td>NaN</td>\n",
       "      <td>NaN</td>\n",
       "      <td>NaN</td>\n",
       "    </tr>\n",
       "    <tr>\n",
       "      <th>--ace--</th>\n",
       "      <td>NaN</td>\n",
       "      <td>NaN</td>\n",
       "      <td>NaN</td>\n",
       "      <td>NaN</td>\n",
       "      <td>NaN</td>\n",
       "      <td>NaN</td>\n",
       "      <td>NaN</td>\n",
       "      <td>NaN</td>\n",
       "      <td>NaN</td>\n",
       "      <td>NaN</td>\n",
       "      <td>...</td>\n",
       "      <td>NaN</td>\n",
       "      <td>NaN</td>\n",
       "      <td>NaN</td>\n",
       "      <td>NaN</td>\n",
       "      <td>NaN</td>\n",
       "      <td>NaN</td>\n",
       "      <td>NaN</td>\n",
       "      <td>NaN</td>\n",
       "      <td>NaN</td>\n",
       "      <td>NaN</td>\n",
       "    </tr>\n",
       "    <tr>\n",
       "      <th>--ionex--</th>\n",
       "      <td>NaN</td>\n",
       "      <td>NaN</td>\n",
       "      <td>NaN</td>\n",
       "      <td>NaN</td>\n",
       "      <td>NaN</td>\n",
       "      <td>NaN</td>\n",
       "      <td>NaN</td>\n",
       "      <td>NaN</td>\n",
       "      <td>NaN</td>\n",
       "      <td>NaN</td>\n",
       "      <td>...</td>\n",
       "      <td>NaN</td>\n",
       "      <td>NaN</td>\n",
       "      <td>NaN</td>\n",
       "      <td>NaN</td>\n",
       "      <td>NaN</td>\n",
       "      <td>NaN</td>\n",
       "      <td>NaN</td>\n",
       "      <td>NaN</td>\n",
       "      <td>NaN</td>\n",
       "      <td>NaN</td>\n",
       "    </tr>\n",
       "    <tr>\n",
       "      <th>-2SV-vuLB-Kg</th>\n",
       "      <td>NaN</td>\n",
       "      <td>NaN</td>\n",
       "      <td>NaN</td>\n",
       "      <td>NaN</td>\n",
       "      <td>NaN</td>\n",
       "      <td>NaN</td>\n",
       "      <td>NaN</td>\n",
       "      <td>NaN</td>\n",
       "      <td>NaN</td>\n",
       "      <td>NaN</td>\n",
       "      <td>...</td>\n",
       "      <td>NaN</td>\n",
       "      <td>NaN</td>\n",
       "      <td>NaN</td>\n",
       "      <td>NaN</td>\n",
       "      <td>NaN</td>\n",
       "      <td>NaN</td>\n",
       "      <td>NaN</td>\n",
       "      <td>NaN</td>\n",
       "      <td>NaN</td>\n",
       "      <td>NaN</td>\n",
       "    </tr>\n",
       "    <tr>\n",
       "      <th>-404PageNotFound-</th>\n",
       "      <td>NaN</td>\n",
       "      <td>NaN</td>\n",
       "      <td>NaN</td>\n",
       "      <td>NaN</td>\n",
       "      <td>NaN</td>\n",
       "      <td>NaN</td>\n",
       "      <td>NaN</td>\n",
       "      <td>NaN</td>\n",
       "      <td>NaN</td>\n",
       "      <td>NaN</td>\n",
       "      <td>...</td>\n",
       "      <td>NaN</td>\n",
       "      <td>NaN</td>\n",
       "      <td>NaN</td>\n",
       "      <td>NaN</td>\n",
       "      <td>NaN</td>\n",
       "      <td>NaN</td>\n",
       "      <td>NaN</td>\n",
       "      <td>NaN</td>\n",
       "      <td>NaN</td>\n",
       "      <td>NaN</td>\n",
       "    </tr>\n",
       "  </tbody>\n",
       "</table>\n",
       "<p>5 rows × 10978 columns</p>\n",
       "</div>"
      ],
      "text/plain": [
       "item_id            10      20      30      40      50      60      70      \\\n",
       "user_id                                                                     \n",
       "--000--               NaN     NaN     NaN     NaN     NaN     NaN     NaN   \n",
       "--ace--               NaN     NaN     NaN     NaN     NaN     NaN     NaN   \n",
       "--ionex--             NaN     NaN     NaN     NaN     NaN     NaN     NaN   \n",
       "-2SV-vuLB-Kg          NaN     NaN     NaN     NaN     NaN     NaN     NaN   \n",
       "-404PageNotFound-     NaN     NaN     NaN     NaN     NaN     NaN     NaN   \n",
       "\n",
       "item_id            80      100     130     ...  527520  527570  527810  \\\n",
       "user_id                                    ...                           \n",
       "--000--               NaN     NaN     NaN  ...     NaN     NaN     NaN   \n",
       "--ace--               NaN     NaN     NaN  ...     NaN     NaN     NaN   \n",
       "--ionex--             NaN     NaN     NaN  ...     NaN     NaN     NaN   \n",
       "-2SV-vuLB-Kg          NaN     NaN     NaN  ...     NaN     NaN     NaN   \n",
       "-404PageNotFound-     NaN     NaN     NaN  ...     NaN     NaN     NaN   \n",
       "\n",
       "item_id            527890  527900  528580  528660  529670  529820  530720  \n",
       "user_id                                                                    \n",
       "--000--               NaN     NaN     NaN     NaN     NaN     NaN     NaN  \n",
       "--ace--               NaN     NaN     NaN     NaN     NaN     NaN     NaN  \n",
       "--ionex--             NaN     NaN     NaN     NaN     NaN     NaN     NaN  \n",
       "-2SV-vuLB-Kg          NaN     NaN     NaN     NaN     NaN     NaN     NaN  \n",
       "-404PageNotFound-     NaN     NaN     NaN     NaN     NaN     NaN     NaN  \n",
       "\n",
       "[5 rows x 10978 columns]"
      ]
     },
     "execution_count": 32,
     "metadata": {},
     "output_type": "execute_result"
    }
   ],
   "source": [
    "ratings_mat.head()"
   ]
  },
  {
   "cell_type": "markdown",
   "metadata": {},
   "source": [
    "##### Density"
   ]
  },
  {
   "cell_type": "code",
   "execution_count": 33,
   "metadata": {},
   "outputs": [
    {
     "name": "stdout",
     "output_type": "stream",
     "text": [
      "0.0065436938243076245\n"
     ]
    }
   ],
   "source": [
    "num_ratings = item_ratings.shape[0]\n",
    "user_count, item_count = ratings_mat.shape\n",
    "density = num_ratings/(user_count*item_count)\n",
    "print(density)"
   ]
  },
  {
   "cell_type": "code",
   "execution_count": 34,
   "metadata": {},
   "outputs": [],
   "source": [
    "ratings_per_game = item_ratings.groupby('item_id')['playtime_forever'].count()\n",
    "ratings_per_user = item_ratings.groupby('user_id')['playtime_forever'].count()"
   ]
  },
  {
   "cell_type": "code",
   "execution_count": 35,
   "metadata": {},
   "outputs": [
    {
     "data": {
      "text/plain": [
       "<matplotlib.axes._subplots.AxesSubplot at 0x7fcf0d563590>"
      ]
     },
     "execution_count": 35,
     "metadata": {},
     "output_type": "execute_result"
    },
    {
     "data": {
      "image/png": "[encoded data removed]",
      "text/plain": [
       "<Figure size 432x288 with 1 Axes>"
      ]
     },
     "metadata": {
      "needs_background": "light"
     },
     "output_type": "display_data"
    }
   ],
   "source": [
    "ratings_per_game.hist(bins = 10)"
   ]
  },
  {
   "cell_type": "code",
   "execution_count": 36,
   "metadata": {},
   "outputs": [
    {
     "data": {
      "text/plain": [
       "1"
      ]
     },
     "execution_count": 36,
     "metadata": {},
     "output_type": "execute_result"
    }
   ],
   "source": [
    "ratings_per_game.min()"
   ]
  },
  {
   "cell_type": "code",
   "execution_count": 37,
   "metadata": {},
   "outputs": [
    {
     "data": {
      "text/plain": [
       "49136"
      ]
     },
     "execution_count": 37,
     "metadata": {},
     "output_type": "execute_result"
    }
   ],
   "source": [
    "ratings_per_game.max()"
   ]
  },
  {
   "cell_type": "code",
   "execution_count": 38,
   "metadata": {},
   "outputs": [
    {
     "data": {
      "text/plain": [
       "<matplotlib.axes._subplots.AxesSubplot at 0x7fcf0c8d7dd0>"
      ]
     },
     "execution_count": 38,
     "metadata": {},
     "output_type": "execute_result"
    },
    {
     "data": {
      "image/png": "[encoded data removed]",
      "text/plain": [
       "<Figure size 432x288 with 1 Axes>"
      ]
     },
     "metadata": {
      "needs_background": "light"
     },
     "output_type": "display_data"
    }
   ],
   "source": [
    "ratings_per_user.hist(bins = 10)"
   ]
  },
  {
   "cell_type": "code",
   "execution_count": 39,
   "metadata": {},
   "outputs": [
    {
     "data": {
      "text/plain": [
       "1"
      ]
     },
     "execution_count": 39,
     "metadata": {},
     "output_type": "execute_result"
    }
   ],
   "source": [
    "ratings_per_user.min()"
   ]
  },
  {
   "cell_type": "code",
   "execution_count": 40,
   "metadata": {},
   "outputs": [
    {
     "data": {
      "text/plain": [
       "7762"
      ]
     },
     "execution_count": 40,
     "metadata": {},
     "output_type": "execute_result"
    }
   ],
   "source": [
    "ratings_per_user.max()"
   ]
  },
  {
   "cell_type": "markdown",
   "metadata": {},
   "source": [
    "#### Test with users who played 10 or more games"
   ]
  },
  {
   "cell_type": "code",
   "execution_count": 41,
   "metadata": {},
   "outputs": [],
   "source": [
    "test= pd.DataFrame(ratings_per_user)"
   ]
  },
  {
   "cell_type": "code",
   "execution_count": 42,
   "metadata": {},
   "outputs": [
    {
     "data": {
      "text/plain": [
       "(70912, 1)"
      ]
     },
     "execution_count": 42,
     "metadata": {},
     "output_type": "execute_result"
    }
   ],
   "source": [
    "test.shape"
   ]
  },
  {
   "cell_type": "code",
   "execution_count": 43,
   "metadata": {},
   "outputs": [],
   "source": [
    "test = test[test.playtime_forever>=10]"
   ]
  },
  {
   "cell_type": "code",
   "execution_count": 44,
   "metadata": {},
   "outputs": [
    {
     "data": {
      "text/plain": [
       "(57333, 1)"
      ]
     },
     "execution_count": 44,
     "metadata": {},
     "output_type": "execute_result"
    }
   ],
   "source": [
    "test.shape"
   ]
  },
  {
   "cell_type": "code",
   "execution_count": 45,
   "metadata": {},
   "outputs": [],
   "source": [
    "test2 = pd.DataFrame(ratings_per_game)"
   ]
  },
  {
   "cell_type": "code",
   "execution_count": 46,
   "metadata": {},
   "outputs": [
    {
     "data": {
      "text/plain": [
       "(10978, 1)"
      ]
     },
     "execution_count": 46,
     "metadata": {},
     "output_type": "execute_result"
    }
   ],
   "source": [
    "test2.shape"
   ]
  },
  {
   "cell_type": "code",
   "execution_count": 47,
   "metadata": {},
   "outputs": [
    {
     "data": {
      "text/html": [
       "<div>\n",
       "<style scoped>\n",
       "    .dataframe tbody tr th:only-of-type {\n",
       "        vertical-align: middle;\n",
       "    }\n",
       "\n",
       "    .dataframe tbody tr th {\n",
       "        vertical-align: top;\n",
       "    }\n",
       "\n",
       "    .dataframe thead th {\n",
       "        text-align: right;\n",
       "    }\n",
       "</style>\n",
       "<table border=\"1\" class=\"dataframe\">\n",
       "  <thead>\n",
       "    <tr style=\"text-align: right;\">\n",
       "      <th></th>\n",
       "      <th>playtime_forever</th>\n",
       "    </tr>\n",
       "    <tr>\n",
       "      <th>item_id</th>\n",
       "      <th></th>\n",
       "    </tr>\n",
       "  </thead>\n",
       "  <tbody>\n",
       "    <tr>\n",
       "      <th>10</th>\n",
       "      <td>9611</td>\n",
       "    </tr>\n",
       "    <tr>\n",
       "      <th>20</th>\n",
       "      <td>6268</td>\n",
       "    </tr>\n",
       "    <tr>\n",
       "      <th>30</th>\n",
       "      <td>3431</td>\n",
       "    </tr>\n",
       "    <tr>\n",
       "      <th>40</th>\n",
       "      <td>3242</td>\n",
       "    </tr>\n",
       "    <tr>\n",
       "      <th>50</th>\n",
       "      <td>6216</td>\n",
       "    </tr>\n",
       "  </tbody>\n",
       "</table>\n",
       "</div>"
      ],
      "text/plain": [
       "         playtime_forever\n",
       "item_id                  \n",
       "10                   9611\n",
       "20                   6268\n",
       "30                   3431\n",
       "40                   3242\n",
       "50                   6216"
      ]
     },
     "execution_count": 47,
     "metadata": {},
     "output_type": "execute_result"
    }
   ],
   "source": [
    "test2.head()"
   ]
  },
  {
   "cell_type": "code",
   "execution_count": 48,
   "metadata": {},
   "outputs": [],
   "source": [
    "test2=test2[test2.playtime_forever>=5000]"
   ]
  },
  {
   "cell_type": "code",
   "execution_count": 49,
   "metadata": {},
   "outputs": [
    {
     "data": {
      "text/plain": [
       "(210, 1)"
      ]
     },
     "execution_count": 49,
     "metadata": {},
     "output_type": "execute_result"
    }
   ],
   "source": [
    "test2.shape"
   ]
  },
  {
   "cell_type": "code",
   "execution_count": 50,
   "metadata": {},
   "outputs": [],
   "source": [
    "item_ratings_test = item_ratings.loc[item_ratings.user_id.isin(test.index)]"
   ]
  },
  {
   "cell_type": "code",
   "execution_count": 51,
   "metadata": {},
   "outputs": [
    {
     "data": {
      "text/plain": [
       "(5038365, 6)"
      ]
     },
     "execution_count": 51,
     "metadata": {},
     "output_type": "execute_result"
    }
   ],
   "source": [
    "item_ratings_test.shape"
   ]
  },
  {
   "cell_type": "code",
   "execution_count": 52,
   "metadata": {},
   "outputs": [
    {
     "data": {
      "text/plain": [
       "57333"
      ]
     },
     "execution_count": 52,
     "metadata": {},
     "output_type": "execute_result"
    }
   ],
   "source": [
    "item_ratings_test.user_id.nunique()"
   ]
  },
  {
   "cell_type": "code",
   "execution_count": 53,
   "metadata": {},
   "outputs": [],
   "source": [
    "item_ratings_test = item_ratings.loc[item_ratings.item_id.isin(test2.index)]"
   ]
  },
  {
   "cell_type": "code",
   "execution_count": 54,
   "metadata": {},
   "outputs": [
    {
     "data": {
      "text/plain": [
       "(2175538, 6)"
      ]
     },
     "execution_count": 54,
     "metadata": {},
     "output_type": "execute_result"
    }
   ],
   "source": [
    "item_ratings_test.shape"
   ]
  },
  {
   "cell_type": "code",
   "execution_count": 55,
   "metadata": {},
   "outputs": [],
   "source": [
    "test_ratings_mat = item_ratings_test.pivot_table(values = 'playtime_forever',index = 'user_id',columns = 'item_id')"
   ]
  },
  {
   "cell_type": "code",
   "execution_count": 56,
   "metadata": {},
   "outputs": [
    {
     "name": "stdout",
     "output_type": "stream",
     "text": [
      "0.14729926720656272\n"
     ]
    }
   ],
   "source": [
    "num_ratings = item_ratings_test.shape[0]\n",
    "user_count, item_count = test_ratings_mat.shape\n",
    "density = num_ratings/(user_count*item_count)\n",
    "print(density)"
   ]
  },
  {
   "cell_type": "code",
   "execution_count": 57,
   "metadata": {},
   "outputs": [
    {
     "data": {
      "text/html": [
       "<div>\n",
       "<style scoped>\n",
       "    .dataframe tbody tr th:only-of-type {\n",
       "        vertical-align: middle;\n",
       "    }\n",
       "\n",
       "    .dataframe tbody tr th {\n",
       "        vertical-align: top;\n",
       "    }\n",
       "\n",
       "    .dataframe thead th {\n",
       "        text-align: right;\n",
       "    }\n",
       "</style>\n",
       "<table border=\"1\" class=\"dataframe\">\n",
       "  <thead>\n",
       "    <tr style=\"text-align: right;\">\n",
       "      <th>item_id</th>\n",
       "      <th>10</th>\n",
       "      <th>20</th>\n",
       "      <th>50</th>\n",
       "      <th>70</th>\n",
       "      <th>80</th>\n",
       "      <th>100</th>\n",
       "      <th>130</th>\n",
       "      <th>220</th>\n",
       "      <th>240</th>\n",
       "      <th>320</th>\n",
       "      <th>...</th>\n",
       "      <th>346900</th>\n",
       "      <th>363970</th>\n",
       "      <th>367540</th>\n",
       "      <th>377160</th>\n",
       "      <th>386360</th>\n",
       "      <th>407530</th>\n",
       "      <th>409710</th>\n",
       "      <th>409720</th>\n",
       "      <th>433850</th>\n",
       "      <th>439700</th>\n",
       "    </tr>\n",
       "    <tr>\n",
       "      <th>user_id</th>\n",
       "      <th></th>\n",
       "      <th></th>\n",
       "      <th></th>\n",
       "      <th></th>\n",
       "      <th></th>\n",
       "      <th></th>\n",
       "      <th></th>\n",
       "      <th></th>\n",
       "      <th></th>\n",
       "      <th></th>\n",
       "      <th></th>\n",
       "      <th></th>\n",
       "      <th></th>\n",
       "      <th></th>\n",
       "      <th></th>\n",
       "      <th></th>\n",
       "      <th></th>\n",
       "      <th></th>\n",
       "      <th></th>\n",
       "      <th></th>\n",
       "      <th></th>\n",
       "    </tr>\n",
       "  </thead>\n",
       "  <tbody>\n",
       "    <tr>\n",
       "      <th>--000--</th>\n",
       "      <td>NaN</td>\n",
       "      <td>NaN</td>\n",
       "      <td>NaN</td>\n",
       "      <td>NaN</td>\n",
       "      <td>NaN</td>\n",
       "      <td>NaN</td>\n",
       "      <td>NaN</td>\n",
       "      <td>NaN</td>\n",
       "      <td>NaN</td>\n",
       "      <td>NaN</td>\n",
       "      <td>...</td>\n",
       "      <td>0.0</td>\n",
       "      <td>11.0</td>\n",
       "      <td>NaN</td>\n",
       "      <td>NaN</td>\n",
       "      <td>NaN</td>\n",
       "      <td>NaN</td>\n",
       "      <td>NaN</td>\n",
       "      <td>NaN</td>\n",
       "      <td>NaN</td>\n",
       "      <td>NaN</td>\n",
       "    </tr>\n",
       "    <tr>\n",
       "      <th>--ace--</th>\n",
       "      <td>NaN</td>\n",
       "      <td>NaN</td>\n",
       "      <td>NaN</td>\n",
       "      <td>NaN</td>\n",
       "      <td>NaN</td>\n",
       "      <td>NaN</td>\n",
       "      <td>NaN</td>\n",
       "      <td>NaN</td>\n",
       "      <td>NaN</td>\n",
       "      <td>NaN</td>\n",
       "      <td>...</td>\n",
       "      <td>606.0</td>\n",
       "      <td>62.0</td>\n",
       "      <td>NaN</td>\n",
       "      <td>NaN</td>\n",
       "      <td>NaN</td>\n",
       "      <td>NaN</td>\n",
       "      <td>NaN</td>\n",
       "      <td>NaN</td>\n",
       "      <td>NaN</td>\n",
       "      <td>NaN</td>\n",
       "    </tr>\n",
       "    <tr>\n",
       "      <th>--ionex--</th>\n",
       "      <td>NaN</td>\n",
       "      <td>NaN</td>\n",
       "      <td>NaN</td>\n",
       "      <td>NaN</td>\n",
       "      <td>NaN</td>\n",
       "      <td>NaN</td>\n",
       "      <td>NaN</td>\n",
       "      <td>NaN</td>\n",
       "      <td>NaN</td>\n",
       "      <td>NaN</td>\n",
       "      <td>...</td>\n",
       "      <td>NaN</td>\n",
       "      <td>219.0</td>\n",
       "      <td>NaN</td>\n",
       "      <td>NaN</td>\n",
       "      <td>NaN</td>\n",
       "      <td>NaN</td>\n",
       "      <td>NaN</td>\n",
       "      <td>NaN</td>\n",
       "      <td>NaN</td>\n",
       "      <td>NaN</td>\n",
       "    </tr>\n",
       "    <tr>\n",
       "      <th>-2SV-vuLB-Kg</th>\n",
       "      <td>NaN</td>\n",
       "      <td>NaN</td>\n",
       "      <td>NaN</td>\n",
       "      <td>NaN</td>\n",
       "      <td>NaN</td>\n",
       "      <td>NaN</td>\n",
       "      <td>NaN</td>\n",
       "      <td>NaN</td>\n",
       "      <td>NaN</td>\n",
       "      <td>NaN</td>\n",
       "      <td>...</td>\n",
       "      <td>NaN</td>\n",
       "      <td>NaN</td>\n",
       "      <td>NaN</td>\n",
       "      <td>NaN</td>\n",
       "      <td>NaN</td>\n",
       "      <td>NaN</td>\n",
       "      <td>NaN</td>\n",
       "      <td>NaN</td>\n",
       "      <td>NaN</td>\n",
       "      <td>NaN</td>\n",
       "    </tr>\n",
       "    <tr>\n",
       "      <th>-404PageNotFound-</th>\n",
       "      <td>NaN</td>\n",
       "      <td>NaN</td>\n",
       "      <td>NaN</td>\n",
       "      <td>NaN</td>\n",
       "      <td>NaN</td>\n",
       "      <td>NaN</td>\n",
       "      <td>NaN</td>\n",
       "      <td>NaN</td>\n",
       "      <td>3963.0</td>\n",
       "      <td>NaN</td>\n",
       "      <td>...</td>\n",
       "      <td>0.0</td>\n",
       "      <td>NaN</td>\n",
       "      <td>NaN</td>\n",
       "      <td>NaN</td>\n",
       "      <td>7189.0</td>\n",
       "      <td>0.0</td>\n",
       "      <td>0.0</td>\n",
       "      <td>0.0</td>\n",
       "      <td>NaN</td>\n",
       "      <td>NaN</td>\n",
       "    </tr>\n",
       "  </tbody>\n",
       "</table>\n",
       "<p>5 rows × 210 columns</p>\n",
       "</div>"
      ],
      "text/plain": [
       "item_id            10      20      50      70      80      100     130     \\\n",
       "user_id                                                                     \n",
       "--000--               NaN     NaN     NaN     NaN     NaN     NaN     NaN   \n",
       "--ace--               NaN     NaN     NaN     NaN     NaN     NaN     NaN   \n",
       "--ionex--             NaN     NaN     NaN     NaN     NaN     NaN     NaN   \n",
       "-2SV-vuLB-Kg          NaN     NaN     NaN     NaN     NaN     NaN     NaN   \n",
       "-404PageNotFound-     NaN     NaN     NaN     NaN     NaN     NaN     NaN   \n",
       "\n",
       "item_id            220     240     320     ...  346900  363970  367540  \\\n",
       "user_id                                    ...                           \n",
       "--000--               NaN     NaN     NaN  ...     0.0    11.0     NaN   \n",
       "--ace--               NaN     NaN     NaN  ...   606.0    62.0     NaN   \n",
       "--ionex--             NaN     NaN     NaN  ...     NaN   219.0     NaN   \n",
       "-2SV-vuLB-Kg          NaN     NaN     NaN  ...     NaN     NaN     NaN   \n",
       "-404PageNotFound-     NaN  3963.0     NaN  ...     0.0     NaN     NaN   \n",
       "\n",
       "item_id            377160  386360  407530  409710  409720  433850  439700  \n",
       "user_id                                                                    \n",
       "--000--               NaN     NaN     NaN     NaN     NaN     NaN     NaN  \n",
       "--ace--               NaN     NaN     NaN     NaN     NaN     NaN     NaN  \n",
       "--ionex--             NaN     NaN     NaN     NaN     NaN     NaN     NaN  \n",
       "-2SV-vuLB-Kg          NaN     NaN     NaN     NaN     NaN     NaN     NaN  \n",
       "-404PageNotFound-     NaN  7189.0     0.0     0.0     0.0     NaN     NaN  \n",
       "\n",
       "[5 rows x 210 columns]"
      ]
     },
     "execution_count": 57,
     "metadata": {},
     "output_type": "execute_result"
    }
   ],
   "source": [
    "test_ratings_mat.head()"
   ]
  },
  {
   "cell_type": "code",
   "execution_count": 58,
   "metadata": {},
   "outputs": [
    {
     "data": {
      "text/plain": [
       "(70331, 210)"
      ]
     },
     "execution_count": 58,
     "metadata": {},
     "output_type": "execute_result"
    }
   ],
   "source": [
    "test_ratings_mat.shape"
   ]
  },
  {
   "cell_type": "code",
   "execution_count": 59,
   "metadata": {},
   "outputs": [],
   "source": [
    "test_sim_mat = cosine_similarity(test_ratings_mat.fillna(0).T)"
   ]
  },
  {
   "cell_type": "code",
   "execution_count": 60,
   "metadata": {},
   "outputs": [],
   "source": [
    "test_sim_mat = pd.DataFrame(test_sim_mat, index =test_ratings_mat.columns)"
   ]
  },
  {
   "cell_type": "code",
   "execution_count": 61,
   "metadata": {},
   "outputs": [],
   "source": [
    "test_sim_mat.columns = test_ratings_mat.columns\n"
   ]
  },
  {
   "cell_type": "code",
   "execution_count": 62,
   "metadata": {},
   "outputs": [
    {
     "data": {
      "text/html": [
       "<div>\n",
       "<style scoped>\n",
       "    .dataframe tbody tr th:only-of-type {\n",
       "        vertical-align: middle;\n",
       "    }\n",
       "\n",
       "    .dataframe tbody tr th {\n",
       "        vertical-align: top;\n",
       "    }\n",
       "\n",
       "    .dataframe thead th {\n",
       "        text-align: right;\n",
       "    }\n",
       "</style>\n",
       "<table border=\"1\" class=\"dataframe\">\n",
       "  <thead>\n",
       "    <tr style=\"text-align: right;\">\n",
       "      <th>item_id</th>\n",
       "      <th>10</th>\n",
       "      <th>20</th>\n",
       "      <th>50</th>\n",
       "      <th>70</th>\n",
       "      <th>80</th>\n",
       "      <th>100</th>\n",
       "      <th>130</th>\n",
       "      <th>220</th>\n",
       "      <th>240</th>\n",
       "      <th>320</th>\n",
       "      <th>...</th>\n",
       "      <th>346900</th>\n",
       "      <th>363970</th>\n",
       "      <th>367540</th>\n",
       "      <th>377160</th>\n",
       "      <th>386360</th>\n",
       "      <th>407530</th>\n",
       "      <th>409710</th>\n",
       "      <th>409720</th>\n",
       "      <th>433850</th>\n",
       "      <th>439700</th>\n",
       "    </tr>\n",
       "    <tr>\n",
       "      <th>item_id</th>\n",
       "      <th></th>\n",
       "      <th></th>\n",
       "      <th></th>\n",
       "      <th></th>\n",
       "      <th></th>\n",
       "      <th></th>\n",
       "      <th></th>\n",
       "      <th></th>\n",
       "      <th></th>\n",
       "      <th></th>\n",
       "      <th></th>\n",
       "      <th></th>\n",
       "      <th></th>\n",
       "      <th></th>\n",
       "      <th></th>\n",
       "      <th></th>\n",
       "      <th></th>\n",
       "      <th></th>\n",
       "      <th></th>\n",
       "      <th></th>\n",
       "      <th></th>\n",
       "    </tr>\n",
       "  </thead>\n",
       "  <tbody>\n",
       "    <tr>\n",
       "      <th>10</th>\n",
       "      <td>1.000000</td>\n",
       "      <td>0.092259</td>\n",
       "      <td>0.069320</td>\n",
       "      <td>0.080584</td>\n",
       "      <td>0.099396</td>\n",
       "      <td>0.124088</td>\n",
       "      <td>0.082316</td>\n",
       "      <td>0.030718</td>\n",
       "      <td>0.088200</td>\n",
       "      <td>0.003783</td>\n",
       "      <td>...</td>\n",
       "      <td>0.014453</td>\n",
       "      <td>0.004881</td>\n",
       "      <td>0.000051</td>\n",
       "      <td>0.006318</td>\n",
       "      <td>0.001455</td>\n",
       "      <td>0.001391</td>\n",
       "      <td>0.000900</td>\n",
       "      <td>0.002059</td>\n",
       "      <td>0.011238</td>\n",
       "      <td>0.000798</td>\n",
       "    </tr>\n",
       "    <tr>\n",
       "      <th>20</th>\n",
       "      <td>0.092259</td>\n",
       "      <td>1.000000</td>\n",
       "      <td>0.297279</td>\n",
       "      <td>0.278031</td>\n",
       "      <td>0.001416</td>\n",
       "      <td>0.012805</td>\n",
       "      <td>0.358151</td>\n",
       "      <td>0.017713</td>\n",
       "      <td>0.029620</td>\n",
       "      <td>0.002242</td>\n",
       "      <td>...</td>\n",
       "      <td>0.035066</td>\n",
       "      <td>0.001105</td>\n",
       "      <td>0.000105</td>\n",
       "      <td>0.004569</td>\n",
       "      <td>0.000184</td>\n",
       "      <td>0.000123</td>\n",
       "      <td>0.000704</td>\n",
       "      <td>0.000334</td>\n",
       "      <td>0.000129</td>\n",
       "      <td>0.000170</td>\n",
       "    </tr>\n",
       "    <tr>\n",
       "      <th>50</th>\n",
       "      <td>0.069320</td>\n",
       "      <td>0.297279</td>\n",
       "      <td>1.000000</td>\n",
       "      <td>0.652573</td>\n",
       "      <td>0.004850</td>\n",
       "      <td>0.037226</td>\n",
       "      <td>0.786129</td>\n",
       "      <td>0.134048</td>\n",
       "      <td>0.009768</td>\n",
       "      <td>0.011436</td>\n",
       "      <td>...</td>\n",
       "      <td>0.016225</td>\n",
       "      <td>0.006167</td>\n",
       "      <td>0.001377</td>\n",
       "      <td>0.020579</td>\n",
       "      <td>0.001177</td>\n",
       "      <td>0.001885</td>\n",
       "      <td>0.004562</td>\n",
       "      <td>0.001688</td>\n",
       "      <td>0.000276</td>\n",
       "      <td>0.000212</td>\n",
       "    </tr>\n",
       "    <tr>\n",
       "      <th>70</th>\n",
       "      <td>0.080584</td>\n",
       "      <td>0.278031</td>\n",
       "      <td>0.652573</td>\n",
       "      <td>1.000000</td>\n",
       "      <td>0.014225</td>\n",
       "      <td>0.064119</td>\n",
       "      <td>0.730124</td>\n",
       "      <td>0.191296</td>\n",
       "      <td>0.034675</td>\n",
       "      <td>0.010190</td>\n",
       "      <td>...</td>\n",
       "      <td>0.053881</td>\n",
       "      <td>0.014455</td>\n",
       "      <td>0.006002</td>\n",
       "      <td>0.039472</td>\n",
       "      <td>0.004037</td>\n",
       "      <td>0.004576</td>\n",
       "      <td>0.012608</td>\n",
       "      <td>0.002213</td>\n",
       "      <td>0.001969</td>\n",
       "      <td>0.000652</td>\n",
       "    </tr>\n",
       "    <tr>\n",
       "      <th>80</th>\n",
       "      <td>0.099396</td>\n",
       "      <td>0.001416</td>\n",
       "      <td>0.004850</td>\n",
       "      <td>0.014225</td>\n",
       "      <td>1.000000</td>\n",
       "      <td>0.134090</td>\n",
       "      <td>0.002032</td>\n",
       "      <td>0.012981</td>\n",
       "      <td>0.051029</td>\n",
       "      <td>0.004860</td>\n",
       "      <td>...</td>\n",
       "      <td>0.004199</td>\n",
       "      <td>0.000948</td>\n",
       "      <td>0.000232</td>\n",
       "      <td>0.003840</td>\n",
       "      <td>0.000387</td>\n",
       "      <td>0.000523</td>\n",
       "      <td>0.000253</td>\n",
       "      <td>0.000075</td>\n",
       "      <td>0.001599</td>\n",
       "      <td>0.000023</td>\n",
       "    </tr>\n",
       "  </tbody>\n",
       "</table>\n",
       "<p>5 rows × 210 columns</p>\n",
       "</div>"
      ],
      "text/plain": [
       "item_id    10        20        50        70        80        100       130     \\\n",
       "item_id                                                                         \n",
       "10       1.000000  0.092259  0.069320  0.080584  0.099396  0.124088  0.082316   \n",
       "20       0.092259  1.000000  0.297279  0.278031  0.001416  0.012805  0.358151   \n",
       "50       0.069320  0.297279  1.000000  0.652573  0.004850  0.037226  0.786129   \n",
       "70       0.080584  0.278031  0.652573  1.000000  0.014225  0.064119  0.730124   \n",
       "80       0.099396  0.001416  0.004850  0.014225  1.000000  0.134090  0.002032   \n",
       "\n",
       "item_id    220       240       320     ...    346900    363970    367540  \\\n",
       "item_id                                ...                                 \n",
       "10       0.030718  0.088200  0.003783  ...  0.014453  0.004881  0.000051   \n",
       "20       0.017713  0.029620  0.002242  ...  0.035066  0.001105  0.000105   \n",
       "50       0.134048  0.009768  0.011436  ...  0.016225  0.006167  0.001377   \n",
       "70       0.191296  0.034675  0.010190  ...  0.053881  0.014455  0.006002   \n",
       "80       0.012981  0.051029  0.004860  ...  0.004199  0.000948  0.000232   \n",
       "\n",
       "item_id    377160    386360    407530    409710    409720    433850    439700  \n",
       "item_id                                                                        \n",
       "10       0.006318  0.001455  0.001391  0.000900  0.002059  0.011238  0.000798  \n",
       "20       0.004569  0.000184  0.000123  0.000704  0.000334  0.000129  0.000170  \n",
       "50       0.020579  0.001177  0.001885  0.004562  0.001688  0.000276  0.000212  \n",
       "70       0.039472  0.004037  0.004576  0.012608  0.002213  0.001969  0.000652  \n",
       "80       0.003840  0.000387  0.000523  0.000253  0.000075  0.001599  0.000023  \n",
       "\n",
       "[5 rows x 210 columns]"
      ]
     },
     "execution_count": 62,
     "metadata": {},
     "output_type": "execute_result"
    }
   ],
   "source": [
    "test_sim_mat.head()"
   ]
  },
  {
   "cell_type": "code",
   "execution_count": 63,
   "metadata": {},
   "outputs": [
    {
     "data": {
      "text/plain": [
       "(210, 210)"
      ]
     },
     "execution_count": 63,
     "metadata": {},
     "output_type": "execute_result"
    }
   ],
   "source": [
    "test_sim_mat.shape"
   ]
  },
  {
   "cell_type": "code",
   "execution_count": 64,
   "metadata": {},
   "outputs": [],
   "source": [
    "def predict(user_id,sim_mat, ratings_mat, neighbors):\n",
    "    \n",
    "    sorted_sim_idx = np.argsort(np.array(test_sim_mat))\n",
    "    nbh = sorted_sim_idx[:, -neighbors:]\n",
    "    items_rated = np.array(ratings_mat.iloc[user_id].fillna(0)).nonzero()\n",
    "    pred = np.zeros(test_sim_mat.shape[0])                                                         \n",
    "    \n",
    "    for item_to_rate in range(sim_mat.shape[0]):\n",
    "        \n",
    "        relevant_items = np.intersect1d(nbh[item_to_rate], items_rated, assume_unique =True)\n",
    "        pred[item_to_rate] = ((sim_mat.iloc[item_to_rate,relevant_items].values*\\\n",
    "                               ratings_mat.iloc[user_id,relevant_items].values).sum())\\\n",
    "                                /(sim_mat.iloc[item_to_rate,relevant_items].sum())\n",
    "    \n",
    "    preds= np.nan_to_num(pred)\n",
    "    return preds                                                         \n",
    "                                                              "
   ]
  },
  {
   "cell_type": "code",
   "execution_count": 65,
   "metadata": {},
   "outputs": [
    {
     "name": "stderr",
     "output_type": "stream",
     "text": [
      "/opt/conda/lib/python3.7/site-packages/ipykernel_launcher.py:13: RuntimeWarning: invalid value encountered in double_scalars\n",
      "  del sys.path[0]\n"
     ]
    }
   ],
   "source": [
    "user_0 = predict(0, test_sim_mat, test_ratings_mat,20)"
   ]
  },
  {
   "cell_type": "code",
   "execution_count": 66,
   "metadata": {},
   "outputs": [
    {
     "data": {
      "text/plain": [
       "array([ 36, 149,  35, 140,   1, 134, 208,  18,   0, 176])"
      ]
     },
     "execution_count": 66,
     "metadata": {},
     "output_type": "execute_result"
    }
   ],
   "source": [
    "user_0.argsort()[::-1][:10]"
   ]
  },
  {
   "cell_type": "code",
   "execution_count": 67,
   "metadata": {},
   "outputs": [
    {
     "data": {
      "text/plain": [
       "(210, 210)"
      ]
     },
     "execution_count": 67,
     "metadata": {},
     "output_type": "execute_result"
    }
   ],
   "source": [
    "test_sim_mat.shape"
   ]
  },
  {
   "cell_type": "markdown",
   "metadata": {},
   "source": [
    "#### Train Test Split"
   ]
  },
  {
   "cell_type": "code",
   "execution_count": 145,
   "metadata": {},
   "outputs": [],
   "source": [
    "train_ratings_mat = test_ratings_mat.copy()"
   ]
  },
  {
   "cell_type": "code",
   "execution_count": 146,
   "metadata": {},
   "outputs": [
    {
     "data": {
      "text/plain": [
       "(70331, 210)"
      ]
     },
     "execution_count": 146,
     "metadata": {},
     "output_type": "execute_result"
    }
   ],
   "source": [
    "train_ratings_mat.shape"
   ]
  },
  {
   "cell_type": "markdown",
   "metadata": {},
   "source": [
    "#### Filtered Out Users Who Have Played 25 or more Games"
   ]
  },
  {
   "cell_type": "code",
   "execution_count": 147,
   "metadata": {},
   "outputs": [],
   "source": [
    "train_ratings_mat = train_ratings_mat[(train_ratings_mat.fillna(0) !=0).sum(axis = 1)>=25]"
   ]
  },
  {
   "cell_type": "code",
   "execution_count": 148,
   "metadata": {},
   "outputs": [
    {
     "data": {
      "text/plain": [
       "(25723, 210)"
      ]
     },
     "execution_count": 148,
     "metadata": {},
     "output_type": "execute_result"
    }
   ],
   "source": [
    "train_ratings_mat.shape"
   ]
  },
  {
   "cell_type": "code",
   "execution_count": 71,
   "metadata": {},
   "outputs": [
    {
     "data": {
      "text/plain": [
       "array([ 16,  18,  19,  23,  34,  51,  78,  90,  91,  98,  99, 111, 121,\n",
       "       131, 143, 153, 155, 163, 164, 179, 189, 190, 191, 197, 201])"
      ]
     },
     "execution_count": 71,
     "metadata": {},
     "output_type": "execute_result"
    }
   ],
   "source": [
    "## filter rated games\n",
    "ratings = np.array(train_ratings_mat.iloc[0].fillna(0)).nonzero()[0]\n",
    "ratings"
   ]
  },
  {
   "cell_type": "code",
   "execution_count": 72,
   "metadata": {},
   "outputs": [],
   "source": [
    "# hold random 5 for testing\n",
    "idx = np.random.choice(ratings, size = 5 )"
   ]
  },
  {
   "cell_type": "code",
   "execution_count": 73,
   "metadata": {},
   "outputs": [
    {
     "data": {
      "text/plain": [
       "array([ 78,  90, 131, 155, 191])"
      ]
     },
     "execution_count": 73,
     "metadata": {},
     "output_type": "execute_result"
    }
   ],
   "source": [
    "idx"
   ]
  },
  {
   "cell_type": "code",
   "execution_count": 74,
   "metadata": {},
   "outputs": [
    {
     "data": {
      "text/plain": [
       "item_id\n",
       "55230     1922.0\n",
       "104900      63.0\n",
       "218620     416.0\n",
       "230410     107.0\n",
       "304930    4037.0\n",
       "Name: --000--, dtype: float64"
      ]
     },
     "execution_count": 74,
     "metadata": {},
     "output_type": "execute_result"
    }
   ],
   "source": [
    "train_ratings_mat.iloc[0,idx]"
   ]
  },
  {
   "cell_type": "code",
   "execution_count": 138,
   "metadata": {},
   "outputs": [
    {
     "data": {
      "text/plain": [
       "(31939, 210)"
      ]
     },
     "execution_count": 138,
     "metadata": {},
     "output_type": "execute_result"
    }
   ],
   "source": [
    "train_ratings_mat.shape"
   ]
  },
  {
   "cell_type": "code",
   "execution_count": 76,
   "metadata": {},
   "outputs": [
    {
     "data": {
      "text/html": [
       "<div>\n",
       "<style scoped>\n",
       "    .dataframe tbody tr th:only-of-type {\n",
       "        vertical-align: middle;\n",
       "    }\n",
       "\n",
       "    .dataframe tbody tr th {\n",
       "        vertical-align: top;\n",
       "    }\n",
       "\n",
       "    .dataframe thead th {\n",
       "        text-align: right;\n",
       "    }\n",
       "</style>\n",
       "<table border=\"1\" class=\"dataframe\">\n",
       "  <thead>\n",
       "    <tr style=\"text-align: right;\">\n",
       "      <th>item_id</th>\n",
       "      <th>10</th>\n",
       "      <th>20</th>\n",
       "      <th>50</th>\n",
       "      <th>70</th>\n",
       "      <th>80</th>\n",
       "      <th>100</th>\n",
       "      <th>130</th>\n",
       "      <th>220</th>\n",
       "      <th>240</th>\n",
       "      <th>320</th>\n",
       "      <th>...</th>\n",
       "      <th>346900</th>\n",
       "      <th>363970</th>\n",
       "      <th>367540</th>\n",
       "      <th>377160</th>\n",
       "      <th>386360</th>\n",
       "      <th>407530</th>\n",
       "      <th>409710</th>\n",
       "      <th>409720</th>\n",
       "      <th>433850</th>\n",
       "      <th>439700</th>\n",
       "    </tr>\n",
       "    <tr>\n",
       "      <th>user_id</th>\n",
       "      <th></th>\n",
       "      <th></th>\n",
       "      <th></th>\n",
       "      <th></th>\n",
       "      <th></th>\n",
       "      <th></th>\n",
       "      <th></th>\n",
       "      <th></th>\n",
       "      <th></th>\n",
       "      <th></th>\n",
       "      <th></th>\n",
       "      <th></th>\n",
       "      <th></th>\n",
       "      <th></th>\n",
       "      <th></th>\n",
       "      <th></th>\n",
       "      <th></th>\n",
       "      <th></th>\n",
       "      <th></th>\n",
       "      <th></th>\n",
       "      <th></th>\n",
       "    </tr>\n",
       "  </thead>\n",
       "  <tbody>\n",
       "    <tr>\n",
       "      <th>--000--</th>\n",
       "      <td>NaN</td>\n",
       "      <td>NaN</td>\n",
       "      <td>NaN</td>\n",
       "      <td>NaN</td>\n",
       "      <td>NaN</td>\n",
       "      <td>NaN</td>\n",
       "      <td>NaN</td>\n",
       "      <td>NaN</td>\n",
       "      <td>NaN</td>\n",
       "      <td>NaN</td>\n",
       "      <td>...</td>\n",
       "      <td>0.0</td>\n",
       "      <td>11.0</td>\n",
       "      <td>NaN</td>\n",
       "      <td>NaN</td>\n",
       "      <td>NaN</td>\n",
       "      <td>NaN</td>\n",
       "      <td>NaN</td>\n",
       "      <td>NaN</td>\n",
       "      <td>NaN</td>\n",
       "      <td>NaN</td>\n",
       "    </tr>\n",
       "    <tr>\n",
       "      <th>--ace--</th>\n",
       "      <td>NaN</td>\n",
       "      <td>NaN</td>\n",
       "      <td>NaN</td>\n",
       "      <td>NaN</td>\n",
       "      <td>NaN</td>\n",
       "      <td>NaN</td>\n",
       "      <td>NaN</td>\n",
       "      <td>NaN</td>\n",
       "      <td>NaN</td>\n",
       "      <td>NaN</td>\n",
       "      <td>...</td>\n",
       "      <td>606.0</td>\n",
       "      <td>62.0</td>\n",
       "      <td>NaN</td>\n",
       "      <td>NaN</td>\n",
       "      <td>NaN</td>\n",
       "      <td>NaN</td>\n",
       "      <td>NaN</td>\n",
       "      <td>NaN</td>\n",
       "      <td>NaN</td>\n",
       "      <td>NaN</td>\n",
       "    </tr>\n",
       "    <tr>\n",
       "      <th>--ionex--</th>\n",
       "      <td>NaN</td>\n",
       "      <td>NaN</td>\n",
       "      <td>NaN</td>\n",
       "      <td>NaN</td>\n",
       "      <td>NaN</td>\n",
       "      <td>NaN</td>\n",
       "      <td>NaN</td>\n",
       "      <td>NaN</td>\n",
       "      <td>NaN</td>\n",
       "      <td>NaN</td>\n",
       "      <td>...</td>\n",
       "      <td>NaN</td>\n",
       "      <td>219.0</td>\n",
       "      <td>NaN</td>\n",
       "      <td>NaN</td>\n",
       "      <td>NaN</td>\n",
       "      <td>NaN</td>\n",
       "      <td>NaN</td>\n",
       "      <td>NaN</td>\n",
       "      <td>NaN</td>\n",
       "      <td>NaN</td>\n",
       "    </tr>\n",
       "    <tr>\n",
       "      <th>-404PageNotFound-</th>\n",
       "      <td>NaN</td>\n",
       "      <td>NaN</td>\n",
       "      <td>NaN</td>\n",
       "      <td>NaN</td>\n",
       "      <td>NaN</td>\n",
       "      <td>NaN</td>\n",
       "      <td>NaN</td>\n",
       "      <td>NaN</td>\n",
       "      <td>3963.0</td>\n",
       "      <td>NaN</td>\n",
       "      <td>...</td>\n",
       "      <td>0.0</td>\n",
       "      <td>NaN</td>\n",
       "      <td>NaN</td>\n",
       "      <td>NaN</td>\n",
       "      <td>7189.0</td>\n",
       "      <td>0.0</td>\n",
       "      <td>0.0</td>\n",
       "      <td>0.0</td>\n",
       "      <td>NaN</td>\n",
       "      <td>NaN</td>\n",
       "    </tr>\n",
       "    <tr>\n",
       "      <th>-AnimeIsMyThing-</th>\n",
       "      <td>NaN</td>\n",
       "      <td>NaN</td>\n",
       "      <td>NaN</td>\n",
       "      <td>NaN</td>\n",
       "      <td>NaN</td>\n",
       "      <td>NaN</td>\n",
       "      <td>NaN</td>\n",
       "      <td>NaN</td>\n",
       "      <td>6119.0</td>\n",
       "      <td>NaN</td>\n",
       "      <td>...</td>\n",
       "      <td>NaN</td>\n",
       "      <td>4151.0</td>\n",
       "      <td>0.0</td>\n",
       "      <td>NaN</td>\n",
       "      <td>21446.0</td>\n",
       "      <td>0.0</td>\n",
       "      <td>NaN</td>\n",
       "      <td>NaN</td>\n",
       "      <td>2237.0</td>\n",
       "      <td>0.0</td>\n",
       "    </tr>\n",
       "  </tbody>\n",
       "</table>\n",
       "<p>5 rows × 210 columns</p>\n",
       "</div>"
      ],
      "text/plain": [
       "item_id            10      20      50      70      80      100     130     \\\n",
       "user_id                                                                     \n",
       "--000--               NaN     NaN     NaN     NaN     NaN     NaN     NaN   \n",
       "--ace--               NaN     NaN     NaN     NaN     NaN     NaN     NaN   \n",
       "--ionex--             NaN     NaN     NaN     NaN     NaN     NaN     NaN   \n",
       "-404PageNotFound-     NaN     NaN     NaN     NaN     NaN     NaN     NaN   \n",
       "-AnimeIsMyThing-      NaN     NaN     NaN     NaN     NaN     NaN     NaN   \n",
       "\n",
       "item_id            220     240     320     ...  346900  363970  367540  \\\n",
       "user_id                                    ...                           \n",
       "--000--               NaN     NaN     NaN  ...     0.0    11.0     NaN   \n",
       "--ace--               NaN     NaN     NaN  ...   606.0    62.0     NaN   \n",
       "--ionex--             NaN     NaN     NaN  ...     NaN   219.0     NaN   \n",
       "-404PageNotFound-     NaN  3963.0     NaN  ...     0.0     NaN     NaN   \n",
       "-AnimeIsMyThing-      NaN  6119.0     NaN  ...     NaN  4151.0     0.0   \n",
       "\n",
       "item_id            377160   386360  407530  409710  409720  433850  439700  \n",
       "user_id                                                                     \n",
       "--000--               NaN      NaN     NaN     NaN     NaN     NaN     NaN  \n",
       "--ace--               NaN      NaN     NaN     NaN     NaN     NaN     NaN  \n",
       "--ionex--             NaN      NaN     NaN     NaN     NaN     NaN     NaN  \n",
       "-404PageNotFound-     NaN   7189.0     0.0     0.0     0.0     NaN     NaN  \n",
       "-AnimeIsMyThing-      NaN  21446.0     0.0     NaN     NaN  2237.0     0.0  \n",
       "\n",
       "[5 rows x 210 columns]"
      ]
     },
     "execution_count": 76,
     "metadata": {},
     "output_type": "execute_result"
    }
   ],
   "source": [
    "train_ratings_mat.head()"
   ]
  },
  {
   "cell_type": "code",
   "execution_count": 149,
   "metadata": {},
   "outputs": [],
   "source": [
    "train_sim_mat = cosine_similarity(train_ratings_mat.fillna(0).T)"
   ]
  },
  {
   "cell_type": "code",
   "execution_count": 150,
   "metadata": {},
   "outputs": [],
   "source": [
    "train_sim_mat = pd.DataFrame(train_sim_mat, index =train_ratings_mat.columns)\n",
    "train_sim_mat.columns = train_ratings_mat.columns"
   ]
  },
  {
   "cell_type": "code",
   "execution_count": 151,
   "metadata": {},
   "outputs": [],
   "source": [
    "test_set = []\n",
    "for i in range(train_ratings_mat.shape[0]):\n",
    "    ratings = np.array(train_ratings_mat.iloc[i].fillna(0)).nonzero()[0]\n",
    "    idx = np.random.choice(ratings,size =  5, replace = False)\n",
    "    #append values to test_set\n",
    "    test_set.append(idx)\n",
    "    # change value to nan \n",
    "    train_ratings_mat.iloc[i,idx]=np.nan\n",
    "    \n",
    "    \n",
    "    "
   ]
  },
  {
   "cell_type": "markdown",
   "metadata": {},
   "source": [
    "#### Evaluation"
   ]
  },
  {
   "cell_type": "code",
   "execution_count": 81,
   "metadata": {},
   "outputs": [
    {
     "name": "stderr",
     "output_type": "stream",
     "text": [
      "/opt/conda/lib/python3.7/site-packages/ipykernel_launcher.py:13: RuntimeWarning: invalid value encountered in double_scalars\n",
      "  del sys.path[0]\n"
     ]
    }
   ],
   "source": [
    "pred_ratings = [predict(user_id, train_sim_mat, train_ratings_mat,10) for user_id in range(10)]"
   ]
  },
  {
   "cell_type": "code",
   "execution_count": 83,
   "metadata": {
    "collapsed": true,
    "jupyter": {
     "outputs_hidden": true
    }
   },
   "outputs": [
    {
     "data": {
      "text/plain": [
       "[array([1.07119000e+05, 0.00000000e+00, 0.00000000e+00, 0.00000000e+00,\n",
       "        1.07119000e+05, 5.26641437e+04, 0.00000000e+00, 9.25000000e+02,\n",
       "        6.52367812e+04, 0.00000000e+00, 9.25000000e+02, 0.00000000e+00,\n",
       "        9.25000000e+02, 0.00000000e+00, 9.25000000e+02, 2.94900000e+03,\n",
       "        9.25000000e+02, 1.04815642e+03, 6.69798553e+04, 2.94900000e+03,\n",
       "        1.27952495e+03, 1.34935173e+03, 9.25000000e+02, 1.52732998e+04,\n",
       "        6.30000000e+01, 1.07119000e+05, 8.78326808e+02, 0.00000000e+00,\n",
       "        1.92200000e+03, 0.00000000e+00, 0.00000000e+00, 0.00000000e+00,\n",
       "        1.92200000e+03, 6.30000000e+01, 4.67376394e+02, 0.00000000e+00,\n",
       "        1.07119000e+05, 1.92200000e+03, 1.92200000e+03, 1.92200000e+03,\n",
       "        0.00000000e+00, 0.00000000e+00, 2.93965124e+04, 1.92200000e+03,\n",
       "        0.00000000e+00, 0.00000000e+00, 0.00000000e+00, 0.00000000e+00,\n",
       "        0.00000000e+00, 0.00000000e+00, 1.92200000e+03, 2.40686656e+03,\n",
       "        1.92200000e+03, 1.04152915e+03, 0.00000000e+00, 0.00000000e+00,\n",
       "        6.01632803e+04, 0.00000000e+00, 0.00000000e+00, 1.92200000e+03,\n",
       "        2.94900000e+03, 9.00000000e+00, 1.54573035e+03, 2.94900000e+03,\n",
       "        1.17200000e+03, 0.00000000e+00, 9.25000000e+02, 1.07119000e+05,\n",
       "        1.48982416e+03, 0.00000000e+00, 1.92200000e+03, 5.71823837e+04,\n",
       "        0.00000000e+00, 9.00000000e+00, 1.52482593e+03, 0.00000000e+00,\n",
       "        2.71712848e+04, 1.92200000e+03, 1.59762361e+03, 0.00000000e+00,\n",
       "        9.25000000e+02, 0.00000000e+00, 2.61070094e+03, 9.25000000e+02,\n",
       "        1.17200000e+03, 1.48701730e+03, 1.92200000e+03, 2.43504734e+03,\n",
       "        0.00000000e+00, 1.75333979e+03, 6.31348064e+02, 1.13061042e+03,\n",
       "        0.00000000e+00, 5.79076558e+04, 0.00000000e+00, 3.39290151e+04,\n",
       "        0.00000000e+00, 1.17200000e+03, 6.66448135e+03, 6.51580733e+03,\n",
       "        1.92200000e+03, 0.00000000e+00, 1.17200000e+03, 1.17200000e+03,\n",
       "        1.17200000e+03, 1.92200000e+03, 0.00000000e+00, 1.07119000e+05,\n",
       "        1.92200000e+03, 0.00000000e+00, 1.17200000e+03, 1.17200000e+03,\n",
       "        0.00000000e+00, 7.34900104e+02, 1.92200000e+03, 2.07551840e+04,\n",
       "        1.28821522e+03, 3.70481494e+04, 1.92200000e+03, 2.30724257e+04,\n",
       "        5.57271138e+02, 6.12739010e+03, 1.92200000e+03, 0.00000000e+00,\n",
       "        1.09634196e+03, 1.17200000e+03, 1.07119000e+05, 1.70023675e+03,\n",
       "        0.00000000e+00, 2.40767259e+03, 3.10909269e+04, 3.71616124e+04,\n",
       "        1.05558794e+03, 0.00000000e+00, 0.00000000e+00, 5.18183044e+04,\n",
       "        1.17200000e+03, 0.00000000e+00, 1.92200000e+03, 6.76279360e+04,\n",
       "        1.07119000e+05, 0.00000000e+00, 6.48962571e+04, 1.58558797e+02,\n",
       "        0.00000000e+00, 0.00000000e+00, 2.36139450e+03, 2.19146823e+04,\n",
       "        2.47626689e+04, 0.00000000e+00, 1.07000000e+02, 9.82839848e+01,\n",
       "        8.57425524e+02, 4.08804650e+02, 6.30000000e+01, 5.93480107e+02,\n",
       "        0.00000000e+00, 0.00000000e+00, 1.36438499e+03, 1.92200000e+03,\n",
       "        1.81092894e+03, 2.90670305e+02, 0.00000000e+00, 1.49115621e+03,\n",
       "        6.14514178e+03, 0.00000000e+00, 1.86721219e+04, 0.00000000e+00,\n",
       "        0.00000000e+00, 1.37555446e+03, 2.69753403e+04, 6.14248520e+02,\n",
       "        1.54110688e+04, 1.17200000e+03, 1.17200000e+03, 5.00185519e+04,\n",
       "        7.08116919e+04, 4.03700000e+03, 1.17200000e+03, 9.43359017e+03,\n",
       "        1.03190637e+03, 6.73362089e+01, 3.92596991e+04, 2.29698263e+04,\n",
       "        1.07000000e+02, 3.98619436e+04, 2.02666264e+04, 2.62537599e+04,\n",
       "        1.61209849e+03, 6.24470062e+02, 9.25972035e+03, 1.32490220e+04,\n",
       "        1.84595652e+03, 1.68853553e+03, 0.00000000e+00, 1.98326992e+03,\n",
       "        3.54636597e+04, 1.02365760e+04, 6.81107265e+02, 1.07119000e+05,\n",
       "        1.98644440e+02, 1.00419642e+02, 1.10957177e+03, 0.00000000e+00,\n",
       "        2.99183132e+04, 1.88383438e+04, 0.00000000e+00, 0.00000000e+00,\n",
       "        1.07119000e+05, 1.07119000e+05]),\n",
       " array([   0.        ,    0.        ,    0.        ,    0.        ,\n",
       "           0.        ,    0.        ,    0.        ,    0.        ,\n",
       "           0.        ,    0.        ,    0.        ,    0.        ,\n",
       "           0.        ,   38.        ,    0.        ,    0.        ,\n",
       "           0.        ,    0.        , 2959.        ,    0.        ,\n",
       "           0.        ,    0.        ,    0.        , 2959.        ,\n",
       "           0.        ,    0.        ,    0.        ,    0.        ,\n",
       "           0.        ,    0.        ,    0.        ,    0.        ,\n",
       "           0.        ,    0.        ,    0.        ,    0.        ,\n",
       "           0.        ,    0.        ,    0.        ,    0.        ,\n",
       "           0.        ,    0.        ,    0.        ,    0.        ,\n",
       "           4.        ,    0.        ,    0.        ,    0.        ,\n",
       "           0.        ,    0.        ,    0.        ,    0.        ,\n",
       "           0.        ,   38.        ,    0.        ,    0.        ,\n",
       "           0.        ,  382.69815399,    0.        ,    0.        ,\n",
       "           0.        ,    0.        ,    0.        ,    0.        ,\n",
       "         274.42762124,    0.        ,    0.        ,    0.        ,\n",
       "           4.        ,    0.        ,    0.        ,    0.        ,\n",
       "          38.        ,    0.        ,    0.        ,    0.        ,\n",
       "        2959.        ,    0.        ,    0.        ,    0.        ,\n",
       "           0.        ,    0.        ,    0.        ,    0.        ,\n",
       "           0.        , 2959.        ,    0.        ,    0.        ,\n",
       "           4.        , 1258.05249911, 2959.        ,    0.        ,\n",
       "           0.        ,    0.        ,    0.        ,    0.        ,\n",
       "          32.        , 1124.3151896 ,    0.        , 1634.08531696,\n",
       "           0.        ,    0.        ,    0.        ,    0.        ,\n",
       "          16.54047803,    0.        ,    0.        ,    0.        ,\n",
       "           0.        ,    0.        ,  566.06000606,   10.35529898,\n",
       "           0.        ,    4.        ,    0.        , 2959.        ,\n",
       "           0.        ,   19.82653631,    0.        ,    0.        ,\n",
       "           0.        , 2959.        ,    0.        ,  606.        ,\n",
       "           0.        ,    0.        ,    0.        , 2959.        ,\n",
       "          38.        ,    0.        ,    0.        ,    0.        ,\n",
       "          18.56584911,   38.        ,    0.        ,    0.        ,\n",
       "         863.20338766,    0.        ,    0.        ,    0.        ,\n",
       "           0.        ,    0.        ,    0.        ,    0.        ,\n",
       "           4.        ,    4.        , 2959.        , 2959.        ,\n",
       "        1709.19866568,    0.        ,    0.        ,    0.        ,\n",
       "           0.        , 2959.        ,    0.        ,    0.        ,\n",
       "           0.        ,    0.        ,    0.        ,    0.        ,\n",
       "           0.        ,    0.        ,    0.        ,   25.64470102,\n",
       "           0.        ,    0.        , 2959.        ,    0.        ,\n",
       "           0.        ,    0.        , 2959.        ,    0.        ,\n",
       "         322.97816461, 1033.06614461, 1336.34354224, 2959.        ,\n",
       "           0.        , 2959.        ,    0.        , 2959.        ,\n",
       "          32.        ,    0.        ,    0.        , 2959.        ,\n",
       "           0.        ,    0.        , 2959.        , 1226.31960962,\n",
       "        2959.        , 2959.        , 1836.03602358, 2959.        ,\n",
       "         290.30415606, 1685.30269504,    0.        ,  987.86912494,\n",
       "           0.        , 2959.        ,    0.        ,    0.        ,\n",
       "         606.        ,  606.        ,   63.15195733,    0.        ,\n",
       "           0.        , 2959.        ,    0.        ,    0.        ,\n",
       "           0.        ,    0.        ]),\n",
       " array([35478.        ,     0.        ,     0.        ,     0.        ,\n",
       "        35478.        , 35478.        ,     0.        ,   417.        ,\n",
       "        24905.57156907,   417.        ,   417.        ,     0.        ,\n",
       "          417.        ,   417.        ,   417.        ,   417.        ,\n",
       "          417.        ,   490.34030079, 30058.7648647 ,     0.        ,\n",
       "          842.        ,     0.        ,   417.        , 13482.39621485,\n",
       "            0.        , 35478.        ,     0.        ,     0.        ,\n",
       "            0.        ,     0.        ,     0.        ,     0.        ,\n",
       "            0.        ,     0.        ,     0.        ,   694.        ,\n",
       "         4233.40890804,     0.        ,     0.        ,     0.        ,\n",
       "            0.        ,     0.        , 17487.0688282 ,   417.        ,\n",
       "            0.        ,     0.        ,     0.        ,     0.        ,\n",
       "            0.        ,     0.        ,     0.        ,     0.        ,\n",
       "          417.        ,   624.17509346,     0.        ,     0.        ,\n",
       "        20151.49049159,     0.        ,     0.        ,     0.        ,\n",
       "            0.        ,    44.        ,   842.        ,     0.        ,\n",
       "          631.0118126 ,     0.        ,   694.        ,  9593.05357101,\n",
       "          842.        ,     0.        ,     0.        , 18552.08478138,\n",
       "          417.        ,     0.        ,   842.        ,     0.        ,\n",
       "         1586.52299821,     0.        ,     0.        ,     0.        ,\n",
       "          417.        ,     0.        ,     0.        ,     0.        ,\n",
       "          842.        ,     0.        ,     0.        ,     0.        ,\n",
       "            0.        ,   467.21760186,     0.        ,   768.65969921,\n",
       "            0.        , 19439.18376265,     0.        , 19264.83944808,\n",
       "            0.        ,   842.        , 35478.        ,  2138.69949223,\n",
       "            0.        ,     0.        ,   842.        ,   842.        ,\n",
       "          842.        ,     0.        ,     0.        , 15454.65778554,\n",
       "            0.        ,     0.        ,   842.        ,   842.        ,\n",
       "            0.        ,   670.78543569,     0.        , 35478.        ,\n",
       "            0.        , 12097.92865437,     0.        , 12344.64125847,\n",
       "          411.02161331, 20641.35918546,     0.        ,     0.        ,\n",
       "          842.        ,   842.        , 18329.02022827,   293.6035546 ,\n",
       "            0.        ,     0.        , 18423.56496244, 35478.        ,\n",
       "          642.95943164,     0.        ,     0.        , 35478.        ,\n",
       "          842.        ,   221.05521151,     0.        , 35478.        ,\n",
       "        35478.        ,   417.        , 20372.73823105,     0.        ,\n",
       "            0.        ,     0.        ,     0.        , 35478.        ,\n",
       "        11257.27383169,     0.        ,     0.        ,     0.        ,\n",
       "            0.        ,    44.        ,    44.        ,   598.65625963,\n",
       "            0.        ,   417.        ,   417.        ,   417.        ,\n",
       "          588.2187026 ,    46.23528404,    44.        ,   651.74570349,\n",
       "        17805.17192829,   417.        ,  8763.83040807,     0.        ,\n",
       "            0.        ,     0.        , 21144.86272353,   349.23663936,\n",
       "         1534.87229706,   842.        ,   842.        , 35478.        ,\n",
       "        18108.29102175,    44.        ,   842.        , 19204.48411984,\n",
       "          605.1113362 ,    61.67850998, 35478.        , 19874.37242758,\n",
       "            0.        , 24206.77745785, 16308.24460126, 13917.64089664,\n",
       "          166.21561626,   150.29903464,  2868.27775595, 13015.31257871,\n",
       "          842.        ,   417.        ,   417.        ,   842.        ,\n",
       "        18142.08381359, 35478.        ,   428.05949351, 35478.        ,\n",
       "          842.        ,   842.        ,   842.        ,     0.        ,\n",
       "        17833.23323792, 19676.03785058,     0.        ,     0.        ,\n",
       "        35478.        , 35478.        ]),\n",
       " array([2.06228123e+03, 1.58000000e+02, 0.00000000e+00, 0.00000000e+00,\n",
       "        2.49623243e+03, 8.00880000e+04, 0.00000000e+00, 2.67844961e+04,\n",
       "        1.03929900e+04, 1.46171865e+03, 3.95776687e+04, 0.00000000e+00,\n",
       "        3.68290877e+04, 2.63000599e+02, 2.87225594e+04, 8.08420424e+02,\n",
       "        7.27066534e+03, 1.41586071e+04, 1.59398869e+04, 3.93173598e+02,\n",
       "        9.43280044e+03, 1.58534706e+04, 1.62784117e+04, 4.54863345e+04,\n",
       "        1.58000000e+02, 8.16945173e+02, 2.00288798e+04, 8.69228250e+01,\n",
       "        5.80179169e+02, 8.53535203e+01, 1.07585288e+02, 0.00000000e+00,\n",
       "        1.38544632e+03, 4.13000000e+02, 3.04500000e+03, 2.23655181e+02,\n",
       "        2.64175982e+03, 3.04500000e+03, 1.80722130e+03, 3.04500000e+03,\n",
       "        0.00000000e+00, 5.30000000e+01, 1.41652226e+03, 8.68762950e+02,\n",
       "        0.00000000e+00, 3.63004619e+03, 0.00000000e+00, 0.00000000e+00,\n",
       "        0.00000000e+00, 0.00000000e+00, 1.07172251e+03, 5.89769276e+02,\n",
       "        1.15300931e+03, 2.00287905e+04, 5.30000000e+01, 2.52689906e+03,\n",
       "        9.54617157e+03, 1.25986269e+02, 0.00000000e+00, 1.01785425e+03,\n",
       "        5.30000000e+01, 4.59104422e+02, 1.94757875e+03, 1.01307711e+02,\n",
       "        3.32000000e+02, 6.65985014e+02, 9.56750549e+03, 5.07936425e+03,\n",
       "        3.04500000e+03, 9.02794054e+01, 1.56645296e+03, 4.24835332e+02,\n",
       "        2.03634398e+02, 3.75903923e+03, 1.74292892e+03, 6.82938997e+01,\n",
       "        3.94513502e+03, 4.06207568e+02, 2.31087681e+03, 4.90000000e+01,\n",
       "        2.82263717e+04, 0.00000000e+00, 3.55842639e+02, 2.37634523e+04,\n",
       "        8.71229265e+02, 5.93980622e+02, 1.58066311e+03, 1.55205007e+03,\n",
       "        0.00000000e+00, 3.85812446e+03, 5.90077941e+02, 3.95042246e+04,\n",
       "        7.40000000e+01, 1.21930506e+04, 0.00000000e+00, 3.45792122e+03,\n",
       "        5.26061948e+02, 0.00000000e+00, 6.22058695e+03, 5.76713530e+03,\n",
       "        8.57269650e+02, 0.00000000e+00, 9.49000000e+02, 1.10045989e+03,\n",
       "        4.09608903e+01, 1.43709736e+03, 4.16545546e+03, 1.28204853e+04,\n",
       "        7.08274661e+02, 3.47869218e+02, 2.59421634e+01, 7.80000000e+01,\n",
       "        2.05886181e+02, 9.69805548e+02, 2.78618232e+02, 1.75203779e+04,\n",
       "        1.77511902e+04, 4.80405002e+03, 1.57653971e+03, 4.65282235e+03,\n",
       "        3.94575460e+02, 4.65100004e+03, 2.17583543e+03, 0.00000000e+00,\n",
       "        8.00880000e+04, 0.00000000e+00, 5.15643359e+03, 1.61895178e+04,\n",
       "        1.57000000e+02, 2.08996775e+03, 2.36660551e+03, 1.19391051e+03,\n",
       "        7.60274474e+03, 1.27400000e+03, 1.90720081e+03, 6.22114417e+02,\n",
       "        0.00000000e+00, 3.32000000e+02, 1.32787597e+03, 6.86872958e+03,\n",
       "        1.58000000e+02, 3.32000000e+02, 7.39060323e+03, 4.68572973e+02,\n",
       "        0.00000000e+00, 1.00000000e+00, 2.92683046e+04, 1.81958540e+04,\n",
       "        5.33248240e+03, 1.29633753e+03, 4.12385612e+02, 1.14951106e+03,\n",
       "        1.16118467e+03, 7.31686168e+03, 7.22000000e+02, 1.88142024e+03,\n",
       "        1.00000000e+00, 3.32000000e+02, 1.86429907e+04, 1.16927793e+03,\n",
       "        1.32511371e+03, 1.55148875e+04, 5.23348505e+02, 4.25697261e+02,\n",
       "        1.10897157e+03, 3.32000000e+02, 4.74728041e+03, 0.00000000e+00,\n",
       "        1.57000000e+02, 2.37548782e+04, 4.96066220e+03, 2.81774517e+04,\n",
       "        2.44594305e+04, 0.00000000e+00, 7.80000000e+01, 8.88990663e+03,\n",
       "        4.81443247e+02, 4.78291023e+03, 1.57000000e+02, 2.92100020e+04,\n",
       "        2.15434753e+04, 4.00773678e+02, 2.35243911e+04, 2.59849905e+04,\n",
       "        3.32403476e+02, 1.63616228e+04, 5.45262096e+02, 4.42669885e+03,\n",
       "        6.89329041e+02, 6.98359637e+03, 1.14182573e+04, 1.14871773e+04,\n",
       "        2.18258637e+04, 2.34131915e+04, 4.45549465e+02, 1.48946056e+04,\n",
       "        1.29596652e+02, 4.40796715e+03, 2.33818274e+04, 1.59934650e+03,\n",
       "        2.42000000e+02, 0.00000000e+00, 2.54133537e+04, 1.57000000e+02,\n",
       "        9.37822738e+03, 1.20506591e+04, 1.04380384e+02, 6.48120846e+01,\n",
       "        1.27400000e+03, 1.27400000e+03]),\n",
       " array([1.14830109e+04, 0.00000000e+00, 0.00000000e+00, 0.00000000e+00,\n",
       "        8.63857410e+03, 4.71644702e+04, 0.00000000e+00, 6.39670000e+04,\n",
       "        1.40044883e+04, 5.22868005e+03, 6.39670000e+04, 0.00000000e+00,\n",
       "        6.39670000e+04, 1.92200000e+03, 6.39670000e+04, 1.31162389e+03,\n",
       "        7.04565893e+03, 3.40808765e+04, 2.13575832e+04, 1.61466516e+03,\n",
       "        2.14468041e+04, 3.99337863e+04, 3.58826690e+04, 3.99310778e+04,\n",
       "        3.25000000e+02, 8.31640361e+03, 2.22142398e+04, 2.50966597e+03,\n",
       "        1.15513712e+03, 0.00000000e+00, 2.52200098e+03, 1.78964377e+03,\n",
       "        1.05081557e+03, 5.56814353e+03, 1.92200000e+03, 9.12957464e+02,\n",
       "        8.59677195e+03, 0.00000000e+00, 1.14210000e+04, 1.14210000e+04,\n",
       "        0.00000000e+00, 1.05675934e+03, 8.16323738e+03, 0.00000000e+00,\n",
       "        0.00000000e+00, 8.48288028e+02, 1.13913810e+03, 1.92200000e+03,\n",
       "        1.92200000e+03, 1.92200000e+03, 2.32580881e+03, 2.13151516e+03,\n",
       "        1.58637335e+03, 1.79087966e+04, 2.78855696e+03, 5.93530906e+02,\n",
       "        8.82249017e+03, 4.70000000e+01, 1.99212846e+03, 0.00000000e+00,\n",
       "        3.25000000e+02, 1.44669758e+03, 3.55418560e+03, 4.75198382e+02,\n",
       "        4.47962280e+03, 2.92544258e+03, 1.37518945e+04, 8.89365858e+03,\n",
       "        3.11537833e+03, 1.92200000e+03, 0.00000000e+00, 1.21588200e+04,\n",
       "        0.00000000e+00, 3.20271768e+03, 2.76604294e+03, 1.78260376e+03,\n",
       "        4.06805146e+03, 1.75072075e+03, 3.25437765e+03, 1.63912600e+03,\n",
       "        6.39670000e+04, 0.00000000e+00, 4.74011493e+02, 2.32518641e+04,\n",
       "        1.49670276e+03, 1.53066576e+03, 2.16293015e+03, 3.32382575e+03,\n",
       "        2.02000000e+02, 4.43561540e+03, 1.46468980e+03, 9.31859615e+03,\n",
       "        2.02000000e+02, 1.31081320e+04, 0.00000000e+00, 3.11447333e+03,\n",
       "        2.78140768e+03, 4.64434578e+03, 1.88311049e+04, 7.61654737e+03,\n",
       "        1.92200000e+03, 8.21335287e+02, 2.36191053e+03, 1.31051977e+03,\n",
       "        2.15842395e+03, 1.92200000e+03, 3.27829099e+03, 6.58258576e+03,\n",
       "        0.00000000e+00, 1.92200000e+03, 3.57633212e+03, 4.02800000e+03,\n",
       "        2.38886254e+03, 5.35653248e+03, 0.00000000e+00, 1.90412259e+04,\n",
       "        1.51696124e+04, 3.09862644e+04, 0.00000000e+00, 5.59042734e+03,\n",
       "        2.68874032e+03, 5.56653962e+03, 8.44229742e+02, 2.43501782e+03,\n",
       "        7.44062832e+03, 1.60588382e+03, 1.04874214e+04, 8.40636682e+03,\n",
       "        0.00000000e+00, 4.16698791e+03, 4.61350763e+03, 6.94934972e+03,\n",
       "        3.22774830e+04, 5.05300000e+03, 8.00235048e+02, 6.92576260e+03,\n",
       "        3.14044009e+03, 1.31746187e+03, 2.44384001e+03, 1.47914916e+04,\n",
       "        1.04670549e+04, 0.00000000e+00, 9.39722608e+03, 5.18447705e+02,\n",
       "        0.00000000e+00, 4.24000000e+02, 1.68640056e+04, 8.01305107e+03,\n",
       "        7.47276110e+03, 3.22880514e+02, 4.72828801e+03, 4.46188779e+03,\n",
       "        6.21178018e+03, 1.06991128e+04, 2.00466855e+03, 8.13458044e+03,\n",
       "        3.65545255e+02, 3.19000000e+02, 3.71410299e+04, 2.61607999e+03,\n",
       "        1.20770988e+03, 5.90432541e+03, 2.22799890e+03, 3.01703316e+03,\n",
       "        2.87599845e+03, 1.92200000e+03, 7.54090242e+03, 1.92200000e+03,\n",
       "        2.37212545e+03, 3.11512957e+04, 6.40369284e+03, 4.71758767e+03,\n",
       "        4.95285835e+03, 3.50514111e+03, 4.35252006e+03, 1.61960810e+04,\n",
       "        1.37375487e+04, 2.88793830e+03, 2.37720848e+03, 7.53391281e+03,\n",
       "        3.80242423e+04, 1.16152977e+03, 1.81818498e+04, 1.56817069e+04,\n",
       "        6.79943126e+03, 1.56784115e+04, 4.60061278e+03, 5.50437501e+03,\n",
       "        3.11705044e+02, 5.15212150e+03, 6.65728489e+03, 1.01034128e+04,\n",
       "        1.28181180e+04, 1.98579806e+04, 1.92200000e+03, 1.27925826e+04,\n",
       "        8.88932469e+03, 6.92946803e+03, 1.30594922e+04, 9.71130190e+03,\n",
       "        3.97674891e+03, 3.69421051e+03, 8.76025562e+03, 1.84222104e+03,\n",
       "        1.96145672e+04, 1.69788791e+04, 0.00000000e+00, 8.60145069e+02,\n",
       "        5.30086404e+03, 3.43850889e+03]),\n",
       " array([ 1097.35948623,   285.        ,   605.        ,   605.        ,\n",
       "         4638.99018649,   605.        ,   605.        ,   590.90432309,\n",
       "          996.57018919,   381.20290737,  1110.71310213,   605.        ,\n",
       "         1215.81600292,  2147.6410391 ,   437.67773701,   831.61622112,\n",
       "         1372.64717263,   466.48230047,     0.        ,  2084.8079163 ,\n",
       "            0.        ,     0.        ,     0.        ,   605.        ,\n",
       "            0.        ,  4833.17464286, 21396.        ,  5811.42052174,\n",
       "        21396.        ,  2334.15595176,  5303.00088363,  9704.70156026,\n",
       "         5540.99931863,     0.        ,  7667.42857352, 21396.        ,\n",
       "            0.        ,     0.        ,   605.        ,     0.        ,\n",
       "          605.        , 11212.99588013,     0.        ,  1281.13970501,\n",
       "         6154.1068554 ,     0.        ,  9734.91004478,  7794.92091332,\n",
       "         8035.64220245,  5713.91894106,  8383.51548674,  2047.47524585,\n",
       "            0.        ,  1059.21255833,  8079.27967893,     0.        ,\n",
       "            0.        ,  1722.69490147, 12146.54121832,  1544.80294647,\n",
       "         7698.6911005 ,     0.        ,   961.91989304,  1763.97183031,\n",
       "           62.        ,  1693.32545414,  2257.        ,  2257.        ,\n",
       "        10441.3345914 ,  6167.22026489,  1731.21669975,     0.        ,\n",
       "         1025.68808064, 12543.3402872 ,  7004.77417325,  3358.59125645,\n",
       "            0.        ,  1565.28929528, 10702.90946283, 10776.89950524,\n",
       "          732.50011529, 10589.52216031, 11039.16175041, 11008.1977682 ,\n",
       "         2537.81632144,     0.        , 12251.40044125,  4920.00713526,\n",
       "          396.        ,  5039.        ,     0.        , 21396.        ,\n",
       "         1393.8144502 ,     0.        ,  1645.01891185, 18486.66564765,\n",
       "            0.        ,     0.        ,     0.        ,     0.        ,\n",
       "         7067.78503401,  9086.46903925,  3329.45403843,  5307.59558163,\n",
       "          672.        ,  8075.87615948,     0.        ,     0.        ,\n",
       "         1732.97965743,  4335.49111597,     0.        ,     0.        ,\n",
       "         8234.8292946 ,  7112.        ,  1738.08139821,     0.        ,\n",
       "        12548.01808191,     0.        ,  1753.51542966,  1818.        ,\n",
       "            0.        ,     0.        ,  2827.83902768,  6443.35744689,\n",
       "        17660.84916253,  9756.34126311,     0.        ,     0.        ,\n",
       "         1319.24014021,  2257.        , 21396.        ,  2257.        ,\n",
       "            0.        ,  2713.16385569,     0.        , 14051.88932947,\n",
       "        14044.48665736, 17493.45359524,  8343.03479099,     0.        ,\n",
       "        14633.83102793,   340.60172784,     0.        ,   268.61541108,\n",
       "         6070.54240122,  6484.35595804,  2257.        ,  1818.        ,\n",
       "            0.        ,     0.        , 11858.03888981,  2886.01462706,\n",
       "        17323.94389241,     0.        ,     0.        , 21396.        ,\n",
       "        12501.        , 10879.33363053,   117.        ,  1818.        ,\n",
       "         2373.25596039,     0.        , 21396.        ,     0.        ,\n",
       "         5729.09774767,  5587.98111734, 21396.        ,  8004.57852174,\n",
       "         6078.5898956 ,  7051.88361574,     0.        , 13840.56272643,\n",
       "            0.        ,     0.        ,     0.        ,     0.        ,\n",
       "            0.        ,     0.        ,  5383.56175121,     0.        ,\n",
       "           95.83320728,     0.        , 13291.        ,  1818.        ,\n",
       "         3760.47107115,   605.        ,  1358.98775302,     0.        ,\n",
       "            0.        ,     0.        ,     0.        ,     0.        ,\n",
       "            0.        ,     0.        ,  6547.98793259,     0.        ,\n",
       "         1956.        ,     0.        , 17357.42826768, 13291.        ,\n",
       "         4249.87107917, 12912.47241257, 13291.        ,  9423.43785497,\n",
       "        11978.48875715,     0.        ,  2943.40680943, 10428.95712672,\n",
       "            0.        ,   672.        ]),\n",
       " array([0.00000000e+00, 0.00000000e+00, 0.00000000e+00, 0.00000000e+00,\n",
       "        0.00000000e+00, 3.88000000e+02, 0.00000000e+00, 3.88000000e+02,\n",
       "        3.88000000e+02, 0.00000000e+00, 3.88000000e+02, 0.00000000e+00,\n",
       "        3.88000000e+02, 0.00000000e+00, 3.88000000e+02, 0.00000000e+00,\n",
       "        3.88000000e+02, 3.88000000e+02, 4.22978080e+03, 0.00000000e+00,\n",
       "        3.88000000e+02, 3.88000000e+02, 3.88000000e+02, 1.89406434e+03,\n",
       "        0.00000000e+00, 0.00000000e+00, 3.88000000e+02, 0.00000000e+00,\n",
       "        0.00000000e+00, 0.00000000e+00, 0.00000000e+00, 0.00000000e+00,\n",
       "        0.00000000e+00, 0.00000000e+00, 0.00000000e+00, 0.00000000e+00,\n",
       "        0.00000000e+00, 0.00000000e+00, 0.00000000e+00, 0.00000000e+00,\n",
       "        0.00000000e+00, 0.00000000e+00, 1.00000000e+02, 0.00000000e+00,\n",
       "        0.00000000e+00, 0.00000000e+00, 0.00000000e+00, 0.00000000e+00,\n",
       "        0.00000000e+00, 0.00000000e+00, 0.00000000e+00, 0.00000000e+00,\n",
       "        0.00000000e+00, 3.88000000e+02, 0.00000000e+00, 0.00000000e+00,\n",
       "        3.88000000e+02, 0.00000000e+00, 0.00000000e+00, 0.00000000e+00,\n",
       "        0.00000000e+00, 0.00000000e+00, 0.00000000e+00, 0.00000000e+00,\n",
       "        1.73000000e+02, 0.00000000e+00, 3.88000000e+02, 0.00000000e+00,\n",
       "        0.00000000e+00, 0.00000000e+00, 0.00000000e+00, 0.00000000e+00,\n",
       "        1.73000000e+02, 0.00000000e+00, 0.00000000e+00, 0.00000000e+00,\n",
       "        4.70784724e+03, 0.00000000e+00, 0.00000000e+00, 0.00000000e+00,\n",
       "        3.88000000e+02, 0.00000000e+00, 0.00000000e+00, 2.57831263e+02,\n",
       "        0.00000000e+00, 9.04600000e+03, 0.00000000e+00, 0.00000000e+00,\n",
       "        0.00000000e+00, 6.09871839e+02, 9.04600000e+03, 3.88000000e+02,\n",
       "        0.00000000e+00, 3.88000000e+02, 0.00000000e+00, 1.00000000e+02,\n",
       "        0.00000000e+00, 0.00000000e+00, 3.88000000e+02, 5.20962282e+03,\n",
       "        0.00000000e+00, 0.00000000e+00, 0.00000000e+00, 0.00000000e+00,\n",
       "        0.00000000e+00, 0.00000000e+00, 0.00000000e+00, 0.00000000e+00,\n",
       "        0.00000000e+00, 0.00000000e+00, 0.00000000e+00, 0.00000000e+00,\n",
       "        0.00000000e+00, 1.00000000e+02, 0.00000000e+00, 4.77385487e+03,\n",
       "        3.88000000e+02, 3.88000000e+02, 0.00000000e+00, 3.88000000e+02,\n",
       "        0.00000000e+00, 2.56722295e+03, 0.00000000e+00, 0.00000000e+00,\n",
       "        3.88000000e+02, 0.00000000e+00, 0.00000000e+00, 4.93548042e+03,\n",
       "        0.00000000e+00, 0.00000000e+00, 1.00000000e+02, 0.00000000e+00,\n",
       "        3.88000000e+02, 0.00000000e+00, 0.00000000e+00, 0.00000000e+00,\n",
       "        0.00000000e+00, 0.00000000e+00, 0.00000000e+00, 3.88000000e+02,\n",
       "        0.00000000e+00, 0.00000000e+00, 3.88000000e+02, 0.00000000e+00,\n",
       "        0.00000000e+00, 0.00000000e+00, 4.38424150e+03, 5.20514835e+03,\n",
       "        4.85671084e+03, 0.00000000e+00, 1.00000000e+02, 1.00000000e+02,\n",
       "        1.00000000e+02, 4.81795746e+03, 0.00000000e+00, 1.00000000e+02,\n",
       "        0.00000000e+00, 0.00000000e+00, 3.88000000e+02, 0.00000000e+00,\n",
       "        1.00000000e+02, 3.88000000e+02, 0.00000000e+00, 0.00000000e+00,\n",
       "        1.00000000e+02, 0.00000000e+00, 5.00984738e+03, 0.00000000e+00,\n",
       "        0.00000000e+00, 3.88000000e+02, 3.84216080e+03, 3.88000000e+02,\n",
       "        3.65855150e+03, 0.00000000e+00, 0.00000000e+00, 4.49978096e+03,\n",
       "        0.00000000e+00, 9.04600000e+03, 0.00000000e+00, 5.05034580e+03,\n",
       "        3.88000000e+02, 1.00000000e+02, 3.88000000e+02, 5.63909173e+03,\n",
       "        1.00000000e+02, 3.88000000e+02, 9.04600000e+03, 1.05484404e+03,\n",
       "        9.04600000e+03, 3.83444384e+03, 3.86420805e+03, 7.53993566e+03,\n",
       "        9.89617282e+02, 4.07545698e+03, 0.00000000e+00, 5.11555853e+03,\n",
       "        8.44622774e+00, 3.21709598e+03, 3.88000000e+02, 0.00000000e+00,\n",
       "        3.62000000e+02, 3.62000000e+02, 3.41378011e+02, 0.00000000e+00,\n",
       "        2.30760269e+02, 4.37607093e+03, 0.00000000e+00, 0.00000000e+00,\n",
       "        0.00000000e+00, 0.00000000e+00]),\n",
       " array([   29.38761988,   198.72746497,     0.        ,     0.        ,\n",
       "         1377.93991715,   113.43564363,    14.        ,   230.        ,\n",
       "          154.05571304,     0.        ,   230.        ,     0.        ,\n",
       "          230.        ,     0.        ,   230.        ,     0.        ,\n",
       "          230.        ,   230.        ,   264.88778585,     0.        ,\n",
       "          891.71300126,   940.79979095,   230.        ,   482.52986367,\n",
       "         3120.25251215,   715.47718468,   780.47752209,     0.        ,\n",
       "         1900.        ,     0.        ,  1901.        ,  5052.09663699,\n",
       "         1900.        ,  2137.72153286,  1900.3523918 ,     0.        ,\n",
       "          178.        ,  1900.        ,  1900.        ,  1900.        ,\n",
       "           14.        ,  2436.69456153,   322.14795222,  1900.        ,\n",
       "         3527.69406663,  3726.77472511,  1424.95607098,  1901.        ,\n",
       "          158.        ,  1901.        ,  1900.67920529,  1900.        ,\n",
       "         1900.        ,   230.        ,     0.        ,     0.        ,\n",
       "          200.99280018,  3978.        ,  6022.72929981,  1900.        ,\n",
       "         6571.        ,  4311.8235323 ,   821.63789787, 12867.26476894,\n",
       "            0.        ,     0.        ,   230.        ,  7135.62154722,\n",
       "          412.3374328 ,     0.        ,  1900.        ,   178.        ,\n",
       "            0.        ,  4194.837379  ,  1900.51595973,     0.        ,\n",
       "          399.52529272,  1900.        ,  1900.        ,  1325.16276358,\n",
       "          230.        ,  6571.        ,  1900.        ,   230.        ,\n",
       "          158.        ,   762.        ,  1900.60131005,  1900.        ,\n",
       "          158.        ,   580.52496432,   762.        ,   191.41267024,\n",
       "            0.        ,   202.09731151,     0.        ,  2105.99909537,\n",
       "            0.        ,     0.        ,  1932.87132314,   437.96364384,\n",
       "         1900.        ,  2609.86863733,   158.        ,   158.        ,\n",
       "          158.        ,  1900.        ,     0.        ,   178.        ,\n",
       "         1900.        ,     0.        ,   158.        ,   158.        ,\n",
       "         1901.        ,   458.        ,  1900.        ,   756.35708179,\n",
       "         1457.95074864,   202.64287459,  1900.        ,  5731.19917092,\n",
       "         1437.73889445,   747.70654156,  1040.46768403,   158.        ,\n",
       "          778.50164486,  1901.        ,   178.        ,  1567.90878863,\n",
       "            0.        ,  1900.        ,   276.947192  ,  1061.17854005,\n",
       "          230.        ,     0.        ,     0.        ,   136.17984927,\n",
       "            0.        ,  4865.00206948,  1900.        ,   297.95664129,\n",
       "          847.38391999,     0.        ,   198.67520415,    25.        ,\n",
       "         6571.        ,  6571.        ,   475.55330065,   444.0995374 ,\n",
       "          404.11053195,     0.        ,  4806.05245194,  1512.15361246,\n",
       "         1735.61978448,   161.58677512,  6816.        ,   439.70132996,\n",
       "         6571.        ,  4261.59218728,   965.98088031,  1900.        ,\n",
       "          458.        ,  1486.06359541,     0.        ,  1900.        ,\n",
       "         2204.55525255,     0.        ,   408.73387574,  1901.        ,\n",
       "         1901.        ,   757.92484255,   417.2941537 , 10629.12596575,\n",
       "          865.42861666,   158.        ,     0.        ,   554.36851639,\n",
       "          178.        ,   179.96717645,  1901.        ,   414.2641393 ,\n",
       "          230.        ,  1300.97465119,  1057.77542417,   465.28589141,\n",
       "          282.286446  ,   214.02438756,  1216.63016785,   430.76486462,\n",
       "         1587.60308849,  2960.49173897,   838.17810807,   791.65920576,\n",
       "          538.14995373,   456.57970834,  1901.        ,   520.48985194,\n",
       "          321.73078956,   317.1368297 ,  2266.91113161,  1353.72700152,\n",
       "            0.        ,     0.        ,  1050.75019341,  1901.        ,\n",
       "          286.82039524,  1130.9261941 ,     0.        ,  1901.        ,\n",
       "          178.        ,   178.        ]),\n",
       " array([   0.        ,    0.        ,   24.        ,   24.        ,\n",
       "          24.        ,   24.        ,   24.        ,   24.        ,\n",
       "          24.        ,   24.        ,   24.        ,   24.        ,\n",
       "          24.        ,   24.        ,   24.        ,   24.        ,\n",
       "         290.23415542,   24.        ,   53.        ,    0.        ,\n",
       "           0.        ,    0.        ,    0.        ,   24.        ,\n",
       "           0.        ,    0.        ,    0.        ,   24.        ,\n",
       "           0.        ,   24.        ,    0.        ,    0.        ,\n",
       "         813.        ,    0.        ,   24.        ,    0.        ,\n",
       "           0.        ,    0.        ,   24.        ,    0.        ,\n",
       "          24.        ,    0.        ,   94.        ,   24.        ,\n",
       "           0.        ,    0.        ,    0.        ,    0.        ,\n",
       "           0.        ,    0.        ,    0.        ,    0.        ,\n",
       "           0.        ,    0.        ,    0.        ,    0.        ,\n",
       "          53.        ,    0.        ,    0.        ,    0.        ,\n",
       "           0.        ,    0.        ,    0.        , 1132.        ,\n",
       "           0.        ,    0.        ,    0.        ,    0.        ,\n",
       "           0.        ,   24.        ,    0.        ,    0.        ,\n",
       "          24.        ,    0.        ,  813.        ,    0.        ,\n",
       "           0.        ,    0.        ,    0.        ,    0.        ,\n",
       "          24.        ,    0.        ,    0.        ,   24.        ,\n",
       "           0.        ,    0.        ,    0.        ,    0.        ,\n",
       "           0.        ,   94.        ,    0.        ,  759.        ,\n",
       "           0.        ,   53.        ,   24.        ,   94.        ,\n",
       "           0.        ,    0.        ,    0.        ,    0.        ,\n",
       "           0.        ,    0.        ,    0.        ,    0.        ,\n",
       "           0.        ,    0.        ,    0.        ,    0.        ,\n",
       "           0.        ,    0.        ,  759.        ,    0.        ,\n",
       "           0.        ,  448.82956081,    0.        , 1132.        ,\n",
       "           0.        ,    0.        ,    0.        , 1132.        ,\n",
       "           0.        ,   94.        ,    0.        ,    0.        ,\n",
       "           0.        ,    0.        ,    0.        ,    0.        ,\n",
       "           0.        ,    0.        ,   94.        ,    0.        ,\n",
       "           0.        ,    0.        ,   53.        ,    0.        ,\n",
       "         759.        ,    0.        ,    0.        ,   53.        ,\n",
       "           0.        ,   24.        ,   53.        ,    0.        ,\n",
       "           0.        ,    0.        ,    0.        ,    0.        ,\n",
       "           0.        ,   53.        ,   94.        ,  447.67455213,\n",
       "          94.        ,    0.        ,    0.        ,   94.        ,\n",
       "           0.        ,    0.        ,    0.        ,    0.        ,\n",
       "         434.63830575,    0.        ,    0.        ,    0.        ,\n",
       "          94.        ,    0.        ,    0.        ,    0.        ,\n",
       "           0.        ,   53.        ,   94.        ,    0.        ,\n",
       "           0.        ,    0.        ,    0.        ,   53.        ,\n",
       "           0.        ,    0.        ,  813.        ,    0.        ,\n",
       "           0.        ,   94.        ,    0.        ,    0.        ,\n",
       "          94.        ,  633.87297347,    0.        ,    0.        ,\n",
       "           0.        ,   94.        ,   94.        ,    0.        ,\n",
       "           0.        ,    0.        ,    0.        ,  759.        ,\n",
       "          94.        ,   94.        ,    0.        ,   53.        ,\n",
       "           0.        ,    0.        ,    0.        ,  813.        ,\n",
       "         432.78103301,   53.        ,    0.        ,    0.        ,\n",
       "           0.        ,    0.        ]),\n",
       " array([  0.        ,   0.        ,   0.        ,   0.        ,\n",
       "          0.        ,   0.        ,   0.        ,   0.        ,\n",
       "        403.        ,   0.        ,   0.        ,   0.        ,\n",
       "          0.        ,   0.        ,   0.        , 102.        ,\n",
       "        355.        ,   0.        , 381.96191232, 143.44329878,\n",
       "        355.        , 355.        , 355.        , 355.        ,\n",
       "          0.        , 146.56421243,   0.        ,   0.        ,\n",
       "          0.        ,   0.        ,   0.        ,   0.        ,\n",
       "          0.        , 403.        ,   0.        ,   0.        ,\n",
       "          0.        ,   0.        ,   0.        ,   0.        ,\n",
       "          0.        ,   0.        , 355.        ,   0.        ,\n",
       "        125.        ,   0.        ,   0.        ,   0.        ,\n",
       "          0.        ,   0.        ,   0.        , 287.81133196,\n",
       "          0.        , 355.        ,   0.        ,   0.        ,\n",
       "        403.        , 125.        ,   0.        ,   0.        ,\n",
       "         83.33541362,  41.        ,   0.        , 102.        ,\n",
       "          0.        , 355.        ,   0.        ,   0.        ,\n",
       "        125.        ,   0.        ,   0.        ,   0.        ,\n",
       "          0.        ,  41.        , 355.        ,   0.        ,\n",
       "        355.        ,   0.        , 355.        ,   0.        ,\n",
       "          0.        ,   0.        , 185.43578752,   0.        ,\n",
       "          0.        , 221.69190435,   0.        , 220.59323843,\n",
       "        125.        , 125.        , 238.9155024 , 810.        ,\n",
       "          0.        , 403.        ,   0.        , 355.        ,\n",
       "        355.        ,   0.        , 355.        , 125.        ,\n",
       "          0.        ,   0.        ,   0.        , 355.        ,\n",
       "        450.09669805,   0.        ,   0.        ,   0.        ,\n",
       "          0.        ,   0.        , 535.66374659, 211.9897582 ,\n",
       "          0.        , 208.03406499,   0.        ,   0.        ,\n",
       "        355.        , 453.20156908,   0.        , 355.        ,\n",
       "        810.        , 355.        , 355.        ,   0.        ,\n",
       "        810.        ,   0.        , 355.        ,   0.        ,\n",
       "          0.        , 245.21728553, 355.        , 313.55670122,\n",
       "        125.        , 355.        ,   0.        ,  41.        ,\n",
       "        640.73996218,   0.        ,   0.        , 403.        ,\n",
       "         41.        ,   0.        , 355.        , 253.67098465,\n",
       "        125.        , 125.        , 355.        , 355.        ,\n",
       "        240.82911333,   0.        , 355.        ,   0.        ,\n",
       "          0.        ,  41.        ,   0.        , 355.        ,\n",
       "         41.        ,   0.        , 355.        , 355.        ,\n",
       "          0.        ,   0.        , 192.50824331, 358.86185994,\n",
       "          0.        ,   0.        ,   0.        ,   0.        ,\n",
       "          0.        , 403.        , 355.        ,   0.        ,\n",
       "        165.        ,   0.        ,   0.        , 403.        ,\n",
       "        264.09704909,   0.        ,   0.        , 585.51824728,\n",
       "          0.        ,   0.        , 355.        ,   0.        ,\n",
       "        564.97805557,   0.        , 355.        , 202.84595525,\n",
       "          0.        ,   0.        , 480.4480827 , 521.25674103,\n",
       "        125.        ,   0.        ,   0.        , 682.10616898,\n",
       "        355.        , 374.29148173,   0.        , 403.        ,\n",
       "          0.        ,   0.        ,   0.        ,   0.        ,\n",
       "        355.        , 403.        ,   0.        ,   0.        ,\n",
       "        567.50987763, 561.94468114])]"
      ]
     },
     "execution_count": 83,
     "metadata": {},
     "output_type": "execute_result"
    }
   ],
   "source": [
    "pred_ratings"
   ]
  },
  {
   "cell_type": "code",
   "execution_count": 91,
   "metadata": {},
   "outputs": [],
   "source": [
    "first_pred = pred_ratings[0].argsort()[::-1][:5]"
   ]
  },
  {
   "cell_type": "code",
   "execution_count": 92,
   "metadata": {},
   "outputs": [],
   "source": [
    "first_test = test_set[0]"
   ]
  },
  {
   "cell_type": "code",
   "execution_count": 95,
   "metadata": {},
   "outputs": [
    {
     "data": {
      "text/plain": [
       "0"
      ]
     },
     "execution_count": 95,
     "metadata": {},
     "output_type": "execute_result"
    }
   ],
   "source": [
    "len(np.intersect1d(first_pred,first_test))"
   ]
  },
  {
   "cell_type": "code",
   "execution_count": 100,
   "metadata": {},
   "outputs": [],
   "source": [
    "hits = 0\n",
    "for i, pred in enumerate(pred_ratings):\n",
    "    top_5 = pred.argsort()[::-1][:5]\n",
    "    test = test_set[i]\n",
    "    hits += len(np.intersect1d(top_5,test))\n",
    "    "
   ]
  },
  {
   "cell_type": "code",
   "execution_count": 111,
   "metadata": {},
   "outputs": [
    {
     "data": {
      "text/plain": [
       "0.02"
      ]
     },
     "execution_count": 111,
     "metadata": {},
     "output_type": "execute_result"
    }
   ],
   "source": [
    "hits/50"
   ]
  },
  {
   "cell_type": "code",
   "execution_count": 152,
   "metadata": {},
   "outputs": [
    {
     "name": "stderr",
     "output_type": "stream",
     "text": [
      "/opt/conda/lib/python3.7/site-packages/ipykernel_launcher.py:13: RuntimeWarning: invalid value encountered in double_scalars\n",
      "  del sys.path[0]\n"
     ]
    }
   ],
   "source": [
    "train_ratings = [predict(user_id, train_sim_mat, train_ratings_mat,10) for user_id in range(train_ratings_mat.shape[0])]"
   ]
  },
  {
   "cell_type": "code",
   "execution_count": 154,
   "metadata": {},
   "outputs": [
    {
     "data": {
      "text/plain": [
       "25723"
      ]
     },
     "execution_count": 154,
     "metadata": {},
     "output_type": "execute_result"
    }
   ],
   "source": [
    "len(train_ratings)"
   ]
  },
  {
   "cell_type": "code",
   "execution_count": 155,
   "metadata": {},
   "outputs": [],
   "source": [
    "hits = 0\n",
    "for i, pred in enumerate(train_ratings):\n",
    "    top_5 = pred.argsort()[::-1][:5]\n",
    "    test = test_set[i]\n",
    "    hits += len(np.intersect1d(top_5,test))\n",
    "    "
   ]
  },
  {
   "cell_type": "code",
   "execution_count": 157,
   "metadata": {
    "collapsed": true,
    "jupyter": {
     "outputs_hidden": true
    }
   },
   "outputs": [
    {
     "data": {
      "text/plain": [
       "0.021163938887377054"
      ]
     },
     "execution_count": 157,
     "metadata": {},
     "output_type": "execute_result"
    }
   ],
   "source": [
    "hits/(len(test_set)*5)"
   ]
  },
  {
   "cell_type": "markdown",
   "metadata": {},
   "source": [
    "#### See How the Recommendations Compare to the Games User_0 Actually played"
   ]
  },
  {
   "cell_type": "markdown",
   "metadata": {},
   "source": [
    "Recommendations"
   ]
  },
  {
   "cell_type": "code",
   "execution_count": 240,
   "metadata": {},
   "outputs": [],
   "source": [
    "user_0_idx= train_ratings[0].argsort()[::-1][:5]"
   ]
  },
  {
   "cell_type": "code",
   "execution_count": 241,
   "metadata": {},
   "outputs": [],
   "source": [
    "user_0_game_recommendations = train_ratings_mat.iloc[0,user_0_idx].index"
   ]
  },
  {
   "cell_type": "code",
   "execution_count": 243,
   "metadata": {},
   "outputs": [
    {
     "data": {
      "text/plain": [
       "Int64Index([10190, 221380, 202990, 42710, 346110], dtype='int64', name='item_id')"
      ]
     },
     "execution_count": 243,
     "metadata": {},
     "output_type": "execute_result"
    }
   ],
   "source": [
    "user_0_game_recommendations "
   ]
  },
  {
   "cell_type": "code",
   "execution_count": 267,
   "metadata": {},
   "outputs": [
    {
     "name": "stdout",
     "output_type": "stream",
     "text": [
      "Dragon Age: Origins\n",
      "Spintires\n",
      "Infestation: Survivor Stories Classic\n",
      "Flight Control HD\n",
      "Penumbra: Necrologue\n"
     ]
    }
   ],
   "source": [
    "user_0_game_recs = [names[i]for i in user_0_game_recommendations]\n",
    "for i in range(len(user_0_game_recs)):\n",
    "    print(user_0_game_recs[i])"
   ]
  },
  {
   "cell_type": "code",
   "execution_count": 262,
   "metadata": {},
   "outputs": [
    {
     "data": {
      "text/html": [
       "<div>\n",
       "<style scoped>\n",
       "    .dataframe tbody tr th:only-of-type {\n",
       "        vertical-align: middle;\n",
       "    }\n",
       "\n",
       "    .dataframe tbody tr th {\n",
       "        vertical-align: top;\n",
       "    }\n",
       "\n",
       "    .dataframe thead th {\n",
       "        text-align: right;\n",
       "    }\n",
       "</style>\n",
       "<table border=\"1\" class=\"dataframe\">\n",
       "  <thead>\n",
       "    <tr style=\"text-align: right;\">\n",
       "      <th></th>\n",
       "      <th>publisher</th>\n",
       "      <th>genres</th>\n",
       "      <th>app_name</th>\n",
       "      <th>title</th>\n",
       "      <th>url</th>\n",
       "      <th>release_date</th>\n",
       "      <th>tags</th>\n",
       "      <th>discount_price</th>\n",
       "      <th>reviews_url</th>\n",
       "      <th>specs</th>\n",
       "      <th>price</th>\n",
       "      <th>early_access</th>\n",
       "      <th>id</th>\n",
       "      <th>developer</th>\n",
       "      <th>sentiment</th>\n",
       "      <th>metascore</th>\n",
       "    </tr>\n",
       "  </thead>\n",
       "  <tbody>\n",
       "    <tr>\n",
       "      <th>11216</th>\n",
       "      <td>Studio Wildcard</td>\n",
       "      <td>[Action, Adventure, Indie, Massively Multiplay...</td>\n",
       "      <td>ARK: Survival Evolved</td>\n",
       "      <td>ARK: Survival Evolved</td>\n",
       "      <td>http://store.steampowered.com/app/346110/ARK_S...</td>\n",
       "      <td>2017-08-29</td>\n",
       "      <td>[Survival, Dinosaurs, Open World, Multiplayer,...</td>\n",
       "      <td>NaN</td>\n",
       "      <td>http://steamcommunity.com/app/346110/reviews/?...</td>\n",
       "      <td>[Single-player, Multi-player, MMO, Co-op, Stea...</td>\n",
       "      <td>59.99</td>\n",
       "      <td>False</td>\n",
       "      <td>346110</td>\n",
       "      <td>Studio Wildcard,Instinct Games,Efecto Studios,...</td>\n",
       "      <td>Mixed</td>\n",
       "      <td>70</td>\n",
       "    </tr>\n",
       "    <tr>\n",
       "      <th>30246</th>\n",
       "      <td>Microsoft Studios</td>\n",
       "      <td>[Strategy]</td>\n",
       "      <td>Age of Empires II HD</td>\n",
       "      <td>Age of Empires II HD</td>\n",
       "      <td>http://store.steampowered.com/app/221380/Age_o...</td>\n",
       "      <td>2013-04-09</td>\n",
       "      <td>[Strategy, RTS, Medieval, Multiplayer, Classic...</td>\n",
       "      <td>NaN</td>\n",
       "      <td>http://steamcommunity.com/app/221380/reviews/?...</td>\n",
       "      <td>[Single-player, Multi-player, Steam Achievemen...</td>\n",
       "      <td>19.99</td>\n",
       "      <td>False</td>\n",
       "      <td>221380</td>\n",
       "      <td>Skybox Labs,Hidden Path Entertainment,Ensemble...</td>\n",
       "      <td>Very Positive</td>\n",
       "      <td>68</td>\n",
       "    </tr>\n",
       "  </tbody>\n",
       "</table>\n",
       "</div>"
      ],
      "text/plain": [
       "               publisher                                             genres  \\\n",
       "11216    Studio Wildcard  [Action, Adventure, Indie, Massively Multiplay...   \n",
       "30246  Microsoft Studios                                         [Strategy]   \n",
       "\n",
       "                    app_name                  title  \\\n",
       "11216  ARK: Survival Evolved  ARK: Survival Evolved   \n",
       "30246   Age of Empires II HD   Age of Empires II HD   \n",
       "\n",
       "                                                     url release_date  \\\n",
       "11216  http://store.steampowered.com/app/346110/ARK_S...   2017-08-29   \n",
       "30246  http://store.steampowered.com/app/221380/Age_o...   2013-04-09   \n",
       "\n",
       "                                                    tags  discount_price  \\\n",
       "11216  [Survival, Dinosaurs, Open World, Multiplayer,...             NaN   \n",
       "30246  [Strategy, RTS, Medieval, Multiplayer, Classic...             NaN   \n",
       "\n",
       "                                             reviews_url  \\\n",
       "11216  http://steamcommunity.com/app/346110/reviews/?...   \n",
       "30246  http://steamcommunity.com/app/221380/reviews/?...   \n",
       "\n",
       "                                                   specs  price  early_access  \\\n",
       "11216  [Single-player, Multi-player, MMO, Co-op, Stea...  59.99         False   \n",
       "30246  [Single-player, Multi-player, Steam Achievemen...  19.99         False   \n",
       "\n",
       "           id                                          developer  \\\n",
       "11216  346110  Studio Wildcard,Instinct Games,Efecto Studios,...   \n",
       "30246  221380  Skybox Labs,Hidden Path Entertainment,Ensemble...   \n",
       "\n",
       "           sentiment metascore  \n",
       "11216          Mixed        70  \n",
       "30246  Very Positive        68  "
      ]
     },
     "execution_count": 262,
     "metadata": {},
     "output_type": "execute_result"
    }
   ],
   "source": [
    "games[games.id.isin(user_0_game_recommendations)]"
   ]
  },
  {
   "cell_type": "code",
   "execution_count": 268,
   "metadata": {},
   "outputs": [
    {
     "data": {
      "text/html": [
       "<div>\n",
       "<style scoped>\n",
       "    .dataframe tbody tr th:only-of-type {\n",
       "        vertical-align: middle;\n",
       "    }\n",
       "\n",
       "    .dataframe tbody tr th {\n",
       "        vertical-align: top;\n",
       "    }\n",
       "\n",
       "    .dataframe thead th {\n",
       "        text-align: right;\n",
       "    }\n",
       "</style>\n",
       "<table border=\"1\" class=\"dataframe\">\n",
       "  <thead>\n",
       "    <tr style=\"text-align: right;\">\n",
       "      <th></th>\n",
       "      <th>publisher</th>\n",
       "      <th>genres</th>\n",
       "      <th>app_name</th>\n",
       "      <th>title</th>\n",
       "      <th>url</th>\n",
       "      <th>release_date</th>\n",
       "      <th>tags</th>\n",
       "      <th>discount_price</th>\n",
       "      <th>reviews_url</th>\n",
       "      <th>specs</th>\n",
       "      <th>price</th>\n",
       "      <th>early_access</th>\n",
       "      <th>id</th>\n",
       "      <th>developer</th>\n",
       "      <th>sentiment</th>\n",
       "      <th>metascore</th>\n",
       "    </tr>\n",
       "  </thead>\n",
       "  <tbody>\n",
       "    <tr>\n",
       "      <th>342</th>\n",
       "      <td>Electronic Arts</td>\n",
       "      <td>[RPG]</td>\n",
       "      <td>Dragon Age: Origins</td>\n",
       "      <td>Dragon Age: Origins</td>\n",
       "      <td>http://store.steampowered.com/app/17450/Dragon...</td>\n",
       "      <td>2009-11-06</td>\n",
       "      <td>[RPG, Fantasy, Story Rich, Multiple Endings, S...</td>\n",
       "      <td>NaN</td>\n",
       "      <td>http://steamcommunity.com/app/17450/reviews/?b...</td>\n",
       "      <td>[Single-player]</td>\n",
       "      <td>19.99</td>\n",
       "      <td>False</td>\n",
       "      <td>17450</td>\n",
       "      <td>BioWare</td>\n",
       "      <td>Very Positive</td>\n",
       "      <td>91</td>\n",
       "    </tr>\n",
       "    <tr>\n",
       "      <th>535</th>\n",
       "      <td>Firemint</td>\n",
       "      <td>[Action, Casual]</td>\n",
       "      <td>Flight Control HD</td>\n",
       "      <td>Flight Control HD</td>\n",
       "      <td>http://store.steampowered.com/app/62000/Flight...</td>\n",
       "      <td>2010-11-18</td>\n",
       "      <td>[Casual, Action, Arcade, Touch-Friendly, Singl...</td>\n",
       "      <td>NaN</td>\n",
       "      <td>http://steamcommunity.com/app/62000/reviews/?b...</td>\n",
       "      <td>[Single-player, Steam Achievements, Steam Clou...</td>\n",
       "      <td>4.99</td>\n",
       "      <td>False</td>\n",
       "      <td>62000</td>\n",
       "      <td>Firemint</td>\n",
       "      <td>Very Positive</td>\n",
       "      <td>NaN</td>\n",
       "    </tr>\n",
       "    <tr>\n",
       "      <th>27434</th>\n",
       "      <td>CounterCurrent Games</td>\n",
       "      <td>[Action, Adventure, Indie]</td>\n",
       "      <td>Penumbra: Necrologue</td>\n",
       "      <td>Penumbra: Necrologue</td>\n",
       "      <td>http://store.steampowered.com/app/346290/Penum...</td>\n",
       "      <td>2015-02-06</td>\n",
       "      <td>[Horror, Adventure, Indie, Action, Mod, Free t...</td>\n",
       "      <td>NaN</td>\n",
       "      <td>http://steamcommunity.com/app/346290/reviews/?...</td>\n",
       "      <td>[Single-player, Full controller support, Capti...</td>\n",
       "      <td>NaN</td>\n",
       "      <td>False</td>\n",
       "      <td>346290</td>\n",
       "      <td>CounterCurrent Games</td>\n",
       "      <td>Very Positive</td>\n",
       "      <td>NaN</td>\n",
       "    </tr>\n",
       "  </tbody>\n",
       "</table>\n",
       "</div>"
      ],
      "text/plain": [
       "                  publisher                      genres              app_name  \\\n",
       "342         Electronic Arts                       [RPG]   Dragon Age: Origins   \n",
       "535                Firemint            [Action, Casual]     Flight Control HD   \n",
       "27434  CounterCurrent Games  [Action, Adventure, Indie]  Penumbra: Necrologue   \n",
       "\n",
       "                      title  \\\n",
       "342     Dragon Age: Origins   \n",
       "535       Flight Control HD   \n",
       "27434  Penumbra: Necrologue   \n",
       "\n",
       "                                                     url release_date  \\\n",
       "342    http://store.steampowered.com/app/17450/Dragon...   2009-11-06   \n",
       "535    http://store.steampowered.com/app/62000/Flight...   2010-11-18   \n",
       "27434  http://store.steampowered.com/app/346290/Penum...   2015-02-06   \n",
       "\n",
       "                                                    tags  discount_price  \\\n",
       "342    [RPG, Fantasy, Story Rich, Multiple Endings, S...             NaN   \n",
       "535    [Casual, Action, Arcade, Touch-Friendly, Singl...             NaN   \n",
       "27434  [Horror, Adventure, Indie, Action, Mod, Free t...             NaN   \n",
       "\n",
       "                                             reviews_url  \\\n",
       "342    http://steamcommunity.com/app/17450/reviews/?b...   \n",
       "535    http://steamcommunity.com/app/62000/reviews/?b...   \n",
       "27434  http://steamcommunity.com/app/346290/reviews/?...   \n",
       "\n",
       "                                                   specs  price  early_access  \\\n",
       "342                                      [Single-player]  19.99         False   \n",
       "535    [Single-player, Steam Achievements, Steam Clou...   4.99         False   \n",
       "27434  [Single-player, Full controller support, Capti...    NaN         False   \n",
       "\n",
       "           id             developer      sentiment metascore  \n",
       "342     17450               BioWare  Very Positive        91  \n",
       "535     62000              Firemint  Very Positive       NaN  \n",
       "27434  346290  CounterCurrent Games  Very Positive       NaN  "
      ]
     },
     "execution_count": 268,
     "metadata": {},
     "output_type": "execute_result"
    }
   ],
   "source": [
    "games[games.title.isin(user_0_game_recs)]"
   ]
  },
  {
   "cell_type": "markdown",
   "metadata": {},
   "source": [
    "Games user_0 actually played"
   ]
  },
  {
   "cell_type": "code",
   "execution_count": 276,
   "metadata": {},
   "outputs": [],
   "source": [
    "user_0_games_played = np.array(train_ratings_mat.iloc[0].fillna(0)).nonzero()"
   ]
  },
  {
   "cell_type": "code",
   "execution_count": 277,
   "metadata": {},
   "outputs": [
    {
     "data": {
      "text/plain": [
       "(array([ 16,  18,  19,  23,  34,  78,  91,  98,  99, 131, 143, 153, 155,\n",
       "        163, 164, 179, 190, 191, 197, 201]),)"
      ]
     },
     "execution_count": 277,
     "metadata": {},
     "output_type": "execute_result"
    }
   ],
   "source": [
    "user_0_games_played[]"
   ]
  },
  {
   "cell_type": "code",
   "execution_count": 284,
   "metadata": {},
   "outputs": [],
   "source": [
    "user_0_games_played = train_ratings_mat.iloc[0,user_0_games_played[0]].index"
   ]
  },
  {
   "cell_type": "code",
   "execution_count": 286,
   "metadata": {},
   "outputs": [
    {
     "name": "stdout",
     "output_type": "stream",
     "text": [
      "Left 4 Dead 2 Beta\n",
      "Borderlands 2\n",
      "Killing Floor Mod: Defence Alliance 2\n",
      "Just Cause\n",
      "Warhammer® 40,000™: Dawn of War® II\n",
      "Costume Quest\n",
      "Frozen Synapse\n",
      "No More Room in Hell\n",
      "MapleStory\n",
      "Saints Row IV\n",
      "Creeper World 3: Arc Eternal\n",
      "Roommates\n",
      "Edge of Space\n",
      "Transistor\n",
      "Beatbuddy: Tale of the Guardians\n",
      "Kerbal Space Program\n",
      "Dragon Saga\n",
      "METAL GEAR SOLID V: GROUND ZEROES\n",
      "Armikrog\n",
      "Spore: Creepy & Cute Parts Pack\n"
     ]
    }
   ],
   "source": [
    "user_0_games_played = [names[i] for i in user_0_games_played]\n",
    "for game in user_0_games_played:\n",
    "    print(game)"
   ]
  },
  {
   "cell_type": "code",
   "execution_count": 287,
   "metadata": {},
   "outputs": [
    {
     "data": {
      "text/html": [
       "<div>\n",
       "<style scoped>\n",
       "    .dataframe tbody tr th:only-of-type {\n",
       "        vertical-align: middle;\n",
       "    }\n",
       "\n",
       "    .dataframe tbody tr th {\n",
       "        vertical-align: top;\n",
       "    }\n",
       "\n",
       "    .dataframe thead th {\n",
       "        text-align: right;\n",
       "    }\n",
       "</style>\n",
       "<table border=\"1\" class=\"dataframe\">\n",
       "  <thead>\n",
       "    <tr style=\"text-align: right;\">\n",
       "      <th></th>\n",
       "      <th>publisher</th>\n",
       "      <th>genres</th>\n",
       "      <th>app_name</th>\n",
       "      <th>title</th>\n",
       "      <th>url</th>\n",
       "      <th>release_date</th>\n",
       "      <th>tags</th>\n",
       "      <th>discount_price</th>\n",
       "      <th>reviews_url</th>\n",
       "      <th>specs</th>\n",
       "      <th>price</th>\n",
       "      <th>early_access</th>\n",
       "      <th>id</th>\n",
       "      <th>developer</th>\n",
       "      <th>sentiment</th>\n",
       "      <th>metascore</th>\n",
       "    </tr>\n",
       "  </thead>\n",
       "  <tbody>\n",
       "    <tr>\n",
       "      <th>639</th>\n",
       "      <td>Mode 7</td>\n",
       "      <td>[Indie, Strategy]</td>\n",
       "      <td>Frozen Synapse</td>\n",
       "      <td>Frozen Synapse</td>\n",
       "      <td>http://store.steampowered.com/app/98200/Frozen...</td>\n",
       "      <td>2011-05-26</td>\n",
       "      <td>[Strategy, Turn-Based, Tactical, Indie, Asynch...</td>\n",
       "      <td>NaN</td>\n",
       "      <td>http://steamcommunity.com/app/98200/reviews/?b...</td>\n",
       "      <td>[Single-player, Multi-player, Steam Achievemen...</td>\n",
       "      <td>24.99</td>\n",
       "      <td>False</td>\n",
       "      <td>98200</td>\n",
       "      <td>Mode 7</td>\n",
       "      <td>Very Positive</td>\n",
       "      <td>85</td>\n",
       "    </tr>\n",
       "    <tr>\n",
       "      <th>756</th>\n",
       "      <td>Double Fine Productions</td>\n",
       "      <td>[Adventure, Casual, RPG]</td>\n",
       "      <td>Costume Quest</td>\n",
       "      <td>Costume Quest</td>\n",
       "      <td>http://store.steampowered.com/app/115100/Costu...</td>\n",
       "      <td>2011-10-14</td>\n",
       "      <td>[RPG, Adventure, Comedy, Casual, Singleplayer,...</td>\n",
       "      <td>NaN</td>\n",
       "      <td>http://steamcommunity.com/app/115100/reviews/?...</td>\n",
       "      <td>[Single-player, Steam Achievements, Steam Trad...</td>\n",
       "      <td>9.99</td>\n",
       "      <td>False</td>\n",
       "      <td>115100</td>\n",
       "      <td>Double Fine Productions</td>\n",
       "      <td>Overwhelmingly Positive</td>\n",
       "      <td>NaN</td>\n",
       "    </tr>\n",
       "    <tr>\n",
       "      <th>1516</th>\n",
       "      <td>Threaks</td>\n",
       "      <td>[Action, Adventure, Casual, Indie]</td>\n",
       "      <td>Beatbuddy: Tale of the Guardians</td>\n",
       "      <td>Beatbuddy: Tale of the Guardians</td>\n",
       "      <td>http://store.steampowered.com/app/231040/Beatb...</td>\n",
       "      <td>2013-08-06</td>\n",
       "      <td>[Indie, Music, Adventure, Rhythm, Casual, Acti...</td>\n",
       "      <td>NaN</td>\n",
       "      <td>http://steamcommunity.com/app/231040/reviews/?...</td>\n",
       "      <td>[Single-player, Steam Achievements, Full contr...</td>\n",
       "      <td>9.99</td>\n",
       "      <td>False</td>\n",
       "      <td>231040</td>\n",
       "      <td>Threaks</td>\n",
       "      <td>Very Positive</td>\n",
       "      <td>75</td>\n",
       "    </tr>\n",
       "    <tr>\n",
       "      <th>2982</th>\n",
       "      <td>Konami Digital Entertainment</td>\n",
       "      <td>[Action, Adventure]</td>\n",
       "      <td>METAL GEAR SOLID V: GROUND ZEROES</td>\n",
       "      <td>METAL GEAR SOLID V: GROUND ZEROES</td>\n",
       "      <td>http://store.steampowered.com/app/311340/METAL...</td>\n",
       "      <td>2014-12-18</td>\n",
       "      <td>[Stealth, Action, Short, Tactical, Singleplaye...</td>\n",
       "      <td>NaN</td>\n",
       "      <td>http://steamcommunity.com/app/311340/reviews/?...</td>\n",
       "      <td>[Single-player, Steam Achievements, Full contr...</td>\n",
       "      <td>19.99</td>\n",
       "      <td>False</td>\n",
       "      <td>311340</td>\n",
       "      <td>Kojima Productions</td>\n",
       "      <td>Very Positive</td>\n",
       "      <td>80</td>\n",
       "    </tr>\n",
       "    <tr>\n",
       "      <th>4403</th>\n",
       "      <td>Reverb Triple XP</td>\n",
       "      <td>[Action, Adventure, Indie, RPG]</td>\n",
       "      <td>Edge of Space</td>\n",
       "      <td>Edge of Space</td>\n",
       "      <td>http://store.steampowered.com/app/238240/Edge_...</td>\n",
       "      <td>2015-09-17</td>\n",
       "      <td>[Sandbox, Indie, Adventure, Action, 2D, Crafti...</td>\n",
       "      <td>NaN</td>\n",
       "      <td>http://steamcommunity.com/app/238240/reviews/?...</td>\n",
       "      <td>[Single-player, Multi-player, Co-op, Steam Ach...</td>\n",
       "      <td>14.99</td>\n",
       "      <td>False</td>\n",
       "      <td>238240</td>\n",
       "      <td>Handyman Studios</td>\n",
       "      <td>Mixed</td>\n",
       "      <td>NaN</td>\n",
       "    </tr>\n",
       "    <tr>\n",
       "      <th>4475</th>\n",
       "      <td>Versus Evil</td>\n",
       "      <td>[Adventure, Indie]</td>\n",
       "      <td>Armikrog</td>\n",
       "      <td>Armikrog</td>\n",
       "      <td>http://store.steampowered.com/app/334120/Armik...</td>\n",
       "      <td>2015-09-30</td>\n",
       "      <td>[Adventure, Indie, Point &amp; Click, Comedy, Puzz...</td>\n",
       "      <td>NaN</td>\n",
       "      <td>http://steamcommunity.com/app/334120/reviews/?...</td>\n",
       "      <td>[Single-player]</td>\n",
       "      <td>9.99</td>\n",
       "      <td>False</td>\n",
       "      <td>334120</td>\n",
       "      <td>Pencil Test Studios</td>\n",
       "      <td>Mixed</td>\n",
       "      <td>57</td>\n",
       "    </tr>\n",
       "    <tr>\n",
       "      <th>24516</th>\n",
       "      <td>Gravity Interactive</td>\n",
       "      <td>[Free to Play, Massively Multiplayer]</td>\n",
       "      <td>Dragon Saga</td>\n",
       "      <td>Dragon Saga</td>\n",
       "      <td>http://store.steampowered.com/app/381990/Drago...</td>\n",
       "      <td>2010-10-28</td>\n",
       "      <td>[Free to Play, Massively Multiplayer, MMORPG, ...</td>\n",
       "      <td>NaN</td>\n",
       "      <td>http://steamcommunity.com/app/381990/reviews/?...</td>\n",
       "      <td>[Single-player, Multi-player, MMO, Steam Achie...</td>\n",
       "      <td>Free to Play</td>\n",
       "      <td>False</td>\n",
       "      <td>381990</td>\n",
       "      <td>Gravity Interactive</td>\n",
       "      <td>Mostly Positive</td>\n",
       "      <td>65</td>\n",
       "    </tr>\n",
       "    <tr>\n",
       "      <th>26896</th>\n",
       "      <td>Private Division</td>\n",
       "      <td>[Indie, Simulation]</td>\n",
       "      <td>Kerbal Space Program</td>\n",
       "      <td>Kerbal Space Program</td>\n",
       "      <td>http://store.steampowered.com/app/220200/Kerba...</td>\n",
       "      <td>2015-04-27</td>\n",
       "      <td>[Space, Simulation, Sandbox, Physics, Science,...</td>\n",
       "      <td>NaN</td>\n",
       "      <td>http://steamcommunity.com/app/220200/reviews/?...</td>\n",
       "      <td>[Single-player, Steam Trading Cards]</td>\n",
       "      <td>39.99</td>\n",
       "      <td>False</td>\n",
       "      <td>220200</td>\n",
       "      <td>Squad</td>\n",
       "      <td>Overwhelmingly Positive</td>\n",
       "      <td>88</td>\n",
       "    </tr>\n",
       "    <tr>\n",
       "      <th>29002</th>\n",
       "      <td>Supergiant Games</td>\n",
       "      <td>[Action, Indie, RPG]</td>\n",
       "      <td>Transistor</td>\n",
       "      <td>Transistor</td>\n",
       "      <td>http://store.steampowered.com/app/237930/Trans...</td>\n",
       "      <td>2014-05-20</td>\n",
       "      <td>[Great Soundtrack, Female Protagonist, Indie, ...</td>\n",
       "      <td>NaN</td>\n",
       "      <td>http://steamcommunity.com/app/237930/reviews/?...</td>\n",
       "      <td>[Single-player, Steam Achievements, Full contr...</td>\n",
       "      <td>19.99</td>\n",
       "      <td>False</td>\n",
       "      <td>237930</td>\n",
       "      <td>Supergiant Games</td>\n",
       "      <td>Overwhelmingly Positive</td>\n",
       "      <td>83</td>\n",
       "    </tr>\n",
       "    <tr>\n",
       "      <th>29278</th>\n",
       "      <td>Knuckle Cracker</td>\n",
       "      <td>[Indie, Simulation, Strategy]</td>\n",
       "      <td>Creeper World 3: Arc Eternal</td>\n",
       "      <td>Creeper World 3: Arc Eternal</td>\n",
       "      <td>http://store.steampowered.com/app/280220/Creep...</td>\n",
       "      <td>2014-03-27</td>\n",
       "      <td>[Strategy, Tower Defense, Indie, Sci-fi, RTS, ...</td>\n",
       "      <td>NaN</td>\n",
       "      <td>http://steamcommunity.com/app/280220/reviews/?...</td>\n",
       "      <td>[Single-player, Steam Achievements, Steam Clou...</td>\n",
       "      <td>14.99</td>\n",
       "      <td>False</td>\n",
       "      <td>280220</td>\n",
       "      <td>Knuckle Cracker</td>\n",
       "      <td>Overwhelmingly Positive</td>\n",
       "      <td>NaN</td>\n",
       "    </tr>\n",
       "    <tr>\n",
       "      <th>29848</th>\n",
       "      <td>Lever Games</td>\n",
       "      <td>[Action, Free to Play, Indie]</td>\n",
       "      <td>No More Room in Hell</td>\n",
       "      <td>No More Room in Hell</td>\n",
       "      <td>http://store.steampowered.com/app/224260/No_Mo...</td>\n",
       "      <td>2011-10-31</td>\n",
       "      <td>[Free to Play, Zombies, Multiplayer, Survival,...</td>\n",
       "      <td>NaN</td>\n",
       "      <td>http://steamcommunity.com/app/224260/reviews/?...</td>\n",
       "      <td>[Multi-player, Co-op, Cross-Platform Multiplay...</td>\n",
       "      <td>Free</td>\n",
       "      <td>False</td>\n",
       "      <td>224260</td>\n",
       "      <td>No More Room in Hell Team</td>\n",
       "      <td>Very Positive</td>\n",
       "      <td>NaN</td>\n",
       "    </tr>\n",
       "    <tr>\n",
       "      <th>30044</th>\n",
       "      <td>Deep Silver</td>\n",
       "      <td>[Action, Adventure]</td>\n",
       "      <td>Saints Row IV</td>\n",
       "      <td>Saints Row IV</td>\n",
       "      <td>http://store.steampowered.com/app/206420/Saint...</td>\n",
       "      <td>2013-08-19</td>\n",
       "      <td>[Open World, Action, Comedy, Co-op, Third-Pers...</td>\n",
       "      <td>NaN</td>\n",
       "      <td>http://steamcommunity.com/app/206420/reviews/?...</td>\n",
       "      <td>[Single-player, Co-op, Steam Achievements, Ful...</td>\n",
       "      <td>14.99</td>\n",
       "      <td>False</td>\n",
       "      <td>206420</td>\n",
       "      <td>Deep Silver Volition</td>\n",
       "      <td>Very Positive</td>\n",
       "      <td>86</td>\n",
       "    </tr>\n",
       "    <tr>\n",
       "      <th>30746</th>\n",
       "      <td>2K Games, Aspyr (Mac &amp;amp;amp; Linux)</td>\n",
       "      <td>[Action, RPG]</td>\n",
       "      <td>Borderlands 2</td>\n",
       "      <td>Borderlands 2</td>\n",
       "      <td>http://store.steampowered.com/app/49520/Border...</td>\n",
       "      <td>2012-09-17</td>\n",
       "      <td>[FPS, Co-op, Action, RPG, Loot, Shooter, Open ...</td>\n",
       "      <td>NaN</td>\n",
       "      <td>http://steamcommunity.com/app/49520/reviews/?b...</td>\n",
       "      <td>[Single-player, Co-op, Steam Achievements, Ful...</td>\n",
       "      <td>19.99</td>\n",
       "      <td>False</td>\n",
       "      <td>49520</td>\n",
       "      <td>Gearbox Software,Aspyr (Mac &amp;amp; Linux)</td>\n",
       "      <td>Overwhelmingly Positive</td>\n",
       "      <td>89</td>\n",
       "    </tr>\n",
       "    <tr>\n",
       "      <th>30833</th>\n",
       "      <td>Nexon America Inc.</td>\n",
       "      <td>[Casual, Free to Play, Massively Multiplayer, ...</td>\n",
       "      <td>MapleStory</td>\n",
       "      <td>MapleStory</td>\n",
       "      <td>http://store.steampowered.com/app/216150/Maple...</td>\n",
       "      <td>2012-08-09</td>\n",
       "      <td>[Free to Play, Massively Multiplayer, RPG, Ani...</td>\n",
       "      <td>NaN</td>\n",
       "      <td>http://steamcommunity.com/app/216150/reviews/?...</td>\n",
       "      <td>[Single-player, Multi-player, MMO, Co-op, Stea...</td>\n",
       "      <td>Free to Play</td>\n",
       "      <td>False</td>\n",
       "      <td>216150</td>\n",
       "      <td>Nexon</td>\n",
       "      <td>Mixed</td>\n",
       "      <td>NaN</td>\n",
       "    </tr>\n",
       "    <tr>\n",
       "      <th>31877</th>\n",
       "      <td>Square Enix</td>\n",
       "      <td>[Action]</td>\n",
       "      <td>Just Cause</td>\n",
       "      <td>Just Cause</td>\n",
       "      <td>http://store.steampowered.com/app/6880/Just_Ca...</td>\n",
       "      <td>2006-09-22</td>\n",
       "      <td>[Action, Open World, Shooter, Third Person, Si...</td>\n",
       "      <td>NaN</td>\n",
       "      <td>http://steamcommunity.com/app/6880/reviews/?br...</td>\n",
       "      <td>[Single-player]</td>\n",
       "      <td>6.99</td>\n",
       "      <td>False</td>\n",
       "      <td>6880</td>\n",
       "      <td>Avalanche Studios</td>\n",
       "      <td>Mixed</td>\n",
       "      <td>75</td>\n",
       "    </tr>\n",
       "  </tbody>\n",
       "</table>\n",
       "</div>"
      ],
      "text/plain": [
       "                                   publisher  \\\n",
       "639                                   Mode 7   \n",
       "756                  Double Fine Productions   \n",
       "1516                                 Threaks   \n",
       "2982            Konami Digital Entertainment   \n",
       "4403                        Reverb Triple XP   \n",
       "4475                             Versus Evil   \n",
       "24516                    Gravity Interactive   \n",
       "26896                       Private Division   \n",
       "29002                       Supergiant Games   \n",
       "29278                        Knuckle Cracker   \n",
       "29848                            Lever Games   \n",
       "30044                            Deep Silver   \n",
       "30746  2K Games, Aspyr (Mac &amp;amp; Linux)   \n",
       "30833                     Nexon America Inc.   \n",
       "31877                            Square Enix   \n",
       "\n",
       "                                                  genres  \\\n",
       "639                                    [Indie, Strategy]   \n",
       "756                             [Adventure, Casual, RPG]   \n",
       "1516                  [Action, Adventure, Casual, Indie]   \n",
       "2982                                 [Action, Adventure]   \n",
       "4403                     [Action, Adventure, Indie, RPG]   \n",
       "4475                                  [Adventure, Indie]   \n",
       "24516              [Free to Play, Massively Multiplayer]   \n",
       "26896                                [Indie, Simulation]   \n",
       "29002                               [Action, Indie, RPG]   \n",
       "29278                      [Indie, Simulation, Strategy]   \n",
       "29848                      [Action, Free to Play, Indie]   \n",
       "30044                                [Action, Adventure]   \n",
       "30746                                      [Action, RPG]   \n",
       "30833  [Casual, Free to Play, Massively Multiplayer, ...   \n",
       "31877                                           [Action]   \n",
       "\n",
       "                                app_name                              title  \\\n",
       "639                       Frozen Synapse                     Frozen Synapse   \n",
       "756                        Costume Quest                      Costume Quest   \n",
       "1516    Beatbuddy: Tale of the Guardians   Beatbuddy: Tale of the Guardians   \n",
       "2982   METAL GEAR SOLID V: GROUND ZEROES  METAL GEAR SOLID V: GROUND ZEROES   \n",
       "4403                       Edge of Space                      Edge of Space   \n",
       "4475                            Armikrog                           Armikrog   \n",
       "24516                        Dragon Saga                        Dragon Saga   \n",
       "26896               Kerbal Space Program               Kerbal Space Program   \n",
       "29002                         Transistor                         Transistor   \n",
       "29278       Creeper World 3: Arc Eternal       Creeper World 3: Arc Eternal   \n",
       "29848               No More Room in Hell               No More Room in Hell   \n",
       "30044                      Saints Row IV                      Saints Row IV   \n",
       "30746                      Borderlands 2                      Borderlands 2   \n",
       "30833                         MapleStory                         MapleStory   \n",
       "31877                         Just Cause                         Just Cause   \n",
       "\n",
       "                                                     url release_date  \\\n",
       "639    http://store.steampowered.com/app/98200/Frozen...   2011-05-26   \n",
       "756    http://store.steampowered.com/app/115100/Costu...   2011-10-14   \n",
       "1516   http://store.steampowered.com/app/231040/Beatb...   2013-08-06   \n",
       "2982   http://store.steampowered.com/app/311340/METAL...   2014-12-18   \n",
       "4403   http://store.steampowered.com/app/238240/Edge_...   2015-09-17   \n",
       "4475   http://store.steampowered.com/app/334120/Armik...   2015-09-30   \n",
       "24516  http://store.steampowered.com/app/381990/Drago...   2010-10-28   \n",
       "26896  http://store.steampowered.com/app/220200/Kerba...   2015-04-27   \n",
       "29002  http://store.steampowered.com/app/237930/Trans...   2014-05-20   \n",
       "29278  http://store.steampowered.com/app/280220/Creep...   2014-03-27   \n",
       "29848  http://store.steampowered.com/app/224260/No_Mo...   2011-10-31   \n",
       "30044  http://store.steampowered.com/app/206420/Saint...   2013-08-19   \n",
       "30746  http://store.steampowered.com/app/49520/Border...   2012-09-17   \n",
       "30833  http://store.steampowered.com/app/216150/Maple...   2012-08-09   \n",
       "31877  http://store.steampowered.com/app/6880/Just_Ca...   2006-09-22   \n",
       "\n",
       "                                                    tags  discount_price  \\\n",
       "639    [Strategy, Turn-Based, Tactical, Indie, Asynch...             NaN   \n",
       "756    [RPG, Adventure, Comedy, Casual, Singleplayer,...             NaN   \n",
       "1516   [Indie, Music, Adventure, Rhythm, Casual, Acti...             NaN   \n",
       "2982   [Stealth, Action, Short, Tactical, Singleplaye...             NaN   \n",
       "4403   [Sandbox, Indie, Adventure, Action, 2D, Crafti...             NaN   \n",
       "4475   [Adventure, Indie, Point & Click, Comedy, Puzz...             NaN   \n",
       "24516  [Free to Play, Massively Multiplayer, MMORPG, ...             NaN   \n",
       "26896  [Space, Simulation, Sandbox, Physics, Science,...             NaN   \n",
       "29002  [Great Soundtrack, Female Protagonist, Indie, ...             NaN   \n",
       "29278  [Strategy, Tower Defense, Indie, Sci-fi, RTS, ...             NaN   \n",
       "29848  [Free to Play, Zombies, Multiplayer, Survival,...             NaN   \n",
       "30044  [Open World, Action, Comedy, Co-op, Third-Pers...             NaN   \n",
       "30746  [FPS, Co-op, Action, RPG, Loot, Shooter, Open ...             NaN   \n",
       "30833  [Free to Play, Massively Multiplayer, RPG, Ani...             NaN   \n",
       "31877  [Action, Open World, Shooter, Third Person, Si...             NaN   \n",
       "\n",
       "                                             reviews_url  \\\n",
       "639    http://steamcommunity.com/app/98200/reviews/?b...   \n",
       "756    http://steamcommunity.com/app/115100/reviews/?...   \n",
       "1516   http://steamcommunity.com/app/231040/reviews/?...   \n",
       "2982   http://steamcommunity.com/app/311340/reviews/?...   \n",
       "4403   http://steamcommunity.com/app/238240/reviews/?...   \n",
       "4475   http://steamcommunity.com/app/334120/reviews/?...   \n",
       "24516  http://steamcommunity.com/app/381990/reviews/?...   \n",
       "26896  http://steamcommunity.com/app/220200/reviews/?...   \n",
       "29002  http://steamcommunity.com/app/237930/reviews/?...   \n",
       "29278  http://steamcommunity.com/app/280220/reviews/?...   \n",
       "29848  http://steamcommunity.com/app/224260/reviews/?...   \n",
       "30044  http://steamcommunity.com/app/206420/reviews/?...   \n",
       "30746  http://steamcommunity.com/app/49520/reviews/?b...   \n",
       "30833  http://steamcommunity.com/app/216150/reviews/?...   \n",
       "31877  http://steamcommunity.com/app/6880/reviews/?br...   \n",
       "\n",
       "                                                   specs         price  \\\n",
       "639    [Single-player, Multi-player, Steam Achievemen...         24.99   \n",
       "756    [Single-player, Steam Achievements, Steam Trad...          9.99   \n",
       "1516   [Single-player, Steam Achievements, Full contr...          9.99   \n",
       "2982   [Single-player, Steam Achievements, Full contr...         19.99   \n",
       "4403   [Single-player, Multi-player, Co-op, Steam Ach...         14.99   \n",
       "4475                                     [Single-player]          9.99   \n",
       "24516  [Single-player, Multi-player, MMO, Steam Achie...  Free to Play   \n",
       "26896               [Single-player, Steam Trading Cards]         39.99   \n",
       "29002  [Single-player, Steam Achievements, Full contr...         19.99   \n",
       "29278  [Single-player, Steam Achievements, Steam Clou...         14.99   \n",
       "29848  [Multi-player, Co-op, Cross-Platform Multiplay...          Free   \n",
       "30044  [Single-player, Co-op, Steam Achievements, Ful...         14.99   \n",
       "30746  [Single-player, Co-op, Steam Achievements, Ful...         19.99   \n",
       "30833  [Single-player, Multi-player, MMO, Co-op, Stea...  Free to Play   \n",
       "31877                                    [Single-player]          6.99   \n",
       "\n",
       "       early_access      id                                 developer  \\\n",
       "639           False   98200                                    Mode 7   \n",
       "756           False  115100                   Double Fine Productions   \n",
       "1516          False  231040                                   Threaks   \n",
       "2982          False  311340                        Kojima Productions   \n",
       "4403          False  238240                          Handyman Studios   \n",
       "4475          False  334120                       Pencil Test Studios   \n",
       "24516         False  381990                       Gravity Interactive   \n",
       "26896         False  220200                                     Squad   \n",
       "29002         False  237930                          Supergiant Games   \n",
       "29278         False  280220                           Knuckle Cracker   \n",
       "29848         False  224260                 No More Room in Hell Team   \n",
       "30044         False  206420                      Deep Silver Volition   \n",
       "30746         False   49520  Gearbox Software,Aspyr (Mac &amp; Linux)   \n",
       "30833         False  216150                                     Nexon   \n",
       "31877         False    6880                         Avalanche Studios   \n",
       "\n",
       "                     sentiment metascore  \n",
       "639              Very Positive        85  \n",
       "756    Overwhelmingly Positive       NaN  \n",
       "1516             Very Positive        75  \n",
       "2982             Very Positive        80  \n",
       "4403                     Mixed       NaN  \n",
       "4475                     Mixed        57  \n",
       "24516          Mostly Positive        65  \n",
       "26896  Overwhelmingly Positive        88  \n",
       "29002  Overwhelmingly Positive        83  \n",
       "29278  Overwhelmingly Positive       NaN  \n",
       "29848            Very Positive       NaN  \n",
       "30044            Very Positive        86  \n",
       "30746  Overwhelmingly Positive        89  \n",
       "30833                    Mixed       NaN  \n",
       "31877                    Mixed        75  "
      ]
     },
     "execution_count": 287,
     "metadata": {},
     "output_type": "execute_result"
    }
   ],
   "source": [
    "games[games.title.isin(user_0_games_played)]"
   ]
  },
  {
   "cell_type": "code",
   "execution_count": null,
   "metadata": {},
   "outputs": [],
   "source": []
  },
  {
   "cell_type": "markdown",
   "metadata": {},
   "source": [
    "#### Binary Train Set"
   ]
  },
  {
   "cell_type": "code",
   "execution_count": 200,
   "metadata": {},
   "outputs": [],
   "source": [
    "binary_ratings_mat = train_ratings_mat.copy()"
   ]
  },
  {
   "cell_type": "code",
   "execution_count": 201,
   "metadata": {},
   "outputs": [],
   "source": [
    "binary_ratings_mat.fillna(0, inplace = True)"
   ]
  },
  {
   "cell_type": "code",
   "execution_count": 202,
   "metadata": {},
   "outputs": [],
   "source": [
    "binary_ratings_mat[binary_ratings_mat!= 0]=1"
   ]
  },
  {
   "cell_type": "code",
   "execution_count": 203,
   "metadata": {},
   "outputs": [
    {
     "data": {
      "text/html": [
       "<div>\n",
       "<style scoped>\n",
       "    .dataframe tbody tr th:only-of-type {\n",
       "        vertical-align: middle;\n",
       "    }\n",
       "\n",
       "    .dataframe tbody tr th {\n",
       "        vertical-align: top;\n",
       "    }\n",
       "\n",
       "    .dataframe thead th {\n",
       "        text-align: right;\n",
       "    }\n",
       "</style>\n",
       "<table border=\"1\" class=\"dataframe\">\n",
       "  <thead>\n",
       "    <tr style=\"text-align: right;\">\n",
       "      <th>item_id</th>\n",
       "      <th>10</th>\n",
       "      <th>20</th>\n",
       "      <th>50</th>\n",
       "      <th>70</th>\n",
       "      <th>80</th>\n",
       "      <th>100</th>\n",
       "      <th>130</th>\n",
       "      <th>220</th>\n",
       "      <th>240</th>\n",
       "      <th>320</th>\n",
       "      <th>...</th>\n",
       "      <th>346900</th>\n",
       "      <th>363970</th>\n",
       "      <th>367540</th>\n",
       "      <th>377160</th>\n",
       "      <th>386360</th>\n",
       "      <th>407530</th>\n",
       "      <th>409710</th>\n",
       "      <th>409720</th>\n",
       "      <th>433850</th>\n",
       "      <th>439700</th>\n",
       "    </tr>\n",
       "    <tr>\n",
       "      <th>user_id</th>\n",
       "      <th></th>\n",
       "      <th></th>\n",
       "      <th></th>\n",
       "      <th></th>\n",
       "      <th></th>\n",
       "      <th></th>\n",
       "      <th></th>\n",
       "      <th></th>\n",
       "      <th></th>\n",
       "      <th></th>\n",
       "      <th></th>\n",
       "      <th></th>\n",
       "      <th></th>\n",
       "      <th></th>\n",
       "      <th></th>\n",
       "      <th></th>\n",
       "      <th></th>\n",
       "      <th></th>\n",
       "      <th></th>\n",
       "      <th></th>\n",
       "      <th></th>\n",
       "    </tr>\n",
       "  </thead>\n",
       "  <tbody>\n",
       "    <tr>\n",
       "      <th>--000--</th>\n",
       "      <td>0.0</td>\n",
       "      <td>0.0</td>\n",
       "      <td>0.0</td>\n",
       "      <td>0.0</td>\n",
       "      <td>0.0</td>\n",
       "      <td>0.0</td>\n",
       "      <td>0.0</td>\n",
       "      <td>0.0</td>\n",
       "      <td>0.0</td>\n",
       "      <td>0.0</td>\n",
       "      <td>...</td>\n",
       "      <td>0.0</td>\n",
       "      <td>1.0</td>\n",
       "      <td>0.0</td>\n",
       "      <td>0.0</td>\n",
       "      <td>0.0</td>\n",
       "      <td>0.0</td>\n",
       "      <td>0.0</td>\n",
       "      <td>0.0</td>\n",
       "      <td>0.0</td>\n",
       "      <td>0.0</td>\n",
       "    </tr>\n",
       "    <tr>\n",
       "      <th>-404PageNotFound-</th>\n",
       "      <td>0.0</td>\n",
       "      <td>0.0</td>\n",
       "      <td>0.0</td>\n",
       "      <td>0.0</td>\n",
       "      <td>0.0</td>\n",
       "      <td>0.0</td>\n",
       "      <td>0.0</td>\n",
       "      <td>0.0</td>\n",
       "      <td>1.0</td>\n",
       "      <td>0.0</td>\n",
       "      <td>...</td>\n",
       "      <td>0.0</td>\n",
       "      <td>0.0</td>\n",
       "      <td>0.0</td>\n",
       "      <td>0.0</td>\n",
       "      <td>1.0</td>\n",
       "      <td>0.0</td>\n",
       "      <td>0.0</td>\n",
       "      <td>0.0</td>\n",
       "      <td>0.0</td>\n",
       "      <td>0.0</td>\n",
       "    </tr>\n",
       "    <tr>\n",
       "      <th>-AnimeIsMyThing-</th>\n",
       "      <td>0.0</td>\n",
       "      <td>0.0</td>\n",
       "      <td>0.0</td>\n",
       "      <td>0.0</td>\n",
       "      <td>0.0</td>\n",
       "      <td>0.0</td>\n",
       "      <td>0.0</td>\n",
       "      <td>0.0</td>\n",
       "      <td>1.0</td>\n",
       "      <td>0.0</td>\n",
       "      <td>...</td>\n",
       "      <td>0.0</td>\n",
       "      <td>1.0</td>\n",
       "      <td>0.0</td>\n",
       "      <td>0.0</td>\n",
       "      <td>1.0</td>\n",
       "      <td>0.0</td>\n",
       "      <td>0.0</td>\n",
       "      <td>0.0</td>\n",
       "      <td>1.0</td>\n",
       "      <td>0.0</td>\n",
       "    </tr>\n",
       "    <tr>\n",
       "      <th>-Azsael-</th>\n",
       "      <td>0.0</td>\n",
       "      <td>0.0</td>\n",
       "      <td>0.0</td>\n",
       "      <td>0.0</td>\n",
       "      <td>0.0</td>\n",
       "      <td>0.0</td>\n",
       "      <td>0.0</td>\n",
       "      <td>0.0</td>\n",
       "      <td>0.0</td>\n",
       "      <td>0.0</td>\n",
       "      <td>...</td>\n",
       "      <td>0.0</td>\n",
       "      <td>0.0</td>\n",
       "      <td>0.0</td>\n",
       "      <td>NaN</td>\n",
       "      <td>0.0</td>\n",
       "      <td>0.0</td>\n",
       "      <td>0.0</td>\n",
       "      <td>0.0</td>\n",
       "      <td>0.0</td>\n",
       "      <td>0.0</td>\n",
       "    </tr>\n",
       "    <tr>\n",
       "      <th>-GM-Dragon</th>\n",
       "      <td>NaN</td>\n",
       "      <td>0.0</td>\n",
       "      <td>0.0</td>\n",
       "      <td>0.0</td>\n",
       "      <td>0.0</td>\n",
       "      <td>0.0</td>\n",
       "      <td>0.0</td>\n",
       "      <td>0.0</td>\n",
       "      <td>0.0</td>\n",
       "      <td>0.0</td>\n",
       "      <td>...</td>\n",
       "      <td>0.0</td>\n",
       "      <td>0.0</td>\n",
       "      <td>0.0</td>\n",
       "      <td>1.0</td>\n",
       "      <td>0.0</td>\n",
       "      <td>1.0</td>\n",
       "      <td>0.0</td>\n",
       "      <td>0.0</td>\n",
       "      <td>0.0</td>\n",
       "      <td>0.0</td>\n",
       "    </tr>\n",
       "  </tbody>\n",
       "</table>\n",
       "<p>5 rows × 210 columns</p>\n",
       "</div>"
      ],
      "text/plain": [
       "item_id            10      20      50      70      80      100     130     \\\n",
       "user_id                                                                     \n",
       "--000--               0.0     0.0     0.0     0.0     0.0     0.0     0.0   \n",
       "-404PageNotFound-     0.0     0.0     0.0     0.0     0.0     0.0     0.0   \n",
       "-AnimeIsMyThing-      0.0     0.0     0.0     0.0     0.0     0.0     0.0   \n",
       "-Azsael-              0.0     0.0     0.0     0.0     0.0     0.0     0.0   \n",
       "-GM-Dragon            NaN     0.0     0.0     0.0     0.0     0.0     0.0   \n",
       "\n",
       "item_id            220     240     320     ...  346900  363970  367540  \\\n",
       "user_id                                    ...                           \n",
       "--000--               0.0     0.0     0.0  ...     0.0     1.0     0.0   \n",
       "-404PageNotFound-     0.0     1.0     0.0  ...     0.0     0.0     0.0   \n",
       "-AnimeIsMyThing-      0.0     1.0     0.0  ...     0.0     1.0     0.0   \n",
       "-Azsael-              0.0     0.0     0.0  ...     0.0     0.0     0.0   \n",
       "-GM-Dragon            0.0     0.0     0.0  ...     0.0     0.0     0.0   \n",
       "\n",
       "item_id            377160  386360  407530  409710  409720  433850  439700  \n",
       "user_id                                                                    \n",
       "--000--               0.0     0.0     0.0     0.0     0.0     0.0     0.0  \n",
       "-404PageNotFound-     0.0     1.0     0.0     0.0     0.0     0.0     0.0  \n",
       "-AnimeIsMyThing-      0.0     1.0     0.0     0.0     0.0     1.0     0.0  \n",
       "-Azsael-              NaN     0.0     0.0     0.0     0.0     0.0     0.0  \n",
       "-GM-Dragon            1.0     0.0     1.0     0.0     0.0     0.0     0.0  \n",
       "\n",
       "[5 rows x 210 columns]"
      ]
     },
     "execution_count": 203,
     "metadata": {},
     "output_type": "execute_result"
    }
   ],
   "source": [
    "binary_train.head()"
   ]
  },
  {
   "cell_type": "code",
   "execution_count": 205,
   "metadata": {},
   "outputs": [
    {
     "data": {
      "text/plain": [
       "(25723, 210)"
      ]
     },
     "execution_count": 205,
     "metadata": {},
     "output_type": "execute_result"
    }
   ],
   "source": [
    "binary_ratings_mat.shape"
   ]
  },
  {
   "cell_type": "code",
   "execution_count": 206,
   "metadata": {},
   "outputs": [],
   "source": [
    "binary_sim_mat = cosine_similarity(binary_ratings_mat.T)"
   ]
  },
  {
   "cell_type": "code",
   "execution_count": 207,
   "metadata": {},
   "outputs": [
    {
     "data": {
      "text/plain": [
       "array([[1.        , 0.28087585, 0.24429448, ..., 0.02483223, 0.11692905,\n",
       "        0.02535518],\n",
       "       [0.28087585, 1.        , 0.46726923, ..., 0.03626067, 0.05120387,\n",
       "        0.01250171],\n",
       "       [0.24429448, 0.46726923, 1.        , ..., 0.03808209, 0.02860738,\n",
       "        0.00706983],\n",
       "       ...,\n",
       "       [0.02483223, 0.03626067, 0.03808209, ..., 1.        , 0.01721829,\n",
       "        0.        ],\n",
       "       [0.11692905, 0.05120387, 0.02860738, ..., 0.01721829, 1.        ,\n",
       "        0.16968228],\n",
       "       [0.02535518, 0.01250171, 0.00706983, ..., 0.        , 0.16968228,\n",
       "        1.        ]])"
      ]
     },
     "execution_count": 207,
     "metadata": {},
     "output_type": "execute_result"
    }
   ],
   "source": [
    "binary_sim_mat"
   ]
  },
  {
   "cell_type": "code",
   "execution_count": 208,
   "metadata": {},
   "outputs": [],
   "source": [
    "binary_sim_mat = pd.DataFrame(binary_sim_mat, index =binary_ratings_mat.columns)\n",
    "binary_sim_mat.columns = binary_ratings_mat.columns"
   ]
  },
  {
   "cell_type": "code",
   "execution_count": 288,
   "metadata": {},
   "outputs": [
    {
     "data": {
      "text/html": [
       "<div>\n",
       "<style scoped>\n",
       "    .dataframe tbody tr th:only-of-type {\n",
       "        vertical-align: middle;\n",
       "    }\n",
       "\n",
       "    .dataframe tbody tr th {\n",
       "        vertical-align: top;\n",
       "    }\n",
       "\n",
       "    .dataframe thead th {\n",
       "        text-align: right;\n",
       "    }\n",
       "</style>\n",
       "<table border=\"1\" class=\"dataframe\">\n",
       "  <thead>\n",
       "    <tr style=\"text-align: right;\">\n",
       "      <th>item_id</th>\n",
       "      <th>10</th>\n",
       "      <th>20</th>\n",
       "      <th>50</th>\n",
       "      <th>70</th>\n",
       "      <th>80</th>\n",
       "      <th>100</th>\n",
       "      <th>130</th>\n",
       "      <th>220</th>\n",
       "      <th>240</th>\n",
       "      <th>320</th>\n",
       "      <th>...</th>\n",
       "      <th>346900</th>\n",
       "      <th>363970</th>\n",
       "      <th>367540</th>\n",
       "      <th>377160</th>\n",
       "      <th>386360</th>\n",
       "      <th>407530</th>\n",
       "      <th>409710</th>\n",
       "      <th>409720</th>\n",
       "      <th>433850</th>\n",
       "      <th>439700</th>\n",
       "    </tr>\n",
       "    <tr>\n",
       "      <th>item_id</th>\n",
       "      <th></th>\n",
       "      <th></th>\n",
       "      <th></th>\n",
       "      <th></th>\n",
       "      <th></th>\n",
       "      <th></th>\n",
       "      <th></th>\n",
       "      <th></th>\n",
       "      <th></th>\n",
       "      <th></th>\n",
       "      <th></th>\n",
       "      <th></th>\n",
       "      <th></th>\n",
       "      <th></th>\n",
       "      <th></th>\n",
       "      <th></th>\n",
       "      <th></th>\n",
       "      <th></th>\n",
       "      <th></th>\n",
       "      <th></th>\n",
       "      <th></th>\n",
       "    </tr>\n",
       "  </thead>\n",
       "  <tbody>\n",
       "    <tr>\n",
       "      <th>10</th>\n",
       "      <td>1.000000</td>\n",
       "      <td>0.280876</td>\n",
       "      <td>0.244294</td>\n",
       "      <td>0.319064</td>\n",
       "      <td>0.624034</td>\n",
       "      <td>0.476740</td>\n",
       "      <td>0.237224</td>\n",
       "      <td>0.319999</td>\n",
       "      <td>0.391497</td>\n",
       "      <td>0.271649</td>\n",
       "      <td>...</td>\n",
       "      <td>0.151981</td>\n",
       "      <td>0.152361</td>\n",
       "      <td>0.043638</td>\n",
       "      <td>0.171947</td>\n",
       "      <td>0.118159</td>\n",
       "      <td>0.062672</td>\n",
       "      <td>0.060451</td>\n",
       "      <td>0.024832</td>\n",
       "      <td>0.116929</td>\n",
       "      <td>0.025355</td>\n",
       "    </tr>\n",
       "    <tr>\n",
       "      <th>20</th>\n",
       "      <td>0.280876</td>\n",
       "      <td>1.000000</td>\n",
       "      <td>0.467269</td>\n",
       "      <td>0.503379</td>\n",
       "      <td>0.249255</td>\n",
       "      <td>0.208363</td>\n",
       "      <td>0.462701</td>\n",
       "      <td>0.325663</td>\n",
       "      <td>0.256313</td>\n",
       "      <td>0.340841</td>\n",
       "      <td>...</td>\n",
       "      <td>0.117658</td>\n",
       "      <td>0.104715</td>\n",
       "      <td>0.045907</td>\n",
       "      <td>0.137093</td>\n",
       "      <td>0.082407</td>\n",
       "      <td>0.035216</td>\n",
       "      <td>0.058370</td>\n",
       "      <td>0.036261</td>\n",
       "      <td>0.051204</td>\n",
       "      <td>0.012502</td>\n",
       "    </tr>\n",
       "    <tr>\n",
       "      <th>50</th>\n",
       "      <td>0.244294</td>\n",
       "      <td>0.467269</td>\n",
       "      <td>1.000000</td>\n",
       "      <td>0.472693</td>\n",
       "      <td>0.240980</td>\n",
       "      <td>0.229228</td>\n",
       "      <td>0.685734</td>\n",
       "      <td>0.316457</td>\n",
       "      <td>0.232749</td>\n",
       "      <td>0.334738</td>\n",
       "      <td>...</td>\n",
       "      <td>0.086222</td>\n",
       "      <td>0.083506</td>\n",
       "      <td>0.046153</td>\n",
       "      <td>0.140928</td>\n",
       "      <td>0.061125</td>\n",
       "      <td>0.027708</td>\n",
       "      <td>0.073041</td>\n",
       "      <td>0.038082</td>\n",
       "      <td>0.028607</td>\n",
       "      <td>0.007070</td>\n",
       "    </tr>\n",
       "    <tr>\n",
       "      <th>70</th>\n",
       "      <td>0.319064</td>\n",
       "      <td>0.503379</td>\n",
       "      <td>0.472693</td>\n",
       "      <td>1.000000</td>\n",
       "      <td>0.260498</td>\n",
       "      <td>0.220725</td>\n",
       "      <td>0.464866</td>\n",
       "      <td>0.455967</td>\n",
       "      <td>0.354746</td>\n",
       "      <td>0.385184</td>\n",
       "      <td>...</td>\n",
       "      <td>0.150102</td>\n",
       "      <td>0.148132</td>\n",
       "      <td>0.068003</td>\n",
       "      <td>0.236434</td>\n",
       "      <td>0.117636</td>\n",
       "      <td>0.044653</td>\n",
       "      <td>0.108656</td>\n",
       "      <td>0.044961</td>\n",
       "      <td>0.069395</td>\n",
       "      <td>0.015191</td>\n",
       "    </tr>\n",
       "    <tr>\n",
       "      <th>80</th>\n",
       "      <td>0.624034</td>\n",
       "      <td>0.249255</td>\n",
       "      <td>0.240980</td>\n",
       "      <td>0.260498</td>\n",
       "      <td>1.000000</td>\n",
       "      <td>0.550113</td>\n",
       "      <td>0.224939</td>\n",
       "      <td>0.263255</td>\n",
       "      <td>0.319610</td>\n",
       "      <td>0.243182</td>\n",
       "      <td>...</td>\n",
       "      <td>0.126513</td>\n",
       "      <td>0.132583</td>\n",
       "      <td>0.034555</td>\n",
       "      <td>0.124415</td>\n",
       "      <td>0.095091</td>\n",
       "      <td>0.053966</td>\n",
       "      <td>0.045477</td>\n",
       "      <td>0.023711</td>\n",
       "      <td>0.090927</td>\n",
       "      <td>0.017167</td>\n",
       "    </tr>\n",
       "  </tbody>\n",
       "</table>\n",
       "<p>5 rows × 210 columns</p>\n",
       "</div>"
      ],
      "text/plain": [
       "item_id    10        20        50        70        80        100       130     \\\n",
       "item_id                                                                         \n",
       "10       1.000000  0.280876  0.244294  0.319064  0.624034  0.476740  0.237224   \n",
       "20       0.280876  1.000000  0.467269  0.503379  0.249255  0.208363  0.462701   \n",
       "50       0.244294  0.467269  1.000000  0.472693  0.240980  0.229228  0.685734   \n",
       "70       0.319064  0.503379  0.472693  1.000000  0.260498  0.220725  0.464866   \n",
       "80       0.624034  0.249255  0.240980  0.260498  1.000000  0.550113  0.224939   \n",
       "\n",
       "item_id    220       240       320     ...    346900    363970    367540  \\\n",
       "item_id                                ...                                 \n",
       "10       0.319999  0.391497  0.271649  ...  0.151981  0.152361  0.043638   \n",
       "20       0.325663  0.256313  0.340841  ...  0.117658  0.104715  0.045907   \n",
       "50       0.316457  0.232749  0.334738  ...  0.086222  0.083506  0.046153   \n",
       "70       0.455967  0.354746  0.385184  ...  0.150102  0.148132  0.068003   \n",
       "80       0.263255  0.319610  0.243182  ...  0.126513  0.132583  0.034555   \n",
       "\n",
       "item_id    377160    386360    407530    409710    409720    433850    439700  \n",
       "item_id                                                                        \n",
       "10       0.171947  0.118159  0.062672  0.060451  0.024832  0.116929  0.025355  \n",
       "20       0.137093  0.082407  0.035216  0.058370  0.036261  0.051204  0.012502  \n",
       "50       0.140928  0.061125  0.027708  0.073041  0.038082  0.028607  0.007070  \n",
       "70       0.236434  0.117636  0.044653  0.108656  0.044961  0.069395  0.015191  \n",
       "80       0.124415  0.095091  0.053966  0.045477  0.023711  0.090927  0.017167  \n",
       "\n",
       "[5 rows x 210 columns]"
      ]
     },
     "execution_count": 288,
     "metadata": {},
     "output_type": "execute_result"
    }
   ],
   "source": [
    "binary_sim_mat.head()"
   ]
  },
  {
   "cell_type": "code",
   "execution_count": 219,
   "metadata": {},
   "outputs": [],
   "source": [
    "def train_test(ratings_mat):\n",
    "    train = ratings_mat.copy()\n",
    "    test = []\n",
    "    for i in range(train.shape[0]):\n",
    "        ratings = np.array(train.iloc[i].fillna(0)).nonzero()[0]\n",
    "        idx = np.random.choice(ratings,size =  5, replace = False)\n",
    "        #append values to test_set\n",
    "        test.append(idx)\n",
    "        # change value to nan \n",
    "        train.iloc[i,idx]=np.nan\n",
    "    return train, test"
   ]
  },
  {
   "cell_type": "code",
   "execution_count": null,
   "metadata": {},
   "outputs": [
    {
     "name": "stderr",
     "output_type": "stream",
     "text": [
      "/opt/conda/lib/python3.7/site-packages/ipykernel_launcher.py:13: RuntimeWarning: invalid value encountered in double_scalars\n",
      "  del sys.path[0]\n"
     ]
    }
   ],
   "source": [
    "binary_predictions=[predict(user_id, binary_sim_mat, binary_ratings_mat,10) for user_id in range(binary_ratings_mat.shape[0])]"
   ]
  },
  {
   "cell_type": "markdown",
   "metadata": {},
   "source": [
    "## User Reviews"
   ]
  },
  {
   "cell_type": "code",
   "execution_count": 57,
   "metadata": {},
   "outputs": [],
   "source": [
    "with open('user_reviews.json') as f:\n",
    "    lines2 = f.read().splitlines()"
   ]
  },
  {
   "cell_type": "code",
   "execution_count": 72,
   "metadata": {},
   "outputs": [],
   "source": [
    "lst2 = [ast.literal_eval(line) for line in lines2]"
   ]
  },
  {
   "cell_type": "code",
   "execution_count": 73,
   "metadata": {},
   "outputs": [],
   "source": [
    "user_reviews = pd.DataFrame(lst2)"
   ]
  },
  {
   "cell_type": "code",
   "execution_count": 74,
   "metadata": {},
   "outputs": [
    {
     "data": {
      "text/html": [
       "<div>\n",
       "<style scoped>\n",
       "    .dataframe tbody tr th:only-of-type {\n",
       "        vertical-align: middle;\n",
       "    }\n",
       "\n",
       "    .dataframe tbody tr th {\n",
       "        vertical-align: top;\n",
       "    }\n",
       "\n",
       "    .dataframe thead th {\n",
       "        text-align: right;\n",
       "    }\n",
       "</style>\n",
       "<table border=\"1\" class=\"dataframe\">\n",
       "  <thead>\n",
       "    <tr style=\"text-align: right;\">\n",
       "      <th></th>\n",
       "      <th>user_id</th>\n",
       "      <th>user_url</th>\n",
       "      <th>reviews</th>\n",
       "    </tr>\n",
       "  </thead>\n",
       "  <tbody>\n",
       "    <tr>\n",
       "      <th>0</th>\n",
       "      <td>76561197970982479</td>\n",
       "      <td>http://steamcommunity.com/profiles/76561197970...</td>\n",
       "      <td>[{'funny': '', 'posted': 'Posted November 5, 2...</td>\n",
       "    </tr>\n",
       "    <tr>\n",
       "      <th>1</th>\n",
       "      <td>js41637</td>\n",
       "      <td>http://steamcommunity.com/id/js41637</td>\n",
       "      <td>[{'funny': '', 'posted': 'Posted June 24, 2014...</td>\n",
       "    </tr>\n",
       "    <tr>\n",
       "      <th>2</th>\n",
       "      <td>evcentric</td>\n",
       "      <td>http://steamcommunity.com/id/evcentric</td>\n",
       "      <td>[{'funny': '', 'posted': 'Posted February 3.',...</td>\n",
       "    </tr>\n",
       "    <tr>\n",
       "      <th>3</th>\n",
       "      <td>doctr</td>\n",
       "      <td>http://steamcommunity.com/id/doctr</td>\n",
       "      <td>[{'funny': '', 'posted': 'Posted October 14, 2...</td>\n",
       "    </tr>\n",
       "    <tr>\n",
       "      <th>4</th>\n",
       "      <td>maplemage</td>\n",
       "      <td>http://steamcommunity.com/id/maplemage</td>\n",
       "      <td>[{'funny': '3 people found this review funny',...</td>\n",
       "    </tr>\n",
       "  </tbody>\n",
       "</table>\n",
       "</div>"
      ],
      "text/plain": [
       "             user_id                                           user_url  \\\n",
       "0  76561197970982479  http://steamcommunity.com/profiles/76561197970...   \n",
       "1            js41637               http://steamcommunity.com/id/js41637   \n",
       "2          evcentric             http://steamcommunity.com/id/evcentric   \n",
       "3              doctr                 http://steamcommunity.com/id/doctr   \n",
       "4          maplemage             http://steamcommunity.com/id/maplemage   \n",
       "\n",
       "                                             reviews  \n",
       "0  [{'funny': '', 'posted': 'Posted November 5, 2...  \n",
       "1  [{'funny': '', 'posted': 'Posted June 24, 2014...  \n",
       "2  [{'funny': '', 'posted': 'Posted February 3.',...  \n",
       "3  [{'funny': '', 'posted': 'Posted October 14, 2...  \n",
       "4  [{'funny': '3 people found this review funny',...  "
      ]
     },
     "execution_count": 74,
     "metadata": {},
     "output_type": "execute_result"
    }
   ],
   "source": [
    "user_reviews.head()"
   ]
  },
  {
   "cell_type": "code",
   "execution_count": 75,
   "metadata": {},
   "outputs": [
    {
     "data": {
      "text/plain": [
       "(25799, 3)"
      ]
     },
     "execution_count": 75,
     "metadata": {},
     "output_type": "execute_result"
    }
   ],
   "source": [
    "user_reviews.shape"
   ]
  },
  {
   "cell_type": "code",
   "execution_count": 76,
   "metadata": {},
   "outputs": [
    {
     "data": {
      "text/plain": [
       "25485"
      ]
     },
     "execution_count": 76,
     "metadata": {},
     "output_type": "execute_result"
    }
   ],
   "source": [
    "user_reviews.user_id.nunique()"
   ]
  },
  {
   "cell_type": "code",
   "execution_count": 77,
   "metadata": {},
   "outputs": [],
   "source": [
    "user_reviews.drop_duplicates(subset =\"user_id\", \n",
    "                     keep = 'first', inplace = True) "
   ]
  },
  {
   "cell_type": "code",
   "execution_count": 78,
   "metadata": {},
   "outputs": [
    {
     "data": {
      "text/plain": [
       "25485"
      ]
     },
     "execution_count": 78,
     "metadata": {},
     "output_type": "execute_result"
    }
   ],
   "source": [
    "user_reviews.user_id.nunique()"
   ]
  },
  {
   "cell_type": "code",
   "execution_count": 79,
   "metadata": {},
   "outputs": [],
   "source": [
    "user_reviews_lst = user_reviews.to_dict('records')"
   ]
  },
  {
   "cell_type": "code",
   "execution_count": 80,
   "metadata": {},
   "outputs": [],
   "source": [
    "reviews = pd.json_normalize(data= user_reviews_lst, record_path = 'reviews', meta = ['user_id'])"
   ]
  },
  {
   "cell_type": "code",
   "execution_count": 81,
   "metadata": {},
   "outputs": [
    {
     "data": {
      "text/html": [
       "<div>\n",
       "<style scoped>\n",
       "    .dataframe tbody tr th:only-of-type {\n",
       "        vertical-align: middle;\n",
       "    }\n",
       "\n",
       "    .dataframe tbody tr th {\n",
       "        vertical-align: top;\n",
       "    }\n",
       "\n",
       "    .dataframe thead th {\n",
       "        text-align: right;\n",
       "    }\n",
       "</style>\n",
       "<table border=\"1\" class=\"dataframe\">\n",
       "  <thead>\n",
       "    <tr style=\"text-align: right;\">\n",
       "      <th></th>\n",
       "      <th>funny</th>\n",
       "      <th>posted</th>\n",
       "      <th>last_edited</th>\n",
       "      <th>item_id</th>\n",
       "      <th>helpful</th>\n",
       "      <th>recommend</th>\n",
       "      <th>review</th>\n",
       "      <th>user_id</th>\n",
       "    </tr>\n",
       "  </thead>\n",
       "  <tbody>\n",
       "    <tr>\n",
       "      <th>0</th>\n",
       "      <td></td>\n",
       "      <td>Posted November 5, 2011.</td>\n",
       "      <td></td>\n",
       "      <td>1250</td>\n",
       "      <td>No ratings yet</td>\n",
       "      <td>True</td>\n",
       "      <td>Simple yet with great replayability. In my opi...</td>\n",
       "      <td>76561197970982479</td>\n",
       "    </tr>\n",
       "    <tr>\n",
       "      <th>1</th>\n",
       "      <td></td>\n",
       "      <td>Posted July 15, 2011.</td>\n",
       "      <td></td>\n",
       "      <td>22200</td>\n",
       "      <td>No ratings yet</td>\n",
       "      <td>True</td>\n",
       "      <td>It's unique and worth a playthrough.</td>\n",
       "      <td>76561197970982479</td>\n",
       "    </tr>\n",
       "    <tr>\n",
       "      <th>2</th>\n",
       "      <td></td>\n",
       "      <td>Posted April 21, 2011.</td>\n",
       "      <td></td>\n",
       "      <td>43110</td>\n",
       "      <td>No ratings yet</td>\n",
       "      <td>True</td>\n",
       "      <td>Great atmosphere. The gunplay can be a bit chu...</td>\n",
       "      <td>76561197970982479</td>\n",
       "    </tr>\n",
       "    <tr>\n",
       "      <th>3</th>\n",
       "      <td></td>\n",
       "      <td>Posted June 24, 2014.</td>\n",
       "      <td></td>\n",
       "      <td>251610</td>\n",
       "      <td>15 of 20 people (75%) found this review helpful</td>\n",
       "      <td>True</td>\n",
       "      <td>I know what you think when you see this title ...</td>\n",
       "      <td>js41637</td>\n",
       "    </tr>\n",
       "    <tr>\n",
       "      <th>4</th>\n",
       "      <td></td>\n",
       "      <td>Posted September 8, 2013.</td>\n",
       "      <td></td>\n",
       "      <td>227300</td>\n",
       "      <td>0 of 1 people (0%) found this review helpful</td>\n",
       "      <td>True</td>\n",
       "      <td>For a simple (it's actually not all that simpl...</td>\n",
       "      <td>js41637</td>\n",
       "    </tr>\n",
       "  </tbody>\n",
       "</table>\n",
       "</div>"
      ],
      "text/plain": [
       "  funny                     posted last_edited item_id  \\\n",
       "0         Posted November 5, 2011.                1250   \n",
       "1            Posted July 15, 2011.               22200   \n",
       "2           Posted April 21, 2011.               43110   \n",
       "3            Posted June 24, 2014.              251610   \n",
       "4        Posted September 8, 2013.              227300   \n",
       "\n",
       "                                           helpful  recommend  \\\n",
       "0                                   No ratings yet       True   \n",
       "1                                   No ratings yet       True   \n",
       "2                                   No ratings yet       True   \n",
       "3  15 of 20 people (75%) found this review helpful       True   \n",
       "4     0 of 1 people (0%) found this review helpful       True   \n",
       "\n",
       "                                              review            user_id  \n",
       "0  Simple yet with great replayability. In my opi...  76561197970982479  \n",
       "1               It's unique and worth a playthrough.  76561197970982479  \n",
       "2  Great atmosphere. The gunplay can be a bit chu...  76561197970982479  \n",
       "3  I know what you think when you see this title ...            js41637  \n",
       "4  For a simple (it's actually not all that simpl...            js41637  "
      ]
     },
     "execution_count": 81,
     "metadata": {},
     "output_type": "execute_result"
    }
   ],
   "source": [
    "reviews.head()"
   ]
  },
  {
   "cell_type": "code",
   "execution_count": 82,
   "metadata": {},
   "outputs": [
    {
     "data": {
      "text/plain": [
       "25457"
      ]
     },
     "execution_count": 82,
     "metadata": {},
     "output_type": "execute_result"
    }
   ],
   "source": [
    "reviews.user_id.nunique()"
   ]
  },
  {
   "cell_type": "code",
   "execution_count": 83,
   "metadata": {},
   "outputs": [
    {
     "data": {
      "text/plain": [
       "3682"
      ]
     },
     "execution_count": 83,
     "metadata": {},
     "output_type": "execute_result"
    }
   ],
   "source": [
    "reviews.item_id.nunique()"
   ]
  },
  {
   "cell_type": "code",
   "execution_count": null,
   "metadata": {
    "jupyter": {
     "source_hidden": true
    }
   },
   "outputs": [],
   "source": []
  },
  {
   "cell_type": "code",
   "execution_count": null,
   "metadata": {},
   "outputs": [],
   "source": []
  },
  {
   "cell_type": "code",
   "execution_count": null,
   "metadata": {},
   "outputs": [],
   "source": []
  },
  {
   "cell_type": "markdown",
   "metadata": {},
   "source": [
    "## Games"
   ]
  },
  {
   "cell_type": "code",
   "execution_count": 248,
   "metadata": {},
   "outputs": [],
   "source": [
    "with open('steam_games (3).json') as f:\n",
    "    lines3 = f.read().splitlines()"
   ]
  },
  {
   "cell_type": "code",
   "execution_count": 249,
   "metadata": {},
   "outputs": [],
   "source": [
    "lst = [ast.literal_eval(line) for line in lines3]"
   ]
  },
  {
   "cell_type": "code",
   "execution_count": 250,
   "metadata": {},
   "outputs": [],
   "source": [
    "games = pd.DataFrame(lst)"
   ]
  },
  {
   "cell_type": "code",
   "execution_count": 251,
   "metadata": {},
   "outputs": [],
   "source": [
    "games = pd.DataFrame(lst)"
   ]
  },
  {
   "cell_type": "code",
   "execution_count": 252,
   "metadata": {},
   "outputs": [
    {
     "data": {
      "text/plain": [
       "(32135, 16)"
      ]
     },
     "execution_count": 252,
     "metadata": {},
     "output_type": "execute_result"
    }
   ],
   "source": [
    "games.shape"
   ]
  },
  {
   "cell_type": "code",
   "execution_count": 253,
   "metadata": {},
   "outputs": [
    {
     "data": {
      "text/plain": [
       "publisher          8052\n",
       "genres             3283\n",
       "app_name              2\n",
       "title              2050\n",
       "url                   0\n",
       "release_date       2067\n",
       "tags                163\n",
       "discount_price    31910\n",
       "reviews_url           2\n",
       "specs               670\n",
       "price              1377\n",
       "early_access          0\n",
       "id                    2\n",
       "developer          3299\n",
       "sentiment          7182\n",
       "metascore         29458\n",
       "dtype: int64"
      ]
     },
     "execution_count": 253,
     "metadata": {},
     "output_type": "execute_result"
    }
   ],
   "source": [
    "games.isnull().sum()"
   ]
  },
  {
   "cell_type": "code",
   "execution_count": 254,
   "metadata": {},
   "outputs": [
    {
     "data": {
      "text/plain": [
       "32132"
      ]
     },
     "execution_count": 254,
     "metadata": {},
     "output_type": "execute_result"
    }
   ],
   "source": [
    "games.id.nunique()"
   ]
  },
  {
   "cell_type": "code",
   "execution_count": 255,
   "metadata": {},
   "outputs": [
    {
     "data": {
      "text/plain": [
       "18"
      ]
     },
     "execution_count": 255,
     "metadata": {},
     "output_type": "execute_result"
    }
   ],
   "source": [
    "games.sentiment.nunique()"
   ]
  },
  {
   "cell_type": "code",
   "execution_count": 256,
   "metadata": {},
   "outputs": [
    {
     "data": {
      "text/plain": [
       "array([nan, 'Mostly Positive', 'Mixed', '1 user reviews',\n",
       "       '3 user reviews', '8 user reviews', 'Very Positive',\n",
       "       'Overwhelmingly Positive', '6 user reviews', '5 user reviews',\n",
       "       '2 user reviews', 'Very Negative', 'Positive', 'Mostly Negative',\n",
       "       '9 user reviews', 'Negative', '4 user reviews', '7 user reviews',\n",
       "       'Overwhelmingly Negative'], dtype=object)"
      ]
     },
     "execution_count": 256,
     "metadata": {},
     "output_type": "execute_result"
    }
   ],
   "source": [
    "games.sentiment.unique()"
   ]
  },
  {
   "cell_type": "code",
   "execution_count": 257,
   "metadata": {},
   "outputs": [
    {
     "data": {
      "text/plain": [
       "Mixed                      4103\n",
       "Very Positive              3868\n",
       "Positive                   3281\n",
       "Mostly Positive            2744\n",
       "1 user reviews             2496\n",
       "2 user reviews             1756\n",
       "3 user reviews             1231\n",
       "4 user reviews              964\n",
       "5 user reviews              846\n",
       "Mostly Negative             802\n",
       "6 user reviews              756\n",
       "7 user reviews              619\n",
       "8 user reviews              537\n",
       "9 user reviews              488\n",
       "Overwhelmingly Positive     303\n",
       "Negative                    123\n",
       "Very Negative                29\n",
       "Overwhelmingly Negative       7\n",
       "Name: sentiment, dtype: int64"
      ]
     },
     "execution_count": 257,
     "metadata": {},
     "output_type": "execute_result"
    }
   ],
   "source": [
    "games.sentiment.value_counts()"
   ]
  },
  {
   "cell_type": "code",
   "execution_count": 258,
   "metadata": {},
   "outputs": [
    {
     "data": {
      "text/plain": [
       "publisher          object\n",
       "genres             object\n",
       "app_name           object\n",
       "title              object\n",
       "url                object\n",
       "release_date       object\n",
       "tags               object\n",
       "discount_price    float64\n",
       "reviews_url        object\n",
       "specs              object\n",
       "price              object\n",
       "early_access         bool\n",
       "id                 object\n",
       "developer          object\n",
       "sentiment          object\n",
       "metascore          object\n",
       "dtype: object"
      ]
     },
     "execution_count": 258,
     "metadata": {},
     "output_type": "execute_result"
    }
   ],
   "source": [
    "games.dtypes"
   ]
  },
  {
   "cell_type": "code",
   "execution_count": 259,
   "metadata": {},
   "outputs": [],
   "source": [
    "games.dropna(axis=0, subset=['id'], inplace = True)"
   ]
  },
  {
   "cell_type": "code",
   "execution_count": 260,
   "metadata": {},
   "outputs": [
    {
     "data": {
      "text/plain": [
       "publisher          8051\n",
       "genres             3282\n",
       "app_name              1\n",
       "title              2049\n",
       "url                   0\n",
       "release_date       2066\n",
       "tags                162\n",
       "discount_price    31909\n",
       "reviews_url           0\n",
       "specs               669\n",
       "price              1377\n",
       "early_access          0\n",
       "id                    0\n",
       "developer          3298\n",
       "sentiment          7181\n",
       "metascore         29457\n",
       "dtype: int64"
      ]
     },
     "execution_count": 260,
     "metadata": {},
     "output_type": "execute_result"
    }
   ],
   "source": [
    "games.isnull().sum()"
   ]
  },
  {
   "cell_type": "code",
   "execution_count": 261,
   "metadata": {},
   "outputs": [],
   "source": [
    "games.id = games.id.astype('int64')"
   ]
  },
  {
   "cell_type": "markdown",
   "metadata": {},
   "source": [
    "#### Game Info for games in user_items"
   ]
  },
  {
   "cell_type": "code",
   "execution_count": null,
   "metadata": {},
   "outputs": [],
   "source": [
    "len(item_ids)"
   ]
  },
  {
   "cell_type": "code",
   "execution_count": null,
   "metadata": {},
   "outputs": [],
   "source": [
    "games_id = games.id.unique()"
   ]
  },
  {
   "cell_type": "code",
   "execution_count": null,
   "metadata": {},
   "outputs": [],
   "source": [
    "intersect = np.intersect1d(item_ids, games_id)"
   ]
  },
  {
   "cell_type": "code",
   "execution_count": null,
   "metadata": {},
   "outputs": [],
   "source": [
    "len(intersect)"
   ]
  },
  {
   "cell_type": "code",
   "execution_count": null,
   "metadata": {},
   "outputs": [],
   "source": [
    "game_info = games.loc[games.id.isin(intersect)]"
   ]
  },
  {
   "cell_type": "code",
   "execution_count": null,
   "metadata": {},
   "outputs": [],
   "source": [
    "game_info.head()"
   ]
  },
  {
   "cell_type": "code",
   "execution_count": null,
   "metadata": {},
   "outputs": [],
   "source": [
    "game_info.isnull().sum()"
   ]
  },
  {
   "cell_type": "code",
   "execution_count": null,
   "metadata": {},
   "outputs": [],
   "source": [
    "game_info.sentiment.value_counts()"
   ]
  },
  {
   "cell_type": "code",
   "execution_count": null,
   "metadata": {},
   "outputs": [],
   "source": []
  }
 ],
 "metadata": {
  "kernelspec": {
   "display_name": "Python 3 (Data Science)",
   "language": "python",
   "name": "python3__SAGEMAKER_INTERNAL__arn:aws:sagemaker:us-east-2:429704687514:image/datascience-1.0"
  },
  "language_info": {
   "codemirror_mode": {
    "name": "ipython",
    "version": 3
   },
   "file_extension": ".py",
   "mimetype": "text/x-python",
   "name": "python",
   "nbconvert_exporter": "python",
   "pygments_lexer": "ipython3",
   "version": "3.7.6"
  }
 },
 "nbformat": 4,
 "nbformat_minor": 4
}
