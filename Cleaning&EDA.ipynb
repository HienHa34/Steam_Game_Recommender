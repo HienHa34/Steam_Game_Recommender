{
 "cells": [
  {
   "cell_type": "code",
   "execution_count": 1,
   "metadata": {},
   "outputs": [],
   "source": [
    "import pyspark as ps\n",
    "import json\n",
    "import ast\n",
    "import pandas as pd\n",
    "import numpy as np\n",
    "import matplotlib.pyplot as plt\n",
    "from pyspark.sql.functions import col, countDistinct\n",
    "from pyspark.sql.functions import explode\n",
    "plt.style.use('fivethirtyeight')\n",
    "%matplotlib inline"
   ]
  },
  {
   "cell_type": "code",
   "execution_count": 2,
   "metadata": {},
   "outputs": [],
   "source": [
    "spark = (ps.sql.SparkSession.builder \n",
    "        .master(\"local[4]\").\n",
    "         config(\"spark.driver.memory\", \"15g\")\n",
    "        .appName(\"recommender\") \n",
    "        .getOrCreate()\n",
    "        )"
   ]
  },
  {
   "cell_type": "code",
   "execution_count": 3,
   "metadata": {},
   "outputs": [],
   "source": [
    "sc = spark.sparkContext"
   ]
  },
  {
   "cell_type": "markdown",
   "metadata": {},
   "source": [
    "## Bundle"
   ]
  },
  {
   "cell_type": "markdown",
   "metadata": {},
   "source": [
    "#### Load Bundle Data"
   ]
  },
  {
   "cell_type": "code",
   "execution_count": 4,
   "metadata": {},
   "outputs": [],
   "source": [
    "bundle_rdd= sc.textFile('data/bundle_data.json')\n"
   ]
  },
  {
   "cell_type": "code",
   "execution_count": 5,
   "metadata": {},
   "outputs": [
    {
     "data": {
      "text/plain": [
       "615"
      ]
     },
     "execution_count": 5,
     "metadata": {},
     "output_type": "execute_result"
    }
   ],
   "source": [
    "bundle_rdd.count()"
   ]
  },
  {
   "cell_type": "code",
   "execution_count": 6,
   "metadata": {},
   "outputs": [
    {
     "data": {
      "text/plain": [
       "\"{'bundle_final_price': '$66.46', 'bundle_url': 'http://store.steampowered.com/bundle/450/?utm_source=SteamDB&utm_medium=SteamDB&utm_campaign=SteamDB%20Bundles%20Page', 'bundle_price': '$73.86', 'bundle_name': 'Dharker Studio 2015 Complete', 'bundle_id': '450', 'items': [{'genre': 'Adventure, Indie, RPG', 'item_id': '326950', 'discounted_price': '$8.99', 'item_url': 'http://store.steampowered.com/app/326950', 'item_name': 'Sword of Asumi'}, {'genre': 'Adventure, Indie, RPG', 'item_id': '331490', 'discounted_price': '$2.99', 'item_url': 'http://store.steampowered.com/app/331490', 'item_name': 'Sword of Asumi - Soundtrack'}, {'genre': 'Adventure, Indie, RPG', 'item_id': '331491', 'discounted_price': '$1.99', 'item_url': 'http://store.steampowered.com/app/331491', 'item_name': 'Sword of Asumi - Graphic Novel'}, {'genre': 'Adventure, Indie, RPG', 'item_id': '331492', 'discounted_price': '$0.99', 'item_url': 'http://store.steampowered.com/app/331492', 'item_name': 'Sword of Asumi - Character Creator'}, {'genre': 'Adventure, Casual, Indie', 'item_id': '348540', 'discounted_price': '$12.99', 'item_url': 'http://store.steampowered.com/app/348540', 'item_name': 'Divine Slice of Life'}, {'genre': 'Adventure, Casual, Indie', 'item_id': '352010', 'discounted_price': '$12.99', 'item_url': 'http://store.steampowered.com/app/352010', 'item_name': 'Beach Bounce'}, {'genre': 'Adventure, Casual, Indie', 'item_id': '390470', 'discounted_price': '$3.99', 'item_url': 'http://store.steampowered.com/app/390470', 'item_name': 'Divine Slice of Life - Soundtrack'}, {'genre': 'Adventure, Casual, Indie', 'item_id': '394050', 'discounted_price': '$2.99', 'item_url': 'http://store.steampowered.com/app/394050', 'item_name': 'Beach Bounce - Soundtrack'}, {'genre': 'Casual, Indie', 'item_id': '398100', 'discounted_price': '$9.99', 'item_url': 'http://store.steampowered.com/app/398100', 'item_name': 'Highschool Romance'}, {'genre': 'Adventure, Indie', 'item_id': '408770', 'discounted_price': '$6.99', 'item_url': 'http://store.steampowered.com/app/408770', 'item_name': 'Highschool Possession'}, {'genre': 'Action, Casual, Indie', 'item_id': '387110', 'discounted_price': '$2.99', 'item_url': 'http://store.steampowered.com/app/387110', 'item_name': 'Shmup Love Boom'}, {'genre': 'Action, Indie', 'item_id': '387120', 'discounted_price': '$1.99', 'item_url': 'http://store.steampowered.com/app/387120', 'item_name': 'Shmup Love Boom - Soundtrack'}, {'genre': 'Action, Indie', 'item_id': '396610', 'discounted_price': '$2.99', 'item_url': 'http://store.steampowered.com/app/396610', 'item_name': 'Quantum Flux'}, {'genre': 'Action, Indie', 'item_id': '396620', 'discounted_price': '$0.99', 'item_url': 'http://store.steampowered.com/app/396620', 'item_name': 'Quantum Flux - Soundtrack'}], 'bundle_discount': '10%'}\""
      ]
     },
     "execution_count": 6,
     "metadata": {},
     "output_type": "execute_result"
    }
   ],
   "source": [
    "bundle_rdd.first()"
   ]
  },
  {
   "cell_type": "markdown",
   "metadata": {},
   "source": [
    "#### Clean"
   ]
  },
  {
   "cell_type": "code",
   "execution_count": 7,
   "metadata": {},
   "outputs": [],
   "source": [
    "bundle_rdd = bundle_rdd.map(lambda x: ast.literal_eval(x))"
   ]
  },
  {
   "cell_type": "code",
   "execution_count": 8,
   "metadata": {
    "collapsed": true,
    "jupyter": {
     "outputs_hidden": true
    }
   },
   "outputs": [
    {
     "data": {
      "text/plain": [
       "{'bundle_final_price': '$66.46',\n",
       " 'bundle_url': 'http://store.steampowered.com/bundle/450/?utm_source=SteamDB&utm_medium=SteamDB&utm_campaign=SteamDB%20Bundles%20Page',\n",
       " 'bundle_price': '$73.86',\n",
       " 'bundle_name': 'Dharker Studio 2015 Complete',\n",
       " 'bundle_id': '450',\n",
       " 'items': [{'genre': 'Adventure, Indie, RPG',\n",
       "   'item_id': '326950',\n",
       "   'discounted_price': '$8.99',\n",
       "   'item_url': 'http://store.steampowered.com/app/326950',\n",
       "   'item_name': 'Sword of Asumi'},\n",
       "  {'genre': 'Adventure, Indie, RPG',\n",
       "   'item_id': '331490',\n",
       "   'discounted_price': '$2.99',\n",
       "   'item_url': 'http://store.steampowered.com/app/331490',\n",
       "   'item_name': 'Sword of Asumi - Soundtrack'},\n",
       "  {'genre': 'Adventure, Indie, RPG',\n",
       "   'item_id': '331491',\n",
       "   'discounted_price': '$1.99',\n",
       "   'item_url': 'http://store.steampowered.com/app/331491',\n",
       "   'item_name': 'Sword of Asumi - Graphic Novel'},\n",
       "  {'genre': 'Adventure, Indie, RPG',\n",
       "   'item_id': '331492',\n",
       "   'discounted_price': '$0.99',\n",
       "   'item_url': 'http://store.steampowered.com/app/331492',\n",
       "   'item_name': 'Sword of Asumi - Character Creator'},\n",
       "  {'genre': 'Adventure, Casual, Indie',\n",
       "   'item_id': '348540',\n",
       "   'discounted_price': '$12.99',\n",
       "   'item_url': 'http://store.steampowered.com/app/348540',\n",
       "   'item_name': 'Divine Slice of Life'},\n",
       "  {'genre': 'Adventure, Casual, Indie',\n",
       "   'item_id': '352010',\n",
       "   'discounted_price': '$12.99',\n",
       "   'item_url': 'http://store.steampowered.com/app/352010',\n",
       "   'item_name': 'Beach Bounce'},\n",
       "  {'genre': 'Adventure, Casual, Indie',\n",
       "   'item_id': '390470',\n",
       "   'discounted_price': '$3.99',\n",
       "   'item_url': 'http://store.steampowered.com/app/390470',\n",
       "   'item_name': 'Divine Slice of Life - Soundtrack'},\n",
       "  {'genre': 'Adventure, Casual, Indie',\n",
       "   'item_id': '394050',\n",
       "   'discounted_price': '$2.99',\n",
       "   'item_url': 'http://store.steampowered.com/app/394050',\n",
       "   'item_name': 'Beach Bounce - Soundtrack'},\n",
       "  {'genre': 'Casual, Indie',\n",
       "   'item_id': '398100',\n",
       "   'discounted_price': '$9.99',\n",
       "   'item_url': 'http://store.steampowered.com/app/398100',\n",
       "   'item_name': 'Highschool Romance'},\n",
       "  {'genre': 'Adventure, Indie',\n",
       "   'item_id': '408770',\n",
       "   'discounted_price': '$6.99',\n",
       "   'item_url': 'http://store.steampowered.com/app/408770',\n",
       "   'item_name': 'Highschool Possession'},\n",
       "  {'genre': 'Action, Casual, Indie',\n",
       "   'item_id': '387110',\n",
       "   'discounted_price': '$2.99',\n",
       "   'item_url': 'http://store.steampowered.com/app/387110',\n",
       "   'item_name': 'Shmup Love Boom'},\n",
       "  {'genre': 'Action, Indie',\n",
       "   'item_id': '387120',\n",
       "   'discounted_price': '$1.99',\n",
       "   'item_url': 'http://store.steampowered.com/app/387120',\n",
       "   'item_name': 'Shmup Love Boom - Soundtrack'},\n",
       "  {'genre': 'Action, Indie',\n",
       "   'item_id': '396610',\n",
       "   'discounted_price': '$2.99',\n",
       "   'item_url': 'http://store.steampowered.com/app/396610',\n",
       "   'item_name': 'Quantum Flux'},\n",
       "  {'genre': 'Action, Indie',\n",
       "   'item_id': '396620',\n",
       "   'discounted_price': '$0.99',\n",
       "   'item_url': 'http://store.steampowered.com/app/396620',\n",
       "   'item_name': 'Quantum Flux - Soundtrack'}],\n",
       " 'bundle_discount': '10%'}"
      ]
     },
     "execution_count": 8,
     "metadata": {},
     "output_type": "execute_result"
    }
   ],
   "source": [
    "bundle_rdd.first()"
   ]
  },
  {
   "cell_type": "code",
   "execution_count": 15,
   "metadata": {},
   "outputs": [
    {
     "name": "stderr",
     "output_type": "stream",
     "text": [
      "/usr/local/spark/python/pyspark/sql/session.py:398: UserWarning: Using RDD of dict to inferSchema is deprecated. Use pyspark.sql.Row instead\n",
      "  warnings.warn(\"Using RDD of dict to inferSchema is deprecated. \"\n"
     ]
    }
   ],
   "source": [
    "bundle = bundle_rdd.toDF()"
   ]
  },
  {
   "cell_type": "code",
   "execution_count": 16,
   "metadata": {},
   "outputs": [
    {
     "data": {
      "text/plain": [
       "['bundle_discount',\n",
       " 'bundle_final_price',\n",
       " 'bundle_id',\n",
       " 'bundle_name',\n",
       " 'bundle_price',\n",
       " 'bundle_url',\n",
       " 'items']"
      ]
     },
     "execution_count": 16,
     "metadata": {},
     "output_type": "execute_result"
    }
   ],
   "source": [
    "bundle.columns"
   ]
  },
  {
   "cell_type": "code",
   "execution_count": 17,
   "metadata": {},
   "outputs": [
    {
     "name": "stdout",
     "output_type": "stream",
     "text": [
      "+---------------+------------------+---------+--------------------+------------+--------------------+--------------------+\n",
      "|bundle_discount|bundle_final_price|bundle_id|         bundle_name|bundle_price|          bundle_url|               items|\n",
      "+---------------+------------------+---------+--------------------+------------+--------------------+--------------------+\n",
      "|            10%|            $66.46|      450|Dharker Studio 20...|      $73.86|http://store.stea...|[[genre -> Advent...|\n",
      "|            22%|            $20.15|     1473|Naruto Shippuden ...|      $25.87|http://store.stea...|[[genre -> , item...|\n",
      "|            22%|            $20.15|     1474|Naruto Shippuden ...|      $25.87|http://store.stea...|[[genre -> , item...|\n",
      "|            40%|            $15.17|     1437|Pixel Puzzles Ult...|      $25.35|http://store.stea...|[[genre -> Casual...|\n",
      "|            22%|            $20.15|     1466|Naruto Shippuden ...|      $25.87|http://store.stea...|[[genre -> , item...|\n",
      "+---------------+------------------+---------+--------------------+------------+--------------------+--------------------+\n",
      "only showing top 5 rows\n",
      "\n"
     ]
    }
   ],
   "source": [
    "bundle.show(5)"
   ]
  },
  {
   "cell_type": "code",
   "execution_count": 18,
   "metadata": {},
   "outputs": [],
   "source": [
    "bundle_pd = bundle.select(\"*\").toPandas()"
   ]
  },
  {
   "cell_type": "code",
   "execution_count": 19,
   "metadata": {},
   "outputs": [
    {
     "data": {
      "text/html": [
       "<div>\n",
       "<style scoped>\n",
       "    .dataframe tbody tr th:only-of-type {\n",
       "        vertical-align: middle;\n",
       "    }\n",
       "\n",
       "    .dataframe tbody tr th {\n",
       "        vertical-align: top;\n",
       "    }\n",
       "\n",
       "    .dataframe thead th {\n",
       "        text-align: right;\n",
       "    }\n",
       "</style>\n",
       "<table border=\"1\" class=\"dataframe\">\n",
       "  <thead>\n",
       "    <tr style=\"text-align: right;\">\n",
       "      <th></th>\n",
       "      <th>bundle_discount</th>\n",
       "      <th>bundle_final_price</th>\n",
       "      <th>bundle_id</th>\n",
       "      <th>bundle_name</th>\n",
       "      <th>bundle_price</th>\n",
       "      <th>bundle_url</th>\n",
       "      <th>items</th>\n",
       "    </tr>\n",
       "  </thead>\n",
       "  <tbody>\n",
       "    <tr>\n",
       "      <th>0</th>\n",
       "      <td>10%</td>\n",
       "      <td>$66.46</td>\n",
       "      <td>450</td>\n",
       "      <td>Dharker Studio 2015 Complete</td>\n",
       "      <td>$73.86</td>\n",
       "      <td>http://store.steampowered.com/bundle/450/?utm_...</td>\n",
       "      <td>[{'genre': 'Adventure, Indie, RPG', 'item_name...</td>\n",
       "    </tr>\n",
       "    <tr>\n",
       "      <th>1</th>\n",
       "      <td>22%</td>\n",
       "      <td>$20.15</td>\n",
       "      <td>1473</td>\n",
       "      <td>Naruto Shippuden Uncut Season 4, Vol. 3</td>\n",
       "      <td>$25.87</td>\n",
       "      <td>http://store.steampowered.com/bundle/1473/?utm...</td>\n",
       "      <td>[{'genre': '', 'item_name': 'Naruto Shippuden ...</td>\n",
       "    </tr>\n",
       "    <tr>\n",
       "      <th>2</th>\n",
       "      <td>22%</td>\n",
       "      <td>$20.15</td>\n",
       "      <td>1474</td>\n",
       "      <td>Naruto Shippuden Uncut Season 4, Vol. 4</td>\n",
       "      <td>$25.87</td>\n",
       "      <td>http://store.steampowered.com/bundle/1474/?utm...</td>\n",
       "      <td>[{'genre': '', 'item_name': 'Naruto Shippuden ...</td>\n",
       "    </tr>\n",
       "    <tr>\n",
       "      <th>3</th>\n",
       "      <td>40%</td>\n",
       "      <td>$15.17</td>\n",
       "      <td>1437</td>\n",
       "      <td>Pixel Puzzles Ultimate: Starter Kit</td>\n",
       "      <td>$25.35</td>\n",
       "      <td>http://store.steampowered.com/bundle/1437/?utm...</td>\n",
       "      <td>[{'genre': 'Casual, Free to Play, Indie, Simul...</td>\n",
       "    </tr>\n",
       "    <tr>\n",
       "      <th>4</th>\n",
       "      <td>22%</td>\n",
       "      <td>$20.15</td>\n",
       "      <td>1466</td>\n",
       "      <td>Naruto Shippuden Uncut Season 4, Vol. 1</td>\n",
       "      <td>$25.87</td>\n",
       "      <td>http://store.steampowered.com/bundle/1466/?utm...</td>\n",
       "      <td>[{'genre': '', 'item_name': 'Naruto Shippuden ...</td>\n",
       "    </tr>\n",
       "  </tbody>\n",
       "</table>\n",
       "</div>"
      ],
      "text/plain": [
       "  bundle_discount bundle_final_price bundle_id  \\\n",
       "0             10%             $66.46       450   \n",
       "1             22%             $20.15      1473   \n",
       "2             22%             $20.15      1474   \n",
       "3             40%             $15.17      1437   \n",
       "4             22%             $20.15      1466   \n",
       "\n",
       "                               bundle_name bundle_price  \\\n",
       "0             Dharker Studio 2015 Complete       $73.86   \n",
       "1  Naruto Shippuden Uncut Season 4, Vol. 3       $25.87   \n",
       "2  Naruto Shippuden Uncut Season 4, Vol. 4       $25.87   \n",
       "3      Pixel Puzzles Ultimate: Starter Kit       $25.35   \n",
       "4  Naruto Shippuden Uncut Season 4, Vol. 1       $25.87   \n",
       "\n",
       "                                          bundle_url  \\\n",
       "0  http://store.steampowered.com/bundle/450/?utm_...   \n",
       "1  http://store.steampowered.com/bundle/1473/?utm...   \n",
       "2  http://store.steampowered.com/bundle/1474/?utm...   \n",
       "3  http://store.steampowered.com/bundle/1437/?utm...   \n",
       "4  http://store.steampowered.com/bundle/1466/?utm...   \n",
       "\n",
       "                                               items  \n",
       "0  [{'genre': 'Adventure, Indie, RPG', 'item_name...  \n",
       "1  [{'genre': '', 'item_name': 'Naruto Shippuden ...  \n",
       "2  [{'genre': '', 'item_name': 'Naruto Shippuden ...  \n",
       "3  [{'genre': 'Casual, Free to Play, Indie, Simul...  \n",
       "4  [{'genre': '', 'item_name': 'Naruto Shippuden ...  "
      ]
     },
     "execution_count": 19,
     "metadata": {},
     "output_type": "execute_result"
    }
   ],
   "source": [
    "bundle_pd.head()"
   ]
  },
  {
   "cell_type": "code",
   "execution_count": 20,
   "metadata": {},
   "outputs": [],
   "source": [
    "dfs = []\n",
    "for i in range(bundle_pd.shape[0]):\n",
    "    df = pd.DataFrame(bundle_pd['items'][i])\n",
    "    df['bundle_id']= bundle_pd['bundle_id'][i]\n",
    "    dfs.append(df)\n"
   ]
  },
  {
   "cell_type": "code",
   "execution_count": 21,
   "metadata": {},
   "outputs": [],
   "source": [
    "bundle_pd = pd.concat(dfs)"
   ]
  },
  {
   "cell_type": "code",
   "execution_count": 22,
   "metadata": {},
   "outputs": [],
   "source": [
    "bundle_pd.reset_index(inplace= True)\n"
   ]
  },
  {
   "cell_type": "code",
   "execution_count": 23,
   "metadata": {},
   "outputs": [
    {
     "data": {
      "text/plain": [
       "Index(['index', 'genre', 'item_name', 'item_id', 'item_url',\n",
       "       'discounted_price', 'bundle_id'],\n",
       "      dtype='object')"
      ]
     },
     "execution_count": 23,
     "metadata": {},
     "output_type": "execute_result"
    }
   ],
   "source": [
    "bundle_pd.columns"
   ]
  },
  {
   "cell_type": "code",
   "execution_count": 24,
   "metadata": {},
   "outputs": [],
   "source": [
    "bundle_pd.drop(['index'],axis = 1, inplace=True)"
   ]
  },
  {
   "cell_type": "code",
   "execution_count": 25,
   "metadata": {},
   "outputs": [
    {
     "data": {
      "text/html": [
       "<div>\n",
       "<style scoped>\n",
       "    .dataframe tbody tr th:only-of-type {\n",
       "        vertical-align: middle;\n",
       "    }\n",
       "\n",
       "    .dataframe tbody tr th {\n",
       "        vertical-align: top;\n",
       "    }\n",
       "\n",
       "    .dataframe thead th {\n",
       "        text-align: right;\n",
       "    }\n",
       "</style>\n",
       "<table border=\"1\" class=\"dataframe\">\n",
       "  <thead>\n",
       "    <tr style=\"text-align: right;\">\n",
       "      <th></th>\n",
       "      <th>genre</th>\n",
       "      <th>item_name</th>\n",
       "      <th>item_id</th>\n",
       "      <th>item_url</th>\n",
       "      <th>discounted_price</th>\n",
       "      <th>bundle_id</th>\n",
       "    </tr>\n",
       "  </thead>\n",
       "  <tbody>\n",
       "    <tr>\n",
       "      <th>0</th>\n",
       "      <td>Adventure, Indie, RPG</td>\n",
       "      <td>Sword of Asumi</td>\n",
       "      <td>326950</td>\n",
       "      <td>http://store.steampowered.com/app/326950</td>\n",
       "      <td>$8.99</td>\n",
       "      <td>450</td>\n",
       "    </tr>\n",
       "    <tr>\n",
       "      <th>1</th>\n",
       "      <td>Adventure, Indie, RPG</td>\n",
       "      <td>Sword of Asumi - Soundtrack</td>\n",
       "      <td>331490</td>\n",
       "      <td>http://store.steampowered.com/app/331490</td>\n",
       "      <td>$2.99</td>\n",
       "      <td>450</td>\n",
       "    </tr>\n",
       "    <tr>\n",
       "      <th>2</th>\n",
       "      <td>Adventure, Indie, RPG</td>\n",
       "      <td>Sword of Asumi - Graphic Novel</td>\n",
       "      <td>331491</td>\n",
       "      <td>http://store.steampowered.com/app/331491</td>\n",
       "      <td>$1.99</td>\n",
       "      <td>450</td>\n",
       "    </tr>\n",
       "    <tr>\n",
       "      <th>3</th>\n",
       "      <td>Adventure, Indie, RPG</td>\n",
       "      <td>Sword of Asumi - Character Creator</td>\n",
       "      <td>331492</td>\n",
       "      <td>http://store.steampowered.com/app/331492</td>\n",
       "      <td>$0.99</td>\n",
       "      <td>450</td>\n",
       "    </tr>\n",
       "    <tr>\n",
       "      <th>4</th>\n",
       "      <td>Adventure, Casual, Indie</td>\n",
       "      <td>Divine Slice of Life</td>\n",
       "      <td>348540</td>\n",
       "      <td>http://store.steampowered.com/app/348540</td>\n",
       "      <td>$12.99</td>\n",
       "      <td>450</td>\n",
       "    </tr>\n",
       "    <tr>\n",
       "      <th>...</th>\n",
       "      <td>...</td>\n",
       "      <td>...</td>\n",
       "      <td>...</td>\n",
       "      <td>...</td>\n",
       "      <td>...</td>\n",
       "      <td>...</td>\n",
       "    </tr>\n",
       "    <tr>\n",
       "      <th>3520</th>\n",
       "      <td>Action, Adventure, Casual, Indie</td>\n",
       "      <td>Dyna Bomb</td>\n",
       "      <td>467220</td>\n",
       "      <td>http://store.steampowered.com/app/467220</td>\n",
       "      <td>$4.99</td>\n",
       "      <td>588</td>\n",
       "    </tr>\n",
       "    <tr>\n",
       "      <th>3521</th>\n",
       "      <td>Action, Adventure, Casual, Indie</td>\n",
       "      <td>Dyna Bomb - Soundtrack OST</td>\n",
       "      <td>485090</td>\n",
       "      <td>http://store.steampowered.com/app/485090</td>\n",
       "      <td>$1.99</td>\n",
       "      <td>588</td>\n",
       "    </tr>\n",
       "    <tr>\n",
       "      <th>3522</th>\n",
       "      <td>Action, Adventure, Indie</td>\n",
       "      <td>Ninjahtic</td>\n",
       "      <td>385230</td>\n",
       "      <td>http://store.steampowered.com/app/385230</td>\n",
       "      <td>$1.99</td>\n",
       "      <td>594</td>\n",
       "    </tr>\n",
       "    <tr>\n",
       "      <th>3523</th>\n",
       "      <td>Action, Adventure, Indie</td>\n",
       "      <td>Ninjahtic Mind Tricks</td>\n",
       "      <td>387880</td>\n",
       "      <td>http://store.steampowered.com/app/387880</td>\n",
       "      <td>$1.99</td>\n",
       "      <td>594</td>\n",
       "    </tr>\n",
       "    <tr>\n",
       "      <th>3524</th>\n",
       "      <td>Action, Indie</td>\n",
       "      <td>Nil-Ninjahtic: Ronin</td>\n",
       "      <td>454130</td>\n",
       "      <td>http://store.steampowered.com/app/454130</td>\n",
       "      <td>$1.99</td>\n",
       "      <td>594</td>\n",
       "    </tr>\n",
       "  </tbody>\n",
       "</table>\n",
       "<p>3525 rows × 6 columns</p>\n",
       "</div>"
      ],
      "text/plain": [
       "                                 genre                           item_name  \\\n",
       "0                Adventure, Indie, RPG                      Sword of Asumi   \n",
       "1                Adventure, Indie, RPG         Sword of Asumi - Soundtrack   \n",
       "2                Adventure, Indie, RPG      Sword of Asumi - Graphic Novel   \n",
       "3                Adventure, Indie, RPG  Sword of Asumi - Character Creator   \n",
       "4             Adventure, Casual, Indie                Divine Slice of Life   \n",
       "...                                ...                                 ...   \n",
       "3520  Action, Adventure, Casual, Indie                           Dyna Bomb   \n",
       "3521  Action, Adventure, Casual, Indie          Dyna Bomb - Soundtrack OST   \n",
       "3522          Action, Adventure, Indie                           Ninjahtic   \n",
       "3523          Action, Adventure, Indie               Ninjahtic Mind Tricks   \n",
       "3524                     Action, Indie                Nil-Ninjahtic: Ronin   \n",
       "\n",
       "     item_id                                  item_url discounted_price  \\\n",
       "0     326950  http://store.steampowered.com/app/326950            $8.99   \n",
       "1     331490  http://store.steampowered.com/app/331490            $2.99   \n",
       "2     331491  http://store.steampowered.com/app/331491            $1.99   \n",
       "3     331492  http://store.steampowered.com/app/331492            $0.99   \n",
       "4     348540  http://store.steampowered.com/app/348540           $12.99   \n",
       "...      ...                                       ...              ...   \n",
       "3520  467220  http://store.steampowered.com/app/467220            $4.99   \n",
       "3521  485090  http://store.steampowered.com/app/485090            $1.99   \n",
       "3522  385230  http://store.steampowered.com/app/385230            $1.99   \n",
       "3523  387880  http://store.steampowered.com/app/387880            $1.99   \n",
       "3524  454130  http://store.steampowered.com/app/454130            $1.99   \n",
       "\n",
       "     bundle_id  \n",
       "0          450  \n",
       "1          450  \n",
       "2          450  \n",
       "3          450  \n",
       "4          450  \n",
       "...        ...  \n",
       "3520       588  \n",
       "3521       588  \n",
       "3522       594  \n",
       "3523       594  \n",
       "3524       594  \n",
       "\n",
       "[3525 rows x 6 columns]"
      ]
     },
     "execution_count": 25,
     "metadata": {},
     "output_type": "execute_result"
    }
   ],
   "source": [
    "bundle_pd"
   ]
  },
  {
   "cell_type": "markdown",
   "metadata": {},
   "source": [
    "#### Number of Bundles"
   ]
  },
  {
   "cell_type": "code",
   "execution_count": 26,
   "metadata": {},
   "outputs": [
    {
     "data": {
      "text/plain": [
       "615"
      ]
     },
     "execution_count": 26,
     "metadata": {},
     "output_type": "execute_result"
    }
   ],
   "source": [
    "bundle_pd['bundle_id'].nunique()"
   ]
  },
  {
   "cell_type": "markdown",
   "metadata": {},
   "source": [
    "#### Number of Different Games"
   ]
  },
  {
   "cell_type": "code",
   "execution_count": 27,
   "metadata": {},
   "outputs": [
    {
     "data": {
      "text/plain": [
       "2798"
      ]
     },
     "execution_count": 27,
     "metadata": {},
     "output_type": "execute_result"
    }
   ],
   "source": [
    "bundle_pd['item_id'].nunique()"
   ]
  },
  {
   "cell_type": "markdown",
   "metadata": {},
   "source": [
    "#### Number of Games from Bundle in User Reviews"
   ]
  },
  {
   "cell_type": "code",
   "execution_count": 28,
   "metadata": {},
   "outputs": [
    {
     "ename": "NameError",
     "evalue": "name 'user_reviews_pd' is not defined",
     "output_type": "error",
     "traceback": [
      "\u001b[0;31m---------------------------------------------------------------------------\u001b[0m",
      "\u001b[0;31mNameError\u001b[0m                                 Traceback (most recent call last)",
      "\u001b[0;32m<ipython-input-28-2a42a4db33c0>\u001b[0m in \u001b[0;36m<module>\u001b[0;34m\u001b[0m\n\u001b[0;32m----> 1\u001b[0;31m \u001b[0mbundle_pd\u001b[0m\u001b[0;34m.\u001b[0m\u001b[0mitem_id\u001b[0m\u001b[0;34m.\u001b[0m\u001b[0misin\u001b[0m\u001b[0;34m(\u001b[0m\u001b[0muser_reviews_pd\u001b[0m\u001b[0;34m.\u001b[0m\u001b[0mitem_id\u001b[0m\u001b[0;34m)\u001b[0m\u001b[0;34m.\u001b[0m\u001b[0msum\u001b[0m\u001b[0;34m(\u001b[0m\u001b[0;34m)\u001b[0m\u001b[0;34m\u001b[0m\u001b[0;34m\u001b[0m\u001b[0m\n\u001b[0m",
      "\u001b[0;31mNameError\u001b[0m: name 'user_reviews_pd' is not defined"
     ]
    }
   ],
   "source": [
    "bundle_pd.item_id.isin(user_reviews_pd.item_id).sum()"
   ]
  },
  {
   "cell_type": "markdown",
   "metadata": {},
   "source": [
    "## Games"
   ]
  },
  {
   "cell_type": "markdown",
   "metadata": {},
   "source": [
    "#### Load Games Data"
   ]
  },
  {
   "cell_type": "code",
   "execution_count": 29,
   "metadata": {},
   "outputs": [],
   "source": [
    "games_rdd = sc.textFile('data/steam_games (3).json')"
   ]
  },
  {
   "cell_type": "code",
   "execution_count": 30,
   "metadata": {},
   "outputs": [
    {
     "data": {
      "text/plain": [
       "32135"
      ]
     },
     "execution_count": 30,
     "metadata": {},
     "output_type": "execute_result"
    }
   ],
   "source": [
    "games_rdd.count()"
   ]
  },
  {
   "cell_type": "markdown",
   "metadata": {},
   "source": [
    "#### Clean"
   ]
  },
  {
   "cell_type": "code",
   "execution_count": 31,
   "metadata": {},
   "outputs": [],
   "source": [
    "games_rdd= games_rdd.map(lambda x: ast.literal_eval(x))"
   ]
  },
  {
   "cell_type": "code",
   "execution_count": 32,
   "metadata": {},
   "outputs": [
    {
     "name": "stderr",
     "output_type": "stream",
     "text": [
      "/usr/local/spark/python/pyspark/sql/session.py:398: UserWarning: Using RDD of dict to inferSchema is deprecated. Use pyspark.sql.Row instead\n",
      "  warnings.warn(\"Using RDD of dict to inferSchema is deprecated. \"\n"
     ]
    }
   ],
   "source": [
    "games = games_rdd.toDF()"
   ]
  },
  {
   "cell_type": "code",
   "execution_count": 33,
   "metadata": {},
   "outputs": [
    {
     "name": "stdout",
     "output_type": "stream",
     "text": [
      "+-------------------+---------+--------------+------------+--------------------+------+-----+---------+------------+--------------------+---------------+--------------------+-------------------+--------------------+\n",
      "|           app_name|developer|discount_price|early_access|              genres|    id|price|publisher|release_date|         reviews_url|          specs|                tags|              title|                 url|\n",
      "+-------------------+---------+--------------+------------+--------------------+------+-----+---------+------------+--------------------+---------------+--------------------+-------------------+--------------------+\n",
      "|Lost Summoner Kitty|Kotoshiro|          4.49|       false|[Action, Casual, ...|761140| 4.99|Kotoshiro|  2018-01-04|http://steamcommu...|[Single-player]|[Strategy, Action...|Lost Summoner Kitty|http://store.stea...|\n",
      "+-------------------+---------+--------------+------------+--------------------+------+-----+---------+------------+--------------------+---------------+--------------------+-------------------+--------------------+\n",
      "only showing top 1 row\n",
      "\n"
     ]
    }
   ],
   "source": [
    "games.show(1)"
   ]
  },
  {
   "cell_type": "code",
   "execution_count": 33,
   "metadata": {},
   "outputs": [
    {
     "ename": "NameError",
     "evalue": "name 'countDistinct' is not defined",
     "output_type": "error",
     "traceback": [
      "\u001b[0;31m---------------------------------------------------------------------------\u001b[0m",
      "\u001b[0;31mNameError\u001b[0m                                 Traceback (most recent call last)",
      "\u001b[0;32m<ipython-input-33-3d91b1a24eca>\u001b[0m in \u001b[0;36m<module>\u001b[0;34m\u001b[0m\n\u001b[0;32m----> 1\u001b[0;31m \u001b[0mgames\u001b[0m\u001b[0;34m.\u001b[0m\u001b[0magg\u001b[0m\u001b[0;34m(\u001b[0m\u001b[0mcountDistinct\u001b[0m\u001b[0;34m(\u001b[0m\u001b[0mcol\u001b[0m\u001b[0;34m(\u001b[0m\u001b[0;34m\"id\"\u001b[0m\u001b[0;34m)\u001b[0m\u001b[0;34m)\u001b[0m\u001b[0;34m.\u001b[0m\u001b[0malias\u001b[0m\u001b[0;34m(\u001b[0m\u001b[0;34m\"count\"\u001b[0m\u001b[0;34m)\u001b[0m\u001b[0;34m)\u001b[0m\u001b[0;34m.\u001b[0m\u001b[0mshow\u001b[0m\u001b[0;34m(\u001b[0m\u001b[0;34m)\u001b[0m\u001b[0;34m\u001b[0m\u001b[0;34m\u001b[0m\u001b[0m\n\u001b[0m",
      "\u001b[0;31mNameError\u001b[0m: name 'countDistinct' is not defined"
     ]
    }
   ],
   "source": [
    "games.agg(countDistinct(col(\"id\")).alias(\"count\")).show()"
   ]
  },
  {
   "cell_type": "markdown",
   "metadata": {},
   "source": [
    "## User Reviews"
   ]
  },
  {
   "cell_type": "code",
   "execution_count": 34,
   "metadata": {},
   "outputs": [],
   "source": [
    "user_reviews_rdd= sc.textFile('data/australian_user_reviews (2).json')"
   ]
  },
  {
   "cell_type": "code",
   "execution_count": 35,
   "metadata": {},
   "outputs": [
    {
     "data": {
      "text/plain": [
       "25799"
      ]
     },
     "execution_count": 35,
     "metadata": {},
     "output_type": "execute_result"
    }
   ],
   "source": [
    "user_reviews_rdd.count()"
   ]
  },
  {
   "cell_type": "code",
   "execution_count": 36,
   "metadata": {},
   "outputs": [
    {
     "data": {
      "text/plain": [
       "'{\\'user_id\\': \\'76561197970982479\\', \\'user_url\\': \\'http://steamcommunity.com/profiles/76561197970982479\\', \\'reviews\\': [{\\'funny\\': \\'\\', \\'posted\\': \\'Posted November 5, 2011.\\', \\'last_edited\\': \\'\\', \\'item_id\\': \\'1250\\', \\'helpful\\': \\'No ratings yet\\', \\'recommend\\': True, \\'review\\': \\'Simple yet with great replayability. In my opinion does \"zombie\" hordes and team work better than left 4 dead plus has a global leveling system. Alot of down to earth \"zombie\" splattering fun for the whole family. Amazed this sort of FPS is so rare.\\'}, {\\'funny\\': \\'\\', \\'posted\\': \\'Posted July 15, 2011.\\', \\'last_edited\\': \\'\\', \\'item_id\\': \\'22200\\', \\'helpful\\': \\'No ratings yet\\', \\'recommend\\': True, \\'review\\': \"It\\'s unique and worth a playthrough.\"}, {\\'funny\\': \\'\\', \\'posted\\': \\'Posted April 21, 2011.\\', \\'last_edited\\': \\'\\', \\'item_id\\': \\'43110\\', \\'helpful\\': \\'No ratings yet\\', \\'recommend\\': True, \\'review\\': \\'Great atmosphere. The gunplay can be a bit chunky at times but at the end of the day this game is definitely worth it and I hope they do a sequel...so buy the game so I get a sequel!\\'}]}'"
      ]
     },
     "execution_count": 36,
     "metadata": {},
     "output_type": "execute_result"
    }
   ],
   "source": [
    "user_reviews_rdd.first()"
   ]
  },
  {
   "cell_type": "code",
   "execution_count": 37,
   "metadata": {},
   "outputs": [],
   "source": [
    "user_reviews_rdd= user_reviews_rdd.map(lambda x: ast.literal_eval(x))"
   ]
  },
  {
   "cell_type": "code",
   "execution_count": 38,
   "metadata": {},
   "outputs": [
    {
     "data": {
      "text/plain": [
       "{'user_id': '76561197970982479',\n",
       " 'user_url': 'http://steamcommunity.com/profiles/76561197970982479',\n",
       " 'reviews': [{'funny': '',\n",
       "   'posted': 'Posted November 5, 2011.',\n",
       "   'last_edited': '',\n",
       "   'item_id': '1250',\n",
       "   'helpful': 'No ratings yet',\n",
       "   'recommend': True,\n",
       "   'review': 'Simple yet with great replayability. In my opinion does \"zombie\" hordes and team work better than left 4 dead plus has a global leveling system. Alot of down to earth \"zombie\" splattering fun for the whole family. Amazed this sort of FPS is so rare.'},\n",
       "  {'funny': '',\n",
       "   'posted': 'Posted July 15, 2011.',\n",
       "   'last_edited': '',\n",
       "   'item_id': '22200',\n",
       "   'helpful': 'No ratings yet',\n",
       "   'recommend': True,\n",
       "   'review': \"It's unique and worth a playthrough.\"},\n",
       "  {'funny': '',\n",
       "   'posted': 'Posted April 21, 2011.',\n",
       "   'last_edited': '',\n",
       "   'item_id': '43110',\n",
       "   'helpful': 'No ratings yet',\n",
       "   'recommend': True,\n",
       "   'review': 'Great atmosphere. The gunplay can be a bit chunky at times but at the end of the day this game is definitely worth it and I hope they do a sequel...so buy the game so I get a sequel!'}]}"
      ]
     },
     "execution_count": 38,
     "metadata": {},
     "output_type": "execute_result"
    }
   ],
   "source": [
    "user_reviews_rdd.first()"
   ]
  },
  {
   "cell_type": "code",
   "execution_count": 41,
   "metadata": {},
   "outputs": [],
   "source": [
    "user_reviews = user_reviews_rdd.toDF()"
   ]
  },
  {
   "cell_type": "code",
   "execution_count": 42,
   "metadata": {},
   "outputs": [
    {
     "name": "stdout",
     "output_type": "stream",
     "text": [
      "+--------------------+-----------------+--------------------+\n",
      "|             reviews|          user_id|            user_url|\n",
      "+--------------------+-----------------+--------------------+\n",
      "|[[last_edited -> ...|76561197970982479|http://steamcommu...|\n",
      "+--------------------+-----------------+--------------------+\n",
      "only showing top 1 row\n",
      "\n"
     ]
    }
   ],
   "source": [
    "user_reviews.show(1)"
   ]
  },
  {
   "cell_type": "code",
   "execution_count": 14,
   "metadata": {},
   "outputs": [
    {
     "name": "stdout",
     "output_type": "stream",
     "text": [
      "+-----+\n",
      "|count|\n",
      "+-----+\n",
      "|25485|\n",
      "+-----+\n",
      "\n"
     ]
    }
   ],
   "source": [
    "user_reviews.agg(countDistinct(col(\"user_id\")).alias(\"count\")).show()"
   ]
  },
  {
   "cell_type": "code",
   "execution_count": 43,
   "metadata": {},
   "outputs": [],
   "source": [
    "user_reviews_pd = user_reviews.select(\"*\").toPandas()"
   ]
  },
  {
   "cell_type": "code",
   "execution_count": 44,
   "metadata": {},
   "outputs": [
    {
     "data": {
      "text/html": [
       "<div>\n",
       "<style scoped>\n",
       "    .dataframe tbody tr th:only-of-type {\n",
       "        vertical-align: middle;\n",
       "    }\n",
       "\n",
       "    .dataframe tbody tr th {\n",
       "        vertical-align: top;\n",
       "    }\n",
       "\n",
       "    .dataframe thead th {\n",
       "        text-align: right;\n",
       "    }\n",
       "</style>\n",
       "<table border=\"1\" class=\"dataframe\">\n",
       "  <thead>\n",
       "    <tr style=\"text-align: right;\">\n",
       "      <th></th>\n",
       "      <th>reviews</th>\n",
       "      <th>user_id</th>\n",
       "      <th>user_url</th>\n",
       "    </tr>\n",
       "  </thead>\n",
       "  <tbody>\n",
       "    <tr>\n",
       "      <th>0</th>\n",
       "      <td>[{'last_edited': '', 'item_id': '1250', 'revie...</td>\n",
       "      <td>76561197970982479</td>\n",
       "      <td>http://steamcommunity.com/profiles/76561197970...</td>\n",
       "    </tr>\n",
       "    <tr>\n",
       "      <th>1</th>\n",
       "      <td>[{'last_edited': '', 'item_id': '251610', 'rev...</td>\n",
       "      <td>js41637</td>\n",
       "      <td>http://steamcommunity.com/id/js41637</td>\n",
       "    </tr>\n",
       "    <tr>\n",
       "      <th>2</th>\n",
       "      <td>[{'last_edited': '', 'item_id': '248820', 'rev...</td>\n",
       "      <td>evcentric</td>\n",
       "      <td>http://steamcommunity.com/id/evcentric</td>\n",
       "    </tr>\n",
       "    <tr>\n",
       "      <th>3</th>\n",
       "      <td>[{'last_edited': '', 'item_id': '250320', 'rev...</td>\n",
       "      <td>doctr</td>\n",
       "      <td>http://steamcommunity.com/id/doctr</td>\n",
       "    </tr>\n",
       "    <tr>\n",
       "      <th>4</th>\n",
       "      <td>[{'last_edited': '', 'item_id': '211420', 'rev...</td>\n",
       "      <td>maplemage</td>\n",
       "      <td>http://steamcommunity.com/id/maplemage</td>\n",
       "    </tr>\n",
       "  </tbody>\n",
       "</table>\n",
       "</div>"
      ],
      "text/plain": [
       "                                             reviews            user_id  \\\n",
       "0  [{'last_edited': '', 'item_id': '1250', 'revie...  76561197970982479   \n",
       "1  [{'last_edited': '', 'item_id': '251610', 'rev...            js41637   \n",
       "2  [{'last_edited': '', 'item_id': '248820', 'rev...          evcentric   \n",
       "3  [{'last_edited': '', 'item_id': '250320', 'rev...              doctr   \n",
       "4  [{'last_edited': '', 'item_id': '211420', 'rev...          maplemage   \n",
       "\n",
       "                                            user_url  \n",
       "0  http://steamcommunity.com/profiles/76561197970...  \n",
       "1               http://steamcommunity.com/id/js41637  \n",
       "2             http://steamcommunity.com/id/evcentric  \n",
       "3                 http://steamcommunity.com/id/doctr  \n",
       "4             http://steamcommunity.com/id/maplemage  "
      ]
     },
     "execution_count": 44,
     "metadata": {},
     "output_type": "execute_result"
    }
   ],
   "source": [
    "user_reviews_pd.head()"
   ]
  },
  {
   "cell_type": "code",
   "execution_count": 45,
   "metadata": {},
   "outputs": [
    {
     "data": {
      "text/plain": [
       "(25799, 3)"
      ]
     },
     "execution_count": 45,
     "metadata": {},
     "output_type": "execute_result"
    }
   ],
   "source": [
    "user_reviews_pd.shape"
   ]
  },
  {
   "cell_type": "code",
   "execution_count": 46,
   "metadata": {},
   "outputs": [
    {
     "data": {
      "text/plain": [
       "25485"
      ]
     },
     "execution_count": 46,
     "metadata": {},
     "output_type": "execute_result"
    }
   ],
   "source": [
    "user_reviews_pd['user_id'].nunique()"
   ]
  },
  {
   "cell_type": "code",
   "execution_count": 47,
   "metadata": {},
   "outputs": [
    {
     "data": {
      "text/html": [
       "<div>\n",
       "<style scoped>\n",
       "    .dataframe tbody tr th:only-of-type {\n",
       "        vertical-align: middle;\n",
       "    }\n",
       "\n",
       "    .dataframe tbody tr th {\n",
       "        vertical-align: top;\n",
       "    }\n",
       "\n",
       "    .dataframe thead th {\n",
       "        text-align: right;\n",
       "    }\n",
       "</style>\n",
       "<table border=\"1\" class=\"dataframe\">\n",
       "  <thead>\n",
       "    <tr style=\"text-align: right;\">\n",
       "      <th></th>\n",
       "      <th>reviews</th>\n",
       "      <th>user_id</th>\n",
       "      <th>user_url</th>\n",
       "    </tr>\n",
       "  </thead>\n",
       "  <tbody>\n",
       "    <tr>\n",
       "      <th>456</th>\n",
       "      <td>[{'last_edited': '', 'item_id': '346110', 'rev...</td>\n",
       "      <td>bokkkbokkk</td>\n",
       "      <td>http://steamcommunity.com/id/bokkkbokkk</td>\n",
       "    </tr>\n",
       "    <tr>\n",
       "      <th>1182</th>\n",
       "      <td>[{'last_edited': '', 'item_id': '218620', 'rev...</td>\n",
       "      <td>ImSeriouss</td>\n",
       "      <td>http://steamcommunity.com/id/ImSeriouss</td>\n",
       "    </tr>\n",
       "    <tr>\n",
       "      <th>1456</th>\n",
       "      <td>[{'last_edited': '', 'item_id': '570', 'review...</td>\n",
       "      <td>76561198062039159</td>\n",
       "      <td>http://steamcommunity.com/profiles/76561198062...</td>\n",
       "    </tr>\n",
       "    <tr>\n",
       "      <th>1477</th>\n",
       "      <td>[{'last_edited': '', 'item_id': '570', 'review...</td>\n",
       "      <td>76561198045009232</td>\n",
       "      <td>http://steamcommunity.com/profiles/76561198045...</td>\n",
       "    </tr>\n",
       "    <tr>\n",
       "      <th>1746</th>\n",
       "      <td>[{'last_edited': '', 'item_id': '22320', 'revi...</td>\n",
       "      <td>nitr0ticwolf</td>\n",
       "      <td>http://steamcommunity.com/id/nitr0ticwolf</td>\n",
       "    </tr>\n",
       "    <tr>\n",
       "      <th>...</th>\n",
       "      <td>...</td>\n",
       "      <td>...</td>\n",
       "      <td>...</td>\n",
       "    </tr>\n",
       "    <tr>\n",
       "      <th>17819</th>\n",
       "      <td>[{'last_edited': '', 'item_id': '368230', 'rev...</td>\n",
       "      <td>76561198076474887</td>\n",
       "      <td>http://steamcommunity.com/profiles/76561198076...</td>\n",
       "    </tr>\n",
       "    <tr>\n",
       "      <th>17916</th>\n",
       "      <td>[{'last_edited': '', 'item_id': '250320', 'rev...</td>\n",
       "      <td>yolofaceguy</td>\n",
       "      <td>http://steamcommunity.com/id/yolofaceguy</td>\n",
       "    </tr>\n",
       "    <tr>\n",
       "      <th>18028</th>\n",
       "      <td>[{'last_edited': '', 'item_id': '242570', 'rev...</td>\n",
       "      <td>76561198075591109</td>\n",
       "      <td>http://steamcommunity.com/profiles/76561198075...</td>\n",
       "    </tr>\n",
       "    <tr>\n",
       "      <th>18234</th>\n",
       "      <td>[{'last_edited': '', 'item_id': '422400', 'rev...</td>\n",
       "      <td>76561198092022514</td>\n",
       "      <td>http://steamcommunity.com/profiles/76561198092...</td>\n",
       "    </tr>\n",
       "    <tr>\n",
       "      <th>18309</th>\n",
       "      <td>[{'last_edited': 'Last edited December 1, 2015...</td>\n",
       "      <td>SuchGayMuchWow</td>\n",
       "      <td>http://steamcommunity.com/id/SuchGayMuchWow</td>\n",
       "    </tr>\n",
       "  </tbody>\n",
       "</table>\n",
       "<p>314 rows × 3 columns</p>\n",
       "</div>"
      ],
      "text/plain": [
       "                                                 reviews            user_id  \\\n",
       "456    [{'last_edited': '', 'item_id': '346110', 'rev...         bokkkbokkk   \n",
       "1182   [{'last_edited': '', 'item_id': '218620', 'rev...         ImSeriouss   \n",
       "1456   [{'last_edited': '', 'item_id': '570', 'review...  76561198062039159   \n",
       "1477   [{'last_edited': '', 'item_id': '570', 'review...  76561198045009232   \n",
       "1746   [{'last_edited': '', 'item_id': '22320', 'revi...       nitr0ticwolf   \n",
       "...                                                  ...                ...   \n",
       "17819  [{'last_edited': '', 'item_id': '368230', 'rev...  76561198076474887   \n",
       "17916  [{'last_edited': '', 'item_id': '250320', 'rev...        yolofaceguy   \n",
       "18028  [{'last_edited': '', 'item_id': '242570', 'rev...  76561198075591109   \n",
       "18234  [{'last_edited': '', 'item_id': '422400', 'rev...  76561198092022514   \n",
       "18309  [{'last_edited': 'Last edited December 1, 2015...     SuchGayMuchWow   \n",
       "\n",
       "                                                user_url  \n",
       "456              http://steamcommunity.com/id/bokkkbokkk  \n",
       "1182             http://steamcommunity.com/id/ImSeriouss  \n",
       "1456   http://steamcommunity.com/profiles/76561198062...  \n",
       "1477   http://steamcommunity.com/profiles/76561198045...  \n",
       "1746           http://steamcommunity.com/id/nitr0ticwolf  \n",
       "...                                                  ...  \n",
       "17819  http://steamcommunity.com/profiles/76561198076...  \n",
       "17916           http://steamcommunity.com/id/yolofaceguy  \n",
       "18028  http://steamcommunity.com/profiles/76561198075...  \n",
       "18234  http://steamcommunity.com/profiles/76561198092...  \n",
       "18309        http://steamcommunity.com/id/SuchGayMuchWow  \n",
       "\n",
       "[314 rows x 3 columns]"
      ]
     },
     "execution_count": 47,
     "metadata": {},
     "output_type": "execute_result"
    }
   ],
   "source": [
    "user_reviews_pd[user_reviews_pd['user_id'].duplicated()]"
   ]
  },
  {
   "cell_type": "code",
   "execution_count": 48,
   "metadata": {},
   "outputs": [],
   "source": [
    "user_reviews_pd.drop_duplicates(subset =\"user_id\", \n",
    "                     keep = 'first', inplace = True) \n",
    "  "
   ]
  },
  {
   "cell_type": "code",
   "execution_count": 49,
   "metadata": {},
   "outputs": [],
   "source": [
    "user_reviews_pd.reset_index(inplace =True)"
   ]
  },
  {
   "cell_type": "code",
   "execution_count": 50,
   "metadata": {},
   "outputs": [
    {
     "data": {
      "text/plain": [
       "Index(['index', 'reviews', 'user_id', 'user_url'], dtype='object')"
      ]
     },
     "execution_count": 50,
     "metadata": {},
     "output_type": "execute_result"
    }
   ],
   "source": [
    "user_reviews_pd.columns"
   ]
  },
  {
   "cell_type": "code",
   "execution_count": 51,
   "metadata": {},
   "outputs": [],
   "source": [
    "user_reviews_pd.drop(['index'],axis = 1,inplace=True)"
   ]
  },
  {
   "cell_type": "code",
   "execution_count": 52,
   "metadata": {},
   "outputs": [
    {
     "data": {
      "text/html": [
       "<div>\n",
       "<style scoped>\n",
       "    .dataframe tbody tr th:only-of-type {\n",
       "        vertical-align: middle;\n",
       "    }\n",
       "\n",
       "    .dataframe tbody tr th {\n",
       "        vertical-align: top;\n",
       "    }\n",
       "\n",
       "    .dataframe thead th {\n",
       "        text-align: right;\n",
       "    }\n",
       "</style>\n",
       "<table border=\"1\" class=\"dataframe\">\n",
       "  <thead>\n",
       "    <tr style=\"text-align: right;\">\n",
       "      <th></th>\n",
       "      <th>reviews</th>\n",
       "      <th>user_id</th>\n",
       "      <th>user_url</th>\n",
       "    </tr>\n",
       "  </thead>\n",
       "  <tbody>\n",
       "    <tr>\n",
       "      <th>0</th>\n",
       "      <td>[{'last_edited': '', 'item_id': '1250', 'revie...</td>\n",
       "      <td>76561197970982479</td>\n",
       "      <td>http://steamcommunity.com/profiles/76561197970...</td>\n",
       "    </tr>\n",
       "    <tr>\n",
       "      <th>1</th>\n",
       "      <td>[{'last_edited': '', 'item_id': '251610', 'rev...</td>\n",
       "      <td>js41637</td>\n",
       "      <td>http://steamcommunity.com/id/js41637</td>\n",
       "    </tr>\n",
       "    <tr>\n",
       "      <th>2</th>\n",
       "      <td>[{'last_edited': '', 'item_id': '248820', 'rev...</td>\n",
       "      <td>evcentric</td>\n",
       "      <td>http://steamcommunity.com/id/evcentric</td>\n",
       "    </tr>\n",
       "    <tr>\n",
       "      <th>3</th>\n",
       "      <td>[{'last_edited': '', 'item_id': '250320', 'rev...</td>\n",
       "      <td>doctr</td>\n",
       "      <td>http://steamcommunity.com/id/doctr</td>\n",
       "    </tr>\n",
       "    <tr>\n",
       "      <th>4</th>\n",
       "      <td>[{'last_edited': '', 'item_id': '211420', 'rev...</td>\n",
       "      <td>maplemage</td>\n",
       "      <td>http://steamcommunity.com/id/maplemage</td>\n",
       "    </tr>\n",
       "  </tbody>\n",
       "</table>\n",
       "</div>"
      ],
      "text/plain": [
       "                                             reviews            user_id  \\\n",
       "0  [{'last_edited': '', 'item_id': '1250', 'revie...  76561197970982479   \n",
       "1  [{'last_edited': '', 'item_id': '251610', 'rev...            js41637   \n",
       "2  [{'last_edited': '', 'item_id': '248820', 'rev...          evcentric   \n",
       "3  [{'last_edited': '', 'item_id': '250320', 'rev...              doctr   \n",
       "4  [{'last_edited': '', 'item_id': '211420', 'rev...          maplemage   \n",
       "\n",
       "                                            user_url  \n",
       "0  http://steamcommunity.com/profiles/76561197970...  \n",
       "1               http://steamcommunity.com/id/js41637  \n",
       "2             http://steamcommunity.com/id/evcentric  \n",
       "3                 http://steamcommunity.com/id/doctr  \n",
       "4             http://steamcommunity.com/id/maplemage  "
      ]
     },
     "execution_count": 52,
     "metadata": {},
     "output_type": "execute_result"
    }
   ],
   "source": [
    "user_reviews_pd.head()"
   ]
  },
  {
   "cell_type": "code",
   "execution_count": 53,
   "metadata": {},
   "outputs": [
    {
     "data": {
      "text/plain": [
       "(25485, 3)"
      ]
     },
     "execution_count": 53,
     "metadata": {},
     "output_type": "execute_result"
    }
   ],
   "source": [
    "user_reviews_pd.shape"
   ]
  },
  {
   "cell_type": "code",
   "execution_count": 54,
   "metadata": {},
   "outputs": [],
   "source": [
    "dfs = []\n",
    "for i in range(user_reviews_pd.shape[0]):\n",
    "    df = pd.DataFrame(user_reviews_pd['reviews'][i])\n",
    "    df['user_id']= user_reviews_pd['user_id'][i]\n",
    "    dfs.append(df)\n"
   ]
  },
  {
   "cell_type": "code",
   "execution_count": 55,
   "metadata": {},
   "outputs": [],
   "source": [
    "user_reviews_pd = pd.concat(dfs)"
   ]
  },
  {
   "cell_type": "code",
   "execution_count": 56,
   "metadata": {},
   "outputs": [
    {
     "data": {
      "text/html": [
       "<div>\n",
       "<style scoped>\n",
       "    .dataframe tbody tr th:only-of-type {\n",
       "        vertical-align: middle;\n",
       "    }\n",
       "\n",
       "    .dataframe tbody tr th {\n",
       "        vertical-align: top;\n",
       "    }\n",
       "\n",
       "    .dataframe thead th {\n",
       "        text-align: right;\n",
       "    }\n",
       "</style>\n",
       "<table border=\"1\" class=\"dataframe\">\n",
       "  <thead>\n",
       "    <tr style=\"text-align: right;\">\n",
       "      <th></th>\n",
       "      <th>last_edited</th>\n",
       "      <th>item_id</th>\n",
       "      <th>review</th>\n",
       "      <th>recommend</th>\n",
       "      <th>helpful</th>\n",
       "      <th>funny</th>\n",
       "      <th>posted</th>\n",
       "      <th>user_id</th>\n",
       "    </tr>\n",
       "  </thead>\n",
       "  <tbody>\n",
       "    <tr>\n",
       "      <th>0</th>\n",
       "      <td></td>\n",
       "      <td>1250</td>\n",
       "      <td>Simple yet with great replayability. In my opi...</td>\n",
       "      <td>true</td>\n",
       "      <td>No ratings yet</td>\n",
       "      <td></td>\n",
       "      <td>Posted November 5, 2011.</td>\n",
       "      <td>76561197970982479</td>\n",
       "    </tr>\n",
       "    <tr>\n",
       "      <th>1</th>\n",
       "      <td></td>\n",
       "      <td>22200</td>\n",
       "      <td>It's unique and worth a playthrough.</td>\n",
       "      <td>true</td>\n",
       "      <td>No ratings yet</td>\n",
       "      <td></td>\n",
       "      <td>Posted July 15, 2011.</td>\n",
       "      <td>76561197970982479</td>\n",
       "    </tr>\n",
       "    <tr>\n",
       "      <th>2</th>\n",
       "      <td></td>\n",
       "      <td>43110</td>\n",
       "      <td>Great atmosphere. The gunplay can be a bit chu...</td>\n",
       "      <td>true</td>\n",
       "      <td>No ratings yet</td>\n",
       "      <td></td>\n",
       "      <td>Posted April 21, 2011.</td>\n",
       "      <td>76561197970982479</td>\n",
       "    </tr>\n",
       "    <tr>\n",
       "      <th>0</th>\n",
       "      <td></td>\n",
       "      <td>251610</td>\n",
       "      <td>I know what you think when you see this title ...</td>\n",
       "      <td>true</td>\n",
       "      <td>15 of 20 people (75%) found this review helpful</td>\n",
       "      <td></td>\n",
       "      <td>Posted June 24, 2014.</td>\n",
       "      <td>js41637</td>\n",
       "    </tr>\n",
       "    <tr>\n",
       "      <th>1</th>\n",
       "      <td></td>\n",
       "      <td>227300</td>\n",
       "      <td>For a simple (it's actually not all that simpl...</td>\n",
       "      <td>true</td>\n",
       "      <td>0 of 1 people (0%) found this review helpful</td>\n",
       "      <td></td>\n",
       "      <td>Posted September 8, 2013.</td>\n",
       "      <td>js41637</td>\n",
       "    </tr>\n",
       "  </tbody>\n",
       "</table>\n",
       "</div>"
      ],
      "text/plain": [
       "  last_edited item_id                                             review  \\\n",
       "0                1250  Simple yet with great replayability. In my opi...   \n",
       "1               22200               It's unique and worth a playthrough.   \n",
       "2               43110  Great atmosphere. The gunplay can be a bit chu...   \n",
       "0              251610  I know what you think when you see this title ...   \n",
       "1              227300  For a simple (it's actually not all that simpl...   \n",
       "\n",
       "  recommend                                          helpful funny  \\\n",
       "0      true                                   No ratings yet         \n",
       "1      true                                   No ratings yet         \n",
       "2      true                                   No ratings yet         \n",
       "0      true  15 of 20 people (75%) found this review helpful         \n",
       "1      true     0 of 1 people (0%) found this review helpful         \n",
       "\n",
       "                      posted            user_id  \n",
       "0   Posted November 5, 2011.  76561197970982479  \n",
       "1      Posted July 15, 2011.  76561197970982479  \n",
       "2     Posted April 21, 2011.  76561197970982479  \n",
       "0      Posted June 24, 2014.            js41637  \n",
       "1  Posted September 8, 2013.            js41637  "
      ]
     },
     "execution_count": 56,
     "metadata": {},
     "output_type": "execute_result"
    }
   ],
   "source": [
    "user_reviews_pd.head()"
   ]
  },
  {
   "cell_type": "code",
   "execution_count": 57,
   "metadata": {},
   "outputs": [],
   "source": [
    "user_reviews_pd.reset_index(inplace = True)"
   ]
  },
  {
   "cell_type": "code",
   "execution_count": 58,
   "metadata": {},
   "outputs": [],
   "source": [
    "user_reviews_pd.drop(['index'], axis = 1,inplace = True)"
   ]
  },
  {
   "cell_type": "code",
   "execution_count": 59,
   "metadata": {},
   "outputs": [
    {
     "data": {
      "text/html": [
       "<div>\n",
       "<style scoped>\n",
       "    .dataframe tbody tr th:only-of-type {\n",
       "        vertical-align: middle;\n",
       "    }\n",
       "\n",
       "    .dataframe tbody tr th {\n",
       "        vertical-align: top;\n",
       "    }\n",
       "\n",
       "    .dataframe thead th {\n",
       "        text-align: right;\n",
       "    }\n",
       "</style>\n",
       "<table border=\"1\" class=\"dataframe\">\n",
       "  <thead>\n",
       "    <tr style=\"text-align: right;\">\n",
       "      <th></th>\n",
       "      <th>last_edited</th>\n",
       "      <th>item_id</th>\n",
       "      <th>review</th>\n",
       "      <th>recommend</th>\n",
       "      <th>helpful</th>\n",
       "      <th>funny</th>\n",
       "      <th>posted</th>\n",
       "      <th>user_id</th>\n",
       "    </tr>\n",
       "  </thead>\n",
       "  <tbody>\n",
       "    <tr>\n",
       "      <th>0</th>\n",
       "      <td></td>\n",
       "      <td>1250</td>\n",
       "      <td>Simple yet with great replayability. In my opi...</td>\n",
       "      <td>true</td>\n",
       "      <td>No ratings yet</td>\n",
       "      <td></td>\n",
       "      <td>Posted November 5, 2011.</td>\n",
       "      <td>76561197970982479</td>\n",
       "    </tr>\n",
       "    <tr>\n",
       "      <th>1</th>\n",
       "      <td></td>\n",
       "      <td>22200</td>\n",
       "      <td>It's unique and worth a playthrough.</td>\n",
       "      <td>true</td>\n",
       "      <td>No ratings yet</td>\n",
       "      <td></td>\n",
       "      <td>Posted July 15, 2011.</td>\n",
       "      <td>76561197970982479</td>\n",
       "    </tr>\n",
       "    <tr>\n",
       "      <th>2</th>\n",
       "      <td></td>\n",
       "      <td>43110</td>\n",
       "      <td>Great atmosphere. The gunplay can be a bit chu...</td>\n",
       "      <td>true</td>\n",
       "      <td>No ratings yet</td>\n",
       "      <td></td>\n",
       "      <td>Posted April 21, 2011.</td>\n",
       "      <td>76561197970982479</td>\n",
       "    </tr>\n",
       "    <tr>\n",
       "      <th>3</th>\n",
       "      <td></td>\n",
       "      <td>251610</td>\n",
       "      <td>I know what you think when you see this title ...</td>\n",
       "      <td>true</td>\n",
       "      <td>15 of 20 people (75%) found this review helpful</td>\n",
       "      <td></td>\n",
       "      <td>Posted June 24, 2014.</td>\n",
       "      <td>js41637</td>\n",
       "    </tr>\n",
       "    <tr>\n",
       "      <th>4</th>\n",
       "      <td></td>\n",
       "      <td>227300</td>\n",
       "      <td>For a simple (it's actually not all that simpl...</td>\n",
       "      <td>true</td>\n",
       "      <td>0 of 1 people (0%) found this review helpful</td>\n",
       "      <td></td>\n",
       "      <td>Posted September 8, 2013.</td>\n",
       "      <td>js41637</td>\n",
       "    </tr>\n",
       "  </tbody>\n",
       "</table>\n",
       "</div>"
      ],
      "text/plain": [
       "  last_edited item_id                                             review  \\\n",
       "0                1250  Simple yet with great replayability. In my opi...   \n",
       "1               22200               It's unique and worth a playthrough.   \n",
       "2               43110  Great atmosphere. The gunplay can be a bit chu...   \n",
       "3              251610  I know what you think when you see this title ...   \n",
       "4              227300  For a simple (it's actually not all that simpl...   \n",
       "\n",
       "  recommend                                          helpful funny  \\\n",
       "0      true                                   No ratings yet         \n",
       "1      true                                   No ratings yet         \n",
       "2      true                                   No ratings yet         \n",
       "3      true  15 of 20 people (75%) found this review helpful         \n",
       "4      true     0 of 1 people (0%) found this review helpful         \n",
       "\n",
       "                      posted            user_id  \n",
       "0   Posted November 5, 2011.  76561197970982479  \n",
       "1      Posted July 15, 2011.  76561197970982479  \n",
       "2     Posted April 21, 2011.  76561197970982479  \n",
       "3      Posted June 24, 2014.            js41637  \n",
       "4  Posted September 8, 2013.            js41637  "
      ]
     },
     "execution_count": 59,
     "metadata": {},
     "output_type": "execute_result"
    }
   ],
   "source": [
    "user_reviews_pd.head()"
   ]
  },
  {
   "cell_type": "code",
   "execution_count": 60,
   "metadata": {},
   "outputs": [
    {
     "data": {
      "text/plain": [
       "(58430, 8)"
      ]
     },
     "execution_count": 60,
     "metadata": {},
     "output_type": "execute_result"
    }
   ],
   "source": [
    "user_reviews_pd.shape"
   ]
  },
  {
   "cell_type": "code",
   "execution_count": 61,
   "metadata": {},
   "outputs": [
    {
     "data": {
      "text/plain": [
       "25457"
      ]
     },
     "execution_count": 61,
     "metadata": {},
     "output_type": "execute_result"
    }
   ],
   "source": [
    "user_reviews_pd['user_id'].nunique()"
   ]
  },
  {
   "cell_type": "code",
   "execution_count": 62,
   "metadata": {},
   "outputs": [
    {
     "data": {
      "text/plain": [
       "3682"
      ]
     },
     "execution_count": 62,
     "metadata": {},
     "output_type": "execute_result"
    }
   ],
   "source": [
    "user_reviews_pd['item_id'].nunique()"
   ]
  },
  {
   "cell_type": "code",
   "execution_count": 63,
   "metadata": {},
   "outputs": [
    {
     "data": {
      "text/plain": [
       "0.0006233685384885104"
      ]
     },
     "execution_count": 63,
     "metadata": {},
     "output_type": "execute_result"
    }
   ],
   "source": [
    "num_ratings = 58430\n",
    "num_users = 25457\n",
    "num_games= 3682\n",
    "density = num_ratings/(num_users*num_games)\n",
    "density"
   ]
  },
  {
   "cell_type": "code",
   "execution_count": 64,
   "metadata": {},
   "outputs": [],
   "source": [
    "user_counts= user_reviews_pd.groupby('user_id')['item_id'].count().values\n",
    "game_counts = user_reviews_pd.groupby('item_id')['user_id'].count().values\n"
   ]
  },
  {
   "cell_type": "code",
   "execution_count": 65,
   "metadata": {},
   "outputs": [
    {
     "data": {
      "text/plain": [
       "10"
      ]
     },
     "execution_count": 65,
     "metadata": {},
     "output_type": "execute_result"
    }
   ],
   "source": [
    "user_counts.max()"
   ]
  },
  {
   "cell_type": "code",
   "execution_count": 66,
   "metadata": {},
   "outputs": [
    {
     "data": {
      "text/plain": [
       "1"
      ]
     },
     "execution_count": 66,
     "metadata": {},
     "output_type": "execute_result"
    }
   ],
   "source": [
    "user_counts.min()"
   ]
  },
  {
   "cell_type": "code",
   "execution_count": 67,
   "metadata": {},
   "outputs": [
    {
     "data": {
      "text/plain": [
       "3708"
      ]
     },
     "execution_count": 67,
     "metadata": {},
     "output_type": "execute_result"
    }
   ],
   "source": [
    "game_counts.max()"
   ]
  },
  {
   "cell_type": "code",
   "execution_count": 68,
   "metadata": {},
   "outputs": [
    {
     "data": {
      "text/plain": [
       "1"
      ]
     },
     "execution_count": 68,
     "metadata": {},
     "output_type": "execute_result"
    }
   ],
   "source": [
    "game_counts.min()"
   ]
  },
  {
   "cell_type": "code",
   "execution_count": 69,
   "metadata": {},
   "outputs": [
    {
     "data": {
      "image/png": "[encoded data removed]",
      "text/plain": [
       "<Figure size 432x288 with 1 Axes>"
      ]
     },
     "metadata": {
      "needs_background": "light"
     },
     "output_type": "display_data"
    }
   ],
   "source": [
    "fig, ax = plt.subplots()\n",
    "ax.hist(user_counts, bins=20)\n",
    "ax.set_xlabel('Number of Reviews per User')\n",
    "ax.set_ylabel('Frequency');"
   ]
  },
  {
   "cell_type": "code",
   "execution_count": 70,
   "metadata": {},
   "outputs": [
    {
     "data": {
      "image/png": "[encoded data removed]",
      "text/plain": [
       "<Figure size 432x288 with 1 Axes>"
      ]
     },
     "metadata": {
      "needs_background": "light"
     },
     "output_type": "display_data"
    }
   ],
   "source": [
    "fig, ax = plt.subplots()\n",
    "ax.hist(game_counts, bins=20)\n",
    "ax.set_xlabel('Number of Reviews per Game')\n",
    "ax.set_ylabel('Frequency');"
   ]
  },
  {
   "cell_type": "markdown",
   "metadata": {},
   "source": [
    "## User Items"
   ]
  },
  {
   "cell_type": "markdown",
   "metadata": {},
   "source": [
    "#### Load Data into RDD"
   ]
  },
  {
   "cell_type": "code",
   "execution_count": 4,
   "metadata": {},
   "outputs": [],
   "source": [
    "users_items_rdd = sc.textFile('data/australian_users_items (2).json')"
   ]
  },
  {
   "cell_type": "code",
   "execution_count": 5,
   "metadata": {},
   "outputs": [
    {
     "data": {
      "text/plain": [
       "88310"
      ]
     },
     "execution_count": 5,
     "metadata": {},
     "output_type": "execute_result"
    }
   ],
   "source": [
    "users_items_rdd.count()"
   ]
  },
  {
   "cell_type": "code",
   "execution_count": 6,
   "metadata": {
    "collapsed": true,
    "jupyter": {
     "outputs_hidden": true
    }
   },
   "outputs": [
    {
     "data": {
      "text/plain": [
       "'{\\'user_id\\': \\'76561197970982479\\', \\'items_count\\': 277, \\'steam_id\\': \\'76561197970982479\\', \\'user_url\\': \\'http://steamcommunity.com/profiles/76561197970982479\\', \\'items\\': [{\\'item_id\\': \\'10\\', \\'item_name\\': \\'Counter-Strike\\', \\'playtime_forever\\': 6, \\'playtime_2weeks\\': 0}, {\\'item_id\\': \\'20\\', \\'item_name\\': \\'Team Fortress Classic\\', \\'playtime_forever\\': 0, \\'playtime_2weeks\\': 0}, {\\'item_id\\': \\'30\\', \\'item_name\\': \\'Day of Defeat\\', \\'playtime_forever\\': 7, \\'playtime_2weeks\\': 0}, {\\'item_id\\': \\'40\\', \\'item_name\\': \\'Deathmatch Classic\\', \\'playtime_forever\\': 0, \\'playtime_2weeks\\': 0}, {\\'item_id\\': \\'50\\', \\'item_name\\': \\'Half-Life: Opposing Force\\', \\'playtime_forever\\': 0, \\'playtime_2weeks\\': 0}, {\\'item_id\\': \\'60\\', \\'item_name\\': \\'Ricochet\\', \\'playtime_forever\\': 0, \\'playtime_2weeks\\': 0}, {\\'item_id\\': \\'70\\', \\'item_name\\': \\'Half-Life\\', \\'playtime_forever\\': 0, \\'playtime_2weeks\\': 0}, {\\'item_id\\': \\'130\\', \\'item_name\\': \\'Half-Life: Blue Shift\\', \\'playtime_forever\\': 0, \\'playtime_2weeks\\': 0}, {\\'item_id\\': \\'300\\', \\'item_name\\': \\'Day of Defeat: Source\\', \\'playtime_forever\\': 4733, \\'playtime_2weeks\\': 0}, {\\'item_id\\': \\'240\\', \\'item_name\\': \\'Counter-Strike: Source\\', \\'playtime_forever\\': 1853, \\'playtime_2weeks\\': 0}, {\\'item_id\\': \\'3830\\', \\'item_name\\': \\'Psychonauts\\', \\'playtime_forever\\': 333, \\'playtime_2weeks\\': 0}, {\\'item_id\\': \\'2630\\', \\'item_name\\': \\'Call of Duty 2\\', \\'playtime_forever\\': 75, \\'playtime_2weeks\\': 0}, {\\'item_id\\': \\'3900\\', \\'item_name\\': \"Sid Meier\\'s Civilization IV\", \\'playtime_forever\\': 338, \\'playtime_2weeks\\': 0}, {\\'item_id\\': \\'34440\\', \\'item_name\\': \"Sid Meier\\'s Civilization IV\", \\'playtime_forever\\': 0, \\'playtime_2weeks\\': 0}, {\\'item_id\\': \\'3920\\', \\'item_name\\': \"Sid Meier\\'s Pirates!\", \\'playtime_forever\\': 2, \\'playtime_2weeks\\': 0}, {\\'item_id\\': \\'6400\\', \\'item_name\\': \\'Joint Task Force\\', \\'playtime_forever\\': 286, \\'playtime_2weeks\\': 0}, {\\'item_id\\': \\'6910\\', \\'item_name\\': \\'Deus Ex: Game of the Year Edition\\', \\'playtime_forever\\': 2685, \\'playtime_2weeks\\': 0}, {\\'item_id\\': \\'7670\\', \\'item_name\\': \\'BioShock\\', \\'playtime_forever\\': 633, \\'playtime_2weeks\\': 0}, {\\'item_id\\': \\'409710\\', \\'item_name\\': \\'BioShock Remastered\\', \\'playtime_forever\\': 0, \\'playtime_2weeks\\': 0}, {\\'item_id\\': \\'220\\', \\'item_name\\': \\'Half-Life 2\\', \\'playtime_forever\\': 696, \\'playtime_2weeks\\': 0}, {\\'item_id\\': \\'320\\', \\'item_name\\': \\'Half-Life 2: Deathmatch\\', \\'playtime_forever\\': 0, \\'playtime_2weeks\\': 0}, {\\'item_id\\': \\'340\\', \\'item_name\\': \\'Half-Life 2: Lost Coast\\', \\'playtime_forever\\': 37, \\'playtime_2weeks\\': 0}, {\\'item_id\\': \\'360\\', \\'item_name\\': \\'Half-Life Deathmatch: Source\\', \\'playtime_forever\\': 0, \\'playtime_2weeks\\': 0}, {\\'item_id\\': \\'380\\', \\'item_name\\': \\'Half-Life 2: Episode One\\', \\'playtime_forever\\': 168, \\'playtime_2weeks\\': 0}, {\\'item_id\\': \\'400\\', \\'item_name\\': \\'Portal\\', \\'playtime_forever\\': 173, \\'playtime_2weeks\\': 0}, {\\'item_id\\': \\'420\\', \\'item_name\\': \\'Half-Life 2: Episode Two\\', \\'playtime_forever\\': 323, \\'playtime_2weeks\\': 0}, {\\'item_id\\': \\'9340\\', \\'item_name\\': \\'Company of Heroes: Opposing Fronts\\', \\'playtime_forever\\': 692, \\'playtime_2weeks\\': 0}, {\\'item_id\\': \\'228200\\', \\'item_name\\': \\'Company of Heroes (New Steam Version)\\', \\'playtime_forever\\': 0, \\'playtime_2weeks\\': 0}, {\\'item_id\\': \\'11450\\', \\'item_name\\': \\'Overlord\\', \\'playtime_forever\\': 0, \\'playtime_2weeks\\': 0}, {\\'item_id\\': \\'7940\\', \\'item_name\\': \\'Call of Duty 4: Modern Warfare\\', \\'playtime_forever\\': 1185, \\'playtime_2weeks\\': 0}, {\\'item_id\\': \\'4700\\', \\'item_name\\': \\'Medieval II: Total War\\', \\'playtime_forever\\': 477, \\'playtime_2weeks\\': 0}, {\\'item_id\\': \\'12900\\', \\'item_name\\': \\'Audiosurf\\', \\'playtime_forever\\': 115, \\'playtime_2weeks\\': 0}, {\\'item_id\\': \\'13250\\', \\'item_name\\': \\'Unreal Gold\\', \\'playtime_forever\\': 0, \\'playtime_2weeks\\': 0}, {\\'item_id\\': \\'16100\\', \\'item_name\\': \\'Virtual Villagers: A New Home\\', \\'playtime_forever\\': 0, \\'playtime_2weeks\\': 0}, {\\'item_id\\': \\'15700\\', \\'item_name\\': \"Oddworld: Abe\\'s Oddysee\", \\'playtime_forever\\': 28, \\'playtime_2weeks\\': 0}, {\\'item_id\\': \\'15710\\', \\'item_name\\': \"Oddworld: Abe\\'s Exoddus\", \\'playtime_forever\\': 0, \\'playtime_2weeks\\': 0}, {\\'item_id\\': \\'17330\\', \\'item_name\\': \\'Crysis Warhead\\', \\'playtime_forever\\': 31, \\'playtime_2weeks\\': 0}, {\\'item_id\\': \\'17340\\', \\'item_name\\': \\'Crysis Wars\\', \\'playtime_forever\\': 0, \\'playtime_2weeks\\': 0}, {\\'item_id\\': \\'22000\\', \\'item_name\\': \\'World of Goo\\', \\'playtime_forever\\': 195, \\'playtime_2weeks\\': 0}, {\\'item_id\\': \\'500\\', \\'item_name\\': \\'Left 4 Dead\\', \\'playtime_forever\\': 513, \\'playtime_2weeks\\': 0}, {\\'item_id\\': \\'4560\\', \\'item_name\\': \\'Company of Heroes\\', \\'playtime_forever\\': 1061, \\'playtime_2weeks\\': 0}, {\\'item_id\\': \\'17460\\', \\'item_name\\': \\'Mass Effect\\', \\'playtime_forever\\': 1613, \\'playtime_2weeks\\': 0}, {\\'item_id\\': \\'10500\\', \\'item_name\\': \\'Empire: Total War\\', \\'playtime_forever\\': 186, \\'playtime_2weeks\\': 0}, {\\'item_id\\': \\'24740\\', \\'item_name\\': \\'Burnout Paradise: The Ultimate Box\\', \\'playtime_forever\\': 0, \\'playtime_2weeks\\': 0}, {\\'item_id\\': \\'22200\\', \\'item_name\\': \\'Zeno Clash\\', \\'playtime_forever\\': 271, \\'playtime_2weeks\\': 0}, {\\'item_id\\': \\'26800\\', \\'item_name\\': \\'Braid\\', \\'playtime_forever\\': 445, \\'playtime_2weeks\\': 0}, {\\'item_id\\': \\'1250\\', \\'item_name\\': \\'Killing Floor\\', \\'playtime_forever\\': 10006, \\'playtime_2weeks\\': 0}, {\\'item_id\\': \\'35420\\', \\'item_name\\': \\'Killing Floor Mod: Defence Alliance 2\\', \\'playtime_forever\\': 0, \\'playtime_2weeks\\': 0}, {\\'item_id\\': \\'3590\\', \\'item_name\\': \\'Plants vs. Zombies: Game of the Year\\', \\'playtime_forever\\': 4413, \\'playtime_2weeks\\': 0}, {\\'item_id\\': \\'8880\\', \\'item_name\\': \\'Freedom Force\\', \\'playtime_forever\\': 0, \\'playtime_2weeks\\': 0}, {\\'item_id\\': \\'8890\\', \\'item_name\\': \\'Freedom Force vs. the 3rd Reich\\', \\'playtime_forever\\': 0, \\'playtime_2weeks\\': 0}, {\\'item_id\\': \\'23120\\', \\'item_name\\': \\'Droplitz\\', \\'playtime_forever\\': 53, \\'playtime_2weeks\\': 0}, {\\'item_id\\': \\'35700\\', \\'item_name\\': \\'Trine\\', \\'playtime_forever\\': 199, \\'playtime_2weeks\\': 0}, {\\'item_id\\': \\'10140\\', \\'item_name\\': \\'3D Ultra Minigolf Adventures Deluxe\\', \\'playtime_forever\\': 25, \\'playtime_2weeks\\': 0}, {\\'item_id\\': \\'35010\\', \\'item_name\\': \\'Batman: Arkham Asylum\\', \\'playtime_forever\\': 570, \\'playtime_2weeks\\': 0}, {\\'item_id\\': \\'35140\\', \\'item_name\\': \\'Batman: Arkham Asylum GOTY Edition\\', \\'playtime_forever\\': 0, \\'playtime_2weeks\\': 0}, {\\'item_id\\': \\'29180\\', \\'item_name\\': \\'Osmos\\', \\'playtime_forever\\': 940, \\'playtime_2weeks\\': 0}, {\\'item_id\\': \\'15520\\', \\'item_name\\': \\'AaAaAA!!! - A Reckless Disregard for Gravity\\', \\'playtime_forever\\': 110, \\'playtime_2weeks\\': 0}, {\\'item_id\\': \\'32370\\', \\'item_name\\': \\'STAR WARS™: Knights of the Old Republic™\\', \\'playtime_forever\\': 5, \\'playtime_2weeks\\': 0}, {\\'item_id\\': \\'37700\\', \\'item_name\\': \\'Darkest of Days\\', \\'playtime_forever\\': 782, \\'playtime_2weeks\\': 0}, {\\'item_id\\': \\'6020\\', \\'item_name\\': \\'STAR WARS™ Jedi Knight: Jedi Academy™\\', \\'playtime_forever\\': 77, \\'playtime_2weeks\\': 0}, {\\'item_id\\': \\'24860\\', \\'item_name\\': \\'Battlefield 2\\', \\'playtime_forever\\': 437, \\'playtime_2weeks\\': 0}, {\\'item_id\\': \\'39530\\', \\'item_name\\': \\'Painkiller: Black Edition\\', \\'playtime_forever\\': 503, \\'playtime_2weeks\\': 0}, {\\'item_id\\': \\'550\\', \\'item_name\\': \\'Left 4 Dead 2\\', \\'playtime_forever\\': 1474, \\'playtime_2weeks\\': 0}, {\\'item_id\\': \\'223530\\', \\'item_name\\': \\'Left 4 Dead 2 Beta\\', \\'playtime_forever\\': 0, \\'playtime_2weeks\\': 0}, {\\'item_id\\': \\'8980\\', \\'item_name\\': \\'Borderlands\\', \\'playtime_forever\\': 3061, \\'playtime_2weeks\\': 0}, {\\'item_id\\': \\'41500\\', \\'item_name\\': \\'Torchlight\\', \\'playtime_forever\\': 536, \\'playtime_2weeks\\': 0}, {\\'item_id\\': \\'20900\\', \\'item_name\\': \\'The Witcher: Enhanced Edition\\', \\'playtime_forever\\': 139, \\'playtime_2weeks\\': 0}, {\\'item_id\\': \\'10180\\', \\'item_name\\': \\'Call of Duty: Modern Warfare 2\\', \\'playtime_forever\\': 1886, \\'playtime_2weeks\\': 0}, {\\'item_id\\': \\'10190\\', \\'item_name\\': \\'Call of Duty: Modern Warfare 2 - Multiplayer\\', \\'playtime_forever\\': 1784, \\'playtime_2weeks\\': 0}, {\\'item_id\\': \\'17450\\', \\'item_name\\': \\'Dragon Age: Origins\\', \\'playtime_forever\\': 4431, \\'playtime_2weeks\\': 0}, {\\'item_id\\': \\'3170\\', \\'item_name\\': \"King\\'s Bounty: Armored Princess\", \\'playtime_forever\\': 1021, \\'playtime_2weeks\\': 0}, {\\'item_id\\': \\'25900\\', \\'item_name\\': \"King\\'s Bounty: The Legend\", \\'playtime_forever\\': 1389, \\'playtime_2weeks\\': 0}, {\\'item_id\\': \\'31410\\', \\'item_name\\': \\'Zombie Driver\\', \\'playtime_forever\\': 95, \\'playtime_2weeks\\': 0}, {\\'item_id\\': \\'24980\\', \\'item_name\\': \\'Mass Effect 2\\', \\'playtime_forever\\': 5001, \\'playtime_2weeks\\': 0}, {\\'item_id\\': \\'8850\\', \\'item_name\\': \\'BioShock 2\\', \\'playtime_forever\\': 1504, \\'playtime_2weeks\\': 0}, {\\'item_id\\': \\'409720\\', \\'item_name\\': \\'BioShock 2 Remastered\\', \\'playtime_forever\\': 0, \\'playtime_2weeks\\': 0}, {\\'item_id\\': \\'46000\\', \\'item_name\\': \\'Bob Came in Pieces\\', \\'playtime_forever\\': 11, \\'playtime_2weeks\\': 0}, {\\'item_id\\': \\'33230\\', \\'item_name\\': \"Assassin\\'s Creed II\", \\'playtime_forever\\': 1636, \\'playtime_2weeks\\': 0}, {\\'item_id\\': \\'20820\\', \\'item_name\\': \\'Shatter\\', \\'playtime_forever\\': 46, \\'playtime_2weeks\\': 0}, {\\'item_id\\': \\'47700\\', \\'item_name\\': \\'Command and Conquer 4: Tiberian Twilight\\', \\'playtime_forever\\': 85, \\'playtime_2weeks\\': 0}, {\\'item_id\\': \\'24960\\', \\'item_name\\': \\'Battlefield: Bad Company 2\\', \\'playtime_forever\\': 5716, \\'playtime_2weeks\\': 0}, {\\'item_id\\': \\'43110\\', \\'item_name\\': \\'Metro 2033\\', \\'playtime_forever\\': 834, \\'playtime_2weeks\\': 0}, {\\'item_id\\': \\'8190\\', \\'item_name\\': \\'Just Cause 2\\', \\'playtime_forever\\': 3083, \\'playtime_2weeks\\': 0}, {\\'item_id\\': \\'49600\\', \\'item_name\\': \\'Beat Hazard\\', \\'playtime_forever\\': 127, \\'playtime_2weeks\\': 0}, {\\'item_id\\': \\'31220\\', \\'item_name\\': \\'Sam & Max 301: The Penal Zone\\', \\'playtime_forever\\': 71, \\'playtime_2weeks\\': 0}, {\\'item_id\\': \\'31230\\', \\'item_name\\': \\'Sam & Max 302: The Tomb of Sammun-Mak\\', \\'playtime_forever\\': 0, \\'playtime_2weeks\\': 0}, {\\'item_id\\': \\'31240\\', \\'item_name\\': \"Sam & Max 303: They Stole Max\\'s Brain!\", \\'playtime_forever\\': 0, \\'playtime_2weeks\\': 0}, {\\'item_id\\': \\'31250\\', \\'item_name\\': \\'Sam & Max 304: Beyond the Alley of the Dolls\\', \\'playtime_forever\\': 0, \\'playtime_2weeks\\': 0}, {\\'item_id\\': \\'31260\\', \\'item_name\\': \\'Sam & Max 305: The City that Dares not Sleep\\', \\'playtime_forever\\': 0, \\'playtime_2weeks\\': 0}, {\\'item_id\\': \\'21090\\', \\'item_name\\': \\'F.E.A.R.\\', \\'playtime_forever\\': 585, \\'playtime_2weeks\\': 0}, {\\'item_id\\': \\'21110\\', \\'item_name\\': \\'F.E.A.R.: Extraction Point\\', \\'playtime_forever\\': 146, \\'playtime_2weeks\\': 0}, {\\'item_id\\': \\'21120\\', \\'item_name\\': \\'F.E.A.R.: Perseus Mandate\\', \\'playtime_forever\\': 0, \\'playtime_2weeks\\': 0}, {\\'item_id\\': \\'49400\\', \\'item_name\\': \\'Magic: The Gathering - Duels of the Planeswalkers\\', \\'playtime_forever\\': 32, \\'playtime_2weeks\\': 0}, {\\'item_id\\': \\'33910\\', \\'item_name\\': \\'Arma 2\\', \\'playtime_forever\\': 3, \\'playtime_2weeks\\': 0}, {\\'item_id\\': \\'33930\\', \\'item_name\\': \\'Arma 2: Operation Arrowhead\\', \\'playtime_forever\\': 3, \\'playtime_2weeks\\': 0}, {\\'item_id\\': \\'219540\\', \\'item_name\\': \\'Arma 2: Operation Arrowhead Beta (Obsolete)\\', \\'playtime_forever\\': 0, \\'playtime_2weeks\\': 0}, {\\'item_id\\': \\'17410\\', \\'item_name\\': \"Mirror\\'s Edge\", \\'playtime_forever\\': 0, \\'playtime_2weeks\\': 0}, {\\'item_id\\': \\'205790\\', \\'item_name\\': \\'Dota 2 Test\\', \\'playtime_forever\\': 0, \\'playtime_2weeks\\': 0}, {\\'item_id\\': \\'50130\\', \\'item_name\\': \\'Mafia II\\', \\'playtime_forever\\': 707, \\'playtime_2weeks\\': 0}, {\\'item_id\\': \\'62100\\', \\'item_name\\': \\'Chime\\', \\'playtime_forever\\': 50, \\'playtime_2weeks\\': 0}, {\\'item_id\\': \\'31280\\', \\'item_name\\': \\'Poker Night at the Inventory\\', \\'playtime_forever\\': 206, \\'playtime_2weeks\\': 0}, {\\'item_id\\': \\'57300\\', \\'item_name\\': \\'Amnesia: The Dark Descent\\', \\'playtime_forever\\': 12, \\'playtime_2weeks\\': 0}, {\\'item_id\\': \\'21970\\', \\'item_name\\': \\'R.U.S.E\\', \\'playtime_forever\\': 64, \\'playtime_2weeks\\': 0}, {\\'item_id\\': \\'8930\\', \\'item_name\\': \"Sid Meier\\'s Civilization V\", \\'playtime_forever\\': 10345, \\'playtime_2weeks\\': 0}, {\\'item_id\\': \\'41000\\', \\'item_name\\': \\'Serious Sam HD: The First Encounter\\', \\'playtime_forever\\': 369, \\'playtime_2weeks\\': 0}, {\\'item_id\\': \\'41050\\', \\'item_name\\': \\'Serious Sam Classic: The First Encounter\\', \\'playtime_forever\\': 76, \\'playtime_2weeks\\': 0}, {\\'item_id\\': \\'41060\\', \\'item_name\\': \\'Serious Sam Classic: The Second Encounter\\', \\'playtime_forever\\': 0, \\'playtime_2weeks\\': 0}, {\\'item_id\\': \\'227780\\', \\'item_name\\': \\'Serious Sam Classics: Revolution\\', \\'playtime_forever\\': 0, \\'playtime_2weeks\\': 0}, {\\'item_id\\': \\'18040\\', \\'item_name\\': \\'DeathSpank\\', \\'playtime_forever\\': 594, \\'playtime_2weeks\\': 0}, {\\'item_id\\': \\'22380\\', \\'item_name\\': \\'Fallout: New Vegas\\', \\'playtime_forever\\': 43, \\'playtime_2weeks\\': 0}, {\\'item_id\\': \\'42700\\', \\'item_name\\': \\'Call of Duty: Black Ops\\', \\'playtime_forever\\': 966, \\'playtime_2weeks\\': 0}, {\\'item_id\\': \\'42710\\', \\'item_name\\': \\'Call of Duty: Black Ops - Multiplayer\\', \\'playtime_forever\\': 2452, \\'playtime_2weeks\\': 0}, {\\'item_id\\': \\'62000\\', \\'item_name\\': \\'Flight Control HD\\', \\'playtime_forever\\': 25, \\'playtime_2weeks\\': 0}, {\\'item_id\\': \\'40800\\', \\'item_name\\': \\'Super Meat Boy\\', \\'playtime_forever\\': 119, \\'playtime_2weeks\\': 0}, {\\'item_id\\': \\'9500\\', \\'item_name\\': \\'Gish\\', \\'playtime_forever\\': 6, \\'playtime_2weeks\\': 0}, {\\'item_id\\': \\'18700\\', \\'item_name\\': \\'And Yet It Moves\\', \\'playtime_forever\\': 0, \\'playtime_2weeks\\': 0}, {\\'item_id\\': \\'31270\\', \\'item_name\\': \\'Puzzle Agent\\', \\'playtime_forever\\': 0, \\'playtime_2weeks\\': 0}, {\\'item_id\\': \\'58200\\', \\'item_name\\': \\'Jolly Rover\\', \\'playtime_forever\\': 0, \\'playtime_2weeks\\': 0}, {\\'item_id\\': \\'70400\\', \\'item_name\\': \"Recettear: An Item Shop\\'s Tale\", \\'playtime_forever\\': 537, \\'playtime_2weeks\\': 0}, {\\'item_id\\': \\'41300\\', \\'item_name\\': \\'Altitude\\', \\'playtime_forever\\': 50, \\'playtime_2weeks\\': 0}, {\\'item_id\\': \\'41800\\', \\'item_name\\': \\'Gratuitous Space Battles\\', \\'playtime_forever\\': 149, \\'playtime_2weeks\\': 0}, {\\'item_id\\': \\'42500\\', \\'item_name\\': \\'DogFighter\\', \\'playtime_forever\\': 0, \\'playtime_2weeks\\': 0}, {\\'item_id\\': \\'49900\\', \\'item_name\\': \\'Plain Sight\\', \\'playtime_forever\\': 23, \\'playtime_2weeks\\': 0}, {\\'item_id\\': \\'55000\\', \\'item_name\\': \\'Flotilla\\', \\'playtime_forever\\': 0, \\'playtime_2weeks\\': 0}, {\\'item_id\\': \\'34330\\', \\'item_name\\': \\'Total War: SHOGUN 2\\', \\'playtime_forever\\': 1538, \\'playtime_2weeks\\': 0}, {\\'item_id\\': \\'63200\\', \\'item_name\\': \\'Monday Night Combat\\', \\'playtime_forever\\': 573, \\'playtime_2weeks\\': 0}, {\\'item_id\\': \\'99810\\', \\'item_name\\': \\'Bulletstorm\\', \\'playtime_forever\\': 2, \\'playtime_2weeks\\': 0}, {\\'item_id\\': \\'620\\', \\'item_name\\': \\'Portal 2\\', \\'playtime_forever\\': 887, \\'playtime_2weeks\\': 0}, {\\'item_id\\': \\'42910\\', \\'item_name\\': \\'Magicka\\', \\'playtime_forever\\': 588, \\'playtime_2weeks\\': 0}, {\\'item_id\\': \\'15500\\', \\'item_name\\': \\'The Wonderful End of the World\\', \\'playtime_forever\\': 0, \\'playtime_2weeks\\': 0}, {\\'item_id\\': \\'15540\\', \\'item_name\\': \\'1... 2... 3... KICK IT! (Drop That Beat Like an Ugly Baby)\\', \\'playtime_forever\\': 4, \\'playtime_2weeks\\': 0}, {\\'item_id\\': \\'18500\\', \\'item_name\\': \\'Defense Grid: The Awakening\\', \\'playtime_forever\\': 126, \\'playtime_2weeks\\': 0}, {\\'item_id\\': \\'26500\\', \\'item_name\\': \\'Cogs\\', \\'playtime_forever\\': 0, \\'playtime_2weeks\\': 0}, {\\'item_id\\': \\'35460\\', \\'item_name\\': \\'The Ball\\', \\'playtime_forever\\': 0, \\'playtime_2weeks\\': 0}, {\\'item_id\\': \\'38700\\', \\'item_name\\': \\'Toki Tori\\', \\'playtime_forever\\': 0, \\'playtime_2weeks\\': 0}, {\\'item_id\\': \\'38720\\', \\'item_name\\': \\'RUSH\\', \\'playtime_forever\\': 0, \\'playtime_2weeks\\': 0}, {\\'item_id\\': \\'63700\\', \\'item_name\\': \\'BIT.TRIP BEAT\\', \\'playtime_forever\\': 0, \\'playtime_2weeks\\': 0}, {\\'item_id\\': \\'280\\', \\'item_name\\': \\'Half-Life: Source\\', \\'playtime_forever\\': 0, \\'playtime_2weeks\\': 0}, {\\'item_id\\': \\'20920\\', \\'item_name\\': \\'The Witcher 2: Assassins of Kings Enhanced Edition\\', \\'playtime_forever\\': 1343, \\'playtime_2weeks\\': 0}, {\\'item_id\\': \\'105600\\', \\'item_name\\': \\'Terraria\\', \\'playtime_forever\\': 772, \\'playtime_2weeks\\': 0}, {\\'item_id\\': \\'98200\\', \\'item_name\\': \\'Frozen Synapse\\', \\'playtime_forever\\': 9, \\'playtime_2weeks\\': 0}, {\\'item_id\\': \\'4500\\', \\'item_name\\': \\'S.T.A.L.K.E.R.: Shadow of Chernobyl\\', \\'playtime_forever\\': 0, \\'playtime_2weeks\\': 0}, {\\'item_id\\': \\'4540\\', \\'item_name\\': \\'Titan Quest\\', \\'playtime_forever\\': 3, \\'playtime_2weeks\\': 0}, {\\'item_id\\': \\'4550\\', \\'item_name\\': \\'Titan Quest: Immortal Throne\\', \\'playtime_forever\\': 76, \\'playtime_2weeks\\': 0}, {\\'item_id\\': \\'9480\\', \\'item_name\\': \\'Saints Row 2\\', \\'playtime_forever\\': 0, \\'playtime_2weeks\\': 0}, {\\'item_id\\': \\'15620\\', \\'item_name\\': \\'Warhammer® 40,000™: Dawn of War® II\\', \\'playtime_forever\\': 2085, \\'playtime_2weeks\\': 0}, {\\'item_id\\': \\'20500\\', \\'item_name\\': \\'Red Faction: Guerrilla Steam Edition\\', \\'playtime_forever\\': 0, \\'playtime_2weeks\\': 0}, {\\'item_id\\': \\'20570\\', \\'item_name\\': \\'Warhammer® 40,000™: Dawn of War® II - Chaos Rising™\\', \\'playtime_forever\\': 69, \\'playtime_2weeks\\': 0}, {\\'item_id\\': \\'50620\\', \\'item_name\\': \\'Darksiders\\', \\'playtime_forever\\': 101, \\'playtime_2weeks\\': 0}, {\\'item_id\\': \\'55100\\', \\'item_name\\': \\'Homefront\\', \\'playtime_forever\\': 51, \\'playtime_2weeks\\': 0}, {\\'item_id\\': \\'55140\\', \\'item_name\\': \\'MX vs. ATV Reflex\\', \\'playtime_forever\\': 0, \\'playtime_2weeks\\': 0}, {\\'item_id\\': \\'56400\\', \\'item_name\\': \\'Warhammer® 40,000™: Dawn of War® II – Retribution™\\', \\'playtime_forever\\': 678, \\'playtime_2weeks\\': 0}, {\\'item_id\\': \\'475150\\', \\'item_name\\': \\'Titan Quest Anniversary Edition\\', \\'playtime_forever\\': 0, \\'playtime_2weeks\\': 0}, {\\'item_id\\': \\'96100\\', \\'item_name\\': \\'Defy Gravity\\', \\'playtime_forever\\': 9, \\'playtime_2weeks\\': 0}, {\\'item_id\\': \\'35450\\', \\'item_name\\': \\'Rising Storm/Red Orchestra 2 Multiplayer\\', \\'playtime_forever\\': 14194, \\'playtime_2weeks\\': 0}, {\\'item_id\\': \\'236830\\', \\'item_name\\': \\'Red Orchestra 2: Heroes of Stalingrad - Single Player\\', \\'playtime_forever\\': 0, \\'playtime_2weeks\\': 0}, {\\'item_id\\': \\'72850\\', \\'item_name\\': \\'The Elder Scrolls V: Skyrim\\', \\'playtime_forever\\': 2512, \\'playtime_2weeks\\': 0}, {\\'item_id\\': \\'107100\\', \\'item_name\\': \\'Bastion\\', \\'playtime_forever\\': 640, \\'playtime_2weeks\\': 0}, {\\'item_id\\': \\'57690\\', \\'item_name\\': \\'Tropico 4\\', \\'playtime_forever\\': 1815, \\'playtime_2weeks\\': 0}, {\\'item_id\\': \\'91310\\', \\'item_name\\': \\'Dead Island\\', \\'playtime_forever\\': 2078, \\'playtime_2weeks\\': 0}, {\\'item_id\\': \\'113200\\', \\'item_name\\': \\'The Binding of Isaac\\', \\'playtime_forever\\': 1494, \\'playtime_2weeks\\': 0}, {\\'item_id\\': \\'65800\\', \\'item_name\\': \\'Dungeon Defenders\\', \\'playtime_forever\\': 130, \\'playtime_2weeks\\': 0}, {\\'item_id\\': \\'9200\\', \\'item_name\\': \\'RAGE\\', \\'playtime_forever\\': 653, \\'playtime_2weeks\\': 0}, {\\'item_id\\': \\'41070\\', \\'item_name\\': \\'Serious Sam 3: BFE\\', \\'playtime_forever\\': 716, \\'playtime_2weeks\\': 0}, {\\'item_id\\': \\'48950\\', \\'item_name\\': \\'Greed Corp\\', \\'playtime_forever\\': 72, \\'playtime_2weeks\\': 0}, {\\'item_id\\': \\'92800\\', \\'item_name\\': \\'SpaceChem\\', \\'playtime_forever\\': 262, \\'playtime_2weeks\\': 0}, {\\'item_id\\': \\'104700\\', \\'item_name\\': \\'Super Monday Night Combat\\', \\'playtime_forever\\': 44, \\'playtime_2weeks\\': 0}, {\\'item_id\\': \\'203770\\', \\'item_name\\': \\'Crusader Kings II\\', \\'playtime_forever\\': 18, \\'playtime_2weeks\\': 0}, {\\'item_id\\': \\'203810\\', \\'item_name\\': \\'Dear Esther\\', \\'playtime_forever\\': 86, \\'playtime_2weeks\\': 0}, {\\'item_id\\': \\'110800\\', \\'item_name\\': \\'L.A. Noire\\', \\'playtime_forever\\': 1204, \\'playtime_2weeks\\': 0}, {\\'item_id\\': \\'207610\\', \\'item_name\\': \\'The Walking Dead\\', \\'playtime_forever\\': 798, \\'playtime_2weeks\\': 0}, {\\'item_id\\': \\'98300\\', \\'item_name\\': \\'Toy Soldiers\\', \\'playtime_forever\\': 110, \\'playtime_2weeks\\': 0}, {\\'item_id\\': \\'50300\\', \\'item_name\\': \\'Spec Ops: The Line\\', \\'playtime_forever\\': 296, \\'playtime_2weeks\\': 0}, {\\'item_id\\': \\'204300\\', \\'item_name\\': \\'Awesomenauts\\', \\'playtime_forever\\': 0, \\'playtime_2weeks\\': 0}, {\\'item_id\\': \\'1700\\', \\'item_name\\': \\'Arx Fatalis\\', \\'playtime_forever\\': 0, \\'playtime_2weeks\\': 0}, {\\'item_id\\': \\'205100\\', \\'item_name\\': \\'Dishonored\\', \\'playtime_forever\\': 1429, \\'playtime_2weeks\\': 0}, {\\'item_id\\': \\'211120\\', \\'item_name\\': \\'The Political Machine\\', \\'playtime_forever\\': 1, \\'playtime_2weeks\\': 0}, {\\'item_id\\': \\'730\\', \\'item_name\\': \\'Counter-Strike: Global Offensive\\', \\'playtime_forever\\': 23532, \\'playtime_2weeks\\': 0}, {\\'item_id\\': \\'49520\\', \\'item_name\\': \\'Borderlands 2\\', \\'playtime_forever\\': 1303, \\'playtime_2weeks\\': 0}, {\\'item_id\\': \\'200260\\', \\'item_name\\': \\'Batman: Arkham City GOTY\\', \\'playtime_forever\\': 100, \\'playtime_2weeks\\': 0}, {\\'item_id\\': \\'212680\\', \\'item_name\\': \\'FTL: Faster Than Light\\', \\'playtime_forever\\': 500, \\'playtime_2weeks\\': 0}, {\\'item_id\\': \\'200710\\', \\'item_name\\': \\'Torchlight II\\', \\'playtime_forever\\': 459, \\'playtime_2weeks\\': 0}, {\\'item_id\\': \\'219150\\', \\'item_name\\': \\'Hotline Miami\\', \\'playtime_forever\\': 0, \\'playtime_2weeks\\': 0}, {\\'item_id\\': \\'215510\\', \\'item_name\\': \\'Rocketbirds: Hardboiled Chicken\\', \\'playtime_forever\\': 0, \\'playtime_2weeks\\': 0}, {\\'item_id\\': \\'8870\\', \\'item_name\\': \\'BioShock Infinite\\', \\'playtime_forever\\': 2084, \\'playtime_2weeks\\': 0}, {\\'item_id\\': \\'200510\\', \\'item_name\\': \\'XCOM: Enemy Unknown\\', \\'playtime_forever\\': 3478, \\'playtime_2weeks\\': 0}, {\\'item_id\\': \\'220240\\', \\'item_name\\': \\'Far Cry® 3\\', \\'playtime_forever\\': 182, \\'playtime_2weeks\\': 0}, {\\'item_id\\': \\'218680\\', \\'item_name\\': \\'Scribblenauts Unlimited\\', \\'playtime_forever\\': 0, \\'playtime_2weeks\\': 0}, {\\'item_id\\': \\'228280\\', \\'item_name\\': \"Baldur\\'s Gate: Enhanced Edition\", \\'playtime_forever\\': 905, \\'playtime_2weeks\\': 0}, {\\'item_id\\': \\'212070\\', \\'item_name\\': \\'Star Conflict\\', \\'playtime_forever\\': 0, \\'playtime_2weeks\\': 0}, {\\'item_id\\': \\'218230\\', \\'item_name\\': \\'PlanetSide 2\\', \\'playtime_forever\\': 51, \\'playtime_2weeks\\': 0}, {\\'item_id\\': \\'236390\\', \\'item_name\\': \\'War Thunder\\', \\'playtime_forever\\': 50, \\'playtime_2weeks\\': 0}, {\\'item_id\\': \\'3483\\', \\'item_name\\': \\'Peggle Extreme\\', \\'playtime_forever\\': 0, \\'playtime_2weeks\\': 0}, {\\'item_id\\': \\'203160\\', \\'item_name\\': \\'Tomb Raider\\', \\'playtime_forever\\': 0, \\'playtime_2weeks\\': 0}, {\\'item_id\\': \\'227080\\', \\'item_name\\': \\'Papo & Yo\\', \\'playtime_forever\\': 81, \\'playtime_2weeks\\': 0}, {\\'item_id\\': \\'233450\\', \\'item_name\\': \\'Prison Architect\\', \\'playtime_forever\\': 24, \\'playtime_2weeks\\': 0}, {\\'item_id\\': \\'43160\\', \\'item_name\\': \\'Metro: Last Light\\', \\'playtime_forever\\': 712, \\'playtime_2weeks\\': 0}, {\\'item_id\\': \\'219740\\', \\'item_name\\': \"Don\\'t Starve\", \\'playtime_forever\\': 139, \\'playtime_2weeks\\': 0}, {\\'item_id\\': \\'322330\\', \\'item_name\\': \"Don\\'t Starve Together\", \\'playtime_forever\\': 0, \\'playtime_2weeks\\': 0}, {\\'item_id\\': \\'222730\\', \\'item_name\\': \\'Reus\\', \\'playtime_forever\\': 319, \\'playtime_2weeks\\': 0}, {\\'item_id\\': \\'241600\\', \\'item_name\\': \\'Rogue Legacy\\', \\'playtime_forever\\': 73, \\'playtime_2weeks\\': 0}, {\\'item_id\\': \\'238930\\', \\'item_name\\': \\'7 Grand Steps, Step 1: What Ancients Begat\\', \\'playtime_forever\\': 159, \\'playtime_2weeks\\': 0}, {\\'item_id\\': \\'217140\\', \\'item_name\\': \\'Rise of the Triad\\', \\'playtime_forever\\': 199, \\'playtime_2weeks\\': 0}, {\\'item_id\\': \\'39140\\', \\'item_name\\': \\'FINAL FANTASY VII\\', \\'playtime_forever\\': 2896, \\'playtime_2weeks\\': 0}, {\\'item_id\\': \\'225080\\', \\'item_name\\': \\'Brothers - A Tale of Two Sons\\', \\'playtime_forever\\': 0, \\'playtime_2weeks\\': 0}, {\\'item_id\\': \\'239030\\', \\'item_name\\': \\'Papers, Please\\', \\'playtime_forever\\': 194, \\'playtime_2weeks\\': 0}, {\\'item_id\\': \\'248820\\', \\'item_name\\': \\'Risk of Rain\\', \\'playtime_forever\\': 272, \\'playtime_2weeks\\': 0}, {\\'item_id\\': \\'239350\\', \\'item_name\\': \\'Spelunky\\', \\'playtime_forever\\': 458, \\'playtime_2weeks\\': 0}, {\\'item_id\\': \\'218620\\', \\'item_name\\': \\'PAYDAY 2\\', \\'playtime_forever\\': 574, \\'playtime_2weeks\\': 0}, {\\'item_id\\': \\'206420\\', \\'item_name\\': \\'Saints Row IV\\', \\'playtime_forever\\': 0, \\'playtime_2weeks\\': 0}, {\\'item_id\\': \\'236850\\', \\'item_name\\': \\'Europa Universalis IV\\', \\'playtime_forever\\': 89, \\'playtime_2weeks\\': 0}, {\\'item_id\\': \\'47790\\', \\'item_name\\': \\'Medal of Honor(TM) Single Player\\', \\'playtime_forever\\': 230, \\'playtime_2weeks\\': 0}, {\\'item_id\\': \\'47830\\', \\'item_name\\': \\'Medal of Honor(TM) Multiplayer\\', \\'playtime_forever\\': 0, \\'playtime_2weeks\\': 0}, {\\'item_id\\': \\'250320\\', \\'item_name\\': \\'The Wolf Among Us\\', \\'playtime_forever\\': 500, \\'playtime_2weeks\\': 0}, {\\'item_id\\': \\'250900\\', \\'item_name\\': \\'The Binding of Isaac: Rebirth\\', \\'playtime_forever\\': 329, \\'playtime_2weeks\\': 0}, {\\'item_id\\': \\'204450\\', \\'item_name\\': \\'Call of Juarez Gunslinger\\', \\'playtime_forever\\': 241, \\'playtime_2weeks\\': 0}, {\\'item_id\\': \\'233270\\', \\'item_name\\': \\'Far Cry® 3 Blood Dragon\\', \\'playtime_forever\\': 0, \\'playtime_2weeks\\': 0}, {\\'item_id\\': \\'251990\\', \\'item_name\\': \\'Long Live The Queen\\', \\'playtime_forever\\': 135, \\'playtime_2weeks\\': 0}, {\\'item_id\\': \\'253980\\', \\'item_name\\': \\'Enclave\\', \\'playtime_forever\\': 0, \\'playtime_2weeks\\': 0}, {\\'item_id\\': \\'236450\\', \\'item_name\\': \\'PAC-MAN Championship Edition DX+\\', \\'playtime_forever\\': 154, \\'playtime_2weeks\\': 0}, {\\'item_id\\': \\'242050\\', \\'item_name\\': \"Assassin\\'s Creed IV Black Flag\", \\'playtime_forever\\': 1377, \\'playtime_2weeks\\': 0}, {\\'item_id\\': \\'257350\\', \\'item_name\\': \"Baldur\\'s Gate II: Enhanced Edition\", \\'playtime_forever\\': 0, \\'playtime_2weeks\\': 0}, {\\'item_id\\': \\'213670\\', \\'item_name\\': \\'South Park™: The Stick of Truth™\\', \\'playtime_forever\\': 121, \\'playtime_2weeks\\': 0}, {\\'item_id\\': \\'238010\\', \\'item_name\\': \"Deus Ex: Human Revolution - Director\\'s Cut\", \\'playtime_forever\\': 2176, \\'playtime_2weeks\\': 0}, {\\'item_id\\': \\'245470\\', \\'item_name\\': \\'Democracy 3\\', \\'playtime_forever\\': 246, \\'playtime_2weeks\\': 0}, {\\'item_id\\': \\'221910\\', \\'item_name\\': \\'The Stanley Parable\\', \\'playtime_forever\\': 157, \\'playtime_2weeks\\': 0}, {\\'item_id\\': \\'260230\\', \\'item_name\\': \\'Valiant Hearts: The Great War™ / Soldats Inconnus : Mémoires de la Grande Guerre™\\', \\'playtime_forever\\': 467, \\'playtime_2weeks\\': 0}, {\\'item_id\\': \\'238430\\', \\'item_name\\': \\'Contagion\\', \\'playtime_forever\\': 77, \\'playtime_2weeks\\': 0}, {\\'item_id\\': \\'261030\\', \\'item_name\\': \\'The Walking Dead: Season Two\\', \\'playtime_forever\\': 567, \\'playtime_2weeks\\': 0}, {\\'item_id\\': \\'261570\\', \\'item_name\\': \\'Ori and the Blind Forest\\', \\'playtime_forever\\': 39, \\'playtime_2weeks\\': 0}, {\\'item_id\\': \\'263980\\', \\'item_name\\': \\'Out There Somewhere\\', \\'playtime_forever\\': 0, \\'playtime_2weeks\\': 0}, {\\'item_id\\': \\'39150\\', \\'item_name\\': \\'FINAL FANTASY VIII\\', \\'playtime_forever\\': 15, \\'playtime_2weeks\\': 0}, {\\'item_id\\': \\'230230\\', \\'item_name\\': \\'Divinity: Original Sin (Classic)\\', \\'playtime_forever\\': 522, \\'playtime_2weeks\\': 0}, {\\'item_id\\': \\'373420\\', \\'item_name\\': \\'Divinity: Original Sin Enhanced Edition\\', \\'playtime_forever\\': 0, \\'playtime_2weeks\\': 0}, {\\'item_id\\': \\'232790\\', \\'item_name\\': \\'Broken Age\\', \\'playtime_forever\\': 216, \\'playtime_2weeks\\': 0}, {\\'item_id\\': \\'237990\\', \\'item_name\\': \\'The Banner Saga\\', \\'playtime_forever\\': 19, \\'playtime_2weeks\\': 0}, {\\'item_id\\': \\'273620\\', \\'item_name\\': \\'Freespace 2\\', \\'playtime_forever\\': 848, \\'playtime_2weeks\\': 0}, {\\'item_id\\': \\'222880\\', \\'item_name\\': \\'Insurgency\\', \\'playtime_forever\\': 3031, \\'playtime_2weeks\\': 0}, {\\'item_id\\': \\'225840\\', \\'item_name\\': \\'Sven Co-op\\', \\'playtime_forever\\': 26, \\'playtime_2weeks\\': 0}, {\\'item_id\\': \\'222900\\', \\'item_name\\': \\'Dead Island: Epidemic\\', \\'playtime_forever\\': 0, \\'playtime_2weeks\\': 0}, {\\'item_id\\': \\'280220\\', \\'item_name\\': \\'Creeper World 3: Arc Eternal\\', \\'playtime_forever\\': 941, \\'playtime_2weeks\\': 0}, {\\'item_id\\': \\'236430\\', \\'item_name\\': \\'DARK SOULS™ II\\', \\'playtime_forever\\': 592, \\'playtime_2weeks\\': 0}, {\\'item_id\\': \\'201810\\', \\'item_name\\': \\'Wolfenstein: The New Order\\', \\'playtime_forever\\': 599, \\'playtime_2weeks\\': 0}, {\\'item_id\\': \\'294860\\', \\'item_name\\': \\'Valkyria Chronicles™\\', \\'playtime_forever\\': 1735, \\'playtime_2weeks\\': 0}, {\\'item_id\\': \\'295690\\', \\'item_name\\': \\'PARTICLE MACE\\', \\'playtime_forever\\': 0, \\'playtime_2weeks\\': 0}, {\\'item_id\\': \\'238460\\', \\'item_name\\': \\'BattleBlock Theater\\', \\'playtime_forever\\': 407, \\'playtime_2weeks\\': 0}, {\\'item_id\\': \\'237930\\', \\'item_name\\': \\'Transistor\\', \\'playtime_forever\\': 154, \\'playtime_2weeks\\': 0}, {\\'item_id\\': \\'301480\\', \\'item_name\\': \\'GEARCRACK Arena\\', \\'playtime_forever\\': 0, \\'playtime_2weeks\\': 0}, {\\'item_id\\': \\'303390\\', \\'item_name\\': \\'Dead Bits\\', \\'playtime_forever\\': 0, \\'playtime_2weeks\\': 0}, {\\'item_id\\': \\'306660\\', \\'item_name\\': \\'Ultimate General: Gettysburg\\', \\'playtime_forever\\': 1245, \\'playtime_2weeks\\': 0}, {\\'item_id\\': \\'316790\\', \\'item_name\\': \\'Grim Fandango Remastered\\', \\'playtime_forever\\': 42, \\'playtime_2weeks\\': 0}, {\\'item_id\\': \\'318430\\', \\'item_name\\': \\'Squishy the Suicidal Pig\\', \\'playtime_forever\\': 0, \\'playtime_2weeks\\': 0}, {\\'item_id\\': \\'241930\\', \\'item_name\\': \\'Middle-earth: Shadow of Mordor\\', \\'playtime_forever\\': 889, \\'playtime_2weeks\\': 0}, {\\'item_id\\': \\'328080\\', \\'item_name\\': \\'Retro-Pixel Castles\\', \\'playtime_forever\\': 5, \\'playtime_2weeks\\': 0}, {\\'item_id\\': \\'282070\\', \\'item_name\\': \\'This War of Mine\\', \\'playtime_forever\\': 3, \\'playtime_2weeks\\': 0}, {\\'item_id\\': \\'333930\\', \\'item_name\\': \\'Dirty Bomb\\', \\'playtime_forever\\': 2782, \\'playtime_2weeks\\': 0}, {\\'item_id\\': \\'334120\\', \\'item_name\\': \\'Armikrog\\', \\'playtime_forever\\': 109, \\'playtime_2weeks\\': 0}, {\\'item_id\\': \\'257510\\', \\'item_name\\': \\'The Talos Principle\\', \\'playtime_forever\\': 0, \\'playtime_2weeks\\': 0}, {\\'item_id\\': \\'319630\\', \\'item_name\\': \\'Life Is Strange™\\', \\'playtime_forever\\': 37, \\'playtime_2weeks\\': 0}, {\\'item_id\\': \\'346010\\', \\'item_name\\': \\'Besiege\\', \\'playtime_forever\\': 464, \\'playtime_2weeks\\': 0}, {\\'item_id\\': \\'255710\\', \\'item_name\\': \\'Cities: Skylines\\', \\'playtime_forever\\': 246, \\'playtime_2weeks\\': 0}, {\\'item_id\\': \\'232090\\', \\'item_name\\': \\'Killing Floor 2\\', \\'playtime_forever\\': 6494, \\'playtime_2weeks\\': 0}, {\\'item_id\\': \\'232150\\', \\'item_name\\': \\'Killing Floor 2 - SDK\\', \\'playtime_forever\\': 0, \\'playtime_2weeks\\': 0}, {\\'item_id\\': \\'377160\\', \\'item_name\\': \\'Fallout 4\\', \\'playtime_forever\\': 2001, \\'playtime_2weeks\\': 0}, {\\'item_id\\': \\'340170\\', \\'item_name\\': \\'FINAL FANTASY TYPE-0 HD\\', \\'playtime_forever\\': 170, \\'playtime_2weeks\\': 0}, {\\'item_id\\': \\'391540\\', \\'item_name\\': \\'Undertale\\', \\'playtime_forever\\': 395, \\'playtime_2weeks\\': 0}, {\\'item_id\\': \\'396660\\', \\'item_name\\': \\'Tahira: Echoes of the Astral Empire\\', \\'playtime_forever\\': 0, \\'playtime_2weeks\\': 0}, {\\'item_id\\': \\'337000\\', \\'item_name\\': \\'Deus Ex: Mankind Divided™\\', \\'playtime_forever\\': 1159, \\'playtime_2weeks\\': 0}, {\\'item_id\\': \\'368230\\', \\'item_name\\': \\'Kingdom: Classic\\', \\'playtime_forever\\': 83, \\'playtime_2weeks\\': 0}, {\\'item_id\\': \\'496300\\', \\'item_name\\': \\'Kingdom: New Lands\\', \\'playtime_forever\\': 0, \\'playtime_2weeks\\': 0}, {\\'item_id\\': \\'231430\\', \\'item_name\\': \\'Company of Heroes 2\\', \\'playtime_forever\\': 0, \\'playtime_2weeks\\': 0}, {\\'item_id\\': \\'289130\\', \\'item_name\\': \\'Endless Legend\\', \\'playtime_forever\\': 593, \\'playtime_2weeks\\': 0}, {\\'item_id\\': \\'268500\\', \\'item_name\\': \\'XCOM 2\\', \\'playtime_forever\\': 1495, \\'playtime_2weeks\\': 0}, {\\'item_id\\': \\'461640\\', \\'item_name\\': \\'Sins Of The Demon RPG\\', \\'playtime_forever\\': 0, \\'playtime_2weeks\\': 0}, {\\'item_id\\': \\'379720\\', \\'item_name\\': \\'DOOM\\', \\'playtime_forever\\': 793, \\'playtime_2weeks\\': 0}, {\\'item_id\\': \\'273350\\', \\'item_name\\': \\'Evolve Stage 2\\', \\'playtime_forever\\': 58, \\'playtime_2weeks\\': 0}]}'"
      ]
     },
     "execution_count": 6,
     "metadata": {},
     "output_type": "execute_result"
    }
   ],
   "source": [
    "users_items_rdd.first()"
   ]
  },
  {
   "cell_type": "markdown",
   "metadata": {},
   "source": [
    "#### Clean"
   ]
  },
  {
   "cell_type": "code",
   "execution_count": 7,
   "metadata": {},
   "outputs": [],
   "source": [
    "users_items_rdd= users_items_rdd.map(lambda x: ast.literal_eval(x))"
   ]
  },
  {
   "cell_type": "code",
   "execution_count": 8,
   "metadata": {
    "collapsed": true,
    "jupyter": {
     "outputs_hidden": true
    }
   },
   "outputs": [
    {
     "data": {
      "text/plain": [
       "{'user_id': '76561197970982479',\n",
       " 'items_count': 277,\n",
       " 'steam_id': '76561197970982479',\n",
       " 'user_url': 'http://steamcommunity.com/profiles/76561197970982479',\n",
       " 'items': [{'item_id': '10',\n",
       "   'item_name': 'Counter-Strike',\n",
       "   'playtime_forever': 6,\n",
       "   'playtime_2weeks': 0},\n",
       "  {'item_id': '20',\n",
       "   'item_name': 'Team Fortress Classic',\n",
       "   'playtime_forever': 0,\n",
       "   'playtime_2weeks': 0},\n",
       "  {'item_id': '30',\n",
       "   'item_name': 'Day of Defeat',\n",
       "   'playtime_forever': 7,\n",
       "   'playtime_2weeks': 0},\n",
       "  {'item_id': '40',\n",
       "   'item_name': 'Deathmatch Classic',\n",
       "   'playtime_forever': 0,\n",
       "   'playtime_2weeks': 0},\n",
       "  {'item_id': '50',\n",
       "   'item_name': 'Half-Life: Opposing Force',\n",
       "   'playtime_forever': 0,\n",
       "   'playtime_2weeks': 0},\n",
       "  {'item_id': '60',\n",
       "   'item_name': 'Ricochet',\n",
       "   'playtime_forever': 0,\n",
       "   'playtime_2weeks': 0},\n",
       "  {'item_id': '70',\n",
       "   'item_name': 'Half-Life',\n",
       "   'playtime_forever': 0,\n",
       "   'playtime_2weeks': 0},\n",
       "  {'item_id': '130',\n",
       "   'item_name': 'Half-Life: Blue Shift',\n",
       "   'playtime_forever': 0,\n",
       "   'playtime_2weeks': 0},\n",
       "  {'item_id': '300',\n",
       "   'item_name': 'Day of Defeat: Source',\n",
       "   'playtime_forever': 4733,\n",
       "   'playtime_2weeks': 0},\n",
       "  {'item_id': '240',\n",
       "   'item_name': 'Counter-Strike: Source',\n",
       "   'playtime_forever': 1853,\n",
       "   'playtime_2weeks': 0},\n",
       "  {'item_id': '3830',\n",
       "   'item_name': 'Psychonauts',\n",
       "   'playtime_forever': 333,\n",
       "   'playtime_2weeks': 0},\n",
       "  {'item_id': '2630',\n",
       "   'item_name': 'Call of Duty 2',\n",
       "   'playtime_forever': 75,\n",
       "   'playtime_2weeks': 0},\n",
       "  {'item_id': '3900',\n",
       "   'item_name': \"Sid Meier's Civilization IV\",\n",
       "   'playtime_forever': 338,\n",
       "   'playtime_2weeks': 0},\n",
       "  {'item_id': '34440',\n",
       "   'item_name': \"Sid Meier's Civilization IV\",\n",
       "   'playtime_forever': 0,\n",
       "   'playtime_2weeks': 0},\n",
       "  {'item_id': '3920',\n",
       "   'item_name': \"Sid Meier's Pirates!\",\n",
       "   'playtime_forever': 2,\n",
       "   'playtime_2weeks': 0},\n",
       "  {'item_id': '6400',\n",
       "   'item_name': 'Joint Task Force',\n",
       "   'playtime_forever': 286,\n",
       "   'playtime_2weeks': 0},\n",
       "  {'item_id': '6910',\n",
       "   'item_name': 'Deus Ex: Game of the Year Edition',\n",
       "   'playtime_forever': 2685,\n",
       "   'playtime_2weeks': 0},\n",
       "  {'item_id': '7670',\n",
       "   'item_name': 'BioShock',\n",
       "   'playtime_forever': 633,\n",
       "   'playtime_2weeks': 0},\n",
       "  {'item_id': '409710',\n",
       "   'item_name': 'BioShock Remastered',\n",
       "   'playtime_forever': 0,\n",
       "   'playtime_2weeks': 0},\n",
       "  {'item_id': '220',\n",
       "   'item_name': 'Half-Life 2',\n",
       "   'playtime_forever': 696,\n",
       "   'playtime_2weeks': 0},\n",
       "  {'item_id': '320',\n",
       "   'item_name': 'Half-Life 2: Deathmatch',\n",
       "   'playtime_forever': 0,\n",
       "   'playtime_2weeks': 0},\n",
       "  {'item_id': '340',\n",
       "   'item_name': 'Half-Life 2: Lost Coast',\n",
       "   'playtime_forever': 37,\n",
       "   'playtime_2weeks': 0},\n",
       "  {'item_id': '360',\n",
       "   'item_name': 'Half-Life Deathmatch: Source',\n",
       "   'playtime_forever': 0,\n",
       "   'playtime_2weeks': 0},\n",
       "  {'item_id': '380',\n",
       "   'item_name': 'Half-Life 2: Episode One',\n",
       "   'playtime_forever': 168,\n",
       "   'playtime_2weeks': 0},\n",
       "  {'item_id': '400',\n",
       "   'item_name': 'Portal',\n",
       "   'playtime_forever': 173,\n",
       "   'playtime_2weeks': 0},\n",
       "  {'item_id': '420',\n",
       "   'item_name': 'Half-Life 2: Episode Two',\n",
       "   'playtime_forever': 323,\n",
       "   'playtime_2weeks': 0},\n",
       "  {'item_id': '9340',\n",
       "   'item_name': 'Company of Heroes: Opposing Fronts',\n",
       "   'playtime_forever': 692,\n",
       "   'playtime_2weeks': 0},\n",
       "  {'item_id': '228200',\n",
       "   'item_name': 'Company of Heroes (New Steam Version)',\n",
       "   'playtime_forever': 0,\n",
       "   'playtime_2weeks': 0},\n",
       "  {'item_id': '11450',\n",
       "   'item_name': 'Overlord',\n",
       "   'playtime_forever': 0,\n",
       "   'playtime_2weeks': 0},\n",
       "  {'item_id': '7940',\n",
       "   'item_name': 'Call of Duty 4: Modern Warfare',\n",
       "   'playtime_forever': 1185,\n",
       "   'playtime_2weeks': 0},\n",
       "  {'item_id': '4700',\n",
       "   'item_name': 'Medieval II: Total War',\n",
       "   'playtime_forever': 477,\n",
       "   'playtime_2weeks': 0},\n",
       "  {'item_id': '12900',\n",
       "   'item_name': 'Audiosurf',\n",
       "   'playtime_forever': 115,\n",
       "   'playtime_2weeks': 0},\n",
       "  {'item_id': '13250',\n",
       "   'item_name': 'Unreal Gold',\n",
       "   'playtime_forever': 0,\n",
       "   'playtime_2weeks': 0},\n",
       "  {'item_id': '16100',\n",
       "   'item_name': 'Virtual Villagers: A New Home',\n",
       "   'playtime_forever': 0,\n",
       "   'playtime_2weeks': 0},\n",
       "  {'item_id': '15700',\n",
       "   'item_name': \"Oddworld: Abe's Oddysee\",\n",
       "   'playtime_forever': 28,\n",
       "   'playtime_2weeks': 0},\n",
       "  {'item_id': '15710',\n",
       "   'item_name': \"Oddworld: Abe's Exoddus\",\n",
       "   'playtime_forever': 0,\n",
       "   'playtime_2weeks': 0},\n",
       "  {'item_id': '17330',\n",
       "   'item_name': 'Crysis Warhead',\n",
       "   'playtime_forever': 31,\n",
       "   'playtime_2weeks': 0},\n",
       "  {'item_id': '17340',\n",
       "   'item_name': 'Crysis Wars',\n",
       "   'playtime_forever': 0,\n",
       "   'playtime_2weeks': 0},\n",
       "  {'item_id': '22000',\n",
       "   'item_name': 'World of Goo',\n",
       "   'playtime_forever': 195,\n",
       "   'playtime_2weeks': 0},\n",
       "  {'item_id': '500',\n",
       "   'item_name': 'Left 4 Dead',\n",
       "   'playtime_forever': 513,\n",
       "   'playtime_2weeks': 0},\n",
       "  {'item_id': '4560',\n",
       "   'item_name': 'Company of Heroes',\n",
       "   'playtime_forever': 1061,\n",
       "   'playtime_2weeks': 0},\n",
       "  {'item_id': '17460',\n",
       "   'item_name': 'Mass Effect',\n",
       "   'playtime_forever': 1613,\n",
       "   'playtime_2weeks': 0},\n",
       "  {'item_id': '10500',\n",
       "   'item_name': 'Empire: Total War',\n",
       "   'playtime_forever': 186,\n",
       "   'playtime_2weeks': 0},\n",
       "  {'item_id': '24740',\n",
       "   'item_name': 'Burnout Paradise: The Ultimate Box',\n",
       "   'playtime_forever': 0,\n",
       "   'playtime_2weeks': 0},\n",
       "  {'item_id': '22200',\n",
       "   'item_name': 'Zeno Clash',\n",
       "   'playtime_forever': 271,\n",
       "   'playtime_2weeks': 0},\n",
       "  {'item_id': '26800',\n",
       "   'item_name': 'Braid',\n",
       "   'playtime_forever': 445,\n",
       "   'playtime_2weeks': 0},\n",
       "  {'item_id': '1250',\n",
       "   'item_name': 'Killing Floor',\n",
       "   'playtime_forever': 10006,\n",
       "   'playtime_2weeks': 0},\n",
       "  {'item_id': '35420',\n",
       "   'item_name': 'Killing Floor Mod: Defence Alliance 2',\n",
       "   'playtime_forever': 0,\n",
       "   'playtime_2weeks': 0},\n",
       "  {'item_id': '3590',\n",
       "   'item_name': 'Plants vs. Zombies: Game of the Year',\n",
       "   'playtime_forever': 4413,\n",
       "   'playtime_2weeks': 0},\n",
       "  {'item_id': '8880',\n",
       "   'item_name': 'Freedom Force',\n",
       "   'playtime_forever': 0,\n",
       "   'playtime_2weeks': 0},\n",
       "  {'item_id': '8890',\n",
       "   'item_name': 'Freedom Force vs. the 3rd Reich',\n",
       "   'playtime_forever': 0,\n",
       "   'playtime_2weeks': 0},\n",
       "  {'item_id': '23120',\n",
       "   'item_name': 'Droplitz',\n",
       "   'playtime_forever': 53,\n",
       "   'playtime_2weeks': 0},\n",
       "  {'item_id': '35700',\n",
       "   'item_name': 'Trine',\n",
       "   'playtime_forever': 199,\n",
       "   'playtime_2weeks': 0},\n",
       "  {'item_id': '10140',\n",
       "   'item_name': '3D Ultra Minigolf Adventures Deluxe',\n",
       "   'playtime_forever': 25,\n",
       "   'playtime_2weeks': 0},\n",
       "  {'item_id': '35010',\n",
       "   'item_name': 'Batman: Arkham Asylum',\n",
       "   'playtime_forever': 570,\n",
       "   'playtime_2weeks': 0},\n",
       "  {'item_id': '35140',\n",
       "   'item_name': 'Batman: Arkham Asylum GOTY Edition',\n",
       "   'playtime_forever': 0,\n",
       "   'playtime_2weeks': 0},\n",
       "  {'item_id': '29180',\n",
       "   'item_name': 'Osmos',\n",
       "   'playtime_forever': 940,\n",
       "   'playtime_2weeks': 0},\n",
       "  {'item_id': '15520',\n",
       "   'item_name': 'AaAaAA!!! - A Reckless Disregard for Gravity',\n",
       "   'playtime_forever': 110,\n",
       "   'playtime_2weeks': 0},\n",
       "  {'item_id': '32370',\n",
       "   'item_name': 'STAR WARS™: Knights of the Old Republic™',\n",
       "   'playtime_forever': 5,\n",
       "   'playtime_2weeks': 0},\n",
       "  {'item_id': '37700',\n",
       "   'item_name': 'Darkest of Days',\n",
       "   'playtime_forever': 782,\n",
       "   'playtime_2weeks': 0},\n",
       "  {'item_id': '6020',\n",
       "   'item_name': 'STAR WARS™ Jedi Knight: Jedi Academy™',\n",
       "   'playtime_forever': 77,\n",
       "   'playtime_2weeks': 0},\n",
       "  {'item_id': '24860',\n",
       "   'item_name': 'Battlefield 2',\n",
       "   'playtime_forever': 437,\n",
       "   'playtime_2weeks': 0},\n",
       "  {'item_id': '39530',\n",
       "   'item_name': 'Painkiller: Black Edition',\n",
       "   'playtime_forever': 503,\n",
       "   'playtime_2weeks': 0},\n",
       "  {'item_id': '550',\n",
       "   'item_name': 'Left 4 Dead 2',\n",
       "   'playtime_forever': 1474,\n",
       "   'playtime_2weeks': 0},\n",
       "  {'item_id': '223530',\n",
       "   'item_name': 'Left 4 Dead 2 Beta',\n",
       "   'playtime_forever': 0,\n",
       "   'playtime_2weeks': 0},\n",
       "  {'item_id': '8980',\n",
       "   'item_name': 'Borderlands',\n",
       "   'playtime_forever': 3061,\n",
       "   'playtime_2weeks': 0},\n",
       "  {'item_id': '41500',\n",
       "   'item_name': 'Torchlight',\n",
       "   'playtime_forever': 536,\n",
       "   'playtime_2weeks': 0},\n",
       "  {'item_id': '20900',\n",
       "   'item_name': 'The Witcher: Enhanced Edition',\n",
       "   'playtime_forever': 139,\n",
       "   'playtime_2weeks': 0},\n",
       "  {'item_id': '10180',\n",
       "   'item_name': 'Call of Duty: Modern Warfare 2',\n",
       "   'playtime_forever': 1886,\n",
       "   'playtime_2weeks': 0},\n",
       "  {'item_id': '10190',\n",
       "   'item_name': 'Call of Duty: Modern Warfare 2 - Multiplayer',\n",
       "   'playtime_forever': 1784,\n",
       "   'playtime_2weeks': 0},\n",
       "  {'item_id': '17450',\n",
       "   'item_name': 'Dragon Age: Origins',\n",
       "   'playtime_forever': 4431,\n",
       "   'playtime_2weeks': 0},\n",
       "  {'item_id': '3170',\n",
       "   'item_name': \"King's Bounty: Armored Princess\",\n",
       "   'playtime_forever': 1021,\n",
       "   'playtime_2weeks': 0},\n",
       "  {'item_id': '25900',\n",
       "   'item_name': \"King's Bounty: The Legend\",\n",
       "   'playtime_forever': 1389,\n",
       "   'playtime_2weeks': 0},\n",
       "  {'item_id': '31410',\n",
       "   'item_name': 'Zombie Driver',\n",
       "   'playtime_forever': 95,\n",
       "   'playtime_2weeks': 0},\n",
       "  {'item_id': '24980',\n",
       "   'item_name': 'Mass Effect 2',\n",
       "   'playtime_forever': 5001,\n",
       "   'playtime_2weeks': 0},\n",
       "  {'item_id': '8850',\n",
       "   'item_name': 'BioShock 2',\n",
       "   'playtime_forever': 1504,\n",
       "   'playtime_2weeks': 0},\n",
       "  {'item_id': '409720',\n",
       "   'item_name': 'BioShock 2 Remastered',\n",
       "   'playtime_forever': 0,\n",
       "   'playtime_2weeks': 0},\n",
       "  {'item_id': '46000',\n",
       "   'item_name': 'Bob Came in Pieces',\n",
       "   'playtime_forever': 11,\n",
       "   'playtime_2weeks': 0},\n",
       "  {'item_id': '33230',\n",
       "   'item_name': \"Assassin's Creed II\",\n",
       "   'playtime_forever': 1636,\n",
       "   'playtime_2weeks': 0},\n",
       "  {'item_id': '20820',\n",
       "   'item_name': 'Shatter',\n",
       "   'playtime_forever': 46,\n",
       "   'playtime_2weeks': 0},\n",
       "  {'item_id': '47700',\n",
       "   'item_name': 'Command and Conquer 4: Tiberian Twilight',\n",
       "   'playtime_forever': 85,\n",
       "   'playtime_2weeks': 0},\n",
       "  {'item_id': '24960',\n",
       "   'item_name': 'Battlefield: Bad Company 2',\n",
       "   'playtime_forever': 5716,\n",
       "   'playtime_2weeks': 0},\n",
       "  {'item_id': '43110',\n",
       "   'item_name': 'Metro 2033',\n",
       "   'playtime_forever': 834,\n",
       "   'playtime_2weeks': 0},\n",
       "  {'item_id': '8190',\n",
       "   'item_name': 'Just Cause 2',\n",
       "   'playtime_forever': 3083,\n",
       "   'playtime_2weeks': 0},\n",
       "  {'item_id': '49600',\n",
       "   'item_name': 'Beat Hazard',\n",
       "   'playtime_forever': 127,\n",
       "   'playtime_2weeks': 0},\n",
       "  {'item_id': '31220',\n",
       "   'item_name': 'Sam & Max 301: The Penal Zone',\n",
       "   'playtime_forever': 71,\n",
       "   'playtime_2weeks': 0},\n",
       "  {'item_id': '31230',\n",
       "   'item_name': 'Sam & Max 302: The Tomb of Sammun-Mak',\n",
       "   'playtime_forever': 0,\n",
       "   'playtime_2weeks': 0},\n",
       "  {'item_id': '31240',\n",
       "   'item_name': \"Sam & Max 303: They Stole Max's Brain!\",\n",
       "   'playtime_forever': 0,\n",
       "   'playtime_2weeks': 0},\n",
       "  {'item_id': '31250',\n",
       "   'item_name': 'Sam & Max 304: Beyond the Alley of the Dolls',\n",
       "   'playtime_forever': 0,\n",
       "   'playtime_2weeks': 0},\n",
       "  {'item_id': '31260',\n",
       "   'item_name': 'Sam & Max 305: The City that Dares not Sleep',\n",
       "   'playtime_forever': 0,\n",
       "   'playtime_2weeks': 0},\n",
       "  {'item_id': '21090',\n",
       "   'item_name': 'F.E.A.R.',\n",
       "   'playtime_forever': 585,\n",
       "   'playtime_2weeks': 0},\n",
       "  {'item_id': '21110',\n",
       "   'item_name': 'F.E.A.R.: Extraction Point',\n",
       "   'playtime_forever': 146,\n",
       "   'playtime_2weeks': 0},\n",
       "  {'item_id': '21120',\n",
       "   'item_name': 'F.E.A.R.: Perseus Mandate',\n",
       "   'playtime_forever': 0,\n",
       "   'playtime_2weeks': 0},\n",
       "  {'item_id': '49400',\n",
       "   'item_name': 'Magic: The Gathering - Duels of the Planeswalkers',\n",
       "   'playtime_forever': 32,\n",
       "   'playtime_2weeks': 0},\n",
       "  {'item_id': '33910',\n",
       "   'item_name': 'Arma 2',\n",
       "   'playtime_forever': 3,\n",
       "   'playtime_2weeks': 0},\n",
       "  {'item_id': '33930',\n",
       "   'item_name': 'Arma 2: Operation Arrowhead',\n",
       "   'playtime_forever': 3,\n",
       "   'playtime_2weeks': 0},\n",
       "  {'item_id': '219540',\n",
       "   'item_name': 'Arma 2: Operation Arrowhead Beta (Obsolete)',\n",
       "   'playtime_forever': 0,\n",
       "   'playtime_2weeks': 0},\n",
       "  {'item_id': '17410',\n",
       "   'item_name': \"Mirror's Edge\",\n",
       "   'playtime_forever': 0,\n",
       "   'playtime_2weeks': 0},\n",
       "  {'item_id': '205790',\n",
       "   'item_name': 'Dota 2 Test',\n",
       "   'playtime_forever': 0,\n",
       "   'playtime_2weeks': 0},\n",
       "  {'item_id': '50130',\n",
       "   'item_name': 'Mafia II',\n",
       "   'playtime_forever': 707,\n",
       "   'playtime_2weeks': 0},\n",
       "  {'item_id': '62100',\n",
       "   'item_name': 'Chime',\n",
       "   'playtime_forever': 50,\n",
       "   'playtime_2weeks': 0},\n",
       "  {'item_id': '31280',\n",
       "   'item_name': 'Poker Night at the Inventory',\n",
       "   'playtime_forever': 206,\n",
       "   'playtime_2weeks': 0},\n",
       "  {'item_id': '57300',\n",
       "   'item_name': 'Amnesia: The Dark Descent',\n",
       "   'playtime_forever': 12,\n",
       "   'playtime_2weeks': 0},\n",
       "  {'item_id': '21970',\n",
       "   'item_name': 'R.U.S.E',\n",
       "   'playtime_forever': 64,\n",
       "   'playtime_2weeks': 0},\n",
       "  {'item_id': '8930',\n",
       "   'item_name': \"Sid Meier's Civilization V\",\n",
       "   'playtime_forever': 10345,\n",
       "   'playtime_2weeks': 0},\n",
       "  {'item_id': '41000',\n",
       "   'item_name': 'Serious Sam HD: The First Encounter',\n",
       "   'playtime_forever': 369,\n",
       "   'playtime_2weeks': 0},\n",
       "  {'item_id': '41050',\n",
       "   'item_name': 'Serious Sam Classic: The First Encounter',\n",
       "   'playtime_forever': 76,\n",
       "   'playtime_2weeks': 0},\n",
       "  {'item_id': '41060',\n",
       "   'item_name': 'Serious Sam Classic: The Second Encounter',\n",
       "   'playtime_forever': 0,\n",
       "   'playtime_2weeks': 0},\n",
       "  {'item_id': '227780',\n",
       "   'item_name': 'Serious Sam Classics: Revolution',\n",
       "   'playtime_forever': 0,\n",
       "   'playtime_2weeks': 0},\n",
       "  {'item_id': '18040',\n",
       "   'item_name': 'DeathSpank',\n",
       "   'playtime_forever': 594,\n",
       "   'playtime_2weeks': 0},\n",
       "  {'item_id': '22380',\n",
       "   'item_name': 'Fallout: New Vegas',\n",
       "   'playtime_forever': 43,\n",
       "   'playtime_2weeks': 0},\n",
       "  {'item_id': '42700',\n",
       "   'item_name': 'Call of Duty: Black Ops',\n",
       "   'playtime_forever': 966,\n",
       "   'playtime_2weeks': 0},\n",
       "  {'item_id': '42710',\n",
       "   'item_name': 'Call of Duty: Black Ops - Multiplayer',\n",
       "   'playtime_forever': 2452,\n",
       "   'playtime_2weeks': 0},\n",
       "  {'item_id': '62000',\n",
       "   'item_name': 'Flight Control HD',\n",
       "   'playtime_forever': 25,\n",
       "   'playtime_2weeks': 0},\n",
       "  {'item_id': '40800',\n",
       "   'item_name': 'Super Meat Boy',\n",
       "   'playtime_forever': 119,\n",
       "   'playtime_2weeks': 0},\n",
       "  {'item_id': '9500',\n",
       "   'item_name': 'Gish',\n",
       "   'playtime_forever': 6,\n",
       "   'playtime_2weeks': 0},\n",
       "  {'item_id': '18700',\n",
       "   'item_name': 'And Yet It Moves',\n",
       "   'playtime_forever': 0,\n",
       "   'playtime_2weeks': 0},\n",
       "  {'item_id': '31270',\n",
       "   'item_name': 'Puzzle Agent',\n",
       "   'playtime_forever': 0,\n",
       "   'playtime_2weeks': 0},\n",
       "  {'item_id': '58200',\n",
       "   'item_name': 'Jolly Rover',\n",
       "   'playtime_forever': 0,\n",
       "   'playtime_2weeks': 0},\n",
       "  {'item_id': '70400',\n",
       "   'item_name': \"Recettear: An Item Shop's Tale\",\n",
       "   'playtime_forever': 537,\n",
       "   'playtime_2weeks': 0},\n",
       "  {'item_id': '41300',\n",
       "   'item_name': 'Altitude',\n",
       "   'playtime_forever': 50,\n",
       "   'playtime_2weeks': 0},\n",
       "  {'item_id': '41800',\n",
       "   'item_name': 'Gratuitous Space Battles',\n",
       "   'playtime_forever': 149,\n",
       "   'playtime_2weeks': 0},\n",
       "  {'item_id': '42500',\n",
       "   'item_name': 'DogFighter',\n",
       "   'playtime_forever': 0,\n",
       "   'playtime_2weeks': 0},\n",
       "  {'item_id': '49900',\n",
       "   'item_name': 'Plain Sight',\n",
       "   'playtime_forever': 23,\n",
       "   'playtime_2weeks': 0},\n",
       "  {'item_id': '55000',\n",
       "   'item_name': 'Flotilla',\n",
       "   'playtime_forever': 0,\n",
       "   'playtime_2weeks': 0},\n",
       "  {'item_id': '34330',\n",
       "   'item_name': 'Total War: SHOGUN 2',\n",
       "   'playtime_forever': 1538,\n",
       "   'playtime_2weeks': 0},\n",
       "  {'item_id': '63200',\n",
       "   'item_name': 'Monday Night Combat',\n",
       "   'playtime_forever': 573,\n",
       "   'playtime_2weeks': 0},\n",
       "  {'item_id': '99810',\n",
       "   'item_name': 'Bulletstorm',\n",
       "   'playtime_forever': 2,\n",
       "   'playtime_2weeks': 0},\n",
       "  {'item_id': '620',\n",
       "   'item_name': 'Portal 2',\n",
       "   'playtime_forever': 887,\n",
       "   'playtime_2weeks': 0},\n",
       "  {'item_id': '42910',\n",
       "   'item_name': 'Magicka',\n",
       "   'playtime_forever': 588,\n",
       "   'playtime_2weeks': 0},\n",
       "  {'item_id': '15500',\n",
       "   'item_name': 'The Wonderful End of the World',\n",
       "   'playtime_forever': 0,\n",
       "   'playtime_2weeks': 0},\n",
       "  {'item_id': '15540',\n",
       "   'item_name': '1... 2... 3... KICK IT! (Drop That Beat Like an Ugly Baby)',\n",
       "   'playtime_forever': 4,\n",
       "   'playtime_2weeks': 0},\n",
       "  {'item_id': '18500',\n",
       "   'item_name': 'Defense Grid: The Awakening',\n",
       "   'playtime_forever': 126,\n",
       "   'playtime_2weeks': 0},\n",
       "  {'item_id': '26500',\n",
       "   'item_name': 'Cogs',\n",
       "   'playtime_forever': 0,\n",
       "   'playtime_2weeks': 0},\n",
       "  {'item_id': '35460',\n",
       "   'item_name': 'The Ball',\n",
       "   'playtime_forever': 0,\n",
       "   'playtime_2weeks': 0},\n",
       "  {'item_id': '38700',\n",
       "   'item_name': 'Toki Tori',\n",
       "   'playtime_forever': 0,\n",
       "   'playtime_2weeks': 0},\n",
       "  {'item_id': '38720',\n",
       "   'item_name': 'RUSH',\n",
       "   'playtime_forever': 0,\n",
       "   'playtime_2weeks': 0},\n",
       "  {'item_id': '63700',\n",
       "   'item_name': 'BIT.TRIP BEAT',\n",
       "   'playtime_forever': 0,\n",
       "   'playtime_2weeks': 0},\n",
       "  {'item_id': '280',\n",
       "   'item_name': 'Half-Life: Source',\n",
       "   'playtime_forever': 0,\n",
       "   'playtime_2weeks': 0},\n",
       "  {'item_id': '20920',\n",
       "   'item_name': 'The Witcher 2: Assassins of Kings Enhanced Edition',\n",
       "   'playtime_forever': 1343,\n",
       "   'playtime_2weeks': 0},\n",
       "  {'item_id': '105600',\n",
       "   'item_name': 'Terraria',\n",
       "   'playtime_forever': 772,\n",
       "   'playtime_2weeks': 0},\n",
       "  {'item_id': '98200',\n",
       "   'item_name': 'Frozen Synapse',\n",
       "   'playtime_forever': 9,\n",
       "   'playtime_2weeks': 0},\n",
       "  {'item_id': '4500',\n",
       "   'item_name': 'S.T.A.L.K.E.R.: Shadow of Chernobyl',\n",
       "   'playtime_forever': 0,\n",
       "   'playtime_2weeks': 0},\n",
       "  {'item_id': '4540',\n",
       "   'item_name': 'Titan Quest',\n",
       "   'playtime_forever': 3,\n",
       "   'playtime_2weeks': 0},\n",
       "  {'item_id': '4550',\n",
       "   'item_name': 'Titan Quest: Immortal Throne',\n",
       "   'playtime_forever': 76,\n",
       "   'playtime_2weeks': 0},\n",
       "  {'item_id': '9480',\n",
       "   'item_name': 'Saints Row 2',\n",
       "   'playtime_forever': 0,\n",
       "   'playtime_2weeks': 0},\n",
       "  {'item_id': '15620',\n",
       "   'item_name': 'Warhammer® 40,000™: Dawn of War® II',\n",
       "   'playtime_forever': 2085,\n",
       "   'playtime_2weeks': 0},\n",
       "  {'item_id': '20500',\n",
       "   'item_name': 'Red Faction: Guerrilla Steam Edition',\n",
       "   'playtime_forever': 0,\n",
       "   'playtime_2weeks': 0},\n",
       "  {'item_id': '20570',\n",
       "   'item_name': 'Warhammer® 40,000™: Dawn of War® II - Chaos Rising™',\n",
       "   'playtime_forever': 69,\n",
       "   'playtime_2weeks': 0},\n",
       "  {'item_id': '50620',\n",
       "   'item_name': 'Darksiders',\n",
       "   'playtime_forever': 101,\n",
       "   'playtime_2weeks': 0},\n",
       "  {'item_id': '55100',\n",
       "   'item_name': 'Homefront',\n",
       "   'playtime_forever': 51,\n",
       "   'playtime_2weeks': 0},\n",
       "  {'item_id': '55140',\n",
       "   'item_name': 'MX vs. ATV Reflex',\n",
       "   'playtime_forever': 0,\n",
       "   'playtime_2weeks': 0},\n",
       "  {'item_id': '56400',\n",
       "   'item_name': 'Warhammer® 40,000™: Dawn of War® II – Retribution™',\n",
       "   'playtime_forever': 678,\n",
       "   'playtime_2weeks': 0},\n",
       "  {'item_id': '475150',\n",
       "   'item_name': 'Titan Quest Anniversary Edition',\n",
       "   'playtime_forever': 0,\n",
       "   'playtime_2weeks': 0},\n",
       "  {'item_id': '96100',\n",
       "   'item_name': 'Defy Gravity',\n",
       "   'playtime_forever': 9,\n",
       "   'playtime_2weeks': 0},\n",
       "  {'item_id': '35450',\n",
       "   'item_name': 'Rising Storm/Red Orchestra 2 Multiplayer',\n",
       "   'playtime_forever': 14194,\n",
       "   'playtime_2weeks': 0},\n",
       "  {'item_id': '236830',\n",
       "   'item_name': 'Red Orchestra 2: Heroes of Stalingrad - Single Player',\n",
       "   'playtime_forever': 0,\n",
       "   'playtime_2weeks': 0},\n",
       "  {'item_id': '72850',\n",
       "   'item_name': 'The Elder Scrolls V: Skyrim',\n",
       "   'playtime_forever': 2512,\n",
       "   'playtime_2weeks': 0},\n",
       "  {'item_id': '107100',\n",
       "   'item_name': 'Bastion',\n",
       "   'playtime_forever': 640,\n",
       "   'playtime_2weeks': 0},\n",
       "  {'item_id': '57690',\n",
       "   'item_name': 'Tropico 4',\n",
       "   'playtime_forever': 1815,\n",
       "   'playtime_2weeks': 0},\n",
       "  {'item_id': '91310',\n",
       "   'item_name': 'Dead Island',\n",
       "   'playtime_forever': 2078,\n",
       "   'playtime_2weeks': 0},\n",
       "  {'item_id': '113200',\n",
       "   'item_name': 'The Binding of Isaac',\n",
       "   'playtime_forever': 1494,\n",
       "   'playtime_2weeks': 0},\n",
       "  {'item_id': '65800',\n",
       "   'item_name': 'Dungeon Defenders',\n",
       "   'playtime_forever': 130,\n",
       "   'playtime_2weeks': 0},\n",
       "  {'item_id': '9200',\n",
       "   'item_name': 'RAGE',\n",
       "   'playtime_forever': 653,\n",
       "   'playtime_2weeks': 0},\n",
       "  {'item_id': '41070',\n",
       "   'item_name': 'Serious Sam 3: BFE',\n",
       "   'playtime_forever': 716,\n",
       "   'playtime_2weeks': 0},\n",
       "  {'item_id': '48950',\n",
       "   'item_name': 'Greed Corp',\n",
       "   'playtime_forever': 72,\n",
       "   'playtime_2weeks': 0},\n",
       "  {'item_id': '92800',\n",
       "   'item_name': 'SpaceChem',\n",
       "   'playtime_forever': 262,\n",
       "   'playtime_2weeks': 0},\n",
       "  {'item_id': '104700',\n",
       "   'item_name': 'Super Monday Night Combat',\n",
       "   'playtime_forever': 44,\n",
       "   'playtime_2weeks': 0},\n",
       "  {'item_id': '203770',\n",
       "   'item_name': 'Crusader Kings II',\n",
       "   'playtime_forever': 18,\n",
       "   'playtime_2weeks': 0},\n",
       "  {'item_id': '203810',\n",
       "   'item_name': 'Dear Esther',\n",
       "   'playtime_forever': 86,\n",
       "   'playtime_2weeks': 0},\n",
       "  {'item_id': '110800',\n",
       "   'item_name': 'L.A. Noire',\n",
       "   'playtime_forever': 1204,\n",
       "   'playtime_2weeks': 0},\n",
       "  {'item_id': '207610',\n",
       "   'item_name': 'The Walking Dead',\n",
       "   'playtime_forever': 798,\n",
       "   'playtime_2weeks': 0},\n",
       "  {'item_id': '98300',\n",
       "   'item_name': 'Toy Soldiers',\n",
       "   'playtime_forever': 110,\n",
       "   'playtime_2weeks': 0},\n",
       "  {'item_id': '50300',\n",
       "   'item_name': 'Spec Ops: The Line',\n",
       "   'playtime_forever': 296,\n",
       "   'playtime_2weeks': 0},\n",
       "  {'item_id': '204300',\n",
       "   'item_name': 'Awesomenauts',\n",
       "   'playtime_forever': 0,\n",
       "   'playtime_2weeks': 0},\n",
       "  {'item_id': '1700',\n",
       "   'item_name': 'Arx Fatalis',\n",
       "   'playtime_forever': 0,\n",
       "   'playtime_2weeks': 0},\n",
       "  {'item_id': '205100',\n",
       "   'item_name': 'Dishonored',\n",
       "   'playtime_forever': 1429,\n",
       "   'playtime_2weeks': 0},\n",
       "  {'item_id': '211120',\n",
       "   'item_name': 'The Political Machine',\n",
       "   'playtime_forever': 1,\n",
       "   'playtime_2weeks': 0},\n",
       "  {'item_id': '730',\n",
       "   'item_name': 'Counter-Strike: Global Offensive',\n",
       "   'playtime_forever': 23532,\n",
       "   'playtime_2weeks': 0},\n",
       "  {'item_id': '49520',\n",
       "   'item_name': 'Borderlands 2',\n",
       "   'playtime_forever': 1303,\n",
       "   'playtime_2weeks': 0},\n",
       "  {'item_id': '200260',\n",
       "   'item_name': 'Batman: Arkham City GOTY',\n",
       "   'playtime_forever': 100,\n",
       "   'playtime_2weeks': 0},\n",
       "  {'item_id': '212680',\n",
       "   'item_name': 'FTL: Faster Than Light',\n",
       "   'playtime_forever': 500,\n",
       "   'playtime_2weeks': 0},\n",
       "  {'item_id': '200710',\n",
       "   'item_name': 'Torchlight II',\n",
       "   'playtime_forever': 459,\n",
       "   'playtime_2weeks': 0},\n",
       "  {'item_id': '219150',\n",
       "   'item_name': 'Hotline Miami',\n",
       "   'playtime_forever': 0,\n",
       "   'playtime_2weeks': 0},\n",
       "  {'item_id': '215510',\n",
       "   'item_name': 'Rocketbirds: Hardboiled Chicken',\n",
       "   'playtime_forever': 0,\n",
       "   'playtime_2weeks': 0},\n",
       "  {'item_id': '8870',\n",
       "   'item_name': 'BioShock Infinite',\n",
       "   'playtime_forever': 2084,\n",
       "   'playtime_2weeks': 0},\n",
       "  {'item_id': '200510',\n",
       "   'item_name': 'XCOM: Enemy Unknown',\n",
       "   'playtime_forever': 3478,\n",
       "   'playtime_2weeks': 0},\n",
       "  {'item_id': '220240',\n",
       "   'item_name': 'Far Cry® 3',\n",
       "   'playtime_forever': 182,\n",
       "   'playtime_2weeks': 0},\n",
       "  {'item_id': '218680',\n",
       "   'item_name': 'Scribblenauts Unlimited',\n",
       "   'playtime_forever': 0,\n",
       "   'playtime_2weeks': 0},\n",
       "  {'item_id': '228280',\n",
       "   'item_name': \"Baldur's Gate: Enhanced Edition\",\n",
       "   'playtime_forever': 905,\n",
       "   'playtime_2weeks': 0},\n",
       "  {'item_id': '212070',\n",
       "   'item_name': 'Star Conflict',\n",
       "   'playtime_forever': 0,\n",
       "   'playtime_2weeks': 0},\n",
       "  {'item_id': '218230',\n",
       "   'item_name': 'PlanetSide 2',\n",
       "   'playtime_forever': 51,\n",
       "   'playtime_2weeks': 0},\n",
       "  {'item_id': '236390',\n",
       "   'item_name': 'War Thunder',\n",
       "   'playtime_forever': 50,\n",
       "   'playtime_2weeks': 0},\n",
       "  {'item_id': '3483',\n",
       "   'item_name': 'Peggle Extreme',\n",
       "   'playtime_forever': 0,\n",
       "   'playtime_2weeks': 0},\n",
       "  {'item_id': '203160',\n",
       "   'item_name': 'Tomb Raider',\n",
       "   'playtime_forever': 0,\n",
       "   'playtime_2weeks': 0},\n",
       "  {'item_id': '227080',\n",
       "   'item_name': 'Papo & Yo',\n",
       "   'playtime_forever': 81,\n",
       "   'playtime_2weeks': 0},\n",
       "  {'item_id': '233450',\n",
       "   'item_name': 'Prison Architect',\n",
       "   'playtime_forever': 24,\n",
       "   'playtime_2weeks': 0},\n",
       "  {'item_id': '43160',\n",
       "   'item_name': 'Metro: Last Light',\n",
       "   'playtime_forever': 712,\n",
       "   'playtime_2weeks': 0},\n",
       "  {'item_id': '219740',\n",
       "   'item_name': \"Don't Starve\",\n",
       "   'playtime_forever': 139,\n",
       "   'playtime_2weeks': 0},\n",
       "  {'item_id': '322330',\n",
       "   'item_name': \"Don't Starve Together\",\n",
       "   'playtime_forever': 0,\n",
       "   'playtime_2weeks': 0},\n",
       "  {'item_id': '222730',\n",
       "   'item_name': 'Reus',\n",
       "   'playtime_forever': 319,\n",
       "   'playtime_2weeks': 0},\n",
       "  {'item_id': '241600',\n",
       "   'item_name': 'Rogue Legacy',\n",
       "   'playtime_forever': 73,\n",
       "   'playtime_2weeks': 0},\n",
       "  {'item_id': '238930',\n",
       "   'item_name': '7 Grand Steps, Step 1: What Ancients Begat',\n",
       "   'playtime_forever': 159,\n",
       "   'playtime_2weeks': 0},\n",
       "  {'item_id': '217140',\n",
       "   'item_name': 'Rise of the Triad',\n",
       "   'playtime_forever': 199,\n",
       "   'playtime_2weeks': 0},\n",
       "  {'item_id': '39140',\n",
       "   'item_name': 'FINAL FANTASY VII',\n",
       "   'playtime_forever': 2896,\n",
       "   'playtime_2weeks': 0},\n",
       "  {'item_id': '225080',\n",
       "   'item_name': 'Brothers - A Tale of Two Sons',\n",
       "   'playtime_forever': 0,\n",
       "   'playtime_2weeks': 0},\n",
       "  {'item_id': '239030',\n",
       "   'item_name': 'Papers, Please',\n",
       "   'playtime_forever': 194,\n",
       "   'playtime_2weeks': 0},\n",
       "  {'item_id': '248820',\n",
       "   'item_name': 'Risk of Rain',\n",
       "   'playtime_forever': 272,\n",
       "   'playtime_2weeks': 0},\n",
       "  {'item_id': '239350',\n",
       "   'item_name': 'Spelunky',\n",
       "   'playtime_forever': 458,\n",
       "   'playtime_2weeks': 0},\n",
       "  {'item_id': '218620',\n",
       "   'item_name': 'PAYDAY 2',\n",
       "   'playtime_forever': 574,\n",
       "   'playtime_2weeks': 0},\n",
       "  {'item_id': '206420',\n",
       "   'item_name': 'Saints Row IV',\n",
       "   'playtime_forever': 0,\n",
       "   'playtime_2weeks': 0},\n",
       "  {'item_id': '236850',\n",
       "   'item_name': 'Europa Universalis IV',\n",
       "   'playtime_forever': 89,\n",
       "   'playtime_2weeks': 0},\n",
       "  {'item_id': '47790',\n",
       "   'item_name': 'Medal of Honor(TM) Single Player',\n",
       "   'playtime_forever': 230,\n",
       "   'playtime_2weeks': 0},\n",
       "  {'item_id': '47830',\n",
       "   'item_name': 'Medal of Honor(TM) Multiplayer',\n",
       "   'playtime_forever': 0,\n",
       "   'playtime_2weeks': 0},\n",
       "  {'item_id': '250320',\n",
       "   'item_name': 'The Wolf Among Us',\n",
       "   'playtime_forever': 500,\n",
       "   'playtime_2weeks': 0},\n",
       "  {'item_id': '250900',\n",
       "   'item_name': 'The Binding of Isaac: Rebirth',\n",
       "   'playtime_forever': 329,\n",
       "   'playtime_2weeks': 0},\n",
       "  {'item_id': '204450',\n",
       "   'item_name': 'Call of Juarez Gunslinger',\n",
       "   'playtime_forever': 241,\n",
       "   'playtime_2weeks': 0},\n",
       "  {'item_id': '233270',\n",
       "   'item_name': 'Far Cry® 3 Blood Dragon',\n",
       "   'playtime_forever': 0,\n",
       "   'playtime_2weeks': 0},\n",
       "  {'item_id': '251990',\n",
       "   'item_name': 'Long Live The Queen',\n",
       "   'playtime_forever': 135,\n",
       "   'playtime_2weeks': 0},\n",
       "  {'item_id': '253980',\n",
       "   'item_name': 'Enclave',\n",
       "   'playtime_forever': 0,\n",
       "   'playtime_2weeks': 0},\n",
       "  {'item_id': '236450',\n",
       "   'item_name': 'PAC-MAN Championship Edition DX+',\n",
       "   'playtime_forever': 154,\n",
       "   'playtime_2weeks': 0},\n",
       "  {'item_id': '242050',\n",
       "   'item_name': \"Assassin's Creed IV Black Flag\",\n",
       "   'playtime_forever': 1377,\n",
       "   'playtime_2weeks': 0},\n",
       "  {'item_id': '257350',\n",
       "   'item_name': \"Baldur's Gate II: Enhanced Edition\",\n",
       "   'playtime_forever': 0,\n",
       "   'playtime_2weeks': 0},\n",
       "  {'item_id': '213670',\n",
       "   'item_name': 'South Park™: The Stick of Truth™',\n",
       "   'playtime_forever': 121,\n",
       "   'playtime_2weeks': 0},\n",
       "  {'item_id': '238010',\n",
       "   'item_name': \"Deus Ex: Human Revolution - Director's Cut\",\n",
       "   'playtime_forever': 2176,\n",
       "   'playtime_2weeks': 0},\n",
       "  {'item_id': '245470',\n",
       "   'item_name': 'Democracy 3',\n",
       "   'playtime_forever': 246,\n",
       "   'playtime_2weeks': 0},\n",
       "  {'item_id': '221910',\n",
       "   'item_name': 'The Stanley Parable',\n",
       "   'playtime_forever': 157,\n",
       "   'playtime_2weeks': 0},\n",
       "  {'item_id': '260230',\n",
       "   'item_name': 'Valiant Hearts: The Great War™ / Soldats Inconnus : Mémoires de la Grande Guerre™',\n",
       "   'playtime_forever': 467,\n",
       "   'playtime_2weeks': 0},\n",
       "  {'item_id': '238430',\n",
       "   'item_name': 'Contagion',\n",
       "   'playtime_forever': 77,\n",
       "   'playtime_2weeks': 0},\n",
       "  {'item_id': '261030',\n",
       "   'item_name': 'The Walking Dead: Season Two',\n",
       "   'playtime_forever': 567,\n",
       "   'playtime_2weeks': 0},\n",
       "  {'item_id': '261570',\n",
       "   'item_name': 'Ori and the Blind Forest',\n",
       "   'playtime_forever': 39,\n",
       "   'playtime_2weeks': 0},\n",
       "  {'item_id': '263980',\n",
       "   'item_name': 'Out There Somewhere',\n",
       "   'playtime_forever': 0,\n",
       "   'playtime_2weeks': 0},\n",
       "  {'item_id': '39150',\n",
       "   'item_name': 'FINAL FANTASY VIII',\n",
       "   'playtime_forever': 15,\n",
       "   'playtime_2weeks': 0},\n",
       "  {'item_id': '230230',\n",
       "   'item_name': 'Divinity: Original Sin (Classic)',\n",
       "   'playtime_forever': 522,\n",
       "   'playtime_2weeks': 0},\n",
       "  {'item_id': '373420',\n",
       "   'item_name': 'Divinity: Original Sin Enhanced Edition',\n",
       "   'playtime_forever': 0,\n",
       "   'playtime_2weeks': 0},\n",
       "  {'item_id': '232790',\n",
       "   'item_name': 'Broken Age',\n",
       "   'playtime_forever': 216,\n",
       "   'playtime_2weeks': 0},\n",
       "  {'item_id': '237990',\n",
       "   'item_name': 'The Banner Saga',\n",
       "   'playtime_forever': 19,\n",
       "   'playtime_2weeks': 0},\n",
       "  {'item_id': '273620',\n",
       "   'item_name': 'Freespace 2',\n",
       "   'playtime_forever': 848,\n",
       "   'playtime_2weeks': 0},\n",
       "  {'item_id': '222880',\n",
       "   'item_name': 'Insurgency',\n",
       "   'playtime_forever': 3031,\n",
       "   'playtime_2weeks': 0},\n",
       "  {'item_id': '225840',\n",
       "   'item_name': 'Sven Co-op',\n",
       "   'playtime_forever': 26,\n",
       "   'playtime_2weeks': 0},\n",
       "  {'item_id': '222900',\n",
       "   'item_name': 'Dead Island: Epidemic',\n",
       "   'playtime_forever': 0,\n",
       "   'playtime_2weeks': 0},\n",
       "  {'item_id': '280220',\n",
       "   'item_name': 'Creeper World 3: Arc Eternal',\n",
       "   'playtime_forever': 941,\n",
       "   'playtime_2weeks': 0},\n",
       "  {'item_id': '236430',\n",
       "   'item_name': 'DARK SOULS™ II',\n",
       "   'playtime_forever': 592,\n",
       "   'playtime_2weeks': 0},\n",
       "  {'item_id': '201810',\n",
       "   'item_name': 'Wolfenstein: The New Order',\n",
       "   'playtime_forever': 599,\n",
       "   'playtime_2weeks': 0},\n",
       "  {'item_id': '294860',\n",
       "   'item_name': 'Valkyria Chronicles™',\n",
       "   'playtime_forever': 1735,\n",
       "   'playtime_2weeks': 0},\n",
       "  {'item_id': '295690',\n",
       "   'item_name': 'PARTICLE MACE',\n",
       "   'playtime_forever': 0,\n",
       "   'playtime_2weeks': 0},\n",
       "  {'item_id': '238460',\n",
       "   'item_name': 'BattleBlock Theater',\n",
       "   'playtime_forever': 407,\n",
       "   'playtime_2weeks': 0},\n",
       "  {'item_id': '237930',\n",
       "   'item_name': 'Transistor',\n",
       "   'playtime_forever': 154,\n",
       "   'playtime_2weeks': 0},\n",
       "  {'item_id': '301480',\n",
       "   'item_name': 'GEARCRACK Arena',\n",
       "   'playtime_forever': 0,\n",
       "   'playtime_2weeks': 0},\n",
       "  {'item_id': '303390',\n",
       "   'item_name': 'Dead Bits',\n",
       "   'playtime_forever': 0,\n",
       "   'playtime_2weeks': 0},\n",
       "  {'item_id': '306660',\n",
       "   'item_name': 'Ultimate General: Gettysburg',\n",
       "   'playtime_forever': 1245,\n",
       "   'playtime_2weeks': 0},\n",
       "  {'item_id': '316790',\n",
       "   'item_name': 'Grim Fandango Remastered',\n",
       "   'playtime_forever': 42,\n",
       "   'playtime_2weeks': 0},\n",
       "  {'item_id': '318430',\n",
       "   'item_name': 'Squishy the Suicidal Pig',\n",
       "   'playtime_forever': 0,\n",
       "   'playtime_2weeks': 0},\n",
       "  {'item_id': '241930',\n",
       "   'item_name': 'Middle-earth: Shadow of Mordor',\n",
       "   'playtime_forever': 889,\n",
       "   'playtime_2weeks': 0},\n",
       "  {'item_id': '328080',\n",
       "   'item_name': 'Retro-Pixel Castles',\n",
       "   'playtime_forever': 5,\n",
       "   'playtime_2weeks': 0},\n",
       "  {'item_id': '282070',\n",
       "   'item_name': 'This War of Mine',\n",
       "   'playtime_forever': 3,\n",
       "   'playtime_2weeks': 0},\n",
       "  {'item_id': '333930',\n",
       "   'item_name': 'Dirty Bomb',\n",
       "   'playtime_forever': 2782,\n",
       "   'playtime_2weeks': 0},\n",
       "  {'item_id': '334120',\n",
       "   'item_name': 'Armikrog',\n",
       "   'playtime_forever': 109,\n",
       "   'playtime_2weeks': 0},\n",
       "  {'item_id': '257510',\n",
       "   'item_name': 'The Talos Principle',\n",
       "   'playtime_forever': 0,\n",
       "   'playtime_2weeks': 0},\n",
       "  {'item_id': '319630',\n",
       "   'item_name': 'Life Is Strange™',\n",
       "   'playtime_forever': 37,\n",
       "   'playtime_2weeks': 0},\n",
       "  {'item_id': '346010',\n",
       "   'item_name': 'Besiege',\n",
       "   'playtime_forever': 464,\n",
       "   'playtime_2weeks': 0},\n",
       "  {'item_id': '255710',\n",
       "   'item_name': 'Cities: Skylines',\n",
       "   'playtime_forever': 246,\n",
       "   'playtime_2weeks': 0},\n",
       "  {'item_id': '232090',\n",
       "   'item_name': 'Killing Floor 2',\n",
       "   'playtime_forever': 6494,\n",
       "   'playtime_2weeks': 0},\n",
       "  {'item_id': '232150',\n",
       "   'item_name': 'Killing Floor 2 - SDK',\n",
       "   'playtime_forever': 0,\n",
       "   'playtime_2weeks': 0},\n",
       "  {'item_id': '377160',\n",
       "   'item_name': 'Fallout 4',\n",
       "   'playtime_forever': 2001,\n",
       "   'playtime_2weeks': 0},\n",
       "  {'item_id': '340170',\n",
       "   'item_name': 'FINAL FANTASY TYPE-0 HD',\n",
       "   'playtime_forever': 170,\n",
       "   'playtime_2weeks': 0},\n",
       "  {'item_id': '391540',\n",
       "   'item_name': 'Undertale',\n",
       "   'playtime_forever': 395,\n",
       "   'playtime_2weeks': 0},\n",
       "  {'item_id': '396660',\n",
       "   'item_name': 'Tahira: Echoes of the Astral Empire',\n",
       "   'playtime_forever': 0,\n",
       "   'playtime_2weeks': 0},\n",
       "  {'item_id': '337000',\n",
       "   'item_name': 'Deus Ex: Mankind Divided™',\n",
       "   'playtime_forever': 1159,\n",
       "   'playtime_2weeks': 0},\n",
       "  {'item_id': '368230',\n",
       "   'item_name': 'Kingdom: Classic',\n",
       "   'playtime_forever': 83,\n",
       "   'playtime_2weeks': 0},\n",
       "  {'item_id': '496300',\n",
       "   'item_name': 'Kingdom: New Lands',\n",
       "   'playtime_forever': 0,\n",
       "   'playtime_2weeks': 0},\n",
       "  {'item_id': '231430',\n",
       "   'item_name': 'Company of Heroes 2',\n",
       "   'playtime_forever': 0,\n",
       "   'playtime_2weeks': 0},\n",
       "  {'item_id': '289130',\n",
       "   'item_name': 'Endless Legend',\n",
       "   'playtime_forever': 593,\n",
       "   'playtime_2weeks': 0},\n",
       "  {'item_id': '268500',\n",
       "   'item_name': 'XCOM 2',\n",
       "   'playtime_forever': 1495,\n",
       "   'playtime_2weeks': 0},\n",
       "  {'item_id': '461640',\n",
       "   'item_name': 'Sins Of The Demon RPG',\n",
       "   'playtime_forever': 0,\n",
       "   'playtime_2weeks': 0},\n",
       "  {'item_id': '379720',\n",
       "   'item_name': 'DOOM',\n",
       "   'playtime_forever': 793,\n",
       "   'playtime_2weeks': 0},\n",
       "  {'item_id': '273350',\n",
       "   'item_name': 'Evolve Stage 2',\n",
       "   'playtime_forever': 58,\n",
       "   'playtime_2weeks': 0}]}"
      ]
     },
     "execution_count": 8,
     "metadata": {},
     "output_type": "execute_result"
    }
   ],
   "source": [
    "users_items_rdd.first()"
   ]
  },
  {
   "cell_type": "markdown",
   "metadata": {},
   "source": [
    "#### Convert to Dataframe"
   ]
  },
  {
   "cell_type": "code",
   "execution_count": 9,
   "metadata": {},
   "outputs": [
    {
     "name": "stderr",
     "output_type": "stream",
     "text": [
      "/usr/local/spark/python/pyspark/sql/session.py:398: UserWarning: Using RDD of dict to inferSchema is deprecated. Use pyspark.sql.Row instead\n",
      "  warnings.warn(\"Using RDD of dict to inferSchema is deprecated. \"\n"
     ]
    }
   ],
   "source": [
    "users_items = users_items_rdd.toDF()"
   ]
  },
  {
   "cell_type": "code",
   "execution_count": 10,
   "metadata": {},
   "outputs": [
    {
     "name": "stdout",
     "output_type": "stream",
     "text": [
      "+--------------------+-----------+-----------------+-----------------+--------------------+\n",
      "|               items|items_count|         steam_id|          user_id|            user_url|\n",
      "+--------------------+-----------+-----------------+-----------------+--------------------+\n",
      "|[[item_name -> Co...|        277|76561197970982479|76561197970982479|http://steamcommu...|\n",
      "+--------------------+-----------+-----------------+-----------------+--------------------+\n",
      "only showing top 1 row\n",
      "\n"
     ]
    }
   ],
   "source": [
    "users_items.show(1)"
   ]
  },
  {
   "cell_type": "code",
   "execution_count": 13,
   "metadata": {},
   "outputs": [
    {
     "name": "stdout",
     "output_type": "stream",
     "text": [
      "+-----+\n",
      "|count|\n",
      "+-----+\n",
      "|87626|\n",
      "+-----+\n",
      "\n"
     ]
    }
   ],
   "source": [
    "users_items.agg(countDistinct(col(\"user_id\")).alias(\"count\")).show()"
   ]
  },
  {
   "cell_type": "code",
   "execution_count": 11,
   "metadata": {},
   "outputs": [],
   "source": [
    "columns_to_drop = ['steam_id', 'user_url']\n",
    "users_items = users_items.drop(*columns_to_drop)"
   ]
  },
  {
   "cell_type": "code",
   "execution_count": 12,
   "metadata": {},
   "outputs": [
    {
     "name": "stdout",
     "output_type": "stream",
     "text": [
      "+--------------------+-----------+-----------------+\n",
      "|               items|items_count|          user_id|\n",
      "+--------------------+-----------+-----------------+\n",
      "|[[item_name -> Co...|        277|76561197970982479|\n",
      "+--------------------+-----------+-----------------+\n",
      "only showing top 1 row\n",
      "\n"
     ]
    }
   ],
   "source": [
    "users_items.show(1)"
   ]
  },
  {
   "cell_type": "markdown",
   "metadata": {},
   "source": [
    "#### Drop Duplicate Users"
   ]
  },
  {
   "cell_type": "code",
   "execution_count": 13,
   "metadata": {},
   "outputs": [],
   "source": [
    "users_items = users_items.dropDuplicates(['user_id'])"
   ]
  },
  {
   "cell_type": "code",
   "execution_count": 14,
   "metadata": {},
   "outputs": [
    {
     "data": {
      "text/plain": [
       "87626"
      ]
     },
     "execution_count": 14,
     "metadata": {},
     "output_type": "execute_result"
    }
   ],
   "source": [
    "users_items.count()"
   ]
  },
  {
   "cell_type": "markdown",
   "metadata": {},
   "source": [
    "#### Explode Items Column to Extract Playtime of Games"
   ]
  },
  {
   "cell_type": "code",
   "execution_count": 15,
   "metadata": {},
   "outputs": [],
   "source": [
    "play_history = users_items.select('user_id',explode(\"items\").alias(\"i\"))\n",
    "play_history = play_history.selectExpr('user_id','i.item_id','i.item_name', 'i.playtime_forever')\n"
   ]
  },
  {
   "cell_type": "code",
   "execution_count": 20,
   "metadata": {},
   "outputs": [
    {
     "name": "stderr",
     "output_type": "stream",
     "text": [
      "ERROR:py4j.java_gateway:An error occurred while trying to connect to the Java server (127.0.0.1:41383)\n",
      "Traceback (most recent call last):\n",
      "  File \"/usr/local/spark/python/lib/py4j-0.10.9-src.zip/py4j/java_gateway.py\", line 977, in _get_connection\n",
      "    connection = self.deque.pop()\n",
      "IndexError: pop from an empty deque\n",
      "\n",
      "During handling of the above exception, another exception occurred:\n",
      "\n",
      "Traceback (most recent call last):\n",
      "  File \"/usr/local/spark/python/lib/py4j-0.10.9-src.zip/py4j/java_gateway.py\", line 1115, in start\n",
      "    self.socket.connect((self.address, self.port))\n",
      "ConnectionRefusedError: [Errno 111] Connection refused\n"
     ]
    },
    {
     "ename": "Py4JNetworkError",
     "evalue": "An error occurred while trying to connect to the Java server (127.0.0.1:41383)",
     "output_type": "error",
     "traceback": [
      "\u001b[0;31m---------------------------------------------------------------------------\u001b[0m",
      "\u001b[0;31mIndexError\u001b[0m                                Traceback (most recent call last)",
      "\u001b[0;32m/usr/local/spark/python/lib/py4j-0.10.9-src.zip/py4j/java_gateway.py\u001b[0m in \u001b[0;36m_get_connection\u001b[0;34m(self)\u001b[0m\n\u001b[1;32m    976\u001b[0m         \u001b[0;32mtry\u001b[0m\u001b[0;34m:\u001b[0m\u001b[0;34m\u001b[0m\u001b[0;34m\u001b[0m\u001b[0m\n\u001b[0;32m--> 977\u001b[0;31m             \u001b[0mconnection\u001b[0m \u001b[0;34m=\u001b[0m \u001b[0mself\u001b[0m\u001b[0;34m.\u001b[0m\u001b[0mdeque\u001b[0m\u001b[0;34m.\u001b[0m\u001b[0mpop\u001b[0m\u001b[0;34m(\u001b[0m\u001b[0;34m)\u001b[0m\u001b[0;34m\u001b[0m\u001b[0;34m\u001b[0m\u001b[0m\n\u001b[0m\u001b[1;32m    978\u001b[0m         \u001b[0;32mexcept\u001b[0m \u001b[0mIndexError\u001b[0m\u001b[0;34m:\u001b[0m\u001b[0;34m\u001b[0m\u001b[0;34m\u001b[0m\u001b[0m\n",
      "\u001b[0;31mIndexError\u001b[0m: pop from an empty deque",
      "\nDuring handling of the above exception, another exception occurred:\n",
      "\u001b[0;31mConnectionRefusedError\u001b[0m                    Traceback (most recent call last)",
      "\u001b[0;32m/usr/local/spark/python/lib/py4j-0.10.9-src.zip/py4j/java_gateway.py\u001b[0m in \u001b[0;36mstart\u001b[0;34m(self)\u001b[0m\n\u001b[1;32m   1114\u001b[0m         \u001b[0;32mtry\u001b[0m\u001b[0;34m:\u001b[0m\u001b[0;34m\u001b[0m\u001b[0;34m\u001b[0m\u001b[0m\n\u001b[0;32m-> 1115\u001b[0;31m             \u001b[0mself\u001b[0m\u001b[0;34m.\u001b[0m\u001b[0msocket\u001b[0m\u001b[0;34m.\u001b[0m\u001b[0mconnect\u001b[0m\u001b[0;34m(\u001b[0m\u001b[0;34m(\u001b[0m\u001b[0mself\u001b[0m\u001b[0;34m.\u001b[0m\u001b[0maddress\u001b[0m\u001b[0;34m,\u001b[0m \u001b[0mself\u001b[0m\u001b[0;34m.\u001b[0m\u001b[0mport\u001b[0m\u001b[0;34m)\u001b[0m\u001b[0;34m)\u001b[0m\u001b[0;34m\u001b[0m\u001b[0;34m\u001b[0m\u001b[0m\n\u001b[0m\u001b[1;32m   1116\u001b[0m             \u001b[0mself\u001b[0m\u001b[0;34m.\u001b[0m\u001b[0mstream\u001b[0m \u001b[0;34m=\u001b[0m \u001b[0mself\u001b[0m\u001b[0;34m.\u001b[0m\u001b[0msocket\u001b[0m\u001b[0;34m.\u001b[0m\u001b[0mmakefile\u001b[0m\u001b[0;34m(\u001b[0m\u001b[0;34m\"rb\"\u001b[0m\u001b[0;34m)\u001b[0m\u001b[0;34m\u001b[0m\u001b[0;34m\u001b[0m\u001b[0m\n",
      "\u001b[0;31mConnectionRefusedError\u001b[0m: [Errno 111] Connection refused",
      "\nDuring handling of the above exception, another exception occurred:\n",
      "\u001b[0;31mPy4JNetworkError\u001b[0m                          Traceback (most recent call last)",
      "\u001b[0;32m<ipython-input-20-732d6e8dfe30>\u001b[0m in \u001b[0;36m<module>\u001b[0;34m\u001b[0m\n\u001b[0;32m----> 1\u001b[0;31m \u001b[0mplay_history\u001b[0m\u001b[0;34m.\u001b[0m\u001b[0mshow\u001b[0m\u001b[0;34m(\u001b[0m\u001b[0;36m1\u001b[0m\u001b[0;34m)\u001b[0m\u001b[0;34m\u001b[0m\u001b[0;34m\u001b[0m\u001b[0m\n\u001b[0m",
      "\u001b[0;32m/usr/local/spark/python/pyspark/sql/dataframe.py\u001b[0m in \u001b[0;36mshow\u001b[0;34m(self, n, truncate, vertical)\u001b[0m\n\u001b[1;32m    438\u001b[0m         \"\"\"\n\u001b[1;32m    439\u001b[0m         \u001b[0;32mif\u001b[0m \u001b[0misinstance\u001b[0m\u001b[0;34m(\u001b[0m\u001b[0mtruncate\u001b[0m\u001b[0;34m,\u001b[0m \u001b[0mbool\u001b[0m\u001b[0;34m)\u001b[0m \u001b[0;32mand\u001b[0m \u001b[0mtruncate\u001b[0m\u001b[0;34m:\u001b[0m\u001b[0;34m\u001b[0m\u001b[0;34m\u001b[0m\u001b[0m\n\u001b[0;32m--> 440\u001b[0;31m             \u001b[0mprint\u001b[0m\u001b[0;34m(\u001b[0m\u001b[0mself\u001b[0m\u001b[0;34m.\u001b[0m\u001b[0m_jdf\u001b[0m\u001b[0;34m.\u001b[0m\u001b[0mshowString\u001b[0m\u001b[0;34m(\u001b[0m\u001b[0mn\u001b[0m\u001b[0;34m,\u001b[0m \u001b[0;36m20\u001b[0m\u001b[0;34m,\u001b[0m \u001b[0mvertical\u001b[0m\u001b[0;34m)\u001b[0m\u001b[0;34m)\u001b[0m\u001b[0;34m\u001b[0m\u001b[0;34m\u001b[0m\u001b[0m\n\u001b[0m\u001b[1;32m    441\u001b[0m         \u001b[0;32melse\u001b[0m\u001b[0;34m:\u001b[0m\u001b[0;34m\u001b[0m\u001b[0;34m\u001b[0m\u001b[0m\n\u001b[1;32m    442\u001b[0m             \u001b[0mprint\u001b[0m\u001b[0;34m(\u001b[0m\u001b[0mself\u001b[0m\u001b[0;34m.\u001b[0m\u001b[0m_jdf\u001b[0m\u001b[0;34m.\u001b[0m\u001b[0mshowString\u001b[0m\u001b[0;34m(\u001b[0m\u001b[0mn\u001b[0m\u001b[0;34m,\u001b[0m \u001b[0mint\u001b[0m\u001b[0;34m(\u001b[0m\u001b[0mtruncate\u001b[0m\u001b[0;34m)\u001b[0m\u001b[0;34m,\u001b[0m \u001b[0mvertical\u001b[0m\u001b[0;34m)\u001b[0m\u001b[0;34m)\u001b[0m\u001b[0;34m\u001b[0m\u001b[0;34m\u001b[0m\u001b[0m\n",
      "\u001b[0;32m/usr/local/spark/python/lib/py4j-0.10.9-src.zip/py4j/java_gateway.py\u001b[0m in \u001b[0;36m__call__\u001b[0;34m(self, *args)\u001b[0m\n\u001b[1;32m   1301\u001b[0m             \u001b[0mproto\u001b[0m\u001b[0;34m.\u001b[0m\u001b[0mEND_COMMAND_PART\u001b[0m\u001b[0;34m\u001b[0m\u001b[0;34m\u001b[0m\u001b[0m\n\u001b[1;32m   1302\u001b[0m \u001b[0;34m\u001b[0m\u001b[0m\n\u001b[0;32m-> 1303\u001b[0;31m         \u001b[0manswer\u001b[0m \u001b[0;34m=\u001b[0m \u001b[0mself\u001b[0m\u001b[0;34m.\u001b[0m\u001b[0mgateway_client\u001b[0m\u001b[0;34m.\u001b[0m\u001b[0msend_command\u001b[0m\u001b[0;34m(\u001b[0m\u001b[0mcommand\u001b[0m\u001b[0;34m)\u001b[0m\u001b[0;34m\u001b[0m\u001b[0;34m\u001b[0m\u001b[0m\n\u001b[0m\u001b[1;32m   1304\u001b[0m         return_value = get_return_value(\n\u001b[1;32m   1305\u001b[0m             answer, self.gateway_client, self.target_id, self.name)\n",
      "\u001b[0;32m/usr/local/spark/python/lib/py4j-0.10.9-src.zip/py4j/java_gateway.py\u001b[0m in \u001b[0;36msend_command\u001b[0;34m(self, command, retry, binary)\u001b[0m\n\u001b[1;32m   1029\u001b[0m          \u001b[0;32mif\u001b[0m\u001b[0;31m \u001b[0m\u001b[0;31m`\u001b[0m\u001b[0mbinary\u001b[0m\u001b[0;31m`\u001b[0m \u001b[0;32mis\u001b[0m\u001b[0;31m \u001b[0m\u001b[0;31m`\u001b[0m\u001b[0;32mTrue\u001b[0m\u001b[0;31m`\u001b[0m\u001b[0;34m.\u001b[0m\u001b[0;34m\u001b[0m\u001b[0;34m\u001b[0m\u001b[0m\n\u001b[1;32m   1030\u001b[0m         \"\"\"\n\u001b[0;32m-> 1031\u001b[0;31m         \u001b[0mconnection\u001b[0m \u001b[0;34m=\u001b[0m \u001b[0mself\u001b[0m\u001b[0;34m.\u001b[0m\u001b[0m_get_connection\u001b[0m\u001b[0;34m(\u001b[0m\u001b[0;34m)\u001b[0m\u001b[0;34m\u001b[0m\u001b[0;34m\u001b[0m\u001b[0m\n\u001b[0m\u001b[1;32m   1032\u001b[0m         \u001b[0;32mtry\u001b[0m\u001b[0;34m:\u001b[0m\u001b[0;34m\u001b[0m\u001b[0;34m\u001b[0m\u001b[0m\n\u001b[1;32m   1033\u001b[0m             \u001b[0mresponse\u001b[0m \u001b[0;34m=\u001b[0m \u001b[0mconnection\u001b[0m\u001b[0;34m.\u001b[0m\u001b[0msend_command\u001b[0m\u001b[0;34m(\u001b[0m\u001b[0mcommand\u001b[0m\u001b[0;34m)\u001b[0m\u001b[0;34m\u001b[0m\u001b[0;34m\u001b[0m\u001b[0m\n",
      "\u001b[0;32m/usr/local/spark/python/lib/py4j-0.10.9-src.zip/py4j/java_gateway.py\u001b[0m in \u001b[0;36m_get_connection\u001b[0;34m(self)\u001b[0m\n\u001b[1;32m    977\u001b[0m             \u001b[0mconnection\u001b[0m \u001b[0;34m=\u001b[0m \u001b[0mself\u001b[0m\u001b[0;34m.\u001b[0m\u001b[0mdeque\u001b[0m\u001b[0;34m.\u001b[0m\u001b[0mpop\u001b[0m\u001b[0;34m(\u001b[0m\u001b[0;34m)\u001b[0m\u001b[0;34m\u001b[0m\u001b[0;34m\u001b[0m\u001b[0m\n\u001b[1;32m    978\u001b[0m         \u001b[0;32mexcept\u001b[0m \u001b[0mIndexError\u001b[0m\u001b[0;34m:\u001b[0m\u001b[0;34m\u001b[0m\u001b[0;34m\u001b[0m\u001b[0m\n\u001b[0;32m--> 979\u001b[0;31m             \u001b[0mconnection\u001b[0m \u001b[0;34m=\u001b[0m \u001b[0mself\u001b[0m\u001b[0;34m.\u001b[0m\u001b[0m_create_connection\u001b[0m\u001b[0;34m(\u001b[0m\u001b[0;34m)\u001b[0m\u001b[0;34m\u001b[0m\u001b[0;34m\u001b[0m\u001b[0m\n\u001b[0m\u001b[1;32m    980\u001b[0m         \u001b[0;32mreturn\u001b[0m \u001b[0mconnection\u001b[0m\u001b[0;34m\u001b[0m\u001b[0;34m\u001b[0m\u001b[0m\n\u001b[1;32m    981\u001b[0m \u001b[0;34m\u001b[0m\u001b[0m\n",
      "\u001b[0;32m/usr/local/spark/python/lib/py4j-0.10.9-src.zip/py4j/java_gateway.py\u001b[0m in \u001b[0;36m_create_connection\u001b[0;34m(self)\u001b[0m\n\u001b[1;32m    983\u001b[0m         connection = GatewayConnection(\n\u001b[1;32m    984\u001b[0m             self.gateway_parameters, self.gateway_property)\n\u001b[0;32m--> 985\u001b[0;31m         \u001b[0mconnection\u001b[0m\u001b[0;34m.\u001b[0m\u001b[0mstart\u001b[0m\u001b[0;34m(\u001b[0m\u001b[0;34m)\u001b[0m\u001b[0;34m\u001b[0m\u001b[0;34m\u001b[0m\u001b[0m\n\u001b[0m\u001b[1;32m    986\u001b[0m         \u001b[0;32mreturn\u001b[0m \u001b[0mconnection\u001b[0m\u001b[0;34m\u001b[0m\u001b[0;34m\u001b[0m\u001b[0m\n\u001b[1;32m    987\u001b[0m \u001b[0;34m\u001b[0m\u001b[0m\n",
      "\u001b[0;32m/usr/local/spark/python/lib/py4j-0.10.9-src.zip/py4j/java_gateway.py\u001b[0m in \u001b[0;36mstart\u001b[0;34m(self)\u001b[0m\n\u001b[1;32m   1125\u001b[0m                 \u001b[0;34m\"server ({0}:{1})\"\u001b[0m\u001b[0;34m.\u001b[0m\u001b[0mformat\u001b[0m\u001b[0;34m(\u001b[0m\u001b[0mself\u001b[0m\u001b[0;34m.\u001b[0m\u001b[0maddress\u001b[0m\u001b[0;34m,\u001b[0m \u001b[0mself\u001b[0m\u001b[0;34m.\u001b[0m\u001b[0mport\u001b[0m\u001b[0;34m)\u001b[0m\u001b[0;34m\u001b[0m\u001b[0;34m\u001b[0m\u001b[0m\n\u001b[1;32m   1126\u001b[0m             \u001b[0mlogger\u001b[0m\u001b[0;34m.\u001b[0m\u001b[0mexception\u001b[0m\u001b[0;34m(\u001b[0m\u001b[0mmsg\u001b[0m\u001b[0;34m)\u001b[0m\u001b[0;34m\u001b[0m\u001b[0;34m\u001b[0m\u001b[0m\n\u001b[0;32m-> 1127\u001b[0;31m             \u001b[0;32mraise\u001b[0m \u001b[0mPy4JNetworkError\u001b[0m\u001b[0;34m(\u001b[0m\u001b[0mmsg\u001b[0m\u001b[0;34m,\u001b[0m \u001b[0me\u001b[0m\u001b[0;34m)\u001b[0m\u001b[0;34m\u001b[0m\u001b[0;34m\u001b[0m\u001b[0m\n\u001b[0m\u001b[1;32m   1128\u001b[0m \u001b[0;34m\u001b[0m\u001b[0m\n\u001b[1;32m   1129\u001b[0m     \u001b[0;32mdef\u001b[0m \u001b[0m_authenticate_connection\u001b[0m\u001b[0;34m(\u001b[0m\u001b[0mself\u001b[0m\u001b[0;34m)\u001b[0m\u001b[0;34m:\u001b[0m\u001b[0;34m\u001b[0m\u001b[0;34m\u001b[0m\u001b[0m\n",
      "\u001b[0;31mPy4JNetworkError\u001b[0m: An error occurred while trying to connect to the Java server (127.0.0.1:41383)"
     ]
    }
   ],
   "source": [
    "play_history.show(1)"
   ]
  },
  {
   "cell_type": "code",
   "execution_count": 48,
   "metadata": {},
   "outputs": [
    {
     "data": {
      "text/plain": [
       "5153209"
      ]
     },
     "execution_count": 48,
     "metadata": {},
     "output_type": "execute_result"
    }
   ],
   "source": [
    "flatten_items.count()"
   ]
  },
  {
   "cell_type": "code",
   "execution_count": 56,
   "metadata": {},
   "outputs": [
    {
     "ename": "SyntaxError",
     "evalue": "invalid syntax (<ipython-input-56-953b3444bf56>, line 1)",
     "output_type": "error",
     "traceback": [
      "\u001b[0;36m  File \u001b[0;32m\"<ipython-input-56-953b3444bf56>\"\u001b[0;36m, line \u001b[0;32m1\u001b[0m\n\u001b[0;31m    users_items_pd = flatten_items.select(*).toPandas()\u001b[0m\n\u001b[0m                                           ^\u001b[0m\n\u001b[0;31mSyntaxError\u001b[0m\u001b[0;31m:\u001b[0m invalid syntax\n"
     ]
    }
   ],
   "source": [
    "users_items_pd = flatten_items.select('*').toPandas()"
   ]
  },
  {
   "cell_type": "code",
   "execution_count": 108,
   "metadata": {},
   "outputs": [
    {
     "data": {
      "text/plain": [
       "[('item_id', 'string'),\n",
       " ('item_name', 'string'),\n",
       " ('playtime_forever', 'string')]"
      ]
     },
     "execution_count": 108,
     "metadata": {},
     "output_type": "execute_result"
    }
   ],
   "source": [
    "flatten_items.dtypes"
   ]
  },
  {
   "cell_type": "code",
   "execution_count": 144,
   "metadata": {},
   "outputs": [
    {
     "name": "stdout",
     "output_type": "stream",
     "text": [
      "+-----+\n",
      "|count|\n",
      "+-----+\n",
      "|10978|\n",
      "+-----+\n",
      "\n"
     ]
    }
   ],
   "source": [
    "flatten_items.agg(countDistinct(col(\"item_id\")).alias(\"count\")).show()"
   ]
  },
  {
   "cell_type": "code",
   "execution_count": null,
   "metadata": {},
   "outputs": [],
   "source": [
    "flatten_items.agg(countDistinct(col(\"item_name\")).alias(\"count\")).show()"
   ]
  },
  {
   "cell_type": "markdown",
   "metadata": {},
   "source": [
    "## Reviews"
   ]
  },
  {
   "cell_type": "code",
   "execution_count": 74,
   "metadata": {},
   "outputs": [],
   "source": [
    "reviews_rdd = sc.textFile('data/steam_reviews.json')"
   ]
  },
  {
   "cell_type": "code",
   "execution_count": 75,
   "metadata": {},
   "outputs": [
    {
     "data": {
      "text/plain": [
       "7793069"
      ]
     },
     "execution_count": 75,
     "metadata": {},
     "output_type": "execute_result"
    }
   ],
   "source": [
    "reviews_rdd.count()"
   ]
  },
  {
   "cell_type": "code",
   "execution_count": 76,
   "metadata": {},
   "outputs": [
    {
     "data": {
      "text/plain": [
       "\"{u'username': u'Chaos Syren', u'hours': 0.1, u'products': 41, u'product_id': u'725280', u'page_order': 0, u'date': u'2017-12-17', u'text': u'This would not be acceptable as an entertainment even back in the day when these graphics were all there was to be had. No effort has been made to bring the player into any story or even entertain.', u'early_access': False, u'page': 1}\""
      ]
     },
     "execution_count": 76,
     "metadata": {},
     "output_type": "execute_result"
    }
   ],
   "source": [
    "reviews_rdd.first()"
   ]
  },
  {
   "cell_type": "code",
   "execution_count": 77,
   "metadata": {},
   "outputs": [],
   "source": [
    "reviews_rdd= reviews_rdd.map(lambda x: ast.literal_eval(x))"
   ]
  },
  {
   "cell_type": "code",
   "execution_count": 78,
   "metadata": {
    "collapsed": true,
    "jupyter": {
     "outputs_hidden": true
    }
   },
   "outputs": [
    {
     "data": {
      "text/plain": [
       "[{'username': 'Chaos Syren',\n",
       "  'hours': 0.1,\n",
       "  'products': 41,\n",
       "  'product_id': '725280',\n",
       "  'page_order': 0,\n",
       "  'date': '2017-12-17',\n",
       "  'text': 'This would not be acceptable as an entertainment even back in the day when these graphics were all there was to be had. No effort has been made to bring the player into any story or even entertain.',\n",
       "  'early_access': False,\n",
       "  'page': 1},\n",
       " {'username': '₮ʜᴇ Wᴀʀᴛᴏɴ',\n",
       "  'hours': 51.1,\n",
       "  'products': 769,\n",
       "  'product_id': '328100',\n",
       "  'page_order': 0,\n",
       "  'date': '2017-12-27',\n",
       "  'text': 'looks like a facebook game',\n",
       "  'early_access': False,\n",
       "  'page': 1},\n",
       " {'username': 'hello?<',\n",
       "  'text': 'Better than Minecraft',\n",
       "  'hours': 14.6,\n",
       "  'date': '2017-10-16',\n",
       "  'early_access': False,\n",
       "  'found_funny': 2,\n",
       "  'product_id': '328100',\n",
       "  'page_order': 1,\n",
       "  'compensation': 'Product received for free',\n",
       "  'products': 2,\n",
       "  'page': 1},\n",
       " {'username': 'Cyderine916',\n",
       "  'hours': 5.0,\n",
       "  'products': 64,\n",
       "  'product_id': '35140',\n",
       "  'page_order': 0,\n",
       "  'date': '2018-01-04',\n",
       "  'text': 'I love and idolized Batman and this game is Masterpiece for me.',\n",
       "  'early_access': False,\n",
       "  'page': 1},\n",
       " {'username': 'DarklyThinking',\n",
       "  'text': \"Still worth playing in 2018.\\nProbably my favorite batman game overall.\\nIt lacks the open world aspect of its sequels but makes up for it with a condensed and tense story.\\nGetting 100% of the trophies also didn't feel like a chore(which must be a first for me).\",\n",
       "  'hours': 16.6,\n",
       "  'date': '2018-01-04',\n",
       "  'early_access': False,\n",
       "  'user_id': '76561198007483075',\n",
       "  'product_id': '35140',\n",
       "  'page_order': 1,\n",
       "  'products': 577,\n",
       "  'page': 1},\n",
       " {'username': 'Teef 🐏',\n",
       "  'text': 'hey thanks for stealing my spritework',\n",
       "  'hours': 0.9,\n",
       "  'date': '2017-12-03',\n",
       "  'early_access': False,\n",
       "  'found_funny': 1,\n",
       "  'product_id': '725280',\n",
       "  'page_order': 1,\n",
       "  'products': 923,\n",
       "  'page': 1},\n",
       " {'username': 'nd',\n",
       "  'text': 'endless rooms of some underground complex, blood, monsters, hallucinations - simple 3d fps horror game.\\ncheap as hell :)',\n",
       "  'hours': 1.0,\n",
       "  'date': '2017-11-28',\n",
       "  'early_access': False,\n",
       "  'found_funny': 1,\n",
       "  'product_id': '725280',\n",
       "  'page_order': 2,\n",
       "  'products': 2759,\n",
       "  'page': 1},\n",
       " {'username': 'Sneaky_Panda',\n",
       "  'hours': 0.6,\n",
       "  'products': 243,\n",
       "  'product_id': '725280',\n",
       "  'page_order': 3,\n",
       "  'date': '2017-11-27',\n",
       "  'text': \"If you take a discount - it's not a bad horror. For their money.\",\n",
       "  'early_access': False,\n",
       "  'page': 1},\n",
       " {'username': 'jimllfixitok',\n",
       "  'text': \"no sound. icons don't work. re-installed but no joy. played for a while but not the same without these items. checked forums but very little help available. been on their site but game not there ??? asked for refund\",\n",
       "  'hours': 1.1,\n",
       "  'date': '2017-10-16',\n",
       "  'early_access': False,\n",
       "  'user_id': '76561197970402776',\n",
       "  'product_id': '707610',\n",
       "  'page_order': 0,\n",
       "  'products': 729,\n",
       "  'page': 1},\n",
       " {'username': 'Otomji',\n",
       "  'hours': 1.1,\n",
       "  'products': 399,\n",
       "  'product_id': '707610',\n",
       "  'page_order': 1,\n",
       "  'date': '2017-09-17',\n",
       "  'text': 'This bought back fond memories of playing Mahjong Games, had all the features mahjong games used to have, ran like a dream , has a good hint system, just like how it used to be,  , really nice game.',\n",
       "  'early_access': False,\n",
       "  'page': 1}]"
      ]
     },
     "execution_count": 78,
     "metadata": {},
     "output_type": "execute_result"
    }
   ],
   "source": [
    "reviews_rdd.take(10)"
   ]
  },
  {
   "cell_type": "code",
   "execution_count": 79,
   "metadata": {},
   "outputs": [],
   "source": [
    "reviews = reviews_rdd.toDF()"
   ]
  },
  {
   "cell_type": "code",
   "execution_count": 80,
   "metadata": {},
   "outputs": [
    {
     "name": "stdout",
     "output_type": "stream",
     "text": [
      "+----------+------------+-----+----+----------+----------+--------+--------------------+--------------+\n",
      "|      date|early_access|hours|page|page_order|product_id|products|                text|      username|\n",
      "+----------+------------+-----+----+----------+----------+--------+--------------------+--------------+\n",
      "|2017-12-17|       false|  0.1|   1|         0|    725280|      41|This would not be...|   Chaos Syren|\n",
      "|2017-12-27|       false| 51.1|   1|         0|    328100|     769|looks like a face...|    ₮ʜᴇ Wᴀʀᴛᴏɴ|\n",
      "|2017-10-16|       false| 14.6|   1|         1|    328100|       2|Better than Minec...|       hello?<|\n",
      "|2018-01-04|       false|  5.0|   1|         0|     35140|      64|I love and idoliz...|   Cyderine916|\n",
      "|2018-01-04|       false| 16.6|   1|         1|     35140|     577|Still worth playi...|DarklyThinking|\n",
      "+----------+------------+-----+----+----------+----------+--------+--------------------+--------------+\n",
      "only showing top 5 rows\n",
      "\n"
     ]
    }
   ],
   "source": [
    "reviews.show(5)"
   ]
  },
  {
   "cell_type": "code",
   "execution_count": 81,
   "metadata": {},
   "outputs": [
    {
     "name": "stdout",
     "output_type": "stream",
     "text": [
      "+-----+\n",
      "|count|\n",
      "+-----+\n",
      "|15474|\n",
      "+-----+\n",
      "\n"
     ]
    }
   ],
   "source": [
    "reviews.agg(countDistinct(col(\"product_id\")).alias(\"count\")).show()"
   ]
  },
  {
   "cell_type": "markdown",
   "metadata": {},
   "source": [
    "## Intersection of Users Items and User Reviews"
   ]
  },
  {
   "cell_type": "code",
   "execution_count": 149,
   "metadata": {},
   "outputs": [
    {
     "data": {
      "text/plain": [
       "25770"
      ]
     },
     "execution_count": 149,
     "metadata": {},
     "output_type": "execute_result"
    }
   ],
   "source": [
    "users_items_user_id.user_id.isin(user_reviews_pd.user_id).sum()"
   ]
  },
  {
   "cell_type": "code",
   "execution_count": 151,
   "metadata": {},
   "outputs": [
    {
     "data": {
      "text/plain": [
       "25458"
      ]
     },
     "execution_count": 151,
     "metadata": {},
     "output_type": "execute_result"
    }
   ],
   "source": [
    "user_reviews_pd['user_id'].nunique()"
   ]
  },
  {
   "cell_type": "code",
   "execution_count": 153,
   "metadata": {},
   "outputs": [],
   "source": [
    "duplicates = user_reviews_pd['user_id'].duplicated()"
   ]
  },
  {
   "cell_type": "code",
   "execution_count": null,
   "metadata": {},
   "outputs": [],
   "source": []
  }
 ],
 "metadata": {
  "kernelspec": {
   "display_name": "Python 3",
   "language": "python",
   "name": "python3"
  },
  "language_info": {
   "codemirror_mode": {
    "name": "ipython",
    "version": 3
   },
   "file_extension": ".py",
   "mimetype": "text/x-python",
   "name": "python",
   "nbconvert_exporter": "python",
   "pygments_lexer": "ipython3",
   "version": "3.8.3"
  }
 },
 "nbformat": 4,
 "nbformat_minor": 4
}
